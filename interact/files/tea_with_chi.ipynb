{
 "cells": [
  {
   "cell_type": "markdown",
   "id": "f88abe7b",
   "metadata": {},
   "source": [
    "# Chi-squared and the lady tasting tea\n",
    "\n",
    "Here we return for another analysis of the [lady tasting\n",
    "tea](fishers_tea.Rmd).\n",
    "\n",
    "As you remember, Muriel Bristol was sure she could taste the difference between tea where the milk was poured before the tea (milk-first), and tea where the tea was poured before the milk.\n",
    "\n",
    "Fisher didn't believe her, so they ended up with an experiment where Muriel got 8 cups of tea, four with milk-first, and four with milk-second.  She had to choose the 4 milk-first cups, and she got them all right."
   ]
  },
  {
   "cell_type": "code",
   "execution_count": null,
   "id": "a0bf15f0",
   "metadata": {},
   "outputs": [],
   "source": [
    "import numpy as np\n",
    "# A numpy random number generator\n",
    "rng = np.random.default_rng()\n",
    "\n",
    "import pandas as pd\n",
    "# Safe setting for Pandas.  Needs Pandas version >= 1.5.\n",
    "pd.set_option('mode.copy_on_write', True)\n",
    "\n",
    "# Load the library for plotting, name it 'plt'\n",
    "import matplotlib.pyplot as plt\n",
    "# Make plots look a little more fancy\n",
    "plt.style.use('fivethirtyeight')"
   ]
  },
  {
   "cell_type": "markdown",
   "id": "b3e0732a",
   "metadata": {},
   "source": [
    "We reconstruct something like the experimental data."
   ]
  },
  {
   "cell_type": "code",
   "execution_count": null,
   "id": "616ef929",
   "metadata": {},
   "outputs": [],
   "source": [
    "# Whether the milk went into the cup first.\n",
    "milk_first = np.repeat(['yes', 'no'], [4, 4])\n",
    "# Muriel's identifications were all correct.\n",
    "says_milk_first = np.repeat(['yes', 'no'], [4, 4])\n",
    "tea_df = pd.DataFrame()\n",
    "tea_df['milk_first'] = milk_first\n",
    "tea_df['says_milk_first'] = says_milk_first\n",
    "# Fisher randomized the order.   We'll just make any random order.\n",
    "tea_df = tea_df.sample(8).reset_index(drop=True)\n",
    "tea_df"
   ]
  },
  {
   "cell_type": "markdown",
   "id": "990148d4",
   "metadata": {},
   "source": [
    "This gave us the following cross-tabulation:"
   ]
  },
  {
   "cell_type": "code",
   "execution_count": null,
   "id": "7a0fd57f",
   "metadata": {},
   "outputs": [],
   "source": [
    "tea_counts = pd.crosstab(tea_df['milk_first'], tea_df['says_milk_first'])\n",
    "tea_counts"
   ]
  },
  {
   "cell_type": "markdown",
   "id": "e291e963",
   "metadata": {},
   "source": [
    "In what follows, we will refer to this DataFrame as the *counts table*, because it is the result of the *cross-tabulation* function.\n",
    "\n",
    "In fact we will refer to this particular counts table as the *observed counts table*, because it has the counts that we saw in the real world, where Muriel identified the cups in Fisher's experiment."
   ]
  },
  {
   "cell_type": "code",
   "execution_count": null,
   "id": "2b8513cb",
   "metadata": {},
   "outputs": [],
   "source": [
    "observed_counts = tea_counts\n",
    "observed_counts"
   ]
  },
  {
   "cell_type": "markdown",
   "id": "d485cbb6",
   "metadata": {},
   "source": [
    "The sum over the rows give us the total counts of Muriels \"no\" and of Muriel's \"yes\" answers. These are the column totals:"
   ]
  },
  {
   "cell_type": "code",
   "execution_count": null,
   "id": "050191ff",
   "metadata": {},
   "outputs": [],
   "source": [
    "# Sum over the rows (one sum per column)\n",
    "column_totals = observed_counts.sum(axis='index')"
   ]
  },
  {
   "cell_type": "markdown",
   "id": "9a470ecb",
   "metadata": {},
   "source": [
    "In fact, summing over the rows is the default:"
   ]
  },
  {
   "cell_type": "code",
   "execution_count": null,
   "id": "8837b461",
   "metadata": {},
   "outputs": [],
   "source": [
    "observed_counts.sum()"
   ]
  },
  {
   "cell_type": "markdown",
   "id": "2714d02e",
   "metadata": {},
   "source": [
    "Summing over the columns gives the row totals, one sum per row.  These are the total number of \"yes\" and \"no\" for milk-first:"
   ]
  },
  {
   "cell_type": "code",
   "execution_count": null,
   "id": "c6b035bd",
   "metadata": {},
   "outputs": [],
   "source": [
    "row_totals = observed_counts.sum(axis='columns')\n",
    "row_totals"
   ]
  },
  {
   "cell_type": "markdown",
   "id": "b80195b8",
   "metadata": {},
   "source": [
    "As usual, we wanted to know whether we could get evidence against the null-model, in which Muriel was choosing randomly.\n",
    "\n",
    "As usual, to do this, we had to select a *statistic* that represented the effect we were interested in.\n",
    "\n",
    "In the [Lady tasting tea page](fishers_tea.Rmd), we decided to use Muriel's number correct - 8 cups out of 8.\n",
    "\n",
    "We simulated the null-world by shuffling Muriel's answers (in `tea_df['say_milk_first']`) to be random, and recalculating the statistic (the number correct).  We looked at the distribution of this statistic in the null-world, and compared the observed real-world statistic to the null-world distribution."
   ]
  },
  {
   "cell_type": "markdown",
   "id": "7507114a",
   "metadata": {},
   "source": [
    "Now let's consider another statistic, instead of the number correct.\n",
    "\n",
    "The statistic is called chi-squared, and it is a statistic we can calculate from the counts table."
   ]
  },
  {
   "cell_type": "markdown",
   "id": "18a49ac1",
   "metadata": {},
   "source": [
    "## Chi-squared is two things\n",
    "\n",
    "Chi-squared can refer to two things:\n",
    "\n",
    "* The chi-squared *statistic*\n",
    "* The chi-squared *test*, a mathematical test that uses the\n",
    "  chi-squared statistic to calculate a probability value.\n",
    "\n",
    "**Note** - we sometimes write *chi-squared* as $\\chi^2$, using\n",
    "the [Greek letter\n",
    "chi](https://en.wikipedia.org/wiki/Chi_(letter)) (pronounced to\n",
    "rhyme with \"pie\").\n",
    "\n",
    "The chi-squared *statistic* is a statistic we can calculate from\n",
    "any given counts table.  It is a measure of how far the table is\n",
    "from the table we expect when there is a random association\n",
    "between the categories — in our case, between `milk_first` \"yes\"\n",
    "/\"no\" and Muriel's decision \"yes\" / \"no\".\n",
    "\n",
    "The chi-squared *test* is a particular mathematical procedure to\n",
    "calculate a probability value from a given chi-squared\n",
    "*statistic*, without doing thousands of simulation trials.\n",
    "\n",
    "We could use the chi-squared *statistic* as the statistic to\n",
    "calculate on a real observed counts table, and then shuffle the\n",
    "labels, as we have done above, to find the distribution of the\n",
    "chi-squared value in the null-world.  This is what we do below.\n",
    "Or you could use the mathematical techniques embedded in the\n",
    "chi-squared *test* to generate a probability value.  The two\n",
    "values will usually be very similar, and have the same\n",
    "interpretation. See below for discussion of when you might use\n",
    "the *chi-squared* *test* in preference to the randomization /\n",
    "simulation method you have seen so far.\n"
   ]
  },
  {
   "cell_type": "markdown",
   "id": "cccf0c0f",
   "metadata": {},
   "source": [
    "## The Chi-squared statistic"
   ]
  },
  {
   "cell_type": "markdown",
   "id": "8229f366",
   "metadata": {},
   "source": [
    "The chi-squared statistic is a measure of how far the counts table deviates from the counts table we would expect, if the relationship between the two observation columns is random.\n",
    "\n",
    "What does this mean in our case?   The expected table is the table we expect when Muriel cannot tell whether the cup is milk-first or not.\n",
    "\n",
    "We have already done our simulation to estimate the distribution of correct counts when Muriel is guessing, but let's go back and get the distribution of each cell when Muriel is guessing.   In the next cell, we follow the same procedure as before, shuffling Muriel's 'yes' and 'no' answers randomly so they have a random relationship to the actual 'yes' and 'no' for milk first.  This time we will look at the answers we get for a single cell of the counts table, the \"yes\", \"yes\" cell."
   ]
  },
  {
   "cell_type": "markdown",
   "id": "9218e4c3",
   "metadata": {},
   "source": [
    "Here is one trial, where we permute and rebuild the counts table:"
   ]
  },
  {
   "cell_type": "code",
   "execution_count": null,
   "id": "275729ba",
   "metadata": {},
   "outputs": [],
   "source": [
    "fake_says = rng.permutation(says_milk_first)\n",
    "fake_counts = pd.crosstab(milk_first, fake_says)\n",
    "fake_counts"
   ]
  },
  {
   "cell_type": "markdown",
   "id": "7d426566",
   "metadata": {},
   "source": [
    "Because the total number of \"yes\" and \"no\" labels have not changed, the column totals and the row totals cannot change:"
   ]
  },
  {
   "cell_type": "code",
   "execution_count": null,
   "id": "97686c8f",
   "metadata": {},
   "outputs": [],
   "source": [
    "# In fact, axis='index' is the default.  Sum downwards.\n",
    "column_totals = fake_counts.sum(axis='index')\n",
    "column_totals"
   ]
  },
  {
   "cell_type": "code",
   "execution_count": null,
   "id": "594a3362",
   "metadata": {},
   "outputs": [],
   "source": [
    "# Sum left to right.\n",
    "row_totals = fake_counts.sum(axis='columns')\n",
    "row_totals"
   ]
  },
  {
   "cell_type": "markdown",
   "id": "2238fc7d",
   "metadata": {},
   "source": [
    "In particular, we want the \"yes\", \"yes\" cell of that table:"
   ]
  },
  {
   "cell_type": "code",
   "execution_count": null,
   "id": "cdd1478e",
   "metadata": {},
   "outputs": [],
   "source": [
    "fake_counts.loc['yes', 'yes']"
   ]
  },
  {
   "cell_type": "markdown",
   "id": "b84f7cbe",
   "metadata": {},
   "source": [
    "Now we know how to do one trial, we can extend to 1000 trials:"
   ]
  },
  {
   "cell_type": "code",
   "execution_count": null,
   "id": "b83b2cd4",
   "metadata": {},
   "outputs": [],
   "source": [
    "n_iters = 1000\n",
    "# Make array of *integers* to store counts for each trial.\n",
    "fake_yes_yes = np.zeros(n_iters, dtype=int)\n",
    "for i in np.arange(n_iters):\n",
    "    fake_says = rng.permutation(says_milk_first)\n",
    "    fake_counts = pd.crosstab(milk_first, fake_says)\n",
    "    fake_yes_yes[i] = fake_counts.loc['yes', 'yes']\n",
    "fake_yes_yes[:10]"
   ]
  },
  {
   "cell_type": "code",
   "execution_count": null,
   "id": "934d30c2",
   "metadata": {},
   "outputs": [],
   "source": [
    "plt.hist(fake_yes_yes, bins=np.arange(6));"
   ]
  },
  {
   "cell_type": "markdown",
   "id": "d63f413b",
   "metadata": {},
   "source": [
    "In this case the histogram is a little difficult to read, because\n",
    "the x-axis labels.  The first bar goes from x=0 to x=1, but in\n",
    "fact the height is for all values equal to 0.  Likewise the 1 to\n",
    "2 bar refers to values equal to 1.  We will use a simple routine\n",
    "that counts the number of 0s, 1s, 2s ... and then plots those\n",
    "counts as a bar graph, to make the meaning of the x-axis and bars\n",
    "more clear."
   ]
  },
  {
   "cell_type": "markdown",
   "id": "c33eb416",
   "metadata": {},
   "source": [
    "The main engine for the function below is `np.bincount`.  This takes an array of integers, and counts the number of 0s, the number of 1s, 2s, 3s etc.  The array that comes back has the counts of 0s at position 0, the count of 1 at position 1, and so on.\n",
    "\n",
    "We could do this the long way round like this:"
   ]
  },
  {
   "cell_type": "code",
   "execution_count": null,
   "id": "761cec1e",
   "metadata": {},
   "outputs": [],
   "source": [
    "print('Count of 0s:', np.count_nonzero(fake_yes_yes == 0))\n",
    "print('Count of 1s:', np.count_nonzero(fake_yes_yes == 1))\n",
    "print('Count of 2s:', np.count_nonzero(fake_yes_yes == 2))\n",
    "print('Count of 3s:', np.count_nonzero(fake_yes_yes == 3))\n",
    "print('Count of 4s:', np.count_nonzero(fake_yes_yes == 4))"
   ]
  },
  {
   "cell_type": "markdown",
   "id": "8cd7488d",
   "metadata": {},
   "source": [
    "`np.bincount` does this job for us:"
   ]
  },
  {
   "cell_type": "code",
   "execution_count": null,
   "id": "4c7f6786",
   "metadata": {},
   "outputs": [],
   "source": [
    "counts_of_counts = np.bincount(fake_yes_yes)\n",
    "counts_of_counts"
   ]
  },
  {
   "cell_type": "code",
   "execution_count": null,
   "id": "ca644375",
   "metadata": {},
   "outputs": [],
   "source": [
    "counts_of_counts[2]"
   ]
  },
  {
   "cell_type": "markdown",
   "id": "8f7c41ee",
   "metadata": {},
   "source": [
    "Notice that the array is of length 5, because the largest value that Numpy found was 5, with the count stored at position 5.\n",
    "\n",
    "We can use `np.bincount` to make a nice-looking plot of the counts, that is a bit clearer than the standard histogram:"
   ]
  },
  {
   "cell_type": "code",
   "execution_count": null,
   "id": "8e8cfaca",
   "metadata": {},
   "outputs": [],
   "source": [
    "def plot_int_counts(arr):\n",
    "    \"\"\" Do bar plot of counts for integers in `arr`\n",
    "    \"\"\"\n",
    "    # Convert arr to integers if necessary.\n",
    "    to_count = arr.astype(int)\n",
    "    # Counts for each integer in to_count\n",
    "    counts = np.bincount(arr)\n",
    "    # Do bar graph with integer on x axis, counts on y.\n",
    "    x_vals = np.arange(len(counts))\n",
    "    plt.bar(x_vals, counts)\n",
    "    plt.xticks(x_vals)"
   ]
  },
  {
   "cell_type": "code",
   "execution_count": null,
   "id": "e0a44f92",
   "metadata": {},
   "outputs": [],
   "source": [
    "plot_int_counts(fake_yes_yes)"
   ]
  },
  {
   "cell_type": "markdown",
   "id": "8a415670",
   "metadata": {},
   "source": [
    "The average value is:"
   ]
  },
  {
   "cell_type": "code",
   "execution_count": null,
   "id": "96b59799",
   "metadata": {},
   "outputs": [],
   "source": [
    "np.mean(fake_yes_yes)"
   ]
  },
  {
   "cell_type": "markdown",
   "id": "6b0c09a7",
   "metadata": {},
   "source": [
    "In fact, if you do the same thing for all four cells of the table, you'll find the average value will be close to 2.  And in fact, the average value if we take an enormous number of trials will get closer and closer to 2.\n",
    "\n",
    "The *expected* value is the average value *in the long run* — if\n",
    "we do an infinite number of trials.\n",
    "\n",
    "**Note** — this is actually a technical term in statistics.  The\n",
    "*expectation* of a particular value is the value of the mean in\n",
    "the long run.\n",
    "\n",
    "We will find that the expected number is 2.\n"
   ]
  },
  {
   "cell_type": "markdown",
   "id": "2ede9728",
   "metadata": {},
   "source": [
    "## Expected value in a counts table"
   ]
  },
  {
   "cell_type": "markdown",
   "id": "15115224",
   "metadata": {},
   "source": [
    "In fact, we can work out that 2 is the expected value by looking at the row and column totals.\n",
    "\n",
    "Let's start with our *row* of interest, the `yes` row for milk-first:"
   ]
  },
  {
   "cell_type": "code",
   "execution_count": null,
   "id": "f45cff30",
   "metadata": {},
   "outputs": [],
   "source": [
    "observed_counts.loc['yes']"
   ]
  },
  {
   "cell_type": "markdown",
   "id": "12feb4eb",
   "metadata": {},
   "source": [
    "We know that there must be 4 `yes` labels to account for, and they must be distributed between the `says_milk_first`: `no` and `says_milk_first`: `yes` columns.  How should we expect them to be distributed, in the null world, where Muriel is guessing?"
   ]
  },
  {
   "cell_type": "markdown",
   "id": "9f1174df",
   "metadata": {},
   "source": [
    "There are 8 cups in total:"
   ]
  },
  {
   "cell_type": "code",
   "execution_count": null,
   "id": "6c4fa952",
   "metadata": {},
   "outputs": [],
   "source": [
    "row_totals"
   ]
  },
  {
   "cell_type": "code",
   "execution_count": null,
   "id": "f9de1d9d",
   "metadata": {},
   "outputs": [],
   "source": [
    "n_total = row_totals.sum()\n",
    "n_total"
   ]
  },
  {
   "cell_type": "markdown",
   "id": "7e09e17e",
   "metadata": {},
   "source": [
    "To get the proportion of `says_milk_first` `no` and `yes` , we need the column totals:"
   ]
  },
  {
   "cell_type": "code",
   "execution_count": null,
   "id": "c09b7faf",
   "metadata": {},
   "outputs": [],
   "source": [
    "column_totals"
   ]
  },
  {
   "cell_type": "markdown",
   "id": "ee657610",
   "metadata": {},
   "source": [
    "Muriel is choosing 4 `no` and 4 `yes` cups, out of a total of 8.\n",
    "\n",
    "Overall, when she is guessing for any particular cup, she has a 4 / 8 chance of guessing `no` and a 4 / 8 chance of guessing `yes`:"
   ]
  },
  {
   "cell_type": "code",
   "execution_count": null,
   "id": "ab6cecf1",
   "metadata": {},
   "outputs": [],
   "source": [
    "col_proportions = column_totals / n_total\n",
    "col_proportions"
   ]
  },
  {
   "cell_type": "markdown",
   "id": "0f35524d",
   "metadata": {},
   "source": [
    "Returning to our `milk_first`, `yes` row, we expect then, that of the 4 cups in this row, 0.5 * 4 will be `no` and 0.5 * 4 will be no:"
   ]
  },
  {
   "cell_type": "code",
   "execution_count": null,
   "id": "bc44aff2",
   "metadata": {},
   "outputs": [],
   "source": [
    "expected_milk_first_yes = row_totals.loc['yes'] * col_proportions\n",
    "expected_milk_first_yes"
   ]
  },
  {
   "cell_type": "markdown",
   "id": "7a6eaac3",
   "metadata": {},
   "source": [
    "## Observed, expected, chi-squared"
   ]
  },
  {
   "cell_type": "markdown",
   "id": "3860cba4",
   "metadata": {},
   "source": [
    "Here then is the counts table with the *expected values* (the values we expect in the long run, if the association between the actual \"yes\", \"no\" of milk-first, and Muriel's answers."
   ]
  },
  {
   "cell_type": "code",
   "execution_count": null,
   "id": "7926e535",
   "metadata": {},
   "outputs": [],
   "source": [
    "expected_counts = pd.DataFrame([[2, 2], [2, 2]],\n",
    "                               index=['no', 'yes'],\n",
    "                               columns=['no', 'yes'])\n",
    "expected_counts"
   ]
  },
  {
   "cell_type": "markdown",
   "id": "f19d39d8",
   "metadata": {},
   "source": [
    "The Scipy chi-squared routine will calculate that expected table for us, as an array:"
   ]
  },
  {
   "cell_type": "code",
   "execution_count": null,
   "id": "bf4aee7d",
   "metadata": {},
   "outputs": [],
   "source": [
    "import scipy.stats as sps\n",
    "\n",
    "# Basic chi-squared calculation, turning off correction.\n",
    "observed_stat, p_value, dof, exp_array = sps.chi2_contingency(\n",
    "    observed_counts, correction=False)\n",
    "exp_array"
   ]
  },
  {
   "cell_type": "markdown",
   "id": "e82a4a59",
   "metadata": {},
   "source": [
    "We can then look at how much the expected counts differ from the actual counts\n",
    "we saw in the real world.  We could go through subtracting the entries in the\n",
    "expected counts table from the entries in the observed counts table, one by\n",
    "one, but Pandas is clever enough to understand this is what we want when we\n",
    "subtract the two DataFrames directly:"
   ]
  },
  {
   "cell_type": "code",
   "execution_count": null,
   "id": "bd99c89e",
   "metadata": {},
   "outputs": [],
   "source": [
    "obs_minus_exp = observed_counts - expected_counts\n",
    "obs_minus_exp"
   ]
  },
  {
   "cell_type": "markdown",
   "id": "ceeba6dc",
   "metadata": {},
   "source": [
    "In textbooks, you will often see the observed values written as \"O\" (capital\n",
    "\"o\") and the expected values written as \"E\":"
   ]
  },
  {
   "cell_type": "code",
   "execution_count": null,
   "id": "9c068ff8",
   "metadata": {},
   "outputs": [],
   "source": [
    "O = observed_counts\n",
    "E = expected_counts\n",
    "O_minus_E = O - E\n",
    "O_minus_E"
   ]
  },
  {
   "cell_type": "markdown",
   "id": "1d9dbc42",
   "metadata": {},
   "source": [
    "The observed minus expected table shows us how far each entry in the table was\n",
    "from the expected value.  Call this the *deviations* table."
   ]
  },
  {
   "cell_type": "markdown",
   "id": "a75c1143",
   "metadata": {},
   "source": [
    "We would like an overall measure of how far the observed table was from the\n",
    "expected table.   We could just add up all the values in the deviation table,\n",
    "like this:"
   ]
  },
  {
   "cell_type": "code",
   "execution_count": null,
   "id": "ac1586e5",
   "metadata": {},
   "outputs": [],
   "source": [
    "# Sum over the rows, and then take the sum of sums.\n",
    "(O - E).sum().sum()"
   ]
  },
  {
   "cell_type": "markdown",
   "id": "9c3747c0",
   "metadata": {},
   "source": [
    "This isn't very helpful, because the positive and negative deviations from the expected values are cancelling each other out.  In order to\n",
    "avoid this, we can make all the differences positive, by squaring them:"
   ]
  },
  {
   "cell_type": "code",
   "execution_count": null,
   "id": "e2cea73f",
   "metadata": {},
   "outputs": [],
   "source": [
    "(O - E) ** 2"
   ]
  },
  {
   "cell_type": "markdown",
   "id": "573ed3c0",
   "metadata": {},
   "source": [
    "In our case, the expected values are all the same, because the total numbers in the rows and columns are all the same, but that is rarely the case.   When there are small numbers over the row or the column or both, the expected number will also be small, and we may want to take that into account by dividing the squared deviations by the expected values, to give a squared deviation as a proportion of expected, the *proportional squared deviation*:"
   ]
  },
  {
   "cell_type": "code",
   "execution_count": null,
   "id": "0f248ed0",
   "metadata": {},
   "outputs": [],
   "source": [
    "(O - E) ** 2 / E"
   ]
  },
  {
   "cell_type": "markdown",
   "id": "fead71e8",
   "metadata": {},
   "source": [
    "We can now take an overall measure of how far the table is from\n",
    "expected, by summing up the values in this proportional squared\n",
    "deviation table, to get the *chi-squared statistic*:"
   ]
  },
  {
   "cell_type": "code",
   "execution_count": null,
   "id": "2db4048d",
   "metadata": {},
   "outputs": [],
   "source": [
    "chi_squared = ((O - E) ** 2 / E).sum().sum()\n",
    "chi_squared"
   ]
  },
  {
   "cell_type": "markdown",
   "id": "e430bd72",
   "metadata": {},
   "source": [
    "This is exactly the statistic that the Scipy chi-squared routine\n",
    "calculates for us, along with the expected table:"
   ]
  },
  {
   "cell_type": "code",
   "execution_count": null,
   "id": "626af323",
   "metadata": {},
   "outputs": [],
   "source": [
    "# Basic chi-squared calculation, turning off correction.\n",
    "observed_stat, p_value, dof, exp_array = sps.chi2_contingency(\n",
    "    observed_counts, correction=False)\n",
    "exp_array"
   ]
  },
  {
   "cell_type": "code",
   "execution_count": null,
   "id": "ed47a26e",
   "metadata": {},
   "outputs": [],
   "source": [
    "observed_stat"
   ]
  },
  {
   "cell_type": "markdown",
   "id": "0f33dc0e",
   "metadata": {},
   "source": [
    "## Testing chi-squared with simulation"
   ]
  },
  {
   "cell_type": "markdown",
   "id": "0cb40611",
   "metadata": {},
   "source": [
    "Notice that we have just calculated the chi-squared *statistic* —\n",
    "a statistic we can calculate on a particular counts table.\n",
    "\n",
    "Notice too that the *expected* table `E` cannot not change for\n",
    "any permutation of Muriel's \"yes\" / \"no\" answers, because the\n",
    "total number of `milk_first` \"yes\" and \"no\", or Muriel's \"yes\"\n",
    "and \"no\", cannot change.  This is the same as saying that the row\n",
    "and column totals cannot change.  The expected table `E` depends\n",
    "only on the row and column totals."
   ]
  },
  {
   "cell_type": "markdown",
   "id": "a190f01d",
   "metadata": {},
   "source": [
    "We can use our column permutation method to make many counts\n",
    "table from the null-world, and calculate chi-squared values on\n",
    "these:"
   ]
  },
  {
   "cell_type": "code",
   "execution_count": null,
   "id": "85ef41d3",
   "metadata": {},
   "outputs": [],
   "source": [
    "# One trial in the null-world, chi-squared on the fake table.\n",
    "fake_says = rng.permutation(says_milk_first)\n",
    "fake_O = pd.crosstab(milk_first, fake_says)\n",
    "fake_chi2 = ((fake_O - E) ** 2 / E).sum().sum()\n",
    "fake_chi2"
   ]
  },
  {
   "cell_type": "code",
   "execution_count": null,
   "id": "866ea901",
   "metadata": {},
   "outputs": [],
   "source": [
    "n_iters = 1000\n",
    "fake_chi2_vals = np.zeros(n_iters)\n",
    "for i in np.arange(n_iters):\n",
    "    fake_says = rng.permutation(says_milk_first)\n",
    "    fake_O = pd.crosstab(milk_first, fake_says)\n",
    "    fake_chi2_vals[i] = ((fake_O - E) ** 2 / E).sum().sum()\n",
    "fake_chi2_vals[:10]"
   ]
  },
  {
   "cell_type": "code",
   "execution_count": null,
   "id": "28beb8b5",
   "metadata": {},
   "outputs": [],
   "source": [
    "plt.hist(fake_chi2_vals);"
   ]
  },
  {
   "cell_type": "markdown",
   "id": "2f3780cf",
   "metadata": {},
   "source": [
    "This gives our usual *simulation* probability of our observed chi-squared:"
   ]
  },
  {
   "cell_type": "code",
   "execution_count": null,
   "id": "44430252",
   "metadata": {},
   "outputs": [],
   "source": [
    "p_simulation = np.count_nonzero(fake_chi2_vals >= observed_stat) / n_iters\n",
    "p_simulation"
   ]
  },
  {
   "cell_type": "markdown",
   "id": "abf9ed42",
   "metadata": {},
   "source": [
    "## The traditional chi-squared test"
   ]
  },
  {
   "cell_type": "markdown",
   "id": "800d386a",
   "metadata": {},
   "source": [
    "It turns out that we can also use a mathematical technique to calculate a probability of seeing a chi-squared value as large or larger, on the assumption that the relationship between the cross-tabulated labels is actually random.  The details of this involve a lot more mathematics than we can go into in this course.  It is this probability value that comes back from Scipy:"
   ]
  },
  {
   "cell_type": "code",
   "execution_count": null,
   "id": "ee47b1f4",
   "metadata": {},
   "outputs": [],
   "source": [
    "# Basic chi-squared calculation, turning off correction.\n",
    "observed_stat, p_value, dof, exp_array = sps.chi2_contingency(\n",
    "    observed_counts, correction=False)\n",
    "p_value"
   ]
  },
  {
   "cell_type": "markdown",
   "id": "0e2abfa6",
   "metadata": {},
   "source": [
    "As you can see, this probability value is a lot smaller than the\n",
    "one we calculated using simulation, and that is because we have\n",
    "unwisely turned off the necessary correction for 2 by 2 tables in\n",
    "the Scipy routine:"
   ]
  },
  {
   "cell_type": "code",
   "execution_count": null,
   "id": "87abafe8",
   "metadata": {},
   "outputs": [],
   "source": [
    "# chi-squared calculation with Yates correction for 2x2 tables\n",
    "corr_stat, corr_p_value, dof, exp_array = sps.chi2_contingency(\n",
    "    observed_counts, correction=True)\n",
    "corr_p_value"
   ]
  },
  {
   "cell_type": "markdown",
   "id": "d468aded",
   "metadata": {},
   "source": [
    "Notice that the mathematical value is very similar to our familiar simulation value."
   ]
  },
  {
   "cell_type": "markdown",
   "id": "6aaa6c32",
   "metadata": {},
   "source": [
    "## The expected values"
   ]
  },
  {
   "cell_type": "markdown",
   "id": "318bd013",
   "metadata": {},
   "source": [
    "We made our lives easier in the example above, by having the same number of \"yes\" and \"no\" labels for each of the two categories (milk-first, and says-milk-first).\n",
    "\n",
    "But — what if there are not the same number of labels in the two\n",
    "categories?  What are the expected values in that case."
   ]
  },
  {
   "cell_type": "markdown",
   "id": "b5d91d0b",
   "metadata": {},
   "source": [
    "Let's imagine an experiment like Fisher's, but where only two of the tea-cups had milk poured first.   Muriel knows there are only two, and chooses two of the eight cups.  Let's imagine that Muriel is still all-knowing when it comes to milk-first and tea:"
   ]
  },
  {
   "cell_type": "code",
   "execution_count": null,
   "id": "2637e8aa",
   "metadata": {},
   "outputs": [],
   "source": [
    "# Whether the milk went into the cup first.\n",
    "milk_first_2_6 = np.repeat(['yes', 'no'], [2, 6])\n",
    "# Muriel's identifications were all correct.\n",
    "says_milk_first_2_6 = np.repeat(['yes', 'no'], [2, 6])\n",
    "tea_df_2_6 = pd.DataFrame()\n",
    "tea_df_2_6['milk_first'] = milk_first_2_6\n",
    "tea_df_2_6['says_milk_first'] = says_milk_first_2_6\n",
    "tea_df_2_6 = tea_df_2_6.sample(8).reset_index(drop=True)\n",
    "tea_df_2_6"
   ]
  },
  {
   "cell_type": "markdown",
   "id": "dfd8c5ab",
   "metadata": {},
   "source": [
    "The observed counts table in this case is:"
   ]
  },
  {
   "cell_type": "code",
   "execution_count": null,
   "id": "782bf141",
   "metadata": {},
   "outputs": [],
   "source": [
    "observed_counts_2_6 = pd.crosstab(milk_first_2_6,\n",
    "                                  says_milk_first_2_6)\n",
    "observed_counts_2_6"
   ]
  },
  {
   "cell_type": "markdown",
   "id": "dcf34129",
   "metadata": {},
   "source": [
    "Let's do the same test as before, where our statistic of interest is the `yes`, `yes` value."
   ]
  },
  {
   "cell_type": "code",
   "execution_count": null,
   "id": "b9863aab",
   "metadata": {},
   "outputs": [],
   "source": [
    "observed_statistic_2_6 = observed_counts_2_6.loc['yes', 'yes']\n",
    "observed_statistic_2_6"
   ]
  },
  {
   "cell_type": "markdown",
   "id": "2458bf06",
   "metadata": {},
   "source": [
    "What is the distribution and expected value of this statistic, in the null-world?"
   ]
  },
  {
   "cell_type": "code",
   "execution_count": null,
   "id": "c5629dd7",
   "metadata": {},
   "outputs": [],
   "source": [
    "n_iters = 1000\n",
    "fake_yes_yes_2_6 = np.zeros(n_iters, dtype=int)\n",
    "for i in np.arange(n_iters):\n",
    "    fake_says_2_6 = rng.permutation(says_milk_first_2_6)\n",
    "    fake_counts_2_6 = pd.crosstab(milk_first_2_6, fake_says_2_6)\n",
    "    fake_yes_yes_2_6[i] = fake_counts_2_6.loc['yes', 'yes']\n",
    "fake_yes_yes_2_6[:10]"
   ]
  },
  {
   "cell_type": "code",
   "execution_count": null,
   "id": "1c14216e",
   "metadata": {},
   "outputs": [],
   "source": [
    "plot_int_counts(fake_yes_yes_2_6)"
   ]
  },
  {
   "cell_type": "markdown",
   "id": "1b2b3e82",
   "metadata": {},
   "source": [
    "In the null-world, the *average* count for the `yes`, `yes` entry is around 0.5:"
   ]
  },
  {
   "cell_type": "code",
   "execution_count": null,
   "id": "a1eb841f",
   "metadata": {},
   "outputs": [],
   "source": [
    "np.mean(fake_yes_yes_2_6)"
   ]
  },
  {
   "cell_type": "markdown",
   "id": "62a5e4d9",
   "metadata": {},
   "source": [
    "We speculate, that the *expected value* for `yes`, `yes`, in the null-world, is 0.5."
   ]
  },
  {
   "cell_type": "markdown",
   "id": "fbd05c98",
   "metadata": {},
   "source": [
    "We can work out the expected value using the same logic as before."
   ]
  },
  {
   "cell_type": "markdown",
   "id": "1185e309",
   "metadata": {},
   "source": [
    "We concentrate on our row of interest:"
   ]
  },
  {
   "cell_type": "code",
   "execution_count": null,
   "id": "7734b891",
   "metadata": {},
   "outputs": [],
   "source": [
    "observed_counts_2_6"
   ]
  },
  {
   "cell_type": "markdown",
   "id": "6b642c4b",
   "metadata": {},
   "source": [
    "There must always be 2 `yes` labels in this row (2 cups with milk-first) to distribute between the 2 values (columns) (Muriel says `no`, Muriel says `yes`):"
   ]
  },
  {
   "cell_type": "code",
   "execution_count": null,
   "id": "b5ef9d8f",
   "metadata": {},
   "outputs": [],
   "source": [
    "row_totals = observed_counts_2_6.sum(axis='columns')\n",
    "row_totals"
   ]
  },
  {
   "cell_type": "markdown",
   "id": "968a4845",
   "metadata": {},
   "source": [
    "Muriel must distribute her guesses (in the null-world) as 6 `no` and 2 `yes`:"
   ]
  },
  {
   "cell_type": "code",
   "execution_count": null,
   "id": "fad96a43",
   "metadata": {},
   "outputs": [],
   "source": [
    "col_totals = observed_counts_2_6.sum(axis='index')\n",
    "col_totals"
   ]
  },
  {
   "cell_type": "markdown",
   "id": "a27b6e1a",
   "metadata": {},
   "source": [
    "Therefore, for any one cup, her chances of guessing `no` are 6/8, and of guessing `yes` are 2/8:"
   ]
  },
  {
   "cell_type": "code",
   "execution_count": null,
   "id": "fe5d7033",
   "metadata": {},
   "outputs": [],
   "source": [
    "p_guess = col_totals / col_totals.sum()\n",
    "p_guess"
   ]
  },
  {
   "cell_type": "markdown",
   "id": "91fae666",
   "metadata": {},
   "source": [
    "We distribute Muriel's guesses to the expected row accordingly:"
   ]
  },
  {
   "cell_type": "code",
   "execution_count": null,
   "id": "a8168a2b",
   "metadata": {},
   "outputs": [],
   "source": [
    "expected_row = row_totals.loc['yes'] * p_guess\n",
    "expected_row"
   ]
  },
  {
   "cell_type": "markdown",
   "id": "09063fc2",
   "metadata": {},
   "source": [
    "Following the same logic, we compile our new expected counts table:"
   ]
  },
  {
   "cell_type": "code",
   "execution_count": null,
   "id": "527c7997",
   "metadata": {},
   "outputs": [],
   "source": [
    "E_2_6 = pd.DataFrame([[6 * 6 / 8, 6 * 2 / 8],\n",
    "                      [2 * 6 / 8, 2 * 2 / 8]],\n",
    "                     index=['no', 'yes'],\n",
    "                     columns=['no', 'yes'])\n",
    "E_2_6"
   ]
  },
  {
   "cell_type": "code",
   "execution_count": null,
   "id": "075d29ca",
   "metadata": {},
   "outputs": [],
   "source": [
    "# Chi-squared\n",
    "O_2_6 = observed_counts_2_6\n",
    "((O_2_6 - E_2_6) ** 2 / E_2_6).sum().sum()"
   ]
  },
  {
   "cell_type": "markdown",
   "id": "b634a89c",
   "metadata": {},
   "source": [
    "As before, this is the expected table and statistic that Scipy calculates for us."
   ]
  },
  {
   "cell_type": "code",
   "execution_count": null,
   "id": "60cd47c6",
   "metadata": {},
   "outputs": [],
   "source": [
    "obs_stat_2_6, p_value_2_6, dof, exp_array_2_6 = sps.chi2_contingency(\n",
    "    observed_counts_2_6, correction=False)"
   ]
  },
  {
   "cell_type": "code",
   "execution_count": null,
   "id": "0980fb2b",
   "metadata": {},
   "outputs": [],
   "source": [
    "exp_array_2_6"
   ]
  },
  {
   "cell_type": "code",
   "execution_count": null,
   "id": "7c652fab",
   "metadata": {},
   "outputs": [],
   "source": [
    "obs_stat_2_6"
   ]
  },
  {
   "cell_type": "markdown",
   "id": "510ed744",
   "metadata": {},
   "source": [
    "## Chi-squared statistics and tests"
   ]
  },
  {
   "cell_type": "markdown",
   "id": "dd405481",
   "metadata": {},
   "source": [
    "**Summary**:\n",
    "\n",
    "* First — choose your statistic of interest.  You might be\n",
    "  interested in a particular entry in your counts table, or the\n",
    "  chi-squared measure of deviation from expected, or something\n",
    "  else.\n",
    "* When testing, and using a measure that isn't chi-squared, you\n",
    "  will want to use simulation to work out how unusual your\n",
    "  observed statistic is.\n",
    "* If you are using the chi-squared statistic you might consider\n",
    "  using simulation for testing, or the mathematical method\n",
    "  implemented in — for example — Scipy."
   ]
  },
  {
   "cell_type": "markdown",
   "id": "7fd7692a",
   "metadata": {},
   "source": [
    "In the old days, using simulation was not common, and you would\n",
    "likely be using the chi-squared mathematical test in this\n",
    "situation.  Then, as now, if you are using the mathematical\n",
    "testing method, you would need to know some rules about when to\n",
    "use particular tests.  The rules were something like:"
   ]
  },
  {
   "cell_type": "markdown",
   "id": "dc9ac4d0",
   "metadata": {},
   "source": [
    "* Calculate the expected counts.  If the minimum of the expected counts is less than 5, use the Fisher exact test.\n",
    "* Otherwise, use the Chi-square test.\n",
    "* For a 2 by 2 table, apply the Yates correction (`correction=True`) above."
   ]
  },
  {
   "cell_type": "markdown",
   "id": "9f5fa0c3",
   "metadata": {},
   "source": [
    "Now you have resampling (AKA simulation), you can just choose\n",
    "your statistic and calculate your sampling distribution, in order\n",
    "to get your p-value."
   ]
  }
 ],
 "metadata": {
  "jupytext": {
   "notebook_metadata_filter": "all,-language_info",
   "split_at_heading": true
  },
  "kernelspec": {
   "display_name": "Python (Pyodide)",
   "name": "python"
  },
  "orphan": true
 },
 "nbformat": 4,
 "nbformat_minor": 5
}
