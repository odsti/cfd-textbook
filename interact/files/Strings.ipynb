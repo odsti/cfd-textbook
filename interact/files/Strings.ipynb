{
 "cells": [
  {
   "cell_type": "markdown",
   "id": "fb170a2e",
   "metadata": {},
   "source": [
    "# Strings\n",
    "\n",
    "Much of the world's data is text, and a piece of text represented in a\n",
    "computer is called a *string*. A string can represent a word, a sentence, or\n",
    "even the contents of every book in a library. Since text can include numbers\n",
    "(like this: 5) or truth values (True), a string can also describe those\n",
    "things.\n",
    "\n",
    "The meaning of an expression depends both upon its structure and the types of\n",
    "values that are being combined. So, for instance, adding two strings together\n",
    "produces another string. This expression is still an addition expression, but\n",
    "it is combining a different type of value."
   ]
  },
  {
   "cell_type": "code",
   "execution_count": null,
   "id": "eea51ae0",
   "metadata": {},
   "outputs": [],
   "source": [
    "\"data\" + \"science\""
   ]
  },
  {
   "cell_type": "markdown",
   "id": "ba8ffac9",
   "metadata": {},
   "source": [
    "Addition is completely literal; it combines these two strings together without\n",
    "regard for their contents. It doesn't add a space because these are different\n",
    "words; that's up to the programmer (you) to specify."
   ]
  },
  {
   "cell_type": "code",
   "execution_count": null,
   "id": "67a27df0",
   "metadata": {},
   "outputs": [],
   "source": [
    "\"data\" + \" \" + \"science\""
   ]
  },
  {
   "cell_type": "markdown",
   "id": "a7d07bb4",
   "metadata": {},
   "source": [
    "Single and double quotes can both be used to create strings: `'hi'` and `\"hi\"`\n",
    "are identical expressions. Double quotes are often preferred because they\n",
    "allow you to include apostrophes inside of strings."
   ]
  },
  {
   "cell_type": "code",
   "execution_count": null,
   "id": "5cab7076",
   "metadata": {},
   "outputs": [],
   "source": [
    "\"This won't work with a single-quoted string!\""
   ]
  },
  {
   "cell_type": "markdown",
   "id": "4173a86d",
   "metadata": {},
   "source": [
    "Why not? Try it out."
   ]
  },
  {
   "cell_type": "markdown",
   "id": "1dbad817",
   "metadata": {},
   "source": [
    "The `str` function returns a string representation of any value. Using this\n",
    "function, strings can be constructed that have embedded values."
   ]
  },
  {
   "cell_type": "code",
   "execution_count": null,
   "id": "ae24accf",
   "metadata": {},
   "outputs": [],
   "source": [
    "\"That's \" + str(1 + 1) + ' ' + str(True)"
   ]
  },
  {
   "cell_type": "markdown",
   "id": "56ef6dee",
   "metadata": {},
   "source": [
    "{ucb-page}`Strings`"
   ]
  }
 ],
 "metadata": {
  "anaconda-cloud": {},
  "jupytext": {
   "notebook_metadata_filter": "anaconda-cloud,language_info"
  },
  "kernelspec": {
   "display_name": "Python (Pyodide)",
   "name": "python"
  },
  "language_info": {
   "codemirror_mode": {
    "name": "ipython",
    "version": 3
   },
   "file_extension": ".py",
   "mimetype": "text/x-python",
   "name": "python",
   "nbconvert_exporter": "python",
   "pygments_lexer": "ipython3",
   "version": "3.5.2"
  }
 },
 "nbformat": 4,
 "nbformat_minor": 5
}
