{
 "cells": [
  {
   "cell_type": "markdown",
   "id": "d5a58646",
   "metadata": {},
   "source": [
    "# Indexing in Pandas\n",
    "\n",
    "<!---\n",
    "Summary:\n",
    "\n",
    "Simple indexing\n",
    "Indirect indexing\n",
    "   Labels with loc\n",
    "   Positions with iloc\n",
    "-->\n",
    "\n",
    "Way back in the [basic row indexing](df_basic_row_indexing), we\n",
    "showed row selection by indexing into data frames with *Boolean vectors*, such\n",
    "as Pandas Series. We called this *direct indexing with Boolean Series* (DIBS).\n",
    "We also covered selecting columns by [indexing into data frames with column\n",
    "labels](df_basic_col_indexing).  We called this *direct indexing\n",
    "with column labels* (DICL).\n"
   ]
  },
  {
   "cell_type": "markdown",
   "id": "3770f4ba",
   "metadata": {},
   "source": [
    "## Simple indexing and the golden rule\n",
    "\n",
    "We will use the term *simple indexing* to cover both of DIBS and DICL.\n",
    "\n",
    "**Simple Indexing**\n",
    "\n",
    "> Direct indexing with either Boolean Series (DIBS) or column labels (DICL).\n",
    "\n",
    "Here follow some examples.\n",
    "\n",
    "We start with our usual imports:"
   ]
  },
  {
   "cell_type": "code",
   "execution_count": null,
   "id": "2846520e",
   "metadata": {},
   "outputs": [],
   "source": [
    "# Load the Numpy library, rename to \"np\"\n",
    "import numpy as np\n",
    "\n",
    "# Load the Pandas data science library, rename to \"pd\"\n",
    "import pandas as pd\n",
    "\n",
    "# Safe setting for Pandas.  Needs Pandas version >= 1.5.\n",
    "pd.set_option('mode.copy_on_write', True)"
   ]
  },
  {
   "cell_type": "markdown",
   "id": "4a91fdc1",
   "metadata": {},
   "source": [
    "We return to a version of our first data frame, containing statistics on\n",
    "development and gender from the World Bank.\n",
    "\n",
    "This is the {download}`gender_stats.csv <data/gender_stats.csv>` file.\n",
    "See [the gender stats data\n",
    "page](https://github.com/matthew-brett/datasets/tree/master/gender_stats) for\n",
    "some more detail.\n",
    "\n",
    "Download that file to the same directory as this notebook, if you are running\n",
    "on your own computer."
   ]
  },
  {
   "cell_type": "code",
   "execution_count": null,
   "id": "21b1e423",
   "metadata": {},
   "outputs": [],
   "source": [
    "# Load the data file as a data frame.\n",
    "gender_data = pd.read_csv('data/gender_stats.csv')\n",
    "\n",
    "# Show the first 10 rows\n",
    "gender_data.head(10)"
   ]
  },
  {
   "cell_type": "markdown",
   "id": "cb36c101",
   "metadata": {},
   "source": [
    "### Direct Indexing with Column Labels (DICL)\n",
    "\n",
    "Direct Indexing with Column Labels (DICL) happens when we do *direct indexing*\n",
    "(square brackets immediately follow the data frame variable), where one or more\n",
    "*column labels* go inside the square brackets.\n",
    "\n",
    "For example, here we use DICL to get the values for one column as a Pandas Series:"
   ]
  },
  {
   "cell_type": "code",
   "execution_count": null,
   "id": "5d6b8bdd",
   "metadata": {},
   "outputs": [],
   "source": [
    "# DICL with a single column name\n",
    "gender_data['mat_mort_ratio']"
   ]
  },
  {
   "cell_type": "markdown",
   "id": "380da7db",
   "metadata": {},
   "source": [
    "We can use more than one column label by putting the column labels in a list:"
   ]
  },
  {
   "cell_type": "code",
   "execution_count": null,
   "id": "7b3266fb",
   "metadata": {},
   "outputs": [],
   "source": [
    "# DICL with a two column names in a list.\n",
    "cols_we_want = ['gdp_us_billion', 'mat_mort_ratio']\n",
    "gender_data[cols_we_want]"
   ]
  },
  {
   "cell_type": "code",
   "execution_count": null,
   "id": "6dd9f66e",
   "metadata": {},
   "outputs": [],
   "source": [
    "# DICL with a two column names in a list.\n",
    "# Here we create the list inside the indexing brackets, instead\n",
    "# of first creating it and storing it in a variable.\n",
    "# Notice the two uses of square brackets - following \"gender_data\" to\n",
    "# do indexing, and around the column labels to create a list.\n",
    "gender_data[['gdp_us_billion', 'mat_mort_ratio']]"
   ]
  },
  {
   "cell_type": "markdown",
   "id": "a87550d3",
   "metadata": {},
   "source": [
    "DICL gives a single column (Series) with a single label, or a subset of columns\n",
    "(a new data frame) when we pass a list of column labels."
   ]
  },
  {
   "cell_type": "markdown",
   "id": "c0a5a190",
   "metadata": {},
   "source": [
    "### Direct Indexing with Boolean Series (DIBS)\n",
    "\n",
    "Direct Indexing with a Boolean Series (DIBS) happens when we put a Boolean\n",
    "Series within the indexing brackets.\n",
    "\n",
    "DIBS selects a subset of the *rows*.  Specifically, it selects the rows where the Boolean Series has True.  It returns a subset of the original dataframe.\n",
    "\n",
    "For example, let us say we wanted to select the rows in the `gender_data` data frame where the `mat_mort_ratio` value was greater than 100.\n",
    "\n",
    "We first create a Boolean Series, with True for rows where `mat_mort_ratio` is\n",
    "greater than 100, and False otherwise."
   ]
  },
  {
   "cell_type": "code",
   "execution_count": null,
   "id": "aaca4f38",
   "metadata": {},
   "outputs": [],
   "source": [
    "# DICL to get the mat_mort_ratio column as a Series.\n",
    "mmr = gender_data['mat_mort_ratio']\n",
    "# Make a Boolean Series with True for > 100, False otherwise.\n",
    "mmr_gt_100 = mmr > 100"
   ]
  },
  {
   "cell_type": "markdown",
   "id": "f56ecaaa",
   "metadata": {},
   "source": [
    "We index with the Boolean Series (DIBS), to select only those *rows* where `mat_mort_ratio` was greater than 100.  Notice that you get a data frame back."
   ]
  },
  {
   "cell_type": "code",
   "execution_count": null,
   "id": "3c320055",
   "metadata": {},
   "outputs": [],
   "source": [
    "# DIBS\n",
    "gender_data[mmr_gt_100]"
   ]
  },
  {
   "cell_type": "markdown",
   "id": "43e0a8b0",
   "metadata": {},
   "source": [
    "Here we created the Boolean Series in two steps, and then used it to do the indexing.  It's more common to create the Boolean Series with an expression inside the indexing brackets:"
   ]
  },
  {
   "cell_type": "code",
   "execution_count": null,
   "id": "1f6b3f4d",
   "metadata": {},
   "outputs": [],
   "source": [
    "# DIBS, creating the BS with an expression inside the indexing brackets.\n",
    "gender_data[gender_data['mat_mort_ratio'] > 100]"
   ]
  },
  {
   "cell_type": "markdown",
   "id": "6391a482",
   "metadata": {},
   "source": [
    "Notice that this is exactly the same as the indexing above; Python first sees\n",
    "and evaluates the expression inside the square brackets:\n",
    "`gender_data['mat_mort_ratio'] > 100`, to make the Boolean Series, and then\n",
    "passes the resulting series to the data frame indexing machinery to select the\n",
    "rows."
   ]
  },
  {
   "cell_type": "markdown",
   "id": "dc87b2ec",
   "metadata": {},
   "source": [
    "## Indirect indexing\n",
    "\n",
    "The rest of this page covers more sophisticated indexing in Pandas - *indirect\n",
    "indexing*.\n",
    "\n",
    "Why don't we use the term *direct indexing* instead of *simple indexing*?\n",
    "Because there are various other things you can put inside the square brackets\n",
    "using direct indexing.  We won't go into other uses of direct indexing here,\n",
    "because we strongly recommend that you restrict yourself to DIBS and DICL for\n",
    "direct indexing — because other uses of direct indexing can quickly become\n",
    "confusing and ambiguous, and because you can do all the indexing you need using\n",
    "the indirect indexing techniques in this page.  As you will see, indirect\n",
    "indexing uses the `.loc` and `.iloc`attributes of the DataFrame.\n",
    "\n",
    "Here is the rule we propose.\n",
    "\n",
    "**The Golden Rule of Pandas Indexing**\n",
    "\n",
    "> Only use Boolean Series or column labels for direct indexing.  For any other\n",
    "type of indexing, use indirect indexing with `.loc` and `.iloc`.\n",
    "\n",
    "We do not just advocate this rule for beginners.  We (your humble authors) also\n",
    "stick to this rule, not only in this textbook, but in our daily work.  By\n",
    "sticking to this rule, you will avoid some nasty and confusing errors, and you\n",
    "will find it easier to think clearly about indexing."
   ]
  },
  {
   "cell_type": "markdown",
   "id": "12c8d0cf",
   "metadata": {},
   "source": [
    "## Indirect indexing\n",
    "\n",
    "To understand indirect indexing, we return to the [index of data frames and\n",
    "Series](df_index).  The *index* contains the *row labels* for a\n",
    "data frame or series.\n",
    "\n",
    "We start with our usual imports:"
   ]
  },
  {
   "cell_type": "code",
   "execution_count": null,
   "id": "1dc5023d",
   "metadata": {},
   "outputs": [],
   "source": [
    "# Load the Numpy library, rename to \"np\"\n",
    "import numpy as np\n",
    "\n",
    "# Load the Pandas data science library, rename to \"pd\"\n",
    "import pandas as pd\n",
    "\n",
    "# Safe setting for Pandas.  Needs Pandas version >= 1.5.\n",
    "pd.set_option('mode.copy_on_write', True)"
   ]
  },
  {
   "cell_type": "markdown",
   "id": "7ab5ca4d",
   "metadata": {},
   "source": [
    "We return to a version of our first data frame, containing statistics on\n",
    "development and gender from the World Bank.\n",
    "\n",
    "This is the {download}`gender_stats.csv <data/gender_stats.csv>` file.\n",
    "See [the gender stats data\n",
    "page](https://github.com/matthew-brett/datasets/tree/master/gender_stats) for\n",
    "some more detail.\n",
    "\n",
    "Download that file to the same directory as this notebook, if you are running\n",
    "on your own computer."
   ]
  },
  {
   "cell_type": "code",
   "execution_count": null,
   "id": "ba005188",
   "metadata": {},
   "outputs": [],
   "source": [
    "# Load the data file as a data frame.\n",
    "gender_data = pd.read_csv('data/gender_stats.csv')\n",
    "\n",
    "# Show the first 10 rows\n",
    "gender_data.head(10)"
   ]
  },
  {
   "cell_type": "markdown",
   "id": "5541a4f2",
   "metadata": {},
   "source": [
    "As you know, the names at the top, in **bold typeface**, are the names of the\n",
    "columns.  We can see these names using the `columns` attribute of the data\n",
    "frame:"
   ]
  },
  {
   "cell_type": "code",
   "execution_count": null,
   "id": "e6f57788",
   "metadata": {},
   "outputs": [],
   "source": [
    "gender_data.columns"
   ]
  },
  {
   "cell_type": "markdown",
   "id": "7e5f7f68",
   "metadata": {},
   "source": [
    "These can also be called the *column labels*.\n",
    "\n",
    "Here is a summary of the meaning of most of the columns:\n",
    "\n",
    "* `fert_rate`: Fertility rate, total (births per woman).\n",
    "* `gdp_us_billion`: GDP (in current US \\$ billions).\n",
    "* `health_exp_per_cap`: Health expenditure per capita, PPP (constant 2011\n",
    "  international \\$).\n",
    "* `health_exp_pub`: Health expenditure, public (% of GDP).\n",
    "* `prim_ed_girls`: Primary education, pupils (% female).\n",
    "* `mat_mort_ratio`: Maternal mortality ratio (modeled estimate, per 100,000\n",
    "  live births).\n",
    "* `population`: Population, total (millions).\n",
    "\n",
    "We have not paid attention so far to the numbers at the left of the table\n",
    "display, also in bold typeface.\n",
    "\n",
    "In this case, they are ascending integers, starting at 0, with value 0 for the\n",
    "first row, 1 for the second row, and so on.\n",
    "\n",
    "These numbers are the *index* of the data frame.  The index contains the *row\n",
    "labels*.\n",
    "\n",
    "We can see the row labels / index with the `index` attribute of the data frame."
   ]
  },
  {
   "cell_type": "code",
   "execution_count": null,
   "id": "2aba6023",
   "metadata": {},
   "outputs": [],
   "source": [
    "gender_data.index"
   ]
  },
  {
   "cell_type": "markdown",
   "id": "5cc38bfc",
   "metadata": {},
   "source": [
    "This is saying we have a simple index, that is like a `np.arange`, starting at\n",
    "0, and continuing in steps of 1 up to, but not including 216.\n",
    "\n",
    "So far, the index looks like row numbers, with 0 for the first row, 1 for the\n",
    "second row.  We will soon see that the index is more than that."
   ]
  },
  {
   "cell_type": "markdown",
   "id": "9e2e0d1d",
   "metadata": {},
   "source": [
    "For example, let us look at the last 15 rows.  We can get these with the `tail`\n",
    "method of the data frame."
   ]
  },
  {
   "cell_type": "code",
   "execution_count": null,
   "id": "03f74cee",
   "metadata": {},
   "outputs": [],
   "source": [
    "last_15 = gender_data.tail(15)\n",
    "last_15"
   ]
  },
  {
   "cell_type": "markdown",
   "id": "c932ff50",
   "metadata": {},
   "source": [
    "Here is the `index` of this new data frame."
   ]
  },
  {
   "cell_type": "code",
   "execution_count": null,
   "id": "0cbba8dd",
   "metadata": {},
   "outputs": [],
   "source": [
    "last_15.index"
   ]
  },
  {
   "cell_type": "markdown",
   "id": "e7559f8d",
   "metadata": {},
   "source": [
    "Notice that the first row of this new data frame no longer has the label 0 - it\n",
    "has label 201.  These numbers are the labels from the original data frame, from\n",
    "which we selected the rows.\n",
    "\n",
    "Notice too that the second row in this table is the USA, and it has the label\n",
    "\\202."
   ]
  },
  {
   "cell_type": "markdown",
   "id": "35a3148f",
   "metadata": {},
   "source": [
    "Now imagine that I sort the original data frame by Gross Domestic Product, and\n",
    "select the top 15 rows.  By doing this, I select the top 15 richest countries."
   ]
  },
  {
   "cell_type": "code",
   "execution_count": null,
   "id": "8f7ac632",
   "metadata": {},
   "outputs": [],
   "source": [
    "# Sort by GDP.\n",
    "df_by_gdp = gender_data.sort_values('gdp_us_billion', ascending=False)\n",
    "# Take the top 15 rows.\n",
    "richest_15 = df_by_gdp.head(15)\n",
    "richest_15"
   ]
  },
  {
   "cell_type": "markdown",
   "id": "8f9b95f5",
   "metadata": {},
   "source": [
    "Now notice that the index values have followed their respective rows.  The row\n",
    "for the USA is now first, but it has kept its original index value (row label)\n",
    "\\- 202.  The index value *identifies* the row.\n",
    "\n",
    "Here is the index for this small table:"
   ]
  },
  {
   "cell_type": "code",
   "execution_count": null,
   "id": "3562bc4d",
   "metadata": {},
   "outputs": [],
   "source": [
    "richest_15.index"
   ]
  },
  {
   "cell_type": "markdown",
   "id": "1dc76679",
   "metadata": {},
   "source": [
    "Now let us say that I wanted to get the eleventh row of this table.\n",
    "\n",
    "I would be tempted to do something like `richest_15[10]` - but then - what\n",
    "would Pandas give me?   Does `10` mean the row label for \"Australia\"?  Or does\n",
    "it mean the eleventh row of the table, as it would for an array, and therefore\n",
    "the row for \"Canada\"?  That is, will the indexing using the *labels* (index\n",
    "values)?  Or will it use the positions (as for indexing in Numpy arrays)?\n",
    "\n",
    "The answer is, it is ambiguous, and when things are ambiguous, Pandas has to\n",
    "guess.   That's a bad idea, because then we have to guess what Pandas has\n",
    "guessed, and it is starting to get really confusing.\n",
    "\n",
    "For that reason, we careful Pandas users do not index rows with code like\n",
    "`richest_15[10]`.  When we are not using Booleans to select rows, we always use\n",
    "one of the two indexing attributes that Pandas provides.  Each does a different\n",
    "type of indexing.\n",
    "\n",
    "* The `loc` (label locate) attribute indexes using the *labels* (row index).\n",
    "* The `iloc` (position locate) attribute indexes using the positions.\n",
    "\n",
    "Here they are in action:"
   ]
  },
  {
   "cell_type": "code",
   "execution_count": null,
   "id": "fa1cd665",
   "metadata": {},
   "outputs": [],
   "source": [
    "# Get the row with label 10\n",
    "richest_15.loc[10]"
   ]
  },
  {
   "cell_type": "code",
   "execution_count": null,
   "id": "d775b699",
   "metadata": {},
   "outputs": [],
   "source": [
    "# Get the row at position / offset 10\n",
    "richest_15.iloc[10]"
   ]
  },
  {
   "cell_type": "markdown",
   "id": "e15abce6",
   "metadata": {},
   "source": [
    "In more details, what is happening in the first cell above is that\n",
    "`richest_15.loc` gives us a special value (AKA *object*) that:\n",
    "\n",
    "* knows about the `richest_15` data frame;\n",
    "* will give us rows and columns, if we use `[ something ]` on it.\n",
    "\n",
    "So, read `richest_15.loc[10]` as:\n",
    "\n",
    "* Get the `richest_15` value (the data frame);\n",
    "* Get the `loc` attribute of this data frame. This evaluates to a special\n",
    "  object (value) that can give us rows and columns from the data frame, by\n",
    "  looking at labels;\n",
    "* Use this object to fetch the row labeled 10, by using indexing (`[10]`)"
   ]
  },
  {
   "cell_type": "markdown",
   "id": "30c9f95c",
   "metadata": {},
   "source": [
    "Likewise, read `richest_15.iloc[10]` as:\n",
    "\n",
    "* Get the `richest_15` value (the data frame);\n",
    "* Get the `iloc` attribute of this data frame. This evaluates to a special\n",
    "  object (value) that can give us rows and columns from the data frame, by\n",
    "  looking at positions (offsets);\n",
    "* Use this object to fetch the row at offset 10, by using indexing (`[10]`)."
   ]
  },
  {
   "cell_type": "markdown",
   "id": "bd08b725",
   "metadata": {},
   "source": [
    "When you select rows and columns from a data frame, consider carefully what you\n",
    "want.\n",
    "\n",
    "Do you want to select rows and columns by *label* (by *index*, in the rows).\n",
    "Then you want `.loc`.\n",
    "\n",
    "Do you want to select rows and columns by *position* (offset).  Then you want\n",
    "`.iloc`.\n"
   ]
  },
  {
   "cell_type": "markdown",
   "id": "14af630b",
   "metadata": {},
   "source": [
    "## indexing and slices"
   ]
  },
  {
   "cell_type": "markdown",
   "id": "d15b269e",
   "metadata": {},
   "source": [
    "`.loc` indexing gets you rows and columns by *label*.\n",
    "\n",
    "One form of indexing you have seen for arrays, is labeling by *slice*, to get a\n",
    "sequence of values.\n",
    "\n",
    "A *slice* is an expression with a colon (`:`) in it somewhere.  Here's slice\n",
    "indexing into an array:"
   ]
  },
  {
   "cell_type": "code",
   "execution_count": null,
   "id": "c83ed790",
   "metadata": {},
   "outputs": [],
   "source": [
    "my_array = np.array(['one', 'two', 'three', 'four', 'five'])\n",
    "# Give array of values from position 2 up to, not including position 4\n",
    "my_array[2:4]"
   ]
  },
  {
   "cell_type": "markdown",
   "id": "b62053c7",
   "metadata": {},
   "source": [
    "The same sort of indexing works using both `.iloc` and `.loc`.  For `.iloc`,\n",
    "the parallel is obvious - because we specify positions in exactly the same way:"
   ]
  },
  {
   "cell_type": "code",
   "execution_count": null,
   "id": "c0923038",
   "metadata": {},
   "outputs": [],
   "source": [
    "# Rows from position 2, up to, not including, position 4\n",
    "richest_15.iloc[2:4]"
   ]
  },
  {
   "cell_type": "markdown",
   "id": "a95510ef",
   "metadata": {},
   "source": [
    "You can also do this kind of indexing with `.loc`, but it works differently.\n",
    "To make this clear, let's start with `.loc` indexing where the row labels are\n",
    "strings.  We set the row labels to be the country codes."
   ]
  },
  {
   "cell_type": "code",
   "execution_count": null,
   "id": "bde69ee8",
   "metadata": {},
   "outputs": [],
   "source": [
    "richest_15_with_code = richest_15.set_index('country_code')\n",
    "richest_15_with_code"
   ]
  },
  {
   "cell_type": "markdown",
   "id": "50e17ceb",
   "metadata": {},
   "source": [
    "As we would expect, we will get an error if we try to use numbers for `.loc`\n",
    "row indexing, because `.loc` indexing only uses labels, and the labels are now\n",
    "all strings:"
   ]
  },
  {
   "cell_type": "code",
   "execution_count": null,
   "id": "f11ddf1b",
   "metadata": {
    "tags": [
     "raises-exception"
    ]
   },
   "outputs": [],
   "source": [
    "richest_15_with_code.loc[2:4]"
   ]
  },
  {
   "cell_type": "markdown",
   "id": "d0d3804c",
   "metadata": {},
   "source": [
    "In fact we can use slices, but the value in front of the colon (if any) is the\n",
    "*label* of the first row we want, and the value after the colon is the *label*\n",
    "of the *last* row we want.\n",
    "\n",
    "Notice that *this is different from position indexing* for arrays, or using\n",
    "`.iloc`.  In those cases, the value after the colon gives the *stop* position.\n",
    "We return values from positions up to *but not including* the stop position.\n",
    "As a reminder:"
   ]
  },
  {
   "cell_type": "code",
   "execution_count": null,
   "id": "cee91271",
   "metadata": {},
   "outputs": [],
   "source": [
    "# From position 2 up to, but not including, position 4\n",
    "richest_15_with_code.iloc[2:4]"
   ]
  },
  {
   "cell_type": "markdown",
   "id": "51f7f3bf",
   "metadata": {},
   "source": [
    "Now consider this `.loc` indexing with a slice.  Here the value after the colon\n",
    "is not a *stop* value, but an *end* label.  We *do* return the row\n",
    "corresponding to the end label:"
   ]
  },
  {
   "cell_type": "code",
   "execution_count": null,
   "id": "58ac9941",
   "metadata": {},
   "outputs": [],
   "source": [
    "# All countries starting at label 'JPN' and ending (including)\n",
    "# row labeled 'FRA'\n",
    "richest_15_with_code.loc['JPN':'FRA']"
   ]
  },
  {
   "cell_type": "markdown",
   "id": "809dc8bb",
   "metadata": {},
   "source": [
    "**For reflection** - why did Pandas choose to make label indexing work this\n",
    "way?  Have a look at the example above.\n"
   ]
  },
  {
   "cell_type": "markdown",
   "id": "cf38cf5f",
   "metadata": {},
   "source": [
    "## Loc and iloc indexing work on columns too"
   ]
  },
  {
   "cell_type": "markdown",
   "id": "8e7b1ed7",
   "metadata": {},
   "source": [
    "Consider this.  We use `.loc` and the label for the *row*, followed by the\n",
    "label for the *column*."
   ]
  },
  {
   "cell_type": "code",
   "execution_count": null,
   "id": "0875dc91",
   "metadata": {},
   "outputs": [],
   "source": [
    "richest_15.loc[10, 'gdp_us_billion']"
   ]
  },
  {
   "cell_type": "markdown",
   "id": "480b9990",
   "metadata": {},
   "source": [
    "This selects the row *labeled* 10 (the USA row) and returns the value from the\n",
    "`gdp_us_billion` column.\n",
    "\n",
    "Conversely, `iloc` only understands positions, and so, integers.  It does not\n",
    "understand or use labels:"
   ]
  },
  {
   "cell_type": "code",
   "execution_count": null,
   "id": "5e4e1254",
   "metadata": {
    "tags": [
     "raises-exception"
    ]
   },
   "outputs": [],
   "source": [
    "# We can't specify columns by label, using iloc.\n",
    "richest_15.iloc[10, 'gdp_us_billion']"
   ]
  },
  {
   "cell_type": "markdown",
   "id": "8e810766",
   "metadata": {},
   "source": [
    "Notice the somewhat informative error right at the bottom of the error message."
   ]
  },
  {
   "cell_type": "markdown",
   "id": "6a4d485c",
   "metadata": {},
   "source": [
    "`iloc` can get columns by their position.  For example, `fertility_rate` is the\n",
    "third column, and so we can get the fertility rate by asking `iloc` for the\n",
    "eleventh row, third column, like so:"
   ]
  },
  {
   "cell_type": "code",
   "execution_count": null,
   "id": "2c59ab27",
   "metadata": {},
   "outputs": [],
   "source": [
    "richest_15.iloc[10, 2]"
   ]
  },
  {
   "cell_type": "markdown",
   "id": "e345bcec",
   "metadata": {},
   "source": [
    "This is the value from the row at offset 10 and the column at offset 2.\n"
   ]
  },
  {
   "cell_type": "markdown",
   "id": "f0da3868",
   "metadata": {},
   "source": [
    "## Series have an index too"
   ]
  },
  {
   "cell_type": "markdown",
   "id": "1be448b5",
   "metadata": {},
   "source": [
    "Data frames have columns (and column labels), and rows (with row labels --- the\n",
    "index).\n",
    "\n",
    "Series also have element labels --- they also have an index.\n",
    "\n",
    "Consider this column, of the fertility rates of the richest countries:"
   ]
  },
  {
   "cell_type": "code",
   "execution_count": null,
   "id": "dd5e1b99",
   "metadata": {},
   "outputs": [],
   "source": [
    "# Get the fert_rate column from the data frame\n",
    "rich_ferts = richest_15['fert_rate']\n",
    "rich_ferts.head()"
   ]
  },
  {
   "cell_type": "markdown",
   "id": "3b47ce3e",
   "metadata": {},
   "source": [
    "As y'all know, this is a Series:"
   ]
  },
  {
   "cell_type": "code",
   "execution_count": null,
   "id": "a3a748a6",
   "metadata": {},
   "outputs": [],
   "source": [
    "type(rich_ferts)"
   ]
  },
  {
   "cell_type": "markdown",
   "id": "17f954a0",
   "metadata": {},
   "source": [
    "You probably also spotted the numbers to the left of the values.  Yes, the row\n",
    "labels have come across from the data frame into the Series.  We can see that\n",
    "the first element has row label 202, and we remember that this is the row label\n",
    "(index value) for the USA."
   ]
  },
  {
   "cell_type": "markdown",
   "id": "27180bd3",
   "metadata": {},
   "source": [
    "As for the data frames, here is the index for the series:"
   ]
  },
  {
   "cell_type": "code",
   "execution_count": null,
   "id": "59f838db",
   "metadata": {},
   "outputs": [],
   "source": [
    "rich_ferts.index"
   ]
  },
  {
   "cell_type": "markdown",
   "id": "96dbd545",
   "metadata": {},
   "source": [
    "Like data frames, we can index by label, with `loc`, and by position, with\n",
    "`iloc`:"
   ]
  },
  {
   "cell_type": "code",
   "execution_count": null,
   "id": "6fb4677b",
   "metadata": {},
   "outputs": [],
   "source": [
    "# The value for row labeled 10 - Australia.\n",
    "rich_ferts.loc[10]"
   ]
  },
  {
   "cell_type": "code",
   "execution_count": null,
   "id": "d483684c",
   "metadata": {},
   "outputs": [],
   "source": [
    "# The value for the row at position 10 - Canada\n",
    "rich_ferts.iloc[10]"
   ]
  },
  {
   "cell_type": "markdown",
   "id": "faf545d0",
   "metadata": {},
   "source": [
    "## Rows from data frames are Series"
   ]
  },
  {
   "cell_type": "markdown",
   "id": "650ffc51",
   "metadata": {},
   "source": [
    "Here we select the row at position 0 (the first row):"
   ]
  },
  {
   "cell_type": "code",
   "execution_count": null,
   "id": "b6570f1c",
   "metadata": {},
   "outputs": [],
   "source": [
    "first_row = richest_15.iloc[0]\n",
    "first_row"
   ]
  },
  {
   "cell_type": "markdown",
   "id": "90b5e4ce",
   "metadata": {},
   "source": [
    "This is a Series:"
   ]
  },
  {
   "cell_type": "code",
   "execution_count": null,
   "id": "5a808e48",
   "metadata": {},
   "outputs": [],
   "source": [
    "type(first_row)"
   ]
  },
  {
   "cell_type": "markdown",
   "id": "e8265262",
   "metadata": {},
   "source": [
    "Notice that the Series has 9 elements, one for each column in the data frame.\n",
    "\n",
    "As you remember, we can see the number of rows and columns in a data frame\n",
    "with:"
   ]
  },
  {
   "cell_type": "code",
   "execution_count": null,
   "id": "d0b90ca1",
   "metadata": {},
   "outputs": [],
   "source": [
    "richest_15.shape"
   ]
  },
  {
   "cell_type": "markdown",
   "id": "61ea1b6a",
   "metadata": {},
   "source": [
    "Remember, the columns have names, which we can also call *labels*.\n",
    "\n",
    "When we select a row out of a data frame, we have one element per column, and\n",
    "the labels for the columns now become the labels for the rows."
   ]
  },
  {
   "cell_type": "code",
   "execution_count": null,
   "id": "f4396104",
   "metadata": {},
   "outputs": [],
   "source": [
    "first_row.index"
   ]
  },
  {
   "cell_type": "markdown",
   "id": "25347d15",
   "metadata": {},
   "source": [
    "As for any other Series, we can get elements by label, with `loc`:"
   ]
  },
  {
   "cell_type": "code",
   "execution_count": null,
   "id": "30bcf646",
   "metadata": {},
   "outputs": [],
   "source": [
    "first_row.loc['fert_rate']"
   ]
  },
  {
   "cell_type": "markdown",
   "id": "1df73871",
   "metadata": {},
   "source": [
    "We can also get elements by position (offset), with `iloc`:"
   ]
  },
  {
   "cell_type": "code",
   "execution_count": null,
   "id": "aacf7321",
   "metadata": {},
   "outputs": [],
   "source": [
    "first_row.iloc[0]"
   ]
  },
  {
   "cell_type": "markdown",
   "id": "754b5de9",
   "metadata": {},
   "source": [
    "## You can index without loc and iloc, but please don't, except ..."
   ]
  },
  {
   "cell_type": "markdown",
   "id": "95b12121",
   "metadata": {},
   "source": [
    "In the pages following the [data frame\n",
    "introduction](data_frame_intro), you saw that we can index into\n",
    "data frame directly, using `[ something ]` after the data frame value, without\n",
    "using `loc` or `iloc`.  Call this *direct indexing*.  This is a very reasonable\n",
    "thing to do if:\n",
    "\n",
    "* the `something` is a Boolean Series ([DIBS](df_basic_row_indexing)).\n",
    "  This is not ambiguous.\n",
    "* the `something` is a column label or list of labels\n",
    "  ([DICL](df_basic_col_indexing)).  This isn't ambiguous either.\n",
    "\n",
    "Both of these are entirely reasonable uses of direct indexing:"
   ]
  },
  {
   "cell_type": "code",
   "execution_count": null,
   "id": "8132d72c",
   "metadata": {},
   "outputs": [],
   "source": [
    "# Direct indexing with a Boolean Series (DIBS).\n",
    "# Select rows where 'health_exp_per_cap' is greater than 3000 dollars.\n",
    "is_big_spender = richest_15['health_exp_per_cap'] > 3000  # Boolean Series\n",
    "big_health_spenders = richest_15[is_big_spender]\n",
    "big_health_spenders"
   ]
  },
  {
   "cell_type": "code",
   "execution_count": null,
   "id": "b2b5cb2a",
   "metadata": {},
   "outputs": [],
   "source": [
    "# Direct indexing with column labels (DICL).\n",
    "# Select the 'country_code' column.\n",
    "country_code = richest_15['country_code']\n",
    "country_code"
   ]
  },
  {
   "cell_type": "markdown",
   "id": "a45fea84",
   "metadata": {},
   "source": [
    "Those uses of direct indexing are entirely sensible.  Other uses of direct\n",
    "indexing are not sensible, and we strongly encourage you not to use them.\n",
    "\n",
    "For example, Pandas will also allow you to this, with the Series we just made:"
   ]
  },
  {
   "cell_type": "code",
   "execution_count": null,
   "id": "5b191b8e",
   "metadata": {},
   "outputs": [],
   "source": [
    "# Nooooooo !\n",
    "country_code[10]"
   ]
  },
  {
   "cell_type": "markdown",
   "id": "437f7fa7",
   "metadata": {},
   "source": [
    "Please don't do that.  This is ambiguous.  Did you really mean the country with\n",
    "label 10?  Or did you mean the country at position 10?   Pandas will guess for\n",
    "you.  Don't let it.  If you are not selecting rows / elements with Booleans,\n",
    "always do this:"
   ]
  },
  {
   "cell_type": "code",
   "execution_count": null,
   "id": "590f3051",
   "metadata": {},
   "outputs": [],
   "source": [
    "# By label\n",
    "country_code.loc[10]"
   ]
  },
  {
   "cell_type": "markdown",
   "id": "740578b3",
   "metadata": {},
   "source": [
    "or this:"
   ]
  },
  {
   "cell_type": "code",
   "execution_count": null,
   "id": "094be7d1",
   "metadata": {},
   "outputs": [],
   "source": [
    "# By position\n",
    "country_code.iloc[10]"
   ]
  },
  {
   "cell_type": "markdown",
   "id": "2c14d788",
   "metadata": {},
   "source": [
    "## You can use Boolean indexing with `.loc`"
   ]
  },
  {
   "cell_type": "markdown",
   "id": "235a9f10",
   "metadata": {},
   "source": [
    "It is often convenient to use direct indexing with Booleans, as we have just seen:"
   ]
  },
  {
   "cell_type": "code",
   "execution_count": null,
   "id": "7401d272",
   "metadata": {},
   "outputs": [],
   "source": [
    "# Create a Boolean series with True for big spender rows, False otherwise.\n",
    "is_big_spender = richest_15['health_exp_per_cap'] > 3000\n",
    "is_big_spender"
   ]
  },
  {
   "cell_type": "code",
   "execution_count": null,
   "id": "7f53d14a",
   "metadata": {},
   "outputs": [],
   "source": [
    "# Direct Boolean indexing:\n",
    "# Select rows where 'health_exp_per_cap' is greater than 3000 dollars.\n",
    "big_health_spenders = richest_15[is_big_spender]\n",
    "big_health_spenders"
   ]
  },
  {
   "cell_type": "markdown",
   "id": "ac3aa034",
   "metadata": {},
   "source": [
    "We can also use Booleans with `loc` indexing.  This allows us to do things such\n",
    "as selecting rows with Booleans, and columns with labels, in one shot, like\n",
    "this:"
   ]
  },
  {
   "cell_type": "code",
   "execution_count": null,
   "id": "a03983c7",
   "metadata": {},
   "outputs": [],
   "source": [
    "# Boolean indexing for rows, with \"loc\"\n",
    "# Get \"country_name\" column values for big health spenders:\n",
    "big_spender_names = richest_15.loc[is_big_spender, 'country_name']\n",
    "big_spender_names"
   ]
  },
  {
   "cell_type": "markdown",
   "id": "eb101533",
   "metadata": {},
   "source": [
    "In fact you can use some Boolean sequences with `iloc` as well, but that needs\n",
    "[a little more explanation](booleans_and_labels)."
   ]
  }
 ],
 "metadata": {
  "jupytext": {
   "notebook_metadata_filter": "all,-language_info",
   "split_at_heading": true
  },
  "kernelspec": {
   "display_name": "Python (Pyodide)",
   "name": "python"
  }
 },
 "nbformat": 4,
 "nbformat_minor": 5
}
