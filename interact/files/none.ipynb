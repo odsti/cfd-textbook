{
 "cells": [
  {
   "cell_type": "markdown",
   "id": "61d1b549",
   "metadata": {},
   "source": [
    "# On None\n",
    "\n",
    "Python has a special value, called `None`, that it often uses to tell\n",
    "you that it cannot give you a valid value.  Unlike any other common\n",
    "value in Python, if an expression evaluates to `None`, Python shows\n",
    "you nothing at all for the value, in the notebook, or in an\n",
    "interactive Python console."
   ]
  },
  {
   "cell_type": "code",
   "execution_count": null,
   "id": "ce912005",
   "metadata": {},
   "outputs": [],
   "source": [
    "my_value = None\n",
    "my_value"
   ]
  },
  {
   "cell_type": "code",
   "execution_count": null,
   "id": "f7fc099f",
   "metadata": {},
   "outputs": [],
   "source": [
    "# This next line is an expression, evaluating to None\n",
    "None"
   ]
  },
  {
   "cell_type": "markdown",
   "id": "691d3b0e",
   "metadata": {},
   "source": [
    "We can see if we got the value `None` by using the `is` comparison operator.  Here is an expression, using the `is` operator, that evaluates to True."
   ]
  },
  {
   "cell_type": "code",
   "execution_count": null,
   "id": "87db1ce0",
   "metadata": {},
   "outputs": [],
   "source": [
    "my_value is None"
   ]
  }
 ],
 "metadata": {
  "kernelspec": {
   "display_name": "Python (Pyodide)",
   "name": "python"
  }
 },
 "nbformat": 4,
 "nbformat_minor": 5
}
