{
 "cells": [
  {
   "cell_type": "markdown",
   "id": "699509ae",
   "metadata": {},
   "source": [
    "# Types of things"
   ]
  },
  {
   "cell_type": "markdown",
   "id": "534fdaa7",
   "metadata": {},
   "source": [
    "Every value in Python, has a type.\n",
    "\n",
    "We can show what type of thing something is, by calling `type`, like this:"
   ]
  },
  {
   "cell_type": "code",
   "execution_count": null,
   "id": "f97eabf6",
   "metadata": {},
   "outputs": [],
   "source": [
    "type(1)"
   ]
  },
  {
   "cell_type": "code",
   "execution_count": null,
   "id": "d1f04431",
   "metadata": {},
   "outputs": [],
   "source": [
    "a = 1\n",
    "type(a)"
   ]
  },
  {
   "cell_type": "markdown",
   "id": "11eb009c",
   "metadata": {},
   "source": [
    "If you get stuck in some code, it is often useful to check what the type of your values are."
   ]
  },
  {
   "cell_type": "markdown",
   "id": "6d0efe57",
   "metadata": {},
   "source": [
    "We will use multiple types when analyzing data.  We cover some of the common ones, in this chapter."
   ]
  }
 ],
 "metadata": {
  "jupytext": {
   "notebook_metadata_filter": "language_info"
  },
  "kernelspec": {
   "display_name": "Python (Pyodide)",
   "name": "python"
  },
  "language_info": {
   "codemirror_mode": {
    "name": "ipython",
    "version": 3
   },
   "file_extension": ".py",
   "mimetype": "text/x-python",
   "name": "python",
   "nbconvert_exporter": "python",
   "pygments_lexer": "ipython3",
   "version": "3.6.5"
  }
 },
 "nbformat": 4,
 "nbformat_minor": 5
}
