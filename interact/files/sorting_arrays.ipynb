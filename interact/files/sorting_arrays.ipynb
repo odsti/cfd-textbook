{
 "cells": [
  {
   "cell_type": "markdown",
   "id": "ec1883cc",
   "metadata": {},
   "source": [
    "# Sorting arrays\n",
    "\n",
    "We often need to sort arrays."
   ]
  },
  {
   "cell_type": "code",
   "execution_count": null,
   "id": "2a1b3784",
   "metadata": {},
   "outputs": [],
   "source": [
    "# Import the numpy package\n",
    "import numpy as np"
   ]
  },
  {
   "cell_type": "markdown",
   "id": "d14c5502",
   "metadata": {},
   "source": [
    "Here is an array of numbers:"
   ]
  },
  {
   "cell_type": "code",
   "execution_count": null,
   "id": "c4e1dd78",
   "metadata": {},
   "outputs": [],
   "source": [
    "my_array = np.array([9, 1, 3, 0])\n",
    "my_array"
   ]
  },
  {
   "cell_type": "markdown",
   "id": "65879feb",
   "metadata": {},
   "source": [
    "Say we wanted to sort this array, from smallest to largest.  To do this, we use `np.sort`:"
   ]
  },
  {
   "cell_type": "code",
   "execution_count": null,
   "id": "98408d1c",
   "metadata": {},
   "outputs": [],
   "source": [
    "sorted_array = np.sort(my_array)\n",
    "sorted_array"
   ]
  },
  {
   "cell_type": "markdown",
   "id": "0e75b3ef",
   "metadata": {},
   "source": [
    "That's simple enough for numbers, but what happens if we have strings?\n",
    "\n",
    "Here is an array of strings:"
   ]
  },
  {
   "cell_type": "code",
   "execution_count": null,
   "id": "dd917a9f",
   "metadata": {},
   "outputs": [],
   "source": [
    "another_array = np.array(['Matthew', 'John', 'Peter'])\n",
    "another_array"
   ]
  },
  {
   "cell_type": "markdown",
   "id": "99550ffc",
   "metadata": {},
   "source": [
    "Notice the `dtype` \\- or data type.  It is `<U7`. This means that the array\n",
    "contains strings of 7 characters or less.  It's not important for our purposes,\n",
    "but the \"U\" stands for [Unicode](https://en.wikipedia.org/wiki/Unicode) \\-\n",
    "a way that the computer can store characters in strings.\n",
    "\n",
    "What do you think would happen if we sorted `another_array`?\n",
    "\n",
    "If you guessed that the strings get sorted [alphabetically](https://en.wikipedia.org/wiki/Alphabetical_order), you have a virtual gold star."
   ]
  },
  {
   "cell_type": "code",
   "execution_count": null,
   "id": "40221245",
   "metadata": {},
   "outputs": [],
   "source": [
    "np.sort(another_array)"
   ]
  },
  {
   "cell_type": "markdown",
   "id": "c8206b4a",
   "metadata": {},
   "source": [
    "Remember how an alphabetical sort works.  The string \"a\" comes before the\n",
    "string \"aa\".  \"aa\" comes before \"ab\"."
   ]
  },
  {
   "cell_type": "code",
   "execution_count": null,
   "id": "8120dbd5",
   "metadata": {},
   "outputs": [],
   "source": [
    "short_strings = np.array(['ab', 'aa', 'a'])\n",
    "np.sort(short_strings)"
   ]
  },
  {
   "cell_type": "markdown",
   "id": "862cc83d",
   "metadata": {},
   "source": [
    "Here's another array of strings:"
   ]
  },
  {
   "cell_type": "code",
   "execution_count": null,
   "id": "9d292fe4",
   "metadata": {},
   "outputs": [],
   "source": [
    "further_array = np.array(['Matthew', 'Matt', 'Matty'])"
   ]
  },
  {
   "cell_type": "markdown",
   "id": "7645d97e",
   "metadata": {},
   "source": [
    "Predict what order you will get from an alphabetical sort.  Try it."
   ]
  }
 ],
 "metadata": {
  "kernelspec": {
   "display_name": "Python (Pyodide)",
   "name": "python"
  },
  "orphan": true
 },
 "nbformat": 4,
 "nbformat_minor": 5
}
