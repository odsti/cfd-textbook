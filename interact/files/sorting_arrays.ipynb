{
 "cells": [
  {
   "cell_type": "markdown",
   "id": "2e07384b",
   "metadata": {},
   "source": [
    "# Sorting arrays\n",
    "\n",
    "We often need to sort arrays."
   ]
  },
  {
   "cell_type": "code",
   "execution_count": null,
   "id": "e3ab0f95",
   "metadata": {},
   "outputs": [],
   "source": [
    "# Import the numpy package\n",
    "import numpy as np"
   ]
  },
  {
   "cell_type": "markdown",
   "id": "30b1e077",
   "metadata": {},
   "source": [
    "Here is an array of numbers:"
   ]
  },
  {
   "cell_type": "code",
   "execution_count": null,
   "id": "ff128f3d",
   "metadata": {},
   "outputs": [],
   "source": [
    "my_array = np.array([9, 1, 3, 0])\n",
    "my_array"
   ]
  },
  {
   "cell_type": "markdown",
   "id": "1eaca2ff",
   "metadata": {},
   "source": [
    "Say we wanted to sort this array, from smallest to largest.  To do this, we use `np.sort`:"
   ]
  },
  {
   "cell_type": "code",
   "execution_count": null,
   "id": "dde0bcbc",
   "metadata": {},
   "outputs": [],
   "source": [
    "sorted_array = np.sort(my_array)\n",
    "sorted_array"
   ]
  },
  {
   "cell_type": "markdown",
   "id": "bbdeb4d5",
   "metadata": {},
   "source": [
    "That's simple enough for numbers, but what happens if we have strings?\n",
    "\n",
    "Here is an array of strings:"
   ]
  },
  {
   "cell_type": "code",
   "execution_count": null,
   "id": "9bd30c7e",
   "metadata": {},
   "outputs": [],
   "source": [
    "another_array = np.array(['Matthew', 'John', 'Peter'])\n",
    "another_array"
   ]
  },
  {
   "cell_type": "markdown",
   "id": "6fe33c51",
   "metadata": {},
   "source": [
    "Notice the `dtype` \\- or data type.  It is `<U7`. This means that the array\n",
    "contains strings of 7 characters or less.  It's not important for our purposes,\n",
    "but the \"U\" stands for [Unicode](https://en.wikipedia.org/wiki/Unicode) \\-\n",
    "a way that the computer can store characters in strings.\n",
    "\n",
    "What do you think would happen if we sorted `another_array`?\n",
    "\n",
    "If you guessed that the strings get sorted [alphabetically](https://en.wikipedia.org/wiki/Alphabetical_order), you have a virtual gold star."
   ]
  },
  {
   "cell_type": "code",
   "execution_count": null,
   "id": "e92eda2a",
   "metadata": {},
   "outputs": [],
   "source": [
    "np.sort(another_array)"
   ]
  },
  {
   "cell_type": "markdown",
   "id": "ca35f146",
   "metadata": {},
   "source": [
    "Remember how an alphabetical sort works.  The string \"a\" comes before the\n",
    "string \"aa\".  \"aa\" comes before \"ab\"."
   ]
  },
  {
   "cell_type": "code",
   "execution_count": null,
   "id": "3307eb15",
   "metadata": {},
   "outputs": [],
   "source": [
    "short_strings = np.array(['ab', 'aa', 'a'])\n",
    "np.sort(short_strings)"
   ]
  },
  {
   "cell_type": "markdown",
   "id": "76f9e34a",
   "metadata": {},
   "source": [
    "Here's another array of strings:"
   ]
  },
  {
   "cell_type": "code",
   "execution_count": null,
   "id": "98da3a75",
   "metadata": {},
   "outputs": [],
   "source": [
    "further_array = np.array(['Matthew', 'Matt', 'Matty'])"
   ]
  },
  {
   "cell_type": "markdown",
   "id": "37c749b2",
   "metadata": {},
   "source": [
    "Predict what order you will get from an alphabetical sort.  Try it."
   ]
  }
 ],
 "metadata": {
  "kernelspec": {
   "display_name": "Python (Pyodide)",
   "name": "python"
  },
  "orphan": true
 },
 "nbformat": 4,
 "nbformat_minor": 5
}
