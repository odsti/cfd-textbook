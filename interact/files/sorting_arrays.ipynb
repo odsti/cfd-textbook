{
 "cells": [
  {
   "cell_type": "markdown",
   "id": "d43ce795",
   "metadata": {},
   "source": [
    "# Sorting arrays\n",
    "\n",
    "We often need to sort arrays."
   ]
  },
  {
   "cell_type": "code",
   "execution_count": null,
   "id": "a1775491",
   "metadata": {},
   "outputs": [],
   "source": [
    "# Import the numpy package\n",
    "import numpy as np"
   ]
  },
  {
   "cell_type": "markdown",
   "id": "a7d52626",
   "metadata": {},
   "source": [
    "Here is an array of numbers:"
   ]
  },
  {
   "cell_type": "code",
   "execution_count": null,
   "id": "fca8db79",
   "metadata": {},
   "outputs": [],
   "source": [
    "my_array = np.array([9, 1, 3, 0])\n",
    "my_array"
   ]
  },
  {
   "cell_type": "markdown",
   "id": "44f2aacf",
   "metadata": {},
   "source": [
    "Say we wanted to sort this array, from smallest to largest.  To do this, we use `np.sort`:"
   ]
  },
  {
   "cell_type": "code",
   "execution_count": null,
   "id": "d90ff70e",
   "metadata": {},
   "outputs": [],
   "source": [
    "sorted_array = np.sort(my_array)\n",
    "sorted_array"
   ]
  },
  {
   "cell_type": "markdown",
   "id": "093bdb90",
   "metadata": {},
   "source": [
    "That's simple enough for numbers, but what happens if we have strings?\n",
    "\n",
    "Here is an array of strings:"
   ]
  },
  {
   "cell_type": "code",
   "execution_count": null,
   "id": "78b1c3ff",
   "metadata": {},
   "outputs": [],
   "source": [
    "another_array = np.array(['Matthew', 'John', 'Peter'])\n",
    "another_array"
   ]
  },
  {
   "cell_type": "markdown",
   "id": "2afb9482",
   "metadata": {},
   "source": [
    "Notice the `dtype` \\- or data type.  It is `<U7`. This means that the array\n",
    "contains strings of 7 characters or less.  It's not important for our purposes,\n",
    "but the \"U\" stands for [Unicode](https://en.wikipedia.org/wiki/Unicode) \\-\n",
    "a way that the computer can store characters in strings.\n",
    "\n",
    "What do you think would happen if we sorted `another_array`?\n",
    "\n",
    "If you guessed that the strings get sorted [alphabetically](https://en.wikipedia.org/wiki/Alphabetical_order), you have a virtual gold star."
   ]
  },
  {
   "cell_type": "code",
   "execution_count": null,
   "id": "a25b7522",
   "metadata": {},
   "outputs": [],
   "source": [
    "np.sort(another_array)"
   ]
  },
  {
   "cell_type": "markdown",
   "id": "c6b918eb",
   "metadata": {},
   "source": [
    "Remember how an alphabetical sort works.  The string \"a\" comes before the\n",
    "string \"aa\".  \"aa\" comes before \"ab\"."
   ]
  },
  {
   "cell_type": "code",
   "execution_count": null,
   "id": "52ad3b8e",
   "metadata": {},
   "outputs": [],
   "source": [
    "short_strings = np.array(['ab', 'aa', 'a'])\n",
    "np.sort(short_strings)"
   ]
  },
  {
   "cell_type": "markdown",
   "id": "d0d1639c",
   "metadata": {},
   "source": [
    "Here's another array of strings:"
   ]
  },
  {
   "cell_type": "code",
   "execution_count": null,
   "id": "040c7173",
   "metadata": {},
   "outputs": [],
   "source": [
    "further_array = np.array(['Matthew', 'Matt', 'Matty'])"
   ]
  },
  {
   "cell_type": "markdown",
   "id": "a38ba82d",
   "metadata": {},
   "source": [
    "Predict what order you will get from an alphabetical sort.  Try it."
   ]
  }
 ],
 "metadata": {
  "kernelspec": {
   "display_name": "Python (Pyodide)",
   "name": "python"
  },
  "orphan": true
 },
 "nbformat": 4,
 "nbformat_minor": 5
}
