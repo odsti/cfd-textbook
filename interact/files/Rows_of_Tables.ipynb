{
 "cells": [
  {
   "cell_type": "markdown",
   "id": "aabc7368",
   "metadata": {},
   "source": [
    "# Rows of tables"
   ]
  },
  {
   "cell_type": "code",
   "execution_count": null,
   "id": "ea2426d2",
   "metadata": {
    "tags": [
     "hide-cell"
    ]
   },
   "outputs": [],
   "source": [
    "# HIDDEN\n",
    "import numpy as np\n",
    "import matplotlib.pyplot as plt\n",
    "plt.style.use('fivethirtyeight')\n",
    "import pandas as pd\n",
    "pd.set_option('mode.copy_on_write', True)"
   ]
  },
  {
   "cell_type": "code",
   "execution_count": null,
   "id": "97771106",
   "metadata": {
    "tags": [
     "hide-cell"
    ]
   },
   "outputs": [],
   "source": [
    "# HIDDEN\n",
    "\n",
    "def standard_units(x):\n",
    "    return (x - np.mean(x))/np.std(x)"
   ]
  },
  {
   "cell_type": "markdown",
   "id": "02c657dc",
   "metadata": {},
   "source": [
    "Now that we have a qualitative understanding of nearest neighbor classification, it's time to implement our classifier.\n",
    "\n",
    "Until this chapter, we have worked mostly with single columns of tables. But now we have to see whether one *individual* is \"close\" to another. Data for individuals are contained in *rows* of tables.\n",
    "\n",
    "So let's start by taking a closer look at rows.\n",
    "\n",
    "Here is the original table `ckd` containing data on patients who were tested for chronic kidney disease.\n",
    "\n",
    "The data file is {download}`ckd.csv <data/ckd.csv>`."
   ]
  },
  {
   "cell_type": "code",
   "execution_count": null,
   "id": "400ca073",
   "metadata": {},
   "outputs": [],
   "source": [
    "ckd_full = pd.read_csv('data/ckd.csv')\n",
    "ckd_full.head()"
   ]
  },
  {
   "cell_type": "markdown",
   "id": "5afcbc9e",
   "metadata": {},
   "source": [
    "The data corresponding to the first patient is in row 0 of the table, consistent with Python's indexing system.\n",
    "\n",
    "We want to fetch the data for this row.\n",
    "\n",
    "You have already seen how to select rows with boolean arrays, and the `loc` attribute of the data frame.\n",
    "\n",
    "Now we need to select a row by *index* \\- 0, 1, 2 etc.\n",
    "\n",
    "We do this with Pandas' *indexing* selection, attached to the `iloc` attribute of the data frame, for Indexed LOCate, like this:"
   ]
  },
  {
   "cell_type": "code",
   "execution_count": null,
   "id": "5dfefcb7",
   "metadata": {},
   "outputs": [],
   "source": [
    "first_row = ckd_full.iloc[0]\n",
    "first_row"
   ]
  },
  {
   "cell_type": "markdown",
   "id": "c7b054f3",
   "metadata": {},
   "source": [
    "If the display for this row looks suspiciously like the display you see when fetching a single column from a data frame, this is not a co-incidence.  The row is also a Pandas `Series`:"
   ]
  },
  {
   "cell_type": "code",
   "execution_count": null,
   "id": "72c3fb3c",
   "metadata": {},
   "outputs": [],
   "source": [
    "type(first_row)"
   ]
  },
  {
   "cell_type": "markdown",
   "id": "81216648",
   "metadata": {},
   "source": [
    "Notice that the data type (`dtype`) of the row is `object`, and\n",
    "not something simpler, like a floating point or integer. This\n",
    "is because the elements can be of different types, so the\n",
    "Series needs to use the very general `object` type to store all\n",
    "the values. For example, some of the elements of the row above\n",
    "are strings (like `'abnormal'`) and some are numerical. So the\n",
    "row can't be converted into floating point values or integers.\n",
    "\n",
    "For example, to access the Albumin level of Patient 0, we can look at the labels in the printout of the row above to find that it's the item at index position 3. We can fetch the value with indexing. Again, we use `iloc`, this time indexing into the `Series`."
   ]
  },
  {
   "cell_type": "code",
   "execution_count": null,
   "id": "e165e1e4",
   "metadata": {},
   "outputs": [],
   "source": [
    "first_row.iloc[3]"
   ]
  },
  {
   "cell_type": "markdown",
   "id": "a416688b",
   "metadata": {},
   "source": [
    "## Converting Rows to Numpy arrays\n",
    "\n",
    "Rows whose elements are all numerical can be converted to numerical Numpy arrays.  Converting a row to a numerical array gives us access to arithmetic operations and other nice NumPy functions, so it is often useful.\n",
    "\n",
    "Recall that in the previous section we tried to classify the patients as 'CKD' or 'not CKD', based on two attributes `Hemoglobin` and `Glucose`, both measured in standard units."
   ]
  },
  {
   "cell_type": "code",
   "execution_count": null,
   "id": "e233a419",
   "metadata": {},
   "outputs": [],
   "source": [
    "ckd = pd.DataFrame()\n",
    "ckd['Hemoglobin'] = standard_units(ckd_full['Hemoglobin'])\n",
    "ckd['Glucose'] = standard_units(ckd_full['Blood Glucose Random'])\n",
    "ckd['Class'] = ckd_full['Class']\n",
    "ckd.head()"
   ]
  },
  {
   "cell_type": "markdown",
   "id": "97d54d57",
   "metadata": {},
   "source": [
    "We add the colors for each point, to reflect the Class (with kidney disease or without)."
   ]
  },
  {
   "cell_type": "code",
   "execution_count": null,
   "id": "d02d1bde",
   "metadata": {},
   "outputs": [],
   "source": [
    "ckd['Color'] = 'darkblue'\n",
    "ckd.loc[ckd['Class'] == 0, 'Color'] = 'gold'\n",
    "ckd.head()"
   ]
  },
  {
   "cell_type": "markdown",
   "id": "5edb4377",
   "metadata": {},
   "source": [
    "Here is a scatter plot of the two attributes, along with a red point corresponding to Alice, a new patient. Her value of hemoglobin is 0 (that is, at the average) and glucose 1.1 (that is, 1.1 SDs above average)."
   ]
  },
  {
   "cell_type": "code",
   "execution_count": null,
   "id": "ec42ff2b",
   "metadata": {},
   "outputs": [],
   "source": [
    "alice = np.array([0, 1.1])\n",
    "ckd.plot.scatter('Hemoglobin', 'Glucose',\n",
    "                 c=ckd['Color'])\n",
    "plt.scatter(alice[0], alice[1], color='red', s=30);"
   ]
  },
  {
   "cell_type": "markdown",
   "id": "eea76a38",
   "metadata": {},
   "source": [
    "To find the distance between Alice's point and any of the other points, we only need the values of the attributes:"
   ]
  },
  {
   "cell_type": "code",
   "execution_count": null,
   "id": "760cadfc",
   "metadata": {},
   "outputs": [],
   "source": [
    "# Select Hemoglobin and Glucose columns from the data frame\n",
    "ckd_attributes = ckd.loc[:, ['Hemoglobin', 'Glucose']]\n",
    "ckd_attributes.head()"
   ]
  },
  {
   "cell_type": "markdown",
   "id": "f8170535",
   "metadata": {},
   "source": [
    "Each row consists of the coordinates of one point in our training sample. **Because the rows now consist only of numerical values**, it is possible to convert them to numerical arrays.  For this, we use the function `np.array`, which converts any kind of sequential object, like a row, to an array."
   ]
  },
  {
   "cell_type": "code",
   "execution_count": null,
   "id": "a7c3a277",
   "metadata": {},
   "outputs": [],
   "source": [
    "ckd_attributes.iloc[3]"
   ]
  },
  {
   "cell_type": "code",
   "execution_count": null,
   "id": "811bee1d",
   "metadata": {},
   "outputs": [],
   "source": [
    "np.array(ckd_attributes.iloc[3])"
   ]
  },
  {
   "cell_type": "markdown",
   "id": "a6a9ba08",
   "metadata": {},
   "source": [
    "This is very handy because we can now use array operations on the data in each row."
   ]
  },
  {
   "cell_type": "markdown",
   "id": "9c369a29",
   "metadata": {},
   "source": [
    "## Distance Between Points When There are Two Attributes\n",
    "\n",
    "The main calculation we need to do is to find the distance between Alice's point and any other point. For this, the first thing we need is a way to compute the distance between any pair of points.\n",
    "\n",
    "How do we do this?  In 2-dimensional space, it's pretty easy.  If we have a point at coordinates $(x_0,y_0)$ and another at $(x_1,y_1)$, the distance between them is\n",
    "\n",
    "$$\n",
    "D = \\sqrt{(x_0-x_1)^2 + (y_0-y_1)^2}\n",
    "$$\n",
    "\n",
    "(Where did this come from?  It comes from the Pythogorean theorem: we have a right triangle with side lengths $x_0-x_1$ and $y_0-y_1$, and we want to find the length of the hypotenuse.)"
   ]
  },
  {
   "cell_type": "markdown",
   "id": "23d769e2",
   "metadata": {},
   "source": [
    "In the next section we'll see that this formula has a straightforward extension when there are more than two attributes. For now, let's use the formula and array operations to find the distance between Alice and the patient in Row 3."
   ]
  },
  {
   "cell_type": "code",
   "execution_count": null,
   "id": "5e8b7a2c",
   "metadata": {},
   "outputs": [],
   "source": [
    "patient3 = np.array(ckd_attributes.iloc[3])\n",
    "alice, patient3"
   ]
  },
  {
   "cell_type": "code",
   "execution_count": null,
   "id": "bc3b1e4b",
   "metadata": {},
   "outputs": [],
   "source": [
    "distance = np.sqrt(np.sum((alice - patient3)**2))\n",
    "distance"
   ]
  },
  {
   "cell_type": "markdown",
   "id": "ce200d22",
   "metadata": {},
   "source": [
    "We're going to need the distance between Alice and a bunch of points, so let's write a function called `distance` that computes the distance between any pair of points. The function will take two arrays, each containing the $(x, y)$ coordinates of a point.  (Remember, those are really the Hemoglobin and Glucose levels of a patient.)"
   ]
  },
  {
   "cell_type": "code",
   "execution_count": null,
   "id": "ae30066d",
   "metadata": {},
   "outputs": [],
   "source": [
    "def distance(point1, point2):\n",
    "    \"\"\"Returns the Euclidean distance between point1 and point2.\n",
    "\n",
    "    Each argument is an array containing the coordinates of a point.\"\"\"\n",
    "    return np.sqrt(np.sum((point1 - point2)**2))"
   ]
  },
  {
   "cell_type": "code",
   "execution_count": null,
   "id": "aae47af8",
   "metadata": {},
   "outputs": [],
   "source": [
    "distance(alice, patient3)"
   ]
  },
  {
   "cell_type": "markdown",
   "id": "773345fd",
   "metadata": {},
   "source": [
    "We have begun to build our classifier: the `distance` function is the first building block. Now let's work on the next piece."
   ]
  },
  {
   "cell_type": "markdown",
   "id": "06a2839c",
   "metadata": {},
   "source": [
    "## Using `apply` on an Entire Row\n",
    "\n",
    "Sometimes we want to be able to *apply* some function to a whole row of a data frame.\n",
    "\n",
    "You won't be surprised to learn that Pandas has an `apply` method that can do this.\n",
    "\n",
    "Let's see how this works on a very small table `t` containing the information about the first five patients in the training sample.  Here we are using `iloc` again, to get values from the data frame by index.  In this case, we want the first five rows."
   ]
  },
  {
   "cell_type": "code",
   "execution_count": null,
   "id": "7e06bd2d",
   "metadata": {},
   "outputs": [],
   "source": [
    "t = ckd_attributes.iloc[0:5]\n",
    "t"
   ]
  },
  {
   "cell_type": "markdown",
   "id": "9e4e9fcc",
   "metadata": {},
   "source": [
    "Just as an example, suppose that for each patient we want to know how unusual their most unusual attribute is.  Concretely, if a patient's hemoglobin level is further from the average than her glucose level, we want to know how far it is from the average.  If her glucose level is further from the average than her hemoglobin level, we want to know how far that is from the average instead.\n",
    "\n",
    "That's the same as taking the maximum of the absolute values of the two quantities. To do this for a particular row, we can convert the row to an array and use array operations."
   ]
  },
  {
   "cell_type": "code",
   "execution_count": null,
   "id": "534799e3",
   "metadata": {},
   "outputs": [],
   "source": [
    "def max_abs(row):\n",
    "    return np.max(np.abs(np.array(row)))"
   ]
  },
  {
   "cell_type": "code",
   "execution_count": null,
   "id": "c28355b0",
   "metadata": {},
   "outputs": [],
   "source": [
    "max_abs(t.iloc[4])"
   ]
  },
  {
   "cell_type": "markdown",
   "id": "ac841b05",
   "metadata": {},
   "source": [
    "And now we can apply `max_abs` to each row of the table `t`. We pass the `axis` argument to tell Pandas to apply the function along the *rows* (and therefore along the second axis)."
   ]
  },
  {
   "cell_type": "code",
   "execution_count": null,
   "id": "c6af605f",
   "metadata": {},
   "outputs": [],
   "source": [
    "t.apply(max_abs, axis=1)"
   ]
  },
  {
   "cell_type": "markdown",
   "id": "bb244a6e",
   "metadata": {},
   "source": [
    "This way of using `apply` will help us create the next building block of our classifier."
   ]
  },
  {
   "cell_type": "markdown",
   "id": "16039fa2",
   "metadata": {},
   "source": [
    "## Alice's $k$ Nearest Neighbors\n",
    "\n",
    "If we want to classify Alice using a k-nearest neighbor classifier, we have to identify her $k$ nearest neighbors. What are the steps in this process? Suppose $k = 5$. Then the steps are:\n",
    "\n",
    "- **Step 1.** Find the distance between Alice and each point in the training sample.\n",
    "- **Step 2.** Sort the data table in increasing order of the distances.\n",
    "- **Step 3.** Take the top 5 rows of the sorted table.\n",
    "\n",
    "Steps 2 and 3 seem straightforward, provided we have the distances. So let's focus on Step 1.\n",
    "\n",
    "Here's Alice:"
   ]
  },
  {
   "cell_type": "code",
   "execution_count": null,
   "id": "baad0e87",
   "metadata": {},
   "outputs": [],
   "source": [
    "alice"
   ]
  },
  {
   "cell_type": "markdown",
   "id": "74a80e53",
   "metadata": {},
   "source": [
    "What we need is a function that finds the distance between Alice and another point whose coordinates are contained in a row. The function `distance` returns the distance between any two points whose coordinates are in arrays. We can use that to define `distance_from_alice`, which takes a row as its argument and returns the distance between that row and Alice."
   ]
  },
  {
   "cell_type": "code",
   "execution_count": null,
   "id": "bb1408fa",
   "metadata": {},
   "outputs": [],
   "source": [
    "def distance_from_alice(row):\n",
    "    \"\"\"Returns distance between Alice and a row of the attributes table\"\"\"\n",
    "    return distance(alice, np.array(row))"
   ]
  },
  {
   "cell_type": "code",
   "execution_count": null,
   "id": "2cad6379",
   "metadata": {},
   "outputs": [],
   "source": [
    "distance_from_alice(ckd_attributes.iloc[3])"
   ]
  },
  {
   "cell_type": "markdown",
   "id": "a7cafbf3",
   "metadata": {},
   "source": [
    "Now we can `apply` the function `distance_from_alice` to each row of `ckd_attributes`, and augment the table `ckd` with the distances. Step 1 is complete!"
   ]
  },
  {
   "cell_type": "code",
   "execution_count": null,
   "id": "f76ec8cb",
   "metadata": {},
   "outputs": [],
   "source": [
    "distances = ckd_attributes.apply(distance_from_alice, axis=1)\n",
    "ckd_with_distances = ckd.copy()\n",
    "ckd_with_distances['Distance from Alice'] = distances\n",
    "ckd_with_distances.head()"
   ]
  },
  {
   "cell_type": "markdown",
   "id": "986bd388",
   "metadata": {},
   "source": [
    "For Step 2, let's sort the table in increasing order of distance:"
   ]
  },
  {
   "cell_type": "code",
   "execution_count": null,
   "id": "06ed7a53",
   "metadata": {},
   "outputs": [],
   "source": [
    "sorted_by_distance = ckd_with_distances.sort_values('Distance from Alice')\n",
    "sorted_by_distance.head()"
   ]
  },
  {
   "cell_type": "markdown",
   "id": "51f70839",
   "metadata": {},
   "source": [
    "Step 3: The top 5 rows correspond to Alice's 5 nearest neighbors; you can replace 5 by any other positive integer."
   ]
  },
  {
   "cell_type": "code",
   "execution_count": null,
   "id": "babbece5",
   "metadata": {},
   "outputs": [],
   "source": [
    "alice_5_nearest_neighbors = sorted_by_distance.iloc[:5]\n",
    "alice_5_nearest_neighbors"
   ]
  },
  {
   "cell_type": "markdown",
   "id": "c4b1ce83",
   "metadata": {},
   "source": [
    "Three of Alice's five nearest neighbors are blue points and two are gold. So a 5-nearest neighbor classifier would classify Alice as blue: it would predict that Alice has chronic kidney disease.\n",
    "\n",
    "The graph below zooms in on Alice and her five nearest neighbors. The two gold ones just inside the circle directly below the red point. The classifier says Alice is more like the three blue ones around her."
   ]
  },
  {
   "cell_type": "code",
   "execution_count": null,
   "id": "37b18b78",
   "metadata": {
    "tags": [
     "remove-input"
    ]
   },
   "outputs": [],
   "source": [
    "# NO CODE\n",
    "plt.figure(figsize=(8,8))\n",
    "plt.scatter(ckd['Hemoglobin'], ckd['Glucose'],\n",
    "            c=ckd['Color'], s=40)\n",
    "plt.scatter(alice[0], alice[1], color='red', s=40)\n",
    "radius = sorted_by_distance['Distance from Alice'].iloc[4]+0.014\n",
    "theta = np.arange(0, 2*np.pi+1, 2*np.pi/200)\n",
    "plt.plot(radius * np.cos(theta) + alice[0],\n",
    "         radius * np.sin(theta) + alice[1],\n",
    "         color='g', lw=1.5);\n",
    "plt.xlim(-2, 2.5)\n",
    "plt.ylim(-2, 2.5);"
   ]
  },
  {
   "cell_type": "markdown",
   "id": "e7c9d0d7",
   "metadata": {},
   "source": [
    "We are well on our way to implementing our k-nearest neighbor classifier. In the next two sections we will put it together and assess its accuracy.\n",
    "\n",
    "{ucb-page}`Rows_of_Tables`"
   ]
  }
 ],
 "metadata": {
  "anaconda-cloud": {},
  "jupytext": {
   "notebook_metadata_filter": "all,-language_info"
  },
  "kernelspec": {
   "display_name": "Python (Pyodide)",
   "name": "python"
  }
 },
 "nbformat": 4,
 "nbformat_minor": 5
}
