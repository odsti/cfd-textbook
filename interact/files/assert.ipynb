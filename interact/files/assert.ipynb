{
 "cells": [
  {
   "cell_type": "markdown",
   "id": "d8ca9612",
   "metadata": {},
   "source": [
    "# Using `assert` for testing\n",
    "\n",
    "The Python `assert` statement means - \"raise an error unless\n",
    "the following expression is equivalent to True\".\n",
    "\n",
    "By \"equivalent to True\", we mean the expression returns True\n",
    "from Python [truth value testing](truthiness.Rmd).\n",
    "\n",
    "`assert` raises an `AssertionError` if the statement is equivalent to False.\n",
    "It does nothing if the statement is equivalent to True.\n",
    "\n",
    "So, if you `assert an_expression` and there is no error, then\n",
    "the result of `an_expression` was equivalent to True.  The\n",
    "following expressions evaluate to True, and therefore the\n",
    "asserts do not raise an error:"
   ]
  },
  {
   "cell_type": "code",
   "execution_count": null,
   "id": "9a0bfed9",
   "metadata": {},
   "outputs": [],
   "source": [
    "# No errors here.\n",
    "assert True\n",
    "assert 10 == 10\n",
    "assert 10 % 2 == 0"
   ]
  },
  {
   "cell_type": "markdown",
   "id": "a6c525a9",
   "metadata": {},
   "source": [
    "These expressions are equivalent to False, and the asserts do\n",
    "raise errors:"
   ]
  },
  {
   "cell_type": "code",
   "execution_count": null,
   "id": "5276591b",
   "metadata": {
    "tags": [
     "raises-exception"
    ]
   },
   "outputs": [],
   "source": [
    "# Raises error\n",
    "assert False"
   ]
  },
  {
   "cell_type": "code",
   "execution_count": null,
   "id": "fb4cea70",
   "metadata": {
    "tags": [
     "raises-exception"
    ]
   },
   "outputs": [],
   "source": [
    "# Raises error\n",
    "assert 10 == 11"
   ]
  },
  {
   "cell_type": "markdown",
   "id": "1fcc0680",
   "metadata": {},
   "source": [
    "Although `assert` does work with expression values of True and\n",
    "False, the test that assert uses is more general than\n",
    "`expr_result == True`.  In fact, assert uses {doc}`truth value\n",
    "testing <truthiness>` to decide whether to raise an\n",
    "`AssertionError` or not:"
   ]
  },
  {
   "cell_type": "code",
   "execution_count": null,
   "id": "67ed2435",
   "metadata": {},
   "outputs": [],
   "source": [
    "# No error\n",
    "assert ['some', 'elements']  # not-empty list tests as True"
   ]
  },
  {
   "cell_type": "code",
   "execution_count": null,
   "id": "e55c707d",
   "metadata": {
    "tags": [
     "raises-exception"
    ]
   },
   "outputs": [],
   "source": [
    "# Error\n",
    "assert []  # an empty list tests as False"
   ]
  },
  {
   "cell_type": "code",
   "execution_count": null,
   "id": "c61e3c64",
   "metadata": {},
   "outputs": [],
   "source": [
    "# No errors\n",
    "assert 10  # any number other than zero evaluates as True\n",
    "assert 1"
   ]
  },
  {
   "cell_type": "code",
   "execution_count": null,
   "id": "8e98f208",
   "metadata": {
    "tags": [
     "raises-exception"
    ]
   },
   "outputs": [],
   "source": [
    "# Error\n",
    "assert 0"
   ]
  },
  {
   "cell_type": "code",
   "execution_count": null,
   "id": "e0ce5f0c",
   "metadata": {
    "tags": [
     "raises-exception"
    ]
   },
   "outputs": [],
   "source": [
    "# Error\n",
    "assert None"
   ]
  }
 ],
 "metadata": {
  "jupytext": {
   "notebook_metadata_filter": "all,-language_info",
   "split_at_heading": true
  },
  "kernelspec": {
   "display_name": "Python (Pyodide)",
   "name": "python"
  },
  "orphan": true
 },
 "nbformat": 4,
 "nbformat_minor": 5
}
