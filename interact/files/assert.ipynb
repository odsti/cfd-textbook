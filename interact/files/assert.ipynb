{
 "cells": [
  {
   "cell_type": "markdown",
   "id": "df2ff678",
   "metadata": {},
   "source": [
    "# Using `assert` for testing\n",
    "\n",
    "The Python `assert` statement means - \"raise an error unless\n",
    "the following expression is equivalent to True\".\n",
    "\n",
    "By \"equivalent to True\", we mean the expression returns True\n",
    "from Python [truth value testing](truthiness.Rmd).\n",
    "\n",
    "`assert` raises an `AssertionError` if the statement is equivalent to False.\n",
    "It does nothing if the statement is equivalent to True.\n",
    "\n",
    "So, if you `assert an_expression` and there is no error, then\n",
    "the result of `an_expression` was equivalent to True.  The\n",
    "following expressions evaluate to True, and therefore the\n",
    "asserts do not raise an error:"
   ]
  },
  {
   "cell_type": "code",
   "execution_count": null,
   "id": "c43ed92b",
   "metadata": {},
   "outputs": [],
   "source": [
    "# No errors here.\n",
    "assert True\n",
    "assert 10 == 10\n",
    "assert 10 % 2 == 0"
   ]
  },
  {
   "cell_type": "markdown",
   "id": "c26378ff",
   "metadata": {},
   "source": [
    "These expressions are equivalent to False, and the asserts do\n",
    "raise errors:"
   ]
  },
  {
   "cell_type": "code",
   "execution_count": null,
   "id": "a5c642d3",
   "metadata": {
    "tags": [
     "raises-exception"
    ]
   },
   "outputs": [],
   "source": [
    "# Raises error\n",
    "assert False"
   ]
  },
  {
   "cell_type": "code",
   "execution_count": null,
   "id": "afb544df",
   "metadata": {
    "tags": [
     "raises-exception"
    ]
   },
   "outputs": [],
   "source": [
    "# Raises error\n",
    "assert 10 == 11"
   ]
  },
  {
   "cell_type": "markdown",
   "id": "0bc4dd0c",
   "metadata": {},
   "source": [
    "Although `assert` does work with expression values of True and\n",
    "False, the test that assert uses is more general than\n",
    "`expr_result == True`.  In fact, assert uses {doc}`truth value\n",
    "testing <truthiness>` to decide whether to raise an\n",
    "`AssertionError` or not:"
   ]
  },
  {
   "cell_type": "code",
   "execution_count": null,
   "id": "2e07f34f",
   "metadata": {},
   "outputs": [],
   "source": [
    "# No error\n",
    "assert ['some', 'elements']  # not-empty list tests as True"
   ]
  },
  {
   "cell_type": "code",
   "execution_count": null,
   "id": "534f1dbe",
   "metadata": {
    "tags": [
     "raises-exception"
    ]
   },
   "outputs": [],
   "source": [
    "# Error\n",
    "assert []  # an empty list tests as False"
   ]
  },
  {
   "cell_type": "code",
   "execution_count": null,
   "id": "dfc31c6c",
   "metadata": {},
   "outputs": [],
   "source": [
    "# No errors\n",
    "assert 10  # any number other than zero evaluates as True\n",
    "assert 1"
   ]
  },
  {
   "cell_type": "code",
   "execution_count": null,
   "id": "f3f28b9c",
   "metadata": {
    "tags": [
     "raises-exception"
    ]
   },
   "outputs": [],
   "source": [
    "# Error\n",
    "assert 0"
   ]
  },
  {
   "cell_type": "code",
   "execution_count": null,
   "id": "39ea375a",
   "metadata": {
    "tags": [
     "raises-exception"
    ]
   },
   "outputs": [],
   "source": [
    "# Error\n",
    "assert None"
   ]
  }
 ],
 "metadata": {
  "jupytext": {
   "notebook_metadata_filter": "all,-language_info",
   "split_at_heading": true
  },
  "kernelspec": {
   "display_name": "Python (Pyodide)",
   "name": "python"
  },
  "orphan": true
 },
 "nbformat": 4,
 "nbformat_minor": 5
}
