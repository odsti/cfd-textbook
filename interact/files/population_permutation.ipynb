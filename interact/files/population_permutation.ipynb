{
 "cells": [
  {
   "cell_type": "markdown",
   "id": "acb70f8f",
   "metadata": {},
   "source": [
    "# Population and permutation\n",
    "\n",
    "The idea of permutation is fundamental to a wide range of statistical tests.\n",
    "\n",
    "Permutation allows us to simulate data in many more situations than we have\n",
    "seen thus far.\n",
    "\n",
    "We build up the tools to use permutation for a test of differences between two\n",
    "groups.\n"
   ]
  },
  {
   "cell_type": "markdown",
   "id": "8ce472d3",
   "metadata": {},
   "source": [
    "## Example: are Brexit voters older?\n",
    "\n",
    "Here we analyze the [Brexit survey](data/brexit_survey.md).\n",
    "\n",
    "As you will see at the link above, the data are from a survey of the UK\n",
    "population.  Each row in the survey corresponds to one person answering.  One\n",
    "of the questions, named `brexit_vote` is how the person voted in the Brexit\n",
    "referendum.  Another, `age`, is the age of the person in years.\n"
   ]
  },
  {
   "cell_type": "code",
   "execution_count": null,
   "id": "27a0b4f5",
   "metadata": {},
   "outputs": [],
   "source": [
    "# Array library.\n",
    "import numpy as np\n",
    "# Make random number generator.\n",
    "rng = np.random.default_rng()\n",
    "\n",
    "# Data frame library, to load the survey data.\n",
    "import pandas as pd\n",
    "pd.set_option('mode.copy_on_write', True)\n",
    "\n",
    "# Plotting\n",
    "import matplotlib.pyplot as plt\n",
    "\n",
    "# Fancy plots\n",
    "plt.style.use('fivethirtyeight')"
   ]
  },
  {
   "cell_type": "markdown",
   "id": "63013445",
   "metadata": {},
   "source": [
    "If you are running on your laptop, first\n",
    "{download}`download the data file <data/brexit_survey.csv>`\n",
    "to the same directory as this notebook.\n",
    "\n",
    "The version of the survey data we have here, has two bits of information for\n",
    "each respondent.   First — whether the respondent claimed to have voted\n",
    "Remain or Leave in the referendum.   Second — the respondents' reported age\n",
    "in years.  Here is what that looks like as a Pandas data frame:"
   ]
  },
  {
   "cell_type": "code",
   "execution_count": null,
   "id": "6a04c065",
   "metadata": {},
   "outputs": [],
   "source": [
    "# Use Pandas to read the data.\n",
    "# Don't worry if you aren't confident with Pandas yet - we only\n",
    "# use Pandas here to get the ages for the Remain and Leave voters.\n",
    "# Load the data frame, and put it in the variable \"brexit_df\".\n",
    "brexit_df = pd.read_csv('data/brexit_survey.csv')\n",
    "# Show the first 5 rows.\n",
    "brexit_df.head()"
   ]
  },
  {
   "cell_type": "markdown",
   "id": "32d69720",
   "metadata": {},
   "source": [
    "We are only interested in the reported ages for the Remain voters, and the\n",
    "reported ages for the Leave voters.  The code below extracts the ages for\n",
    "the Remain voters into one array, called `remain_ages`, and the ages for the\n",
    "Leave voters into another array, called `leave_ages`."
   ]
  },
  {
   "cell_type": "code",
   "execution_count": null,
   "id": "38c06194",
   "metadata": {},
   "outputs": [],
   "source": [
    "# Extract Remain and Leave voters into their separate own data frames.\n",
    "# As above, we are just using Pandas here to get arrays for the\n",
    "# Remain and Leave voter ages.\n",
    "remainers = brexit_df[brexit_df['brexit_vote'] == 'Remain']\n",
    "leavers = brexit_df[brexit_df['brexit_vote'] == 'Leave']\n",
    "# Extract ages into arrays.\n",
    "remain_ages = np.array(remainers['age'])\n",
    "leave_ages = np.array(leavers['age'])"
   ]
  },
  {
   "cell_type": "markdown",
   "id": "1cd56a81",
   "metadata": {},
   "source": [
    "There were 774 voters who claimed to have voted \"Remain\", and therefore, `remain_ages` is an array with 774 values:"
   ]
  },
  {
   "cell_type": "code",
   "execution_count": null,
   "id": "acfa14c3",
   "metadata": {},
   "outputs": [],
   "source": [
    "n_remain = len(remain_ages)\n",
    "n_remain"
   ]
  },
  {
   "cell_type": "markdown",
   "id": "70223a21",
   "metadata": {},
   "source": [
    "`remain_ages` is an array containing the 774 reported ages for the Remain\n",
    "voters:"
   ]
  },
  {
   "cell_type": "code",
   "execution_count": null,
   "id": "54506604",
   "metadata": {},
   "outputs": [],
   "source": [
    "# Show the first 10 ages for the Remain voters.\n",
    "remain_ages[:10]"
   ]
  },
  {
   "cell_type": "markdown",
   "id": "5bcb2b7a",
   "metadata": {},
   "source": [
    "There were 541 Leave voters:"
   ]
  },
  {
   "cell_type": "code",
   "execution_count": null,
   "id": "0b61fb1b",
   "metadata": {},
   "outputs": [],
   "source": [
    "n_leave = len(leave_ages)\n",
    "n_leave"
   ]
  },
  {
   "cell_type": "markdown",
   "id": "778568c3",
   "metadata": {},
   "source": [
    "`leave_ages` is an array containing the 541 reported ages for the Remain\n",
    "voters:"
   ]
  },
  {
   "cell_type": "code",
   "execution_count": null,
   "id": "cf0bba6b",
   "metadata": {},
   "outputs": [],
   "source": [
    "# Show the first 10 ages for the Leave voters.\n",
    "leave_ages[:10]"
   ]
  },
  {
   "cell_type": "markdown",
   "id": "f62dc803",
   "metadata": {},
   "source": [
    "Show the age distributions for the two groups:"
   ]
  },
  {
   "cell_type": "code",
   "execution_count": null,
   "id": "c64d24a0",
   "metadata": {},
   "outputs": [],
   "source": [
    "plt.hist(remain_ages);"
   ]
  },
  {
   "cell_type": "code",
   "execution_count": null,
   "id": "b8b77d54",
   "metadata": {},
   "outputs": [],
   "source": [
    "plt.hist(leave_ages);"
   ]
  },
  {
   "cell_type": "markdown",
   "id": "2ea5d1ea",
   "metadata": {},
   "source": [
    "These certainly look like different distributions."
   ]
  },
  {
   "cell_type": "markdown",
   "id": "67b651cc",
   "metadata": {},
   "source": [
    "We might summarize the difference, by looking at the difference in means:"
   ]
  },
  {
   "cell_type": "code",
   "execution_count": null,
   "id": "da5e3342",
   "metadata": {},
   "outputs": [],
   "source": [
    "leave_mean = np.mean(leave_ages)\n",
    "leave_mean"
   ]
  },
  {
   "cell_type": "code",
   "execution_count": null,
   "id": "824a4714",
   "metadata": {},
   "outputs": [],
   "source": [
    "remain_mean = np.mean(remain_ages)\n",
    "remain_mean"
   ]
  },
  {
   "cell_type": "code",
   "execution_count": null,
   "id": "1336e480",
   "metadata": {},
   "outputs": [],
   "source": [
    "actual_difference = leave_mean - remain_mean\n",
    "actual_difference"
   ]
  },
  {
   "cell_type": "markdown",
   "id": "fdc2b54d",
   "metadata": {},
   "source": [
    "The distributions do look different.\n",
    "\n",
    "They have a mean difference of nearly 4 years.\n",
    "\n",
    "Could this be due to sampling error?\n",
    "\n",
    "If we took two random samples of 774 and 541 voters, *from the same\n",
    "population*, we would expect to see some difference, just by chance.\n",
    "\n",
    "*By chance* means, because random samples vary."
   ]
  },
  {
   "cell_type": "markdown",
   "id": "88ec5d3d",
   "metadata": {},
   "source": [
    "What is the population, in this case?"
   ]
  },
  {
   "cell_type": "markdown",
   "id": "a8a00e27",
   "metadata": {},
   "source": [
    "It is not exactly the whole UK population, because the survey only sampled\n",
    "people who were eligible to vote."
   ]
  },
  {
   "cell_type": "markdown",
   "id": "15c96f8d",
   "metadata": {},
   "source": [
    "It might not even be the whole UK population, who are eligible to vote.\n",
    "Perhaps the survey company got a not-representative range of ages, for some\n",
    "reason.  We are not interested in that question, only the question of whether\n",
    "the Leave and Remain voters could come from the same population, where the\n",
    "population is, people selected by the survey company."
   ]
  },
  {
   "cell_type": "markdown",
   "id": "cad676cf",
   "metadata": {},
   "source": [
    "How do we find this population, to do our simulation?\n"
   ]
  },
  {
   "cell_type": "markdown",
   "id": "ac33d026",
   "metadata": {},
   "source": [
    "## Population by permutation\n",
    "\n",
    "Here comes a nice trick.   We can use the data that we already have, to\n",
    "simulate the effect of drawing lots of random samples, from the underlying\n",
    "population."
   ]
  },
  {
   "cell_type": "markdown",
   "id": "91eb2660",
   "metadata": {},
   "source": [
    "Let us assume that the Leave voters and the Remain voters are in fact samples\n",
    "from the same underlying population.\n",
    "\n",
    "If that is the case, we can throw the Leave and Remain voters into one big pool\n",
    "of 774 + 541 == 1315 voters.\n",
    "\n",
    "Then we can take split this new mixed sample into two groups, at\n",
    "random, one with 774 voters, and the other with 541.  The new groups\n",
    "have a random mix of the original Leave and Remain voters.  Then we\n",
    "calculate the difference in means between these two new, fake groups."
   ]
  },
  {
   "cell_type": "code",
   "execution_count": null,
   "id": "eeeadd5e",
   "metadata": {},
   "outputs": [],
   "source": [
    "pooled = np.concatenate([remain_ages, leave_ages])\n",
    "pooled"
   ]
  },
  {
   "cell_type": "code",
   "execution_count": null,
   "id": "4bf2e9bd",
   "metadata": {},
   "outputs": [],
   "source": [
    "len(pooled)"
   ]
  },
  {
   "cell_type": "markdown",
   "id": "ec34e505",
   "metadata": {},
   "source": [
    "We mix the two samples together, using `rng.permutation`, to make a\n",
    "random permutation of the values.  It works like this:"
   ]
  },
  {
   "cell_type": "code",
   "execution_count": null,
   "id": "7ccd8a7b",
   "metadata": {},
   "outputs": [],
   "source": [
    "pets = np.array(['cat', 'dog', 'rabbit'])\n",
    "pets"
   ]
  },
  {
   "cell_type": "code",
   "execution_count": null,
   "id": "de86ee04",
   "metadata": {},
   "outputs": [],
   "source": [
    "rng.permutation(pets)"
   ]
  },
  {
   "cell_type": "code",
   "execution_count": null,
   "id": "35fb575a",
   "metadata": {},
   "outputs": [],
   "source": [
    "rng.permutation(pets)"
   ]
  },
  {
   "cell_type": "markdown",
   "id": "f1ea9915",
   "metadata": {},
   "source": [
    "Now to mix up ages of the Leavers and Remainers:"
   ]
  },
  {
   "cell_type": "code",
   "execution_count": null,
   "id": "0a69c91e",
   "metadata": {},
   "outputs": [],
   "source": [
    "shuffled = rng.permutation(pooled)\n",
    "shuffled"
   ]
  },
  {
   "cell_type": "markdown",
   "id": "e60e2443",
   "metadata": {},
   "source": [
    "We split the newly mixed group into 774 simulated Remain voters and 541\n",
    "simulated Leave voters, where each group is a random mix of the original Leave\n",
    "and Remain ages."
   ]
  },
  {
   "cell_type": "code",
   "execution_count": null,
   "id": "520d5b24",
   "metadata": {},
   "outputs": [],
   "source": [
    "# The first 774 values\n",
    "fake_remainers = shuffled[:774]\n",
    "# The rest\n",
    "fake_leavers = shuffled[774:]\n",
    "len(fake_leavers)"
   ]
  },
  {
   "cell_type": "markdown",
   "id": "b036977f",
   "metadata": {},
   "source": [
    "Now we can calculate the mean difference.  This is our first simulation:"
   ]
  },
  {
   "cell_type": "code",
   "execution_count": null,
   "id": "36c12742",
   "metadata": {},
   "outputs": [],
   "source": [
    "fake_difference = np.mean(fake_leavers) - np.mean(fake_remainers)\n",
    "fake_difference"
   ]
  },
  {
   "cell_type": "markdown",
   "id": "27b73ce0",
   "metadata": {},
   "source": [
    "That looks a lot smaller than the difference we saw.   We want to keep doing\n",
    "this, to collect more simulations.  We need to mix up the ages again, to give\n",
    "us new random samples of fake Remainers and fake Leavers."
   ]
  },
  {
   "cell_type": "code",
   "execution_count": null,
   "id": "a0fd64af",
   "metadata": {},
   "outputs": [],
   "source": [
    "shuffled = rng.permutation(pooled)\n",
    "fake_difference_2 = np.mean(shuffled[:774]) - np.mean(shuffled[774:])\n",
    "fake_difference_2"
   ]
  },
  {
   "cell_type": "markdown",
   "id": "e22eca04",
   "metadata": {},
   "source": [
    "Now we know how do to this once, we can use the `for` loop to do the\n",
    "permutation operation many times.  We collect the results in an array. You will\n",
    "recognize the code in the `for` loop from the code in the cells above."
   ]
  },
  {
   "cell_type": "code",
   "execution_count": null,
   "id": "452c3c18",
   "metadata": {},
   "outputs": [],
   "source": [
    "# An array of zeros to store the fake differences\n",
    "example_diffs = np.zeros(10000)\n",
    "# Do the shuffle / difference steps 10000 times\n",
    "for i in np.arange(10000):\n",
    "    shuffled = rng.permutation(pooled)\n",
    "    fake_remainers = shuffled[:n_remain]\n",
    "    fake_leavers = shuffled[n_remain:]\n",
    "    eg_diff = np.mean(fake_leavers) - np.mean(fake_remainers)\n",
    "    # Collect the results in the results array\n",
    "    example_diffs[i] = eg_diff"
   ]
  },
  {
   "cell_type": "markdown",
   "id": "9febafa3",
   "metadata": {},
   "source": [
    "Our results array now has 10000 fake mean differences:\n",
    "\n",
    "What distribution do these differences have?"
   ]
  },
  {
   "cell_type": "code",
   "execution_count": null,
   "id": "461bb972",
   "metadata": {},
   "outputs": [],
   "source": [
    "plt.hist(example_diffs);"
   ]
  },
  {
   "cell_type": "markdown",
   "id": "e8419a86",
   "metadata": {},
   "source": [
    "This is called the *sampling distribution*.  In our case, this is the\n",
    "sampling distribution of the difference in means.  It is the\n",
    "*sampling* distribution, because it is the distribution we expect to\n",
    "see, when taking random *samples* from the same underlying population.\n",
    "\n",
    "Our question now is, is the difference we actually saw, a likely value, given the sampling distribution. Let's plot the actual difference, so we can see how similar/different it is to the simulated differences."
   ]
  },
  {
   "cell_type": "code",
   "execution_count": null,
   "id": "926ea226",
   "metadata": {},
   "outputs": [],
   "source": [
    "# do not worry about the code below, it just plots the sampling distribution, the actual difference in the mean ages,\n",
    "# and adds some labels to the histogram.\n",
    "plt.hist(example_diffs, label = 'simulated differences')\n",
    "fontsize = {'fontsize': 10}\n",
    "plt.plot(actual_difference, 20 , 'o',\n",
    "         markersize = 10,color = 'red',\n",
    "         label = 'actual difference')\n",
    "plt.xlabel('Difference between the mean ages of leavers and remainers', **fontsize)\n",
    "plt.ylabel('Number of times obtained in simulation', **fontsize)\n",
    "plt.legend(**fontsize);"
   ]
  },
  {
   "cell_type": "markdown",
   "id": "fea3f9b4",
   "metadata": {},
   "source": [
    "Looking at the distribution above - what do you think?\n",
    "\n",
    "The blue histogram shows the distribution of differences we would expect to obtain in an ideal world. That is, in a world where there was no difference between the mean age of leavers and remainers. The red dot shows the actual difference between the mean ages of leavers and remainers. Does it look likely that we would obtain the actual difference in the ideal world?\n",
    "\n",
    "As a first pass, let us check how many of the values from the sampling\n",
    "distribution are as large, or larger than the value we actually saw."
   ]
  },
  {
   "cell_type": "code",
   "execution_count": null,
   "id": "0a2f7df8",
   "metadata": {},
   "outputs": [],
   "source": [
    "are_as_high = example_diffs >= actual_difference\n",
    "n_as_high = np.count_nonzero(are_as_high)\n",
    "n_as_high"
   ]
  },
  {
   "cell_type": "markdown",
   "id": "ba7a5288",
   "metadata": {},
   "source": [
    "The number above is the number of values in the sampling distribution\n",
    "that are as high as, or higher than, the value we actually saw.  If we\n",
    "divide by 10000, we get the proportion of the sampling distribution\n",
    "that is as high, or higher."
   ]
  },
  {
   "cell_type": "code",
   "execution_count": null,
   "id": "91a32fce",
   "metadata": {},
   "outputs": [],
   "source": [
    "proportion = n_as_high / 10000\n",
    "proportion"
   ]
  },
  {
   "cell_type": "markdown",
   "id": "a46e34f3",
   "metadata": {},
   "source": [
    "We think of this proportion as an estimate of the *probability* that\n",
    "we would see a value this high, or higher, *if these were random\n",
    "samples from the same underlying population*.  We call this a *p\n",
    "value*."
   ]
  }
 ],
 "metadata": {
  "jupytext": {
   "notebook_metadata_filter": "all,-language_info",
   "split_at_heading": true
  },
  "kernelspec": {
   "display_name": "Python (Pyodide)",
   "name": "python"
  }
 },
 "nbformat": 4,
 "nbformat_minor": 5
}
