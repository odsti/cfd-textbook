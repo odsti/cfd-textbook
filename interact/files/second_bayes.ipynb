{
 "cells": [
  {
   "cell_type": "markdown",
   "id": "86a4a595",
   "metadata": {},
   "source": [
    "# Back to Bayes\n",
    "\n",
    "In the [reverse probability page](first_bayes)\n",
    "we played a game with two boxes, with different proportions of red and green\n",
    "balls.\n",
    "\n",
    "The [Bayes bars page](bayes_bars) has a way of\n",
    "thinking of our calculations for this game, using the height of bars to\n",
    "express our probabilities.\n",
    "\n",
    "Now we extend the game to more options.\n",
    "\n",
    "Now I have five boxes:\n",
    "\n",
    "* BOX1 has one red ball and four green balls.\n",
    "* BOX2 has two red balls and three green balls.\n",
    "* BOX3 has three red balls and two green balls.\n",
    "* BOX4 has four red balls and one green ball.\n",
    "* BOX5 has five red balls.\n",
    "\n",
    "The game proceeds as before:\n",
    "\n",
    "* I offer you one of these five boxes at random, without telling you which.\n",
    "* You draw a ball at random from the box, and you get a red ball.\n",
    "* Now, what is the probability that I gave you BOX4?\n",
    "\n",
    "First we will solve this by simulation. Then we will solve it by expressing\n",
    "the calculation we illustrated with the bars from the Bayes bars page."
   ]
  },
  {
   "cell_type": "code",
   "execution_count": null,
   "id": "63cf18e1",
   "metadata": {},
   "outputs": [],
   "source": [
    "import numpy as np\n",
    "# Make random number generator.\n",
    "rng = np.random.default_rng()\n",
    "import pandas as pd\n",
    "pd.set_option('mode.copy_on_write', True)\n",
    "import matplotlib.pyplot as plt"
   ]
  },
  {
   "cell_type": "markdown",
   "id": "23e2532a",
   "metadata": {},
   "source": [
    "Here is the simulation.  It is a small modification from the simulation in the reverse probability page."
   ]
  },
  {
   "cell_type": "code",
   "execution_count": null,
   "id": "1383332b",
   "metadata": {},
   "outputs": [],
   "source": [
    "n_iters = 10000\n",
    "box_nos = np.repeat([1], n_iters)\n",
    "ball_colors = np.repeat(['green'], n_iters)\n",
    "for i in np.arange(n_iters):\n",
    "    # Choose a box number randomly.\n",
    "    box_no = rng.choice([1, 2, 3, 4, 5])\n",
    "    # Create the box with the correct numbers of red and green.\n",
    "    box = np.repeat(['red', 'green'], [box_no, 5-box_no])\n",
    "    # Draw a ball from the box\n",
    "    ball_color = rng.choice(box)\n",
    "    # Store the results.\n",
    "    box_nos[i] = box_no\n",
    "    ball_colors[i] = ball_color\n",
    "# Make the results into a data frame.\n",
    "trial_results = pd.DataFrame()\n",
    "trial_results['box no'] = box_nos\n",
    "trial_results['ball color'] = ball_colors\n",
    "trial_results.head()"
   ]
  },
  {
   "cell_type": "markdown",
   "id": "25323ce7",
   "metadata": {},
   "source": [
    "Calculate the proportion of \"red\" trials that came from BOX4:"
   ]
  },
  {
   "cell_type": "code",
   "execution_count": null,
   "id": "adc30f71",
   "metadata": {},
   "outputs": [],
   "source": [
    "# Of the trials giving a red ball, what proportion came from box 4?\n",
    "red_ball_trials = trial_results[trial_results['ball color'] == 'red']\n",
    "p_box4 = np.count_nonzero(red_ball_trials['box no'] == 4) / len(red_ball_trials)\n",
    "p_box4"
   ]
  },
  {
   "cell_type": "markdown",
   "id": "c3c39323",
   "metadata": {},
   "source": [
    "Here are the initial probabilities of the boxes."
   ]
  },
  {
   "cell_type": "code",
   "execution_count": null,
   "id": "91b5661f",
   "metadata": {},
   "outputs": [],
   "source": [
    "box_probabilities = np.repeat(1 / 5, 5)\n",
    "x_locations = np.arange(5)\n",
    "box_labels = ['BOX1', 'BOX2', 'BOX3', 'BOX4', 'BOX5']\n",
    "plt.bar(x_locations, box_probabilities)\n",
    "plt.xticks(x_locations, box_labels)\n",
    "plt.ylabel(\"Probability of getting box\")\n",
    "plt.title('Initial probability of boxes');"
   ]
  },
  {
   "cell_type": "markdown",
   "id": "4e1ee2a0",
   "metadata": {},
   "source": [
    "We display the probabilities of getting a red ball from boxes 1 through 5:"
   ]
  },
  {
   "cell_type": "code",
   "execution_count": null,
   "id": "e9be6cc2",
   "metadata": {},
   "outputs": [],
   "source": [
    "red_probabilities = np.array([1, 2, 3, 4, 5]) / 5\n",
    "plt.bar(x_locations, red_probabilities)\n",
    "plt.xticks(x_locations, box_labels)\n",
    "plt.ylabel(\"Probability of getting red ball\")\n",
    "plt.title('Probability of getting red for each box');"
   ]
  },
  {
   "cell_type": "markdown",
   "id": "e5edfecc",
   "metadata": {},
   "source": [
    "Next we combine the two steps, of getting a box, and then drawing a ball.\n",
    "\n",
    "As before, we do this by multiplying the values expressed by heights in the\n",
    "first bar graph, by the values expressed by heights in the second bar graph."
   ]
  },
  {
   "cell_type": "code",
   "execution_count": null,
   "id": "2321a4ed",
   "metadata": {},
   "outputs": [],
   "source": [
    "box_and_red_probs = box_probabilities * red_probabilities\n",
    "plt.bar(x_locations, box_and_red_probs)\n",
    "plt.xticks(x_locations, box_labels)\n",
    "plt.ylabel(\"Probability of getting red ball and the given box\")\n",
    "plt.title('Probability of getting red and each box');"
   ]
  },
  {
   "cell_type": "markdown",
   "id": "6d1229b6",
   "metadata": {},
   "source": [
    "In this case, as before, where all the initial probabilities of the boxes are\n",
    "the same, this last bar graph is just the second bar graph scaled down by 1/5."
   ]
  },
  {
   "cell_type": "markdown",
   "id": "4bb5969d",
   "metadata": {},
   "source": [
    "Lastly, remember we are interested in the probability that we started with\n",
    "BOX4, given we have a red ball.\n",
    "\n",
    "To get this probability, we first take the probability of getting a red ball\n",
    "*and* BOX4.  This is the fourth bar on the graph above - 0.2 * 0.8 = 0.4.\n",
    "\n",
    "Next we divide by the overall probability of getting a red ball, which is the\n",
    "sum of the heights of the five bars above.\n",
    "\n",
    "We can do this calculation by dividing the heights of the bars above by the\n",
    "sum of the heights, so the heights of the bars now sum to 1."
   ]
  },
  {
   "cell_type": "code",
   "execution_count": null,
   "id": "478c3e3c",
   "metadata": {},
   "outputs": [],
   "source": [
    "# Overall probability of getting a red ball.\n",
    "np.sum(box_and_red_probs)"
   ]
  },
  {
   "cell_type": "markdown",
   "id": "0189a002",
   "metadata": {},
   "source": [
    "Here are the bars divided by this sum:"
   ]
  },
  {
   "cell_type": "code",
   "execution_count": null,
   "id": "c0d9739c",
   "metadata": {},
   "outputs": [],
   "source": [
    "box_given_red_probs = box_and_red_probs / np.sum(box_and_red_probs)\n",
    "plt.bar(x_locations, box_given_red_probs)\n",
    "plt.xticks(x_locations, box_labels)\n",
    "plt.ylabel(\"Probability of box given a red ball\")\n",
    "plt.title('Probability of initial box given red ball drawn');"
   ]
  },
  {
   "cell_type": "markdown",
   "id": "2f41fab1",
   "metadata": {},
   "source": [
    "The probability we want is the height of the fourth bar:"
   ]
  },
  {
   "cell_type": "code",
   "execution_count": null,
   "id": "3408315f",
   "metadata": {},
   "outputs": [],
   "source": [
    "box_given_red_probs[3]"
   ]
  },
  {
   "cell_type": "markdown",
   "id": "befc56dd",
   "metadata": {},
   "source": [
    "The probability that we drew from BOX5 (given we have a red ball) is the height\n",
    "of the fifth bar:"
   ]
  },
  {
   "cell_type": "code",
   "execution_count": null,
   "id": "e078be62",
   "metadata": {},
   "outputs": [],
   "source": [
    "box_given_red_probs[4]"
   ]
  },
  {
   "cell_type": "markdown",
   "id": "4cd96fc1",
   "metadata": {},
   "source": [
    "We can estimate this from the simulation as well:"
   ]
  },
  {
   "cell_type": "code",
   "execution_count": null,
   "id": "36e312eb",
   "metadata": {},
   "outputs": [],
   "source": [
    "# Of the trials giving a red ball, what proportion came from box5?\n",
    "red_ball_trials = trial_results[trial_results['ball color'] == 'red']\n",
    "p_box4 = np.count_nonzero(red_ball_trials['box no'] == 5) / len(red_ball_trials)\n",
    "p_box4"
   ]
  },
  {
   "cell_type": "markdown",
   "id": "8df07e60",
   "metadata": {},
   "source": [
    "As we saw in the [Bayes bars](bayes_bars) page,\n",
    "because all the boxes have equal probability, we can skip the calculation step\n",
    "that scales by the box probability, and take the following shortcut:"
   ]
  },
  {
   "cell_type": "code",
   "execution_count": null,
   "id": "b2217915",
   "metadata": {
    "lines_to_next_cell": 2
   },
   "outputs": [],
   "source": [
    "# Skipping scaling by box probabilities, when probabilities are equal.\n",
    "box_given_red_probs = red_probabilities / np.sum(red_probabilities)\n",
    "# We get the same result as before.\n",
    "box_given_red_probs"
   ]
  },
  {
   "cell_type": "markdown",
   "id": "d4fd651b",
   "metadata": {},
   "source": [
    "## Towards confidence"
   ]
  },
  {
   "cell_type": "markdown",
   "id": "ee195d88",
   "metadata": {},
   "source": [
    "Now let me ask a different question.\n",
    "\n",
    "What is the probability that the red ball came from *any* of boxes 2 through\n",
    "5?"
   ]
  },
  {
   "cell_type": "markdown",
   "id": "ddf157b8",
   "metadata": {},
   "source": [
    "This is just the sum of the adjusted probabilities above, for boxes 2 through\n",
    "5.  Remember the sum of all the adjusted probabilities is 1."
   ]
  },
  {
   "cell_type": "code",
   "execution_count": null,
   "id": "a297563a",
   "metadata": {},
   "outputs": [],
   "source": [
    "np.sum(box_given_red_probs)"
   ]
  },
  {
   "cell_type": "code",
   "execution_count": null,
   "id": "535bf603",
   "metadata": {},
   "outputs": [],
   "source": [
    "# Probability that red ball came from any of boxes 2 through 5.\n",
    "red_from_box_2_5 = np.sum(box_given_red_probs[1:])\n",
    "red_from_box_2_5"
   ]
  },
  {
   "cell_type": "markdown",
   "id": "07c1df0d",
   "metadata": {},
   "source": [
    "Put another way:\n",
    "\n",
    "If I draw a red ball, there is a 93% chance that the box I drew from was one of\n",
    "BOX2 through BOX5.\n",
    "\n",
    "Put yet another way:\n",
    "\n",
    "If I draw a red ball, I have 93% confidence that I have drawn from one of BOX2\n",
    "through BOX5."
   ]
  },
  {
   "cell_type": "markdown",
   "id": "a21773e1",
   "metadata": {},
   "source": [
    "This is the logic for *Bayesian confidence intervals*.  These are sometimes\n",
    "called [credible intervals](https://en.wikipedia.org/wiki/Credible_interval).\n",
    "We can reason about plausible states of the world that led to our results.  In\n",
    "our case we can reason about which box we have drawn from (state of the\n",
    "world), given we have seen a red ball (the result)."
   ]
  },
  {
   "cell_type": "markdown",
   "id": "5c3cc058",
   "metadata": {},
   "source": [
    "We will soon see that we can apply this logic when we want to reason about ---\n",
    "for example --- the relationship of the mean of a sample (the result) to the\n",
    "mean for a whole population (the state of the world)."
   ]
  }
 ],
 "metadata": {
  "jupytext": {
   "notebook_metadata_filter": "all,-language_info",
   "split_at_heading": true
  },
  "kernelspec": {
   "display_name": "Python (Pyodide)",
   "name": "python"
  },
  "orphan": true
 },
 "nbformat": 4,
 "nbformat_minor": 5
}
