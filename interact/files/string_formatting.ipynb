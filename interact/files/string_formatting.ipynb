{
 "cells": [
  {
   "cell_type": "markdown",
   "id": "0d24f999",
   "metadata": {},
   "source": [
    "# Inserting values into strings"
   ]
  },
  {
   "cell_type": "markdown",
   "id": "d614f984",
   "metadata": {},
   "source": [
    "## f-strings\n",
    "\n",
    "In [Brisk Python](./brisk_python.Rmd), we claimed that Python f-strings are\n",
    "the usual best way to insert variable values into strings.\n",
    "\n",
    "The example there was:"
   ]
  },
  {
   "cell_type": "code",
   "execution_count": null,
   "id": "d6b2fdd8",
   "metadata": {},
   "outputs": [],
   "source": [
    "shepherd_name = \"Mary\"\n",
    "flock_size = 92"
   ]
  },
  {
   "cell_type": "code",
   "execution_count": null,
   "id": "30f95cab",
   "metadata": {},
   "outputs": [],
   "source": [
    "f\"Shepherd {shepherd_name} is on duty with {flock_size} sheep.\""
   ]
  },
  {
   "cell_type": "markdown",
   "id": "d7851e99",
   "metadata": {},
   "source": [
    "There are a couple of other ways you can do the same thing, that may be useful in particular circumstances."
   ]
  },
  {
   "cell_type": "markdown",
   "id": "8738f910",
   "metadata": {},
   "source": [
    "## String format method\n",
    "\n",
    "You can use the string method `format` method to create new strings with\n",
    "inserted values. Here we insert a string into another string:"
   ]
  },
  {
   "cell_type": "code",
   "execution_count": null,
   "id": "6ea3058c",
   "metadata": {},
   "outputs": [],
   "source": [
    "\"Shepherd {} is on duty.\".format(shepherd_name)"
   ]
  },
  {
   "cell_type": "markdown",
   "id": "ca951020",
   "metadata": {},
   "source": [
    "The empty curly braces show where the inserted value should go.  `shepherd_name` is the argument to the `format` method, and tells Python which value to insert.\n",
    "\n",
    "You can insert more than one value.  As for f-strings, the values do not have\n",
    "to be strings, they can be numbers and other Python objects."
   ]
  },
  {
   "cell_type": "code",
   "execution_count": null,
   "id": "ecd4a3a6",
   "metadata": {},
   "outputs": [],
   "source": [
    "\"Shepherd {} is on duty with {} sheep.\".format(shepherd_name, flock_size)"
   ]
  },
  {
   "cell_type": "code",
   "execution_count": null,
   "id": "2bf63fa5",
   "metadata": {},
   "outputs": [],
   "source": [
    "\"Here is a {} floating point number\".format(3.33333)"
   ]
  },
  {
   "cell_type": "markdown",
   "id": "ad0adc60",
   "metadata": {},
   "source": [
    "You can do more complex formatting of numbers and strings using formatting\n",
    "options within the curly brackets — `{` and `}`. See the documentation on\n",
    "[curly brace string\n",
    "formatting](https://docs.python.org/3/library/string.html#format-examples).\n",
    "\n",
    "The same formatting rules apply to f-strings.\n",
    "\n",
    "This system allows us to give formatting instructions for things like numbers,\n",
    "by using a `:` inside the curly braces, followed by the formatting\n",
    "instructions.  Here we ask to print in integer (`d`) where the number should\n",
    "be prepended with `0` to fill up the field width of `3`:"
   ]
  },
  {
   "cell_type": "code",
   "execution_count": null,
   "id": "2fc80c8b",
   "metadata": {},
   "outputs": [],
   "source": [
    "\"Number {:03d} is here.\".format(11)"
   ]
  },
  {
   "cell_type": "markdown",
   "id": "720c713c",
   "metadata": {},
   "source": [
    "This prints a floating point value (specified by the `f` after the `:` in the\n",
    "string) with exactly `4` digits after the decimal point:"
   ]
  },
  {
   "cell_type": "code",
   "execution_count": null,
   "id": "8599a510",
   "metadata": {},
   "outputs": [],
   "source": [
    "'A formatted number - {:.4f}'.format(0.213)"
   ]
  },
  {
   "cell_type": "markdown",
   "id": "4f8c07f0",
   "metadata": {},
   "source": [
    "See the Python string formatting documentation linked above for more details\n",
    "and examples."
   ]
  },
  {
   "cell_type": "markdown",
   "id": "e17d69e5",
   "metadata": {},
   "source": [
    "## % formatting\n",
    "\n",
    "This is the oldest way of doing string interpolation, and you will rarely find a use for it.  Here you use the `%` operator to tell Python the values to put into the string.  Just for a quick example, to replicate the example at the top of the page, you could also use:"
   ]
  },
  {
   "cell_type": "code",
   "execution_count": null,
   "id": "cd56e5c2",
   "metadata": {},
   "outputs": [],
   "source": [
    "\"Shepherd %s is on duty with %d sheep.\" % (shepherd_name, flock_size)"
   ]
  },
  {
   "cell_type": "markdown",
   "id": "90c8b073",
   "metadata": {},
   "source": [
    "The `%s` tells Python you want to insert the first value at that point, and it\n",
    "should be treated as a string (the `s` in `%s`).  The `%d` tells Python the\n",
    "second value should be treated as an integer.\n",
    "\n",
    "As we've said, you'll rarely have need for this `%` syntax, but you will see it in older code, and rarely, in special cases for recent code."
   ]
  }
 ],
 "metadata": {
  "jupytext": {
   "notebook_metadata_filter": "all,-language_info",
   "split_at_heading": true
  },
  "kernelspec": {
   "display_name": "Python (Pyodide)",
   "name": "python"
  },
  "orphan": true
 },
 "nbformat": 4,
 "nbformat_minor": 5
}
