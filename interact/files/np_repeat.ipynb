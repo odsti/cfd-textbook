{
 "cells": [
  {
   "cell_type": "markdown",
   "id": "d434cc37",
   "metadata": {},
   "source": [
    "# Numpy repeat\n",
    "\n",
    "Numpy has a very useful `repeat` function that has the effect of repeating elements to build up arrays."
   ]
  },
  {
   "cell_type": "code",
   "execution_count": null,
   "id": "0a797de8",
   "metadata": {},
   "outputs": [],
   "source": [
    "import numpy as np"
   ]
  },
  {
   "cell_type": "markdown",
   "id": "79fcf8bb",
   "metadata": {},
   "source": [
    "In the simplest case, you can repeat a single element $n$ times.   For example, to make a new array that repeats the number 3 five times:"
   ]
  },
  {
   "cell_type": "code",
   "execution_count": null,
   "id": "166f5d13",
   "metadata": {},
   "outputs": [],
   "source": [
    "np.repeat(3, 5)"
   ]
  },
  {
   "cell_type": "markdown",
   "id": "dd5a8c9c",
   "metadata": {},
   "source": [
    "Of course there are other ways to do that particular task, such as:"
   ]
  },
  {
   "cell_type": "code",
   "execution_count": null,
   "id": "a255bd2c",
   "metadata": {},
   "outputs": [],
   "source": [
    "np.zeros(5) + 3"
   ]
  },
  {
   "cell_type": "markdown",
   "id": "06e025b1",
   "metadata": {},
   "source": [
    "However, `np.repeat` starts becoming more useful in slightly more complicated cases.  For example, to make an array that contains four repeats of the string `'yes'`:"
   ]
  },
  {
   "cell_type": "code",
   "execution_count": null,
   "id": "56acf63c",
   "metadata": {},
   "outputs": [],
   "source": [
    "np.repeat('yes', 4)"
   ]
  },
  {
   "cell_type": "markdown",
   "id": "95f2ddcd",
   "metadata": {},
   "source": [
    "`np.repeat` really starts coming into its own when you want to repeat more than one element.   For example, let us say that, for some reason, you wanted an array that repeated 3 five times followed by 2 five times.  In that case you send the two elements you want to be repeated as the first argument, and the number of repeats as the second:"
   ]
  },
  {
   "cell_type": "code",
   "execution_count": null,
   "id": "74526353",
   "metadata": {},
   "outputs": [],
   "source": [
    "np.repeat([3, 2], 5)"
   ]
  },
  {
   "cell_type": "markdown",
   "id": "1c589bce",
   "metadata": {},
   "source": [
    "You can also specify the number of repeats *for each element*.  For example, say you wanted 10 five times and 20 eight times:"
   ]
  },
  {
   "cell_type": "code",
   "execution_count": null,
   "id": "dc87c454",
   "metadata": {},
   "outputs": [],
   "source": [
    "# 10 repeated 5 times followed by 20 repeated 8 times.\n",
    "np.repeat([10, 20], [5, 8])"
   ]
  },
  {
   "cell_type": "markdown",
   "id": "7cf51317",
   "metadata": {},
   "source": [
    "Or `'yes'` repeated four times followed by `'no'` repeated six times:"
   ]
  },
  {
   "cell_type": "code",
   "execution_count": null,
   "id": "58da402e",
   "metadata": {},
   "outputs": [],
   "source": [
    "# 'yes' repeated 4 times followed by 'no' repeated 6 times.\n",
    "np.repeat(['yes', 'no'], [4, 6])"
   ]
  },
  {
   "cell_type": "markdown",
   "id": "1dcfd65c",
   "metadata": {},
   "source": [
    "You can specify more than two elements, and give numbers of repeats to each element:"
   ]
  },
  {
   "cell_type": "code",
   "execution_count": null,
   "id": "d93bbf06",
   "metadata": {},
   "outputs": [],
   "source": [
    "# 'yes' repeated 2 times followed by 'no' repeated 3 times,\n",
    "# followed by 'maybe' repeated 4 times.\n",
    "np.repeat(['yes', 'no', 'maybe'], [2, 3, 4])"
   ]
  }
 ],
 "metadata": {
  "jupytext": {
   "notebook_metadata_filter": "all,-language_info",
   "split_at_heading": true
  },
  "kernelspec": {
   "display_name": "Python (Pyodide)",
   "name": "python"
  },
  "orphan": true
 },
 "nbformat": 4,
 "nbformat_minor": 5
}
