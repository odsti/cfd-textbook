{
 "cells": [
  {
   "cell_type": "markdown",
   "id": "debaaa0a",
   "metadata": {},
   "source": [
    "# Numpy repeat\n",
    "\n",
    "Numpy has a very useful `repeat` function that has the effect of repeating elements to build up arrays."
   ]
  },
  {
   "cell_type": "code",
   "execution_count": null,
   "id": "89e1f4ee",
   "metadata": {},
   "outputs": [],
   "source": [
    "import numpy as np"
   ]
  },
  {
   "cell_type": "markdown",
   "id": "76798dae",
   "metadata": {},
   "source": [
    "In the simplest case, you can repeat a single element $n$ times.   For example, to make a new array that repeats the number 3 five times:"
   ]
  },
  {
   "cell_type": "code",
   "execution_count": null,
   "id": "e9c8eff7",
   "metadata": {},
   "outputs": [],
   "source": [
    "np.repeat(3, 5)"
   ]
  },
  {
   "cell_type": "markdown",
   "id": "9c0de68b",
   "metadata": {},
   "source": [
    "Of course there are other ways to do that particular task, such as:"
   ]
  },
  {
   "cell_type": "code",
   "execution_count": null,
   "id": "f0306307",
   "metadata": {},
   "outputs": [],
   "source": [
    "np.zeros(5) + 3"
   ]
  },
  {
   "cell_type": "markdown",
   "id": "07c529d6",
   "metadata": {},
   "source": [
    "However, `np.repeat` starts becoming more useful in slightly more complicated cases.  For example, to make an array that contains four repeats of the string `'yes'`:"
   ]
  },
  {
   "cell_type": "code",
   "execution_count": null,
   "id": "839f75f6",
   "metadata": {},
   "outputs": [],
   "source": [
    "np.repeat('yes', 4)"
   ]
  },
  {
   "cell_type": "markdown",
   "id": "9bc95ef8",
   "metadata": {},
   "source": [
    "`np.repeat` really starts coming into its own when you want to repeat more than one element.   For example, let us say that, for some reason, you wanted an array that repeated 3 five times followed by 2 five times.  In that case you send the two elements you want to be repeated as the first argument, and the number of repeats as the second:"
   ]
  },
  {
   "cell_type": "code",
   "execution_count": null,
   "id": "750d77a0",
   "metadata": {},
   "outputs": [],
   "source": [
    "np.repeat([3, 2], 5)"
   ]
  },
  {
   "cell_type": "markdown",
   "id": "0bdbff8d",
   "metadata": {},
   "source": [
    "You can also specify the number of repeats *for each element*.  For example, say you wanted 10 five times and 20 eight times:"
   ]
  },
  {
   "cell_type": "code",
   "execution_count": null,
   "id": "fd23861d",
   "metadata": {},
   "outputs": [],
   "source": [
    "# 10 repeated 5 times followed by 20 repeated 8 times.\n",
    "np.repeat([10, 20], [5, 8])"
   ]
  },
  {
   "cell_type": "markdown",
   "id": "9b7232b2",
   "metadata": {},
   "source": [
    "Or `'yes'` repeated four times followed by `'no'` repeated six times:"
   ]
  },
  {
   "cell_type": "code",
   "execution_count": null,
   "id": "93ff795f",
   "metadata": {},
   "outputs": [],
   "source": [
    "# 'yes' repeated 4 times followed by 'no' repeated 6 times.\n",
    "np.repeat(['yes', 'no'], [4, 6])"
   ]
  },
  {
   "cell_type": "markdown",
   "id": "5a2e66a3",
   "metadata": {},
   "source": [
    "You can specify more than two elements, and give numbers of repeats to each element:"
   ]
  },
  {
   "cell_type": "code",
   "execution_count": null,
   "id": "08d34b5a",
   "metadata": {},
   "outputs": [],
   "source": [
    "# 'yes' repeated 2 times followed by 'no' repeated 3 times,\n",
    "# followed by 'maybe' repeated 4 times.\n",
    "np.repeat(['yes', 'no', 'maybe'], [2, 3, 4])"
   ]
  }
 ],
 "metadata": {
  "jupytext": {
   "notebook_metadata_filter": "all,-language_info",
   "split_at_heading": true
  },
  "kernelspec": {
   "display_name": "Python (Pyodide)",
   "name": "python"
  },
  "orphan": true
 },
 "nbformat": 4,
 "nbformat_minor": 5
}
