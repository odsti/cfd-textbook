{
 "cells": [
  {
   "cell_type": "markdown",
   "id": "a30f3d41",
   "metadata": {},
   "source": [
    "# Using minimize\n",
    "\n",
    "We have already used the `minimize` function a few times:"
   ]
  },
  {
   "cell_type": "code",
   "execution_count": null,
   "id": "dd0d263a",
   "metadata": {},
   "outputs": [],
   "source": [
    "from scipy.optimize import minimize"
   ]
  },
  {
   "cell_type": "markdown",
   "id": "de880acb",
   "metadata": {},
   "source": [
    "Now we pause to look at how it works, and how best to use it.\n",
    "\n",
    "Let's go back to the problem from [finding lines](finding_lines):"
   ]
  },
  {
   "cell_type": "code",
   "execution_count": null,
   "id": "12f7461a",
   "metadata": {},
   "outputs": [],
   "source": [
    "# Our usual imports and configuration.\n",
    "import numpy as np\n",
    "import pandas as pd\n",
    "pd.set_option('mode.copy_on_write', True)\n",
    "import matplotlib.pyplot as plt\n",
    "# Make plots look a little bit more fancy\n",
    "plt.style.use('fivethirtyeight')"
   ]
  },
  {
   "cell_type": "markdown",
   "id": "97c6aaa7",
   "metadata": {},
   "source": [
    "We used the [students ratings dataset](data/rate_my_professors) dataset.\n",
    "Download the data file via\n",
    "{download}`rate_my_course.csv <data/rate_my_course.csv>`.\n",
    "\n",
    "We were looking for the best slope to relate the Easiness ratings to the\n",
    "Overall Quality ratings."
   ]
  },
  {
   "cell_type": "code",
   "execution_count": null,
   "id": "c06fca72",
   "metadata": {},
   "outputs": [],
   "source": [
    "# Read the data file, get columns as arrays.\n",
    "ratings = pd.read_csv('data/rate_my_course.csv')\n",
    "easiness = np.array(ratings['Easiness'])\n",
    "quality = np.array(ratings['Overall Quality'])\n",
    "plt.plot(easiness, quality, 'o')\n",
    "plt.xlabel('Easiness')\n",
    "plt.ylabel('Overall quality')"
   ]
  },
  {
   "cell_type": "markdown",
   "id": "4c45df8a",
   "metadata": {},
   "source": [
    "Here is the function we used to calculate root means squared error (RMSE),\n",
    "adapted for `minimize`."
   ]
  },
  {
   "cell_type": "code",
   "execution_count": null,
   "id": "10677787",
   "metadata": {},
   "outputs": [],
   "source": [
    "def calc_rmse_for_minimize(c_s):\n",
    "    # c_s has two elements, the intercept c and the slope s.\n",
    "    c = c_s[0]\n",
    "    s = c_s[1]\n",
    "    predicted_quality = c + easiness * s\n",
    "    errors = quality - predicted_quality\n",
    "    return np.sqrt(np.mean(errors ** 2))"
   ]
  },
  {
   "cell_type": "markdown",
   "id": "b022be6b",
   "metadata": {},
   "source": [
    "We called `minimize` to find the best intercept and slope:"
   ]
  },
  {
   "cell_type": "code",
   "execution_count": null,
   "id": "9730bab5",
   "metadata": {},
   "outputs": [],
   "source": [
    "min_res = minimize(calc_rmse_for_minimize, [2.25, 0.47])\n",
    "min_res"
   ]
  },
  {
   "cell_type": "markdown",
   "id": "5d958dab",
   "metadata": {},
   "source": [
    "## The result of `minimize`\n",
    "\n",
    "Notice the thing that `minimize` returns is a special kind of thing that stores\n",
    "information about the result:"
   ]
  },
  {
   "cell_type": "code",
   "execution_count": null,
   "id": "f619d6ae",
   "metadata": {},
   "outputs": [],
   "source": [
    "# The value that comes back is a special thing to contain minimize results:\n",
    "type(min_res)"
   ]
  },
  {
   "cell_type": "markdown",
   "id": "e5895ce4",
   "metadata": {},
   "source": [
    "Among the interesting thing that the results contain is the attribute `fun`.\n",
    "This value is the final minimal value of the function we are trying to minimize\n",
    "— here the RMSE given an intercept and slope:"
   ]
  },
  {
   "cell_type": "code",
   "execution_count": null,
   "id": "fb2a260b",
   "metadata": {},
   "outputs": [],
   "source": [
    "# The minimal value that `minimize` could find for our function.\n",
    "min_res.fun"
   ]
  },
  {
   "cell_type": "markdown",
   "id": "b83d6a3e",
   "metadata": {},
   "source": [
    "We also have an array with the values for the intercept and slope that give the minimal value:"
   ]
  },
  {
   "cell_type": "code",
   "execution_count": null,
   "id": "59a6abed",
   "metadata": {},
   "outputs": [],
   "source": [
    "min_res.x"
   ]
  },
  {
   "cell_type": "markdown",
   "id": "89757a51",
   "metadata": {},
   "source": [
    "We confirm that `min_res.fun` is indeed the value we get from our function given the intercept, slope array in `min_res.x`:"
   ]
  },
  {
   "cell_type": "code",
   "execution_count": null,
   "id": "3197aabe",
   "metadata": {},
   "outputs": [],
   "source": [
    "calc_rmse_for_minimize(min_res.x)"
   ]
  },
  {
   "cell_type": "markdown",
   "id": "2095aa61",
   "metadata": {},
   "source": [
    "## The function to minimize\n",
    "\n",
    "`calc_rmse_for_minimize` is a *function*:"
   ]
  },
  {
   "cell_type": "code",
   "execution_count": null,
   "id": "cba182b2",
   "metadata": {},
   "outputs": [],
   "source": [
    "type(calc_rmse_for_minimize)"
   ]
  },
  {
   "cell_type": "markdown",
   "id": "8087c930",
   "metadata": {},
   "source": [
    "We pass the function to `minimize` as an argument for it to use.\n",
    "\n",
    "We can call the function we pass to `minimize` — the *objective function* — in\n",
    "the sense that our objective is to minimize this function.\n",
    "\n",
    "How is `minimize` using our objective function?   Clearly `minimize` is\n",
    "[calling](Calls) the function, but what arguments is it\n",
    "sending?  How many times does it call the function?\n",
    "\n",
    "To find out, we can stick something inside the objective function to tell us\n",
    "each time it is called:"
   ]
  },
  {
   "cell_type": "code",
   "execution_count": null,
   "id": "23dbcf22",
   "metadata": {},
   "outputs": [],
   "source": [
    "def rmse_func_for_info(c_s):\n",
    "    # Print the argument that minimize sent.\n",
    "    print('Called with', c_s, 'of type', type(c_s))\n",
    "    # The rest of the function is the same as the original above.\n",
    "    # c_s has two elements, the intercept c and the slope s.\n",
    "    c = c_s[0]\n",
    "    s = c_s[1]\n",
    "    predicted_quality = c + easiness * s\n",
    "    errors = quality - predicted_quality\n",
    "    return np.sqrt(np.mean(errors ** 2))"
   ]
  },
  {
   "cell_type": "markdown",
   "id": "c82a4a0b",
   "metadata": {},
   "source": [
    "The we call `minimize` with the new objective function:"
   ]
  },
  {
   "cell_type": "code",
   "execution_count": null,
   "id": "9b19e5b2",
   "metadata": {},
   "outputs": [],
   "source": [
    "min_res = minimize(rmse_func_for_info, [2.25, 0.47])\n",
    "min_res"
   ]
  },
  {
   "cell_type": "markdown",
   "id": "c83152a3",
   "metadata": {},
   "source": [
    "This shows that:\n",
    "\n",
    "* `minimize` calls our function multiple times, as it searches for the values\n",
    "  of intercept and slope giving the minimum RMSE.\n",
    "* At each call, it passes a single argument that is an *array* containing the\n",
    "  two values (intercept and slope).\n",
    "\n",
    "Looking carefully, we see signs that `minimize` is trying small changes in the\n",
    "slope or intercept, presumably to calculate the gradient — as we saw in the\n",
    "[optimization](optimization) page — but that is not our concern here.\n",
    "\n",
    "The values in the array that `minimize` passes are the *parameters* that\n",
    "minimize is trying to optimize — in our case, the intercept and slope.  Call\n",
    "this the *parameter array*."
   ]
  },
  {
   "cell_type": "markdown",
   "id": "89857662",
   "metadata": {},
   "source": [
    "## Tricks for using minimize\n",
    "\n",
    "(unpacking)="
   ]
  },
  {
   "cell_type": "markdown",
   "id": "6545956f",
   "metadata": {},
   "source": [
    "### Unpacking\n",
    "\n",
    "Near the top of our function, we have these two lines of code:\n",
    "\n",
    "```\n",
    "    c = c_s[0]\n",
    "    s = c_s[1]\n",
    "```\n",
    "\n",
    "This is where we take set the intercept from the first value of the *parameter\n",
    "array*, and the slope from the second.\n",
    "\n",
    "It turns out there is neat and versatile way of doing this in Python, called\n",
    "*unpacking*.   Consider this array:"
   ]
  },
  {
   "cell_type": "code",
   "execution_count": null,
   "id": "0f1318ae",
   "metadata": {},
   "outputs": [],
   "source": [
    "c_s = np.array([2, 1])"
   ]
  },
  {
   "cell_type": "markdown",
   "id": "98152cdc",
   "metadata": {},
   "source": [
    "We can *unpack* these two values into variables like this:"
   ]
  },
  {
   "cell_type": "code",
   "execution_count": null,
   "id": "1165ed3b",
   "metadata": {},
   "outputs": [],
   "source": [
    "# Unpacking!\n",
    "c, s = c_s"
   ]
  },
  {
   "cell_type": "markdown",
   "id": "3fe50859",
   "metadata": {},
   "source": [
    "The right hand side contains two values (in an array).  The left hand side has\n",
    "two variable names, separated by a comma.  Python take the two values from the right hand side, and puts them into the variables on the left:"
   ]
  },
  {
   "cell_type": "code",
   "execution_count": null,
   "id": "7d138f10",
   "metadata": {},
   "outputs": [],
   "source": [
    "print('c is', c)\n",
    "print('s_is', s)"
   ]
  },
  {
   "cell_type": "markdown",
   "id": "7aa4f50a",
   "metadata": {},
   "source": [
    "The thing on the right hand side can be anything that is a sequence of two things.  For example, it can also be a list:"
   ]
  },
  {
   "cell_type": "code",
   "execution_count": null,
   "id": "29c32215",
   "metadata": {},
   "outputs": [],
   "source": [
    "my_list = [6, 7]\n",
    "my_var1, my_var2 = my_list\n",
    "print('my_var1 is', my_var1)\n",
    "print('my_var2 is', my_var2)"
   ]
  },
  {
   "cell_type": "markdown",
   "id": "e8061dbe",
   "metadata": {},
   "source": [
    "There can be three or four or any other number of variables on the left, as long as there is a matching number of elements in the thing on the right:"
   ]
  },
  {
   "cell_type": "code",
   "execution_count": null,
   "id": "15428e90",
   "metadata": {},
   "outputs": [],
   "source": [
    "list2 = [10, 100, 10000]\n",
    "w, x, y = list2\n",
    "print('w is', w)\n",
    "print('x is', x)\n",
    "print('y is', y)"
   ]
  },
  {
   "cell_type": "markdown",
   "id": "0784e492",
   "metadata": {},
   "source": [
    "The number of elements must match the number of variables:"
   ]
  },
  {
   "cell_type": "code",
   "execution_count": null,
   "id": "31fc50f7",
   "metadata": {
    "tags": [
     "raises-exception"
    ]
   },
   "outputs": [],
   "source": [
    "# Error - three variables on the left, two elements on the right.\n",
    "p, q, r = [1, 2]"
   ]
  },
  {
   "cell_type": "markdown",
   "id": "1587ef06",
   "metadata": {},
   "source": [
    "### Using unpacking in minimize\n",
    "\n",
    "Unpacking has two good uses with `minimize`.  The first is that we can make our function to minimize a little neater:"
   ]
  },
  {
   "cell_type": "code",
   "execution_count": null,
   "id": "788b7d01",
   "metadata": {},
   "outputs": [],
   "source": [
    "def rmse_with_unpacking(c_s):\n",
    "    # c_s has two elements, the intercept c and the slope s.\n",
    "    # Use unpacking!\n",
    "    c, s = c_s\n",
    "    predicted_quality = c + easiness * s\n",
    "    errors = quality - predicted_quality\n",
    "    return np.sqrt(np.mean(errors ** 2))"
   ]
  },
  {
   "cell_type": "markdown",
   "id": "b4d89d4b",
   "metadata": {},
   "source": [
    "The second is, we can use unpacking to — er — unpack the best fit intercept and\n",
    "slope from the result of `minimize`.  Remember, `minimize` returns a result\n",
    "value, that includes an array `x` with the parameters minimizing our function:"
   ]
  },
  {
   "cell_type": "code",
   "execution_count": null,
   "id": "f2e63052",
   "metadata": {},
   "outputs": [],
   "source": [
    "m_r = minimize(rmse_with_unpacking, [2.25, 0.47])\n",
    "m_r"
   ]
  },
  {
   "cell_type": "markdown",
   "id": "b94c7447",
   "metadata": {},
   "source": [
    "We can get the best-fit intercept and slope values by unpacking:"
   ]
  },
  {
   "cell_type": "code",
   "execution_count": null,
   "id": "fbf79e1d",
   "metadata": {},
   "outputs": [],
   "source": [
    "best_c, best_s = m_r.x\n",
    "print(best_c)\n",
    "print(best_s)"
   ]
  },
  {
   "cell_type": "markdown",
   "id": "47b8130f",
   "metadata": {},
   "source": [
    "### Other arguments to our function"
   ]
  },
  {
   "cell_type": "markdown",
   "id": "5d0b8df2",
   "metadata": {},
   "source": [
    "At the moment, using `minimize` is a little inconvenient, because we have to make a separate cost (objective) function for each set of x and y values.\n",
    "\n",
    "Here is our new, neater cost function to find the best slope and intercept for `easiness` and `quality`:"
   ]
  },
  {
   "cell_type": "code",
   "execution_count": null,
   "id": "7a97fdf8",
   "metadata": {},
   "outputs": [],
   "source": [
    "def cost_easy_quality(c_s):\n",
    "    # c_s has two elements, the intercept c and the slope s.\n",
    "    c, s = c_s\n",
    "    predicted_quality = c + easiness * s\n",
    "    errors = quality - predicted_quality\n",
    "    return np.sqrt(np.mean(errors ** 2))"
   ]
  },
  {
   "cell_type": "markdown",
   "id": "e5767d99",
   "metadata": {},
   "source": [
    "We find the intercept and slope — and get the usual values."
   ]
  },
  {
   "cell_type": "code",
   "execution_count": null,
   "id": "4ff71339",
   "metadata": {},
   "outputs": [],
   "source": [
    "# Show the best intercept and slope for easiness and quality.\n",
    "minimize(cost_easy_quality, [2.25, 0.47]).x"
   ]
  },
  {
   "cell_type": "markdown",
   "id": "5395221b",
   "metadata": {},
   "source": [
    "Now let's imagine we are interested in the relationship of `easiness` and `clarity`:"
   ]
  },
  {
   "cell_type": "code",
   "execution_count": null,
   "id": "825cbcda",
   "metadata": {},
   "outputs": [],
   "source": [
    "clarity = np.array(ratings['Overall Quality'])\n",
    "clarity[:10]"
   ]
  },
  {
   "cell_type": "markdown",
   "id": "b6e2c234",
   "metadata": {},
   "source": [
    "Notice that our `cost_easy_quality` function uses the top-level notebook\n",
    "variables `easiness` and `quality` within the function.  It can only work on\n",
    "these variables, and no others.  So, if we want to get the slope and intercept\n",
    "for `easiness` and `clarity`, instead of `easiness` and `quality`, we have to\n",
    "write another almost-identical function, like this:"
   ]
  },
  {
   "cell_type": "code",
   "execution_count": null,
   "id": "7c40b1c4",
   "metadata": {},
   "outputs": [],
   "source": [
    "def cost_easy_clarity(c_s):\n",
    "    # c_s has two elements, the intercept c and the slope s.\n",
    "    c, s = c_s\n",
    "    predicted_clarity = c + easiness * s\n",
    "    errors = clarity - predicted_clarity\n",
    "    return np.sqrt(np.mean(errors ** 2))"
   ]
  },
  {
   "cell_type": "code",
   "execution_count": null,
   "id": "af522e45",
   "metadata": {},
   "outputs": [],
   "source": [
    "# Show the best intercept and slope for easiness and clarity.\n",
    "minimize(cost_easy_clarity, [2.25, 0.47]).x"
   ]
  },
  {
   "cell_type": "markdown",
   "id": "945d63b5",
   "metadata": {},
   "source": [
    "How can we avoid writing such near-identical functions for each set of x and y values for which we want a best-fit line?\n"
   ]
  },
  {
   "cell_type": "markdown",
   "id": "1e791104",
   "metadata": {},
   "source": [
    "## Generalizing the cost-function with the args argument\n",
    "\n",
    "Inspect the help for `minimize` with `minimize?`.   You will notice that there\n",
    "is an argument we can pass to `minimize` called `args`.  These are \"Extra\n",
    "arguments passed to the objective function\".  In fact, this is very useful to\n",
    "make our objective function more general.  First we try this silly use of\n",
    "`args` where we will pass a couple of useless bits of text to our objective\n",
    "function:"
   ]
  },
  {
   "cell_type": "code",
   "execution_count": null,
   "id": "24c9b687",
   "metadata": {},
   "outputs": [],
   "source": [
    "def rmse_with_extra_args(c_s, v1, v2):\n",
    "    # An objective function with some useless extra arguments.\n",
    "    print('c_s is', c_s, '; v1 is', v1, '; v2 is', v2)\n",
    "    c, s = c_s\n",
    "    predicted_quality = c + easiness * s\n",
    "    errors = quality - predicted_quality\n",
    "    return np.sqrt(np.mean(errors ** 2))"
   ]
  },
  {
   "cell_type": "markdown",
   "id": "75d46fa7",
   "metadata": {},
   "source": [
    "Now we tell `minimize` to pass some value for `v1` and `v2` for every call to\n",
    "the objective function. We do that by passing `v1` and `v2` inside a *tuple*. A\n",
    "*tuple* is a data type in Python that is much like a list, in that it contains\n",
    "sequences of values, we create tuples using parentheses `()` rather than square\n",
    "brackets.\n",
    "\n",
    "Here is our argument tuple:"
   ]
  },
  {
   "cell_type": "code",
   "execution_count": null,
   "id": "067ae7f5",
   "metadata": {},
   "outputs": [],
   "source": [
    "v1 = 'Doctor'\n",
    "v2 = 'Strange'\n",
    "# Make the argument tuple. Notice the parentheses.\n",
    "extras = (v1, v2)\n",
    "extras"
   ]
  },
  {
   "cell_type": "markdown",
   "id": "b82db00b",
   "metadata": {},
   "source": [
    "Here we pass the argument tuple to `minimize`, to ask `minimize` to pass these\n",
    "extra arguments to the objective function, each time it calls the function:\n"
   ]
  },
  {
   "cell_type": "code",
   "execution_count": null,
   "id": "e393fe85",
   "metadata": {},
   "outputs": [],
   "source": [
    "# args has two values, one that becomes \"v1\" and the other that becomes \"v2\".\n",
    "minimize(rmse_with_extra_args, [2.25, 0.47], args=extras)"
   ]
  },
  {
   "cell_type": "markdown",
   "id": "4ac6bae2",
   "metadata": {},
   "source": [
    "To be more compact, we can assemble and pass the `args` argument in one go:"
   ]
  },
  {
   "cell_type": "code",
   "execution_count": null,
   "id": "c0fb9f7b",
   "metadata": {},
   "outputs": [],
   "source": [
    "# Compiling and passing args in one line.\n",
    "minimize(rmse_with_extra_args, [2.25, 0.47], args=('Doctor', 'Strange'))"
   ]
  },
  {
   "cell_type": "markdown",
   "id": "2421e607",
   "metadata": {},
   "source": [
    "Notice that, each time `minimize` calls `rmse_with_extra_args` it passes the\n",
    "first value of `args` as the second argument to the objective function (`v1`)\n",
    "and the second value of `args` as the third argument to the objective function\n",
    "(`v2`).\n",
    "\n",
    "`args` is the solution to our problem of near-identical functions for different\n",
    "x and y values - we can use `args` to pass the `x` and `y` values for our\n",
    "function to work on:"
   ]
  },
  {
   "cell_type": "code",
   "execution_count": null,
   "id": "b22b2e99",
   "metadata": {},
   "outputs": [],
   "source": [
    "def rmse_any_line(c_s, x_values, y_values):\n",
    "    c, s = c_s\n",
    "    predicted = c + x_values * s\n",
    "    errors = y_values - predicted\n",
    "    return np.sqrt(np.mean(errors ** 2))"
   ]
  },
  {
   "cell_type": "markdown",
   "id": "4abe4773",
   "metadata": {},
   "source": [
    "Now we can use the same objective function for any pair of `x` and `y` values:"
   ]
  },
  {
   "cell_type": "code",
   "execution_count": null,
   "id": "9c17e12a",
   "metadata": {},
   "outputs": [],
   "source": [
    "minimize(rmse_any_line, [2.25, 0.47], args=(easiness, quality))"
   ]
  },
  {
   "cell_type": "code",
   "execution_count": null,
   "id": "f9d9e6f3",
   "metadata": {},
   "outputs": [],
   "source": [
    "minimize(rmse_any_line, [2.25, 0.47], args=(easiness, clarity))"
   ]
  }
 ],
 "metadata": {
  "jupytext": {
   "notebook_metadata_filter": "all,-language_info",
   "split_at_heading": true
  },
  "kernelspec": {
   "display_name": "Python (Pyodide)",
   "name": "python"
  }
 },
 "nbformat": 4,
 "nbformat_minor": 5
}
