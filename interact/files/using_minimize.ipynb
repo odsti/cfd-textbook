{
 "cells": [
  {
   "cell_type": "markdown",
   "id": "49aa4146",
   "metadata": {},
   "source": [
    "# Using minimize\n",
    "\n",
    "We have already used the `minimize` function a few times:"
   ]
  },
  {
   "cell_type": "code",
   "execution_count": null,
   "id": "eaa17eec",
   "metadata": {},
   "outputs": [],
   "source": [
    "from scipy.optimize import minimize"
   ]
  },
  {
   "cell_type": "markdown",
   "id": "2313a4c9",
   "metadata": {},
   "source": [
    "Now we pause to look at how it works, and how best to use it.\n",
    "\n",
    "Let's go back to the problem from [finding lines](finding_lines):"
   ]
  },
  {
   "cell_type": "code",
   "execution_count": null,
   "id": "77d4dcf8",
   "metadata": {},
   "outputs": [],
   "source": [
    "# Our usual imports and configuration.\n",
    "import numpy as np\n",
    "import pandas as pd\n",
    "pd.set_option('mode.copy_on_write', True)\n",
    "import matplotlib.pyplot as plt\n",
    "# Make plots look a little bit more fancy\n",
    "plt.style.use('fivethirtyeight')"
   ]
  },
  {
   "cell_type": "markdown",
   "id": "53a26bfb",
   "metadata": {},
   "source": [
    "We used the [students ratings dataset](data/rate_my_professors) dataset.\n",
    "Download the data file via\n",
    "{download}`rate_my_course.csv <data/rate_my_course.csv>`.\n",
    "\n",
    "We were looking for the best slope to relate the Easiness ratings to the\n",
    "Overall Quality ratings."
   ]
  },
  {
   "cell_type": "code",
   "execution_count": null,
   "id": "8d2411f7",
   "metadata": {},
   "outputs": [],
   "source": [
    "# Read the data file, get columns as arrays.\n",
    "ratings = pd.read_csv('data/rate_my_course.csv')\n",
    "easiness = np.array(ratings['Easiness'])\n",
    "quality = np.array(ratings['Overall Quality'])\n",
    "plt.plot(easiness, quality, 'o')\n",
    "plt.xlabel('Easiness')\n",
    "plt.ylabel('Overall quality')"
   ]
  },
  {
   "cell_type": "markdown",
   "id": "663759fb",
   "metadata": {},
   "source": [
    "Here is the function we used to calculate root means squared error (RMSE),\n",
    "adapted for `minimize`."
   ]
  },
  {
   "cell_type": "code",
   "execution_count": null,
   "id": "697a8271",
   "metadata": {},
   "outputs": [],
   "source": [
    "def calc_rmse_for_minimize(c_s):\n",
    "    # c_s has two elements, the intercept c and the slope s.\n",
    "    c = c_s[0]\n",
    "    s = c_s[1]\n",
    "    predicted_quality = c + easiness * s\n",
    "    errors = quality - predicted_quality\n",
    "    return np.sqrt(np.mean(errors ** 2))"
   ]
  },
  {
   "cell_type": "markdown",
   "id": "74b49532",
   "metadata": {},
   "source": [
    "We called `minimize` to find the best intercept and slope:"
   ]
  },
  {
   "cell_type": "code",
   "execution_count": null,
   "id": "6ab9d33b",
   "metadata": {},
   "outputs": [],
   "source": [
    "min_res = minimize(calc_rmse_for_minimize, [2.25, 0.47])\n",
    "min_res"
   ]
  },
  {
   "cell_type": "markdown",
   "id": "0d03d6d2",
   "metadata": {},
   "source": [
    "## The result of `minimize`\n",
    "\n",
    "Notice the thing that `minimize` returns is a special kind of thing that stores\n",
    "information about the result:"
   ]
  },
  {
   "cell_type": "code",
   "execution_count": null,
   "id": "143bbbbd",
   "metadata": {},
   "outputs": [],
   "source": [
    "# The value that comes back is a special thing to contain minimize results:\n",
    "type(min_res)"
   ]
  },
  {
   "cell_type": "markdown",
   "id": "39387315",
   "metadata": {},
   "source": [
    "Among the interesting thing that the results contain is the attribute `fun`.\n",
    "This value is the final minimal value of the function we are trying to minimize\n",
    "— here the RMSE given an intercept and slope:"
   ]
  },
  {
   "cell_type": "code",
   "execution_count": null,
   "id": "f093d57c",
   "metadata": {},
   "outputs": [],
   "source": [
    "# The minimal value that `minimize` could find for our function.\n",
    "min_res.fun"
   ]
  },
  {
   "cell_type": "markdown",
   "id": "d864b760",
   "metadata": {},
   "source": [
    "We also have an array with the values for the intercept and slope that give the minimal value:"
   ]
  },
  {
   "cell_type": "code",
   "execution_count": null,
   "id": "56b40bb7",
   "metadata": {},
   "outputs": [],
   "source": [
    "min_res.x"
   ]
  },
  {
   "cell_type": "markdown",
   "id": "5626bb4e",
   "metadata": {},
   "source": [
    "We confirm that `min_res.fun` is indeed the value we get from our function given the intercept, slope array in `min_res.x`:"
   ]
  },
  {
   "cell_type": "code",
   "execution_count": null,
   "id": "5ae20f67",
   "metadata": {},
   "outputs": [],
   "source": [
    "calc_rmse_for_minimize(min_res.x)"
   ]
  },
  {
   "cell_type": "markdown",
   "id": "0a5ccf08",
   "metadata": {},
   "source": [
    "## The function to minimize\n",
    "\n",
    "`calc_rmse_for_minimize` is a *function*:"
   ]
  },
  {
   "cell_type": "code",
   "execution_count": null,
   "id": "ae849822",
   "metadata": {},
   "outputs": [],
   "source": [
    "type(calc_rmse_for_minimize)"
   ]
  },
  {
   "cell_type": "markdown",
   "id": "13eee476",
   "metadata": {},
   "source": [
    "We pass the function to `minimize` as an argument for it to use.\n",
    "\n",
    "We can call the function we pass to `minimize` — the *objective function* — in\n",
    "the sense that our objective is to minimize this function.\n",
    "\n",
    "How is `minimize` using our objective function?   Clearly `minimize` is\n",
    "[calling](Calls) the function, but what arguments is it\n",
    "sending?  How many times does it call the function?\n",
    "\n",
    "To find out, we can stick something inside the objective function to tell us\n",
    "each time it is called:"
   ]
  },
  {
   "cell_type": "code",
   "execution_count": null,
   "id": "e9bf60da",
   "metadata": {},
   "outputs": [],
   "source": [
    "def rmse_func_for_info(c_s):\n",
    "    # Print the argument that minimize sent.\n",
    "    print('Called with', c_s, 'of type', type(c_s))\n",
    "    # The rest of the function is the same as the original above.\n",
    "    # c_s has two elements, the intercept c and the slope s.\n",
    "    c = c_s[0]\n",
    "    s = c_s[1]\n",
    "    predicted_quality = c + easiness * s\n",
    "    errors = quality - predicted_quality\n",
    "    return np.sqrt(np.mean(errors ** 2))"
   ]
  },
  {
   "cell_type": "markdown",
   "id": "8ea03876",
   "metadata": {},
   "source": [
    "The we call `minimize` with the new objective function:"
   ]
  },
  {
   "cell_type": "code",
   "execution_count": null,
   "id": "af0846be",
   "metadata": {},
   "outputs": [],
   "source": [
    "min_res = minimize(rmse_func_for_info, [2.25, 0.47])\n",
    "min_res"
   ]
  },
  {
   "cell_type": "markdown",
   "id": "57b7a964",
   "metadata": {},
   "source": [
    "This shows that:\n",
    "\n",
    "* `minimize` calls our function multiple times, as it searches for the values\n",
    "  of intercept and slope giving the minimum RMSE.\n",
    "* At each call, it passes a single argument that is an *array* containing the\n",
    "  two values (intercept and slope).\n",
    "\n",
    "Looking carefully, we see signs that `minimize` is trying small changes in the\n",
    "slope or intercept, presumably to calculate the gradient — as we saw in the\n",
    "[optimization](optimization) page — but that is not our concern here.\n",
    "\n",
    "The values in the array that `minimize` passes are the *parameters* that\n",
    "minimize is trying to optimize — in our case, the intercept and slope.  Call\n",
    "this the *parameter array*."
   ]
  },
  {
   "cell_type": "markdown",
   "id": "ac8d3b8c",
   "metadata": {},
   "source": [
    "## Tricks for using minimize\n",
    "\n",
    "(unpacking)="
   ]
  },
  {
   "cell_type": "markdown",
   "id": "68c90b7a",
   "metadata": {},
   "source": [
    "### Unpacking\n",
    "\n",
    "Near the top of our function, we have these two lines of code:\n",
    "\n",
    "```\n",
    "    c = c_s[0]\n",
    "    s = c_s[1]\n",
    "```\n",
    "\n",
    "This is where we take set the intercept from the first value of the *parameter\n",
    "array*, and the slope from the second.\n",
    "\n",
    "It turns out there is neat and versatile way of doing this in Python, called\n",
    "*unpacking*.   Consider this array:"
   ]
  },
  {
   "cell_type": "code",
   "execution_count": null,
   "id": "0b173596",
   "metadata": {},
   "outputs": [],
   "source": [
    "c_s = np.array([2, 1])"
   ]
  },
  {
   "cell_type": "markdown",
   "id": "bd5a6c27",
   "metadata": {},
   "source": [
    "We can *unpack* these two values into variables like this:"
   ]
  },
  {
   "cell_type": "code",
   "execution_count": null,
   "id": "d4d43a91",
   "metadata": {},
   "outputs": [],
   "source": [
    "# Unpacking!\n",
    "c, s = c_s"
   ]
  },
  {
   "cell_type": "markdown",
   "id": "d0ef91c9",
   "metadata": {},
   "source": [
    "The right hand side contains two values (in an array).  The left hand side has\n",
    "two variable names, separated by a comma.  Python take the two values from the right hand side, and puts them into the variables on the left:"
   ]
  },
  {
   "cell_type": "code",
   "execution_count": null,
   "id": "4d0e64a0",
   "metadata": {},
   "outputs": [],
   "source": [
    "print('c is', c)\n",
    "print('s_is', s)"
   ]
  },
  {
   "cell_type": "markdown",
   "id": "6999ce27",
   "metadata": {},
   "source": [
    "The thing on the right hand side can be anything that is a sequence of two things.  For example, it can also be a list:"
   ]
  },
  {
   "cell_type": "code",
   "execution_count": null,
   "id": "f4099003",
   "metadata": {},
   "outputs": [],
   "source": [
    "my_list = [6, 7]\n",
    "my_var1, my_var2 = my_list\n",
    "print('my_var1 is', my_var1)\n",
    "print('my_var2 is', my_var2)"
   ]
  },
  {
   "cell_type": "markdown",
   "id": "0bf0fbc5",
   "metadata": {},
   "source": [
    "There can be three or four or any other number of variables on the left, as long as there is a matching number of elements in the thing on the right:"
   ]
  },
  {
   "cell_type": "code",
   "execution_count": null,
   "id": "fdcec771",
   "metadata": {},
   "outputs": [],
   "source": [
    "list2 = [10, 100, 10000]\n",
    "w, x, y = list2\n",
    "print('w is', w)\n",
    "print('x is', x)\n",
    "print('y is', y)"
   ]
  },
  {
   "cell_type": "markdown",
   "id": "922a1ded",
   "metadata": {},
   "source": [
    "The number of elements must match the number of variables:"
   ]
  },
  {
   "cell_type": "code",
   "execution_count": null,
   "id": "eeb5d7a2",
   "metadata": {
    "tags": [
     "raises-exception"
    ]
   },
   "outputs": [],
   "source": [
    "# Error - three variables on the left, two elements on the right.\n",
    "p, q, r = [1, 2]"
   ]
  },
  {
   "cell_type": "markdown",
   "id": "12caef38",
   "metadata": {},
   "source": [
    "### Using unpacking in minimize\n",
    "\n",
    "Unpacking has two good uses with `minimize`.  The first is that we can make our function to minimize a little neater:"
   ]
  },
  {
   "cell_type": "code",
   "execution_count": null,
   "id": "304e002f",
   "metadata": {},
   "outputs": [],
   "source": [
    "def rmse_with_unpacking(c_s):\n",
    "    # c_s has two elements, the intercept c and the slope s.\n",
    "    # Use unpacking!\n",
    "    c, s = c_s\n",
    "    predicted_quality = c + easiness * s\n",
    "    errors = quality - predicted_quality\n",
    "    return np.sqrt(np.mean(errors ** 2))"
   ]
  },
  {
   "cell_type": "markdown",
   "id": "18abad3e",
   "metadata": {},
   "source": [
    "The second is, we can use unpacking to — er — unpack the best fit intercept and\n",
    "slope from the result of `minimize`.  Remember, `minimize` returns a result\n",
    "value, that includes an array `x` with the parameters minimizing our function:"
   ]
  },
  {
   "cell_type": "code",
   "execution_count": null,
   "id": "b535709b",
   "metadata": {},
   "outputs": [],
   "source": [
    "m_r = minimize(rmse_with_unpacking, [2.25, 0.47])\n",
    "m_r"
   ]
  },
  {
   "cell_type": "markdown",
   "id": "1eb5999a",
   "metadata": {},
   "source": [
    "We can get the best-fit intercept and slope values by unpacking:"
   ]
  },
  {
   "cell_type": "code",
   "execution_count": null,
   "id": "3b98023a",
   "metadata": {},
   "outputs": [],
   "source": [
    "best_c, best_s = m_r.x\n",
    "print(best_c)\n",
    "print(best_s)"
   ]
  },
  {
   "cell_type": "markdown",
   "id": "a93abc9c",
   "metadata": {},
   "source": [
    "### Other arguments to our function"
   ]
  },
  {
   "cell_type": "markdown",
   "id": "7cfc926c",
   "metadata": {},
   "source": [
    "At the moment, using `minimize` is a little inconvenient, because we have to make a separate cost (objective) function for each set of x and y values.\n",
    "\n",
    "Here is our new, neater cost function to find the best slope and intercept for `easiness` and `quality`:"
   ]
  },
  {
   "cell_type": "code",
   "execution_count": null,
   "id": "d57b152b",
   "metadata": {},
   "outputs": [],
   "source": [
    "def cost_easy_quality(c_s):\n",
    "    # c_s has two elements, the intercept c and the slope s.\n",
    "    c, s = c_s\n",
    "    predicted_quality = c + easiness * s\n",
    "    errors = quality - predicted_quality\n",
    "    return np.sqrt(np.mean(errors ** 2))"
   ]
  },
  {
   "cell_type": "markdown",
   "id": "6e409072",
   "metadata": {},
   "source": [
    "We find the intercept and slope — and get the usual values."
   ]
  },
  {
   "cell_type": "code",
   "execution_count": null,
   "id": "0168159a",
   "metadata": {},
   "outputs": [],
   "source": [
    "# Show the best intercept and slope for easiness and quality.\n",
    "minimize(cost_easy_quality, [2.25, 0.47]).x"
   ]
  },
  {
   "cell_type": "markdown",
   "id": "fd477072",
   "metadata": {},
   "source": [
    "Now let's imagine we are interested in the relationship of `easiness` and `clarity`:"
   ]
  },
  {
   "cell_type": "code",
   "execution_count": null,
   "id": "bc7d8f42",
   "metadata": {},
   "outputs": [],
   "source": [
    "clarity = np.array(ratings['Overall Quality'])\n",
    "clarity[:10]"
   ]
  },
  {
   "cell_type": "markdown",
   "id": "220e5163",
   "metadata": {},
   "source": [
    "Notice that our `cost_easy_quality` function uses the top-level notebook\n",
    "variables `easiness` and `quality` within the function.  It can only work on\n",
    "these variables, and no others.  So, if we want to get the slope and intercept\n",
    "for `easiness` and `clarity`, instead of `easiness` and `quality`, we have to\n",
    "write another almost-identical function, like this:"
   ]
  },
  {
   "cell_type": "code",
   "execution_count": null,
   "id": "21196f2f",
   "metadata": {},
   "outputs": [],
   "source": [
    "def cost_easy_clarity(c_s):\n",
    "    # c_s has two elements, the intercept c and the slope s.\n",
    "    c, s = c_s\n",
    "    predicted_clarity = c + easiness * s\n",
    "    errors = clarity - predicted_clarity\n",
    "    return np.sqrt(np.mean(errors ** 2))"
   ]
  },
  {
   "cell_type": "code",
   "execution_count": null,
   "id": "86dc7ae5",
   "metadata": {},
   "outputs": [],
   "source": [
    "# Show the best intercept and slope for easiness and clarity.\n",
    "minimize(cost_easy_clarity, [2.25, 0.47]).x"
   ]
  },
  {
   "cell_type": "markdown",
   "id": "e65d4d9d",
   "metadata": {},
   "source": [
    "How can we avoid writing such near-identical functions for each set of x and y values for which we want a best-fit line?\n"
   ]
  },
  {
   "cell_type": "markdown",
   "id": "e24017e9",
   "metadata": {},
   "source": [
    "## Generalizing the cost-function with the args argument\n",
    "\n",
    "Inspect the help for `minimize` with `minimize?`.   You will notice that there\n",
    "is an argument we can pass to `minimize` called `args`.  These are \"Extra\n",
    "arguments passed to the objective function\".  In fact, this is very useful to\n",
    "make our objective function more general.  First we try this silly use of\n",
    "`args` where we will pass a couple of useless bits of text to our objective\n",
    "function:"
   ]
  },
  {
   "cell_type": "code",
   "execution_count": null,
   "id": "96b0b064",
   "metadata": {},
   "outputs": [],
   "source": [
    "def rmse_with_extra_args(c_s, v1, v2):\n",
    "    # An objective function with some useless extra arguments.\n",
    "    print('c_s is', c_s, '; v1 is', v1, '; v2 is', v2)\n",
    "    c, s = c_s\n",
    "    predicted_quality = c + easiness * s\n",
    "    errors = quality - predicted_quality\n",
    "    return np.sqrt(np.mean(errors ** 2))"
   ]
  },
  {
   "cell_type": "markdown",
   "id": "a567564a",
   "metadata": {},
   "source": [
    "Now we tell `minimize` to pass some value for `v1` and `v2` for every call to\n",
    "the objective function. We do that by passing `v1` and `v2` inside a *tuple*. A\n",
    "*tuple* is a data type in Python that is much like a list, in that it contains\n",
    "sequences of values, we create tuples using parentheses `()` rather than square\n",
    "brackets.\n",
    "\n",
    "Here is our argument tuple:"
   ]
  },
  {
   "cell_type": "code",
   "execution_count": null,
   "id": "002be1b6",
   "metadata": {},
   "outputs": [],
   "source": [
    "v1 = 'Doctor'\n",
    "v2 = 'Strange'\n",
    "# Make the argument tuple. Notice the parentheses.\n",
    "extras = (v1, v2)\n",
    "extras"
   ]
  },
  {
   "cell_type": "markdown",
   "id": "545e9804",
   "metadata": {},
   "source": [
    "Here we pass the argument tuple to `minimize`, to ask `minimize` to pass these\n",
    "extra arguments to the objective function, each time it calls the function:\n"
   ]
  },
  {
   "cell_type": "code",
   "execution_count": null,
   "id": "11b592c7",
   "metadata": {},
   "outputs": [],
   "source": [
    "# args has two values, one that becomes \"v1\" and the other that becomes \"v2\".\n",
    "minimize(rmse_with_extra_args, [2.25, 0.47], args=extras)"
   ]
  },
  {
   "cell_type": "markdown",
   "id": "3f79a7d3",
   "metadata": {},
   "source": [
    "To be more compact, we can assemble and pass the `args` argument in one go:"
   ]
  },
  {
   "cell_type": "code",
   "execution_count": null,
   "id": "a1f59a94",
   "metadata": {},
   "outputs": [],
   "source": [
    "# Compiling and passing args in one line.\n",
    "minimize(rmse_with_extra_args, [2.25, 0.47], args=('Doctor', 'Strange'))"
   ]
  },
  {
   "cell_type": "markdown",
   "id": "0617923d",
   "metadata": {},
   "source": [
    "Notice that, each time `minimize` calls `rmse_with_extra_args` it passes the\n",
    "first value of `args` as the second argument to the objective function (`v1`)\n",
    "and the second value of `args` as the third argument to the objective function\n",
    "(`v2`).\n",
    "\n",
    "`args` is the solution to our problem of near-identical functions for different\n",
    "x and y values - we can use `args` to pass the `x` and `y` values for our\n",
    "function to work on:"
   ]
  },
  {
   "cell_type": "code",
   "execution_count": null,
   "id": "3fa5c6a5",
   "metadata": {},
   "outputs": [],
   "source": [
    "def rmse_any_line(c_s, x_values, y_values):\n",
    "    c, s = c_s\n",
    "    predicted = c + x_values * s\n",
    "    errors = y_values - predicted\n",
    "    return np.sqrt(np.mean(errors ** 2))"
   ]
  },
  {
   "cell_type": "markdown",
   "id": "eaa1a28c",
   "metadata": {},
   "source": [
    "Now we can use the same objective function for any pair of `x` and `y` values:"
   ]
  },
  {
   "cell_type": "code",
   "execution_count": null,
   "id": "7326d87c",
   "metadata": {},
   "outputs": [],
   "source": [
    "minimize(rmse_any_line, [2.25, 0.47], args=(easiness, quality))"
   ]
  },
  {
   "cell_type": "code",
   "execution_count": null,
   "id": "49df8916",
   "metadata": {},
   "outputs": [],
   "source": [
    "minimize(rmse_any_line, [2.25, 0.47], args=(easiness, clarity))"
   ]
  }
 ],
 "metadata": {
  "jupytext": {
   "notebook_metadata_filter": "all,-language_info",
   "split_at_heading": true
  },
  "kernelspec": {
   "display_name": "Python (Pyodide)",
   "name": "python"
  }
 },
 "nbformat": 4,
 "nbformat_minor": 5
}
