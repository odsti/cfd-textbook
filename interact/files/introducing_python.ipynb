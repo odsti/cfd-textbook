{
 "cells": [
  {
   "cell_type": "markdown",
   "id": "2e0245ac",
   "metadata": {},
   "source": [
    "# Introduction to Python"
   ]
  },
  {
   "cell_type": "markdown",
   "id": "46354692",
   "metadata": {},
   "source": [
    "## Variables\n",
    "\n",
    "Variables are named values."
   ]
  },
  {
   "cell_type": "code",
   "execution_count": null,
   "id": "d6266433",
   "metadata": {},
   "outputs": [],
   "source": [
    "a = 4"
   ]
  },
  {
   "cell_type": "markdown",
   "id": "47a0718c",
   "metadata": {},
   "source": [
    "Read this as:\n",
    "\n",
    "> \"a\" gets the value 4."
   ]
  },
  {
   "cell_type": "code",
   "execution_count": null,
   "id": "7c019b49",
   "metadata": {},
   "outputs": [],
   "source": [
    "b = 6"
   ]
  },
  {
   "cell_type": "markdown",
   "id": "97af739a",
   "metadata": {},
   "source": [
    "> \"b\" gets the value 6."
   ]
  },
  {
   "cell_type": "code",
   "execution_count": null,
   "id": "f3c7379d",
   "metadata": {},
   "outputs": [],
   "source": [
    "a + b"
   ]
  },
  {
   "cell_type": "markdown",
   "id": "619eebe3",
   "metadata": {},
   "source": [
    "You can also *update* variables, as in:"
   ]
  },
  {
   "cell_type": "code",
   "execution_count": null,
   "id": "7e5a8067",
   "metadata": {},
   "outputs": [],
   "source": [
    "a = a + 2\n",
    "a"
   ]
  },
  {
   "cell_type": "markdown",
   "id": "6c736d87",
   "metadata": {},
   "source": [
    "So far we've seen numbers as values, but we can also have bits of text called\n",
    "*strings*.  Strings are bits of text between quotes."
   ]
  },
  {
   "cell_type": "code",
   "execution_count": null,
   "id": "67347641",
   "metadata": {},
   "outputs": [],
   "source": [
    "a = \"Python\"\n",
    "c = \"MATLAB\"\n",
    "z = \" > \""
   ]
  },
  {
   "cell_type": "markdown",
   "id": "88a0aec5",
   "metadata": {},
   "source": [
    "You have seen adding numbers.  We can also add strings.  This as the effect of\n",
    "sticking them together — *concatenating* the strings:"
   ]
  },
  {
   "cell_type": "code",
   "execution_count": null,
   "id": "19b779d6",
   "metadata": {},
   "outputs": [],
   "source": [
    "a + z + c"
   ]
  },
  {
   "cell_type": "markdown",
   "id": "0f99db62",
   "metadata": {},
   "source": [
    "Strings can have apostrophes (`'`) or inverted commas (`\"`) at either end,\n",
    "Python accepts either."
   ]
  },
  {
   "cell_type": "code",
   "execution_count": null,
   "id": "116c2459",
   "metadata": {},
   "outputs": [],
   "source": [
    "first = 'a string'\n",
    "second = \"b string\"\n",
    "first + second"
   ]
  },
  {
   "cell_type": "markdown",
   "id": "20766292",
   "metadata": {},
   "source": [
    "You can even use triple apostrophes or inverted commas at either end; this is\n",
    "useful for when you want to put a new line inside your string:"
   ]
  },
  {
   "cell_type": "code",
   "execution_count": null,
   "id": "561a2920",
   "metadata": {},
   "outputs": [],
   "source": [
    "many_line_string = \"\"\"\n",
    "This string\n",
    "has\n",
    "several\n",
    "lines\n",
    "\"\"\"\n",
    "print(many_line_string)"
   ]
  },
  {
   "cell_type": "markdown",
   "id": "2c00a9fd",
   "metadata": {},
   "source": [
    "Length of a string:"
   ]
  },
  {
   "cell_type": "code",
   "execution_count": null,
   "id": "efa563c8",
   "metadata": {},
   "outputs": [],
   "source": [
    "len(first)"
   ]
  },
  {
   "cell_type": "markdown",
   "id": "e08448c2",
   "metadata": {},
   "source": [
    "Strings and numbers are different:"
   ]
  },
  {
   "cell_type": "code",
   "execution_count": null,
   "id": "877cce07",
   "metadata": {
    "tags": [
     "raises-exception"
    ]
   },
   "outputs": [],
   "source": [
    "number = \"9\"\n",
    "number + 6"
   ]
  },
  {
   "cell_type": "markdown",
   "id": "b7ac255a",
   "metadata": {},
   "source": [
    "We can convert between numbers and strings:"
   ]
  },
  {
   "cell_type": "code",
   "execution_count": null,
   "id": "4121e40c",
   "metadata": {},
   "outputs": [],
   "source": [
    "int(number) + 6\n",
    "str(9)"
   ]
  },
  {
   "cell_type": "markdown",
   "id": "a722cba7",
   "metadata": {},
   "source": [
    "However ..."
   ]
  },
  {
   "cell_type": "code",
   "execution_count": null,
   "id": "9e35c2a6",
   "metadata": {
    "tags": [
     "raises-exception"
    ]
   },
   "outputs": [],
   "source": [
    "number = \"nine\"\n",
    "int(number)"
   ]
  },
  {
   "cell_type": "markdown",
   "id": "125b57e1",
   "metadata": {},
   "source": [
    "## Lists"
   ]
  },
  {
   "cell_type": "code",
   "execution_count": null,
   "id": "836974e5",
   "metadata": {},
   "outputs": [],
   "source": [
    "an_empty_list = []\n",
    "list_with_two_items = [1, 2]\n",
    "items_can_be_diverse = [1, \"Obama\", 4.55]"
   ]
  },
  {
   "cell_type": "code",
   "execution_count": null,
   "id": "0ce1ac28",
   "metadata": {},
   "outputs": [],
   "source": [
    "example_list = []\n",
    "example_list.append(\"experiment1\")\n",
    "example_list"
   ]
  },
  {
   "cell_type": "code",
   "execution_count": null,
   "id": "1ba2a476",
   "metadata": {},
   "outputs": [],
   "source": [
    "example_list[0]"
   ]
  },
  {
   "cell_type": "markdown",
   "id": "a6edc855",
   "metadata": {},
   "source": [
    "The length of a list (or any object that can have a length):"
   ]
  },
  {
   "cell_type": "code",
   "execution_count": null,
   "id": "060faf41",
   "metadata": {},
   "outputs": [],
   "source": [
    "len(example_list)"
   ]
  },
  {
   "cell_type": "code",
   "execution_count": null,
   "id": "d3134c97",
   "metadata": {},
   "outputs": [],
   "source": [
    "example_list.append(\"failed_experiment\")\n",
    "print(example_list)\n",
    "example_list.append(\"failed_experiment\")\n",
    "print(example_list)"
   ]
  },
  {
   "cell_type": "code",
   "execution_count": null,
   "id": "60f2dffc",
   "metadata": {},
   "outputs": [],
   "source": [
    "example_list.pop()"
   ]
  },
  {
   "cell_type": "code",
   "execution_count": null,
   "id": "da7820fe",
   "metadata": {},
   "outputs": [],
   "source": [
    "example_list"
   ]
  },
  {
   "cell_type": "code",
   "execution_count": null,
   "id": "13b9de34",
   "metadata": {},
   "outputs": [],
   "source": [
    "del example_list[0]\n",
    "example_list"
   ]
  },
  {
   "cell_type": "markdown",
   "id": "924c5b8e",
   "metadata": {},
   "source": [
    "`range` in returns a “range object”.  It’s like a list, but isn’t quite a\n",
    "list."
   ]
  },
  {
   "cell_type": "code",
   "execution_count": null,
   "id": "2ef0de8e",
   "metadata": {},
   "outputs": [],
   "source": [
    "range(10)"
   ]
  },
  {
   "cell_type": "markdown",
   "id": "d6fb7ad4",
   "metadata": {},
   "source": [
    "You can make it into a list by using the `list` constructor.  A constructor is\n",
    "like a function, but it creates a new object, in this case a new object of type\n",
    "`list`."
   ]
  },
  {
   "cell_type": "code",
   "execution_count": null,
   "id": "4f48ccc7",
   "metadata": {},
   "outputs": [],
   "source": [
    "list(range(10))"
   ]
  },
  {
   "cell_type": "markdown",
   "id": "370e78e2",
   "metadata": {},
   "source": [
    "You can also set the start element for `range`:"
   ]
  },
  {
   "cell_type": "code",
   "execution_count": null,
   "id": "6b87843f",
   "metadata": {},
   "outputs": [],
   "source": [
    "list(range(2, 7))"
   ]
  },
  {
   "cell_type": "markdown",
   "id": "775e9c20",
   "metadata": {},
   "source": [
    "Use `in` to ask if a element is a collection of things, such as a range, or\n",
    "a list:"
   ]
  },
  {
   "cell_type": "code",
   "execution_count": null,
   "id": "222a0bc7",
   "metadata": {},
   "outputs": [],
   "source": [
    "5 in range(2, 7)\n",
    "5 in [2, 5, 7]"
   ]
  },
  {
   "cell_type": "code",
   "execution_count": null,
   "id": "14a06bdc",
   "metadata": {},
   "outputs": [],
   "source": [
    "9 in range(2, 7)"
   ]
  },
  {
   "cell_type": "markdown",
   "id": "f838c0b1",
   "metadata": {},
   "source": [
    "## Sets\n",
    "\n",
    "Sets are unordered, and unique.\n",
    "\n",
    "“Unordered” means the order is arbitrary, and Python reserves the right to\n",
    "return the elements in any order it likes:"
   ]
  },
  {
   "cell_type": "code",
   "execution_count": null,
   "id": "2fed72c8",
   "metadata": {},
   "outputs": [],
   "source": [
    "our_work = set([\"metacognition\", \"mindwandering\", \"perception\"])\n",
    "print(our_work)"
   ]
  },
  {
   "cell_type": "markdown",
   "id": "dc27f693",
   "metadata": {},
   "source": [
    "If you want to get a version of the set that is ordered, use `sorted`, which\n",
    "returns a sorted list:"
   ]
  },
  {
   "cell_type": "code",
   "execution_count": null,
   "id": "ce04b46d",
   "metadata": {},
   "outputs": [],
   "source": [
    "sorted(our_work)"
   ]
  },
  {
   "cell_type": "markdown",
   "id": "f8199b26",
   "metadata": {},
   "source": [
    "You can't index a set, because the indices 0, or 1, or 2 don’t correspond to\n",
    "any particular element (because the set is unordered):"
   ]
  },
  {
   "cell_type": "code",
   "execution_count": null,
   "id": "e0099325",
   "metadata": {
    "tags": [
     "raises-exception"
    ]
   },
   "outputs": [],
   "source": [
    "our_work[0]"
   ]
  },
  {
   "cell_type": "markdown",
   "id": "8cdf6209",
   "metadata": {},
   "source": [
    "Add to a set with the `add` method:"
   ]
  },
  {
   "cell_type": "code",
   "execution_count": null,
   "id": "125ed61d",
   "metadata": {},
   "outputs": [],
   "source": [
    "our_work.add(\"consciousness\")\n",
    "print(our_work)"
   ]
  },
  {
   "cell_type": "code",
   "execution_count": null,
   "id": "e58ace7c",
   "metadata": {},
   "outputs": [],
   "source": [
    "our_work.add(\"consciousness\")\n",
    "print(our_work)\n",
    "our_work.add(\"consciousness\")\n",
    "print(our_work)"
   ]
  },
  {
   "cell_type": "markdown",
   "id": "5fbd7f33",
   "metadata": {},
   "source": [
    "You can subtract sets:"
   ]
  },
  {
   "cell_type": "code",
   "execution_count": null,
   "id": "96cda192",
   "metadata": {},
   "outputs": [],
   "source": [
    "competing_labs_work = set([\"motor control\", \"decision making\", \"memory\", \"consciousness\"])\n",
    "what_we_should_focus_on = our_work - competing_labs_work\n",
    "print(what_we_should_focus_on)"
   ]
  },
  {
   "cell_type": "code",
   "execution_count": null,
   "id": "dfe6845b",
   "metadata": {},
   "outputs": [],
   "source": [
    "what_we_should_avoid = our_work.intersection(competing_labs_work)\n",
    "print(what_we_should_avoid)"
   ]
  },
  {
   "cell_type": "markdown",
   "id": "f7277e97",
   "metadata": {},
   "source": [
    "Sets have lengths as well:"
   ]
  },
  {
   "cell_type": "code",
   "execution_count": null,
   "id": "debcb3dc",
   "metadata": {},
   "outputs": [],
   "source": [
    "len(what_we_should_focus_on)"
   ]
  },
  {
   "cell_type": "markdown",
   "id": "2aa3a860",
   "metadata": {},
   "source": [
    "## Working with strings\n",
    "\n",
    "We have already seen strings. Here is another example."
   ]
  },
  {
   "cell_type": "code",
   "execution_count": null,
   "id": "10a83491",
   "metadata": {},
   "outputs": [],
   "source": [
    "example = \"mary had a little lamb\"\n",
    "print(example)"
   ]
  },
  {
   "cell_type": "markdown",
   "id": "28e6c895",
   "metadata": {},
   "source": [
    "String slicing:"
   ]
  },
  {
   "cell_type": "code",
   "execution_count": null,
   "id": "fdf75444",
   "metadata": {},
   "outputs": [],
   "source": [
    "example[0]"
   ]
  },
  {
   "cell_type": "code",
   "execution_count": null,
   "id": "ff307426",
   "metadata": {},
   "outputs": [],
   "source": [
    "example[0:4]"
   ]
  },
  {
   "cell_type": "markdown",
   "id": "8be50e08",
   "metadata": {},
   "source": [
    "You can split strings with any character.  This breaks up the string,\n",
    "returning a list of strings broken at the separator character:"
   ]
  },
  {
   "cell_type": "code",
   "execution_count": null,
   "id": "96f9d90d",
   "metadata": {},
   "outputs": [],
   "source": [
    "example.split(\" \")"
   ]
  },
  {
   "cell_type": "code",
   "execution_count": null,
   "id": "1939a97d",
   "metadata": {},
   "outputs": [],
   "source": [
    "example.split(\" \")[4]"
   ]
  },
  {
   "cell_type": "markdown",
   "id": "a2c09cb7",
   "metadata": {},
   "source": [
    "You can split with any character:"
   ]
  },
  {
   "cell_type": "code",
   "execution_count": null,
   "id": "c85a2beb",
   "metadata": {},
   "outputs": [],
   "source": [
    "another_example = 'one:two:three'\n",
    "another_example.split(\":\")"
   ]
  },
  {
   "cell_type": "markdown",
   "id": "2ed5ac03",
   "metadata": {},
   "source": [
    "You can also `strip` a string.  That returns a new string with spaces, tabs\n",
    "and end of line characters removed from the beginning and end:"
   ]
  },
  {
   "cell_type": "code",
   "execution_count": null,
   "id": "91401163",
   "metadata": {},
   "outputs": [],
   "source": [
    "my_string = ' a string\\n'\n",
    "my_string\n",
    "my_string.strip()"
   ]
  },
  {
   "cell_type": "markdown",
   "id": "7db05583",
   "metadata": {},
   "source": [
    "Adding strings:"
   ]
  },
  {
   "cell_type": "code",
   "execution_count": null,
   "id": "a0996b86",
   "metadata": {},
   "outputs": [],
   "source": [
    "example + \" or two\""
   ]
  },
  {
   "cell_type": "markdown",
   "id": "2a8624bf",
   "metadata": {},
   "source": [
    "Putting strings into other strings:"
   ]
  },
  {
   "cell_type": "code",
   "execution_count": null,
   "id": "c3e54c7f",
   "metadata": {},
   "outputs": [],
   "source": [
    "subject_id = \"sub1\"\n",
    "print(f\"Subject {subject_id} is excellent\")"
   ]
  },
  {
   "cell_type": "code",
   "execution_count": null,
   "id": "ad67544b",
   "metadata": {},
   "outputs": [],
   "source": [
    "age = 29\n",
    "print(f\"Subject {subject_id} is {age} years old\")"
   ]
  },
  {
   "cell_type": "markdown",
   "id": "071e5457",
   "metadata": {},
   "source": [
    "You can do more complex formatting of numbers and strings using formatting\n",
    "options after a `:` in the placeholder for the string.  See:\n",
    "[https://docs.python.org/3.5/library/string.html#format-examples](https://docs.python.org/3.5/library/string.html#format-examples)."
   ]
  },
  {
   "cell_type": "code",
   "execution_count": null,
   "id": "25baea5a",
   "metadata": {},
   "outputs": [],
   "source": [
    "subject_no = 4\n",
    "print(f\"Subject {subject_no:02d} is here\")"
   ]
  },
  {
   "cell_type": "markdown",
   "id": "71f52ef0",
   "metadata": {},
   "source": [
    "## For loop"
   ]
  },
  {
   "cell_type": "code",
   "execution_count": null,
   "id": "f5c8cc50",
   "metadata": {},
   "outputs": [],
   "source": [
    "for i in range(10):\n",
    "    print(i)"
   ]
  },
  {
   "cell_type": "markdown",
   "id": "e09ca206",
   "metadata": {},
   "source": [
    "Indentation is crucial!"
   ]
  },
  {
   "cell_type": "code",
   "execution_count": null,
   "id": "71d27062",
   "metadata": {
    "tags": [
     "raises-exception"
    ]
   },
   "outputs": [],
   "source": [
    "for i in range(10):\n",
    "print(i)"
   ]
  },
  {
   "cell_type": "markdown",
   "id": "f0a5c9dc",
   "metadata": {},
   "source": [
    "Watch out for mistakes:"
   ]
  },
  {
   "cell_type": "code",
   "execution_count": null,
   "id": "229e7f2c",
   "metadata": {},
   "outputs": [],
   "source": [
    "for i in range(10):\n",
    "    j = i + 1\n",
    "print(j)"
   ]
  },
  {
   "cell_type": "markdown",
   "id": "0975bb42",
   "metadata": {},
   "source": [
    "## Ifs and breaks"
   ]
  },
  {
   "cell_type": "code",
   "execution_count": null,
   "id": "416cf053",
   "metadata": {},
   "outputs": [],
   "source": [
    "a = 2\n",
    "b = 5\n",
    "c = a + b\n",
    "if c < 6:\n",
    "    print(\"yes\")"
   ]
  },
  {
   "cell_type": "code",
   "execution_count": null,
   "id": "5e219d70",
   "metadata": {},
   "outputs": [],
   "source": [
    "if c < 6:\n",
    "    print(\"yes\")\n",
    "else:\n",
    "    print(\"no\")"
   ]
  },
  {
   "cell_type": "code",
   "execution_count": null,
   "id": "a40c1e5e",
   "metadata": {},
   "outputs": [],
   "source": [
    "if c < 6:\n",
    "    print(\"yes\")\n",
    "elif c > 6:\n",
    "    print(\"no\")\n",
    "else:\n",
    "    print(\"kind of\")"
   ]
  },
  {
   "cell_type": "code",
   "execution_count": null,
   "id": "0c1f9d04",
   "metadata": {},
   "outputs": [],
   "source": [
    "if True:\n",
    "    print(\"true, true!\")"
   ]
  },
  {
   "cell_type": "code",
   "execution_count": null,
   "id": "60479924",
   "metadata": {},
   "outputs": [],
   "source": [
    "if False:\n",
    "    print(\"never!\")"
   ]
  },
  {
   "cell_type": "code",
   "execution_count": null,
   "id": "5368a3d2",
   "metadata": {},
   "outputs": [],
   "source": [
    "for i in range(10):\n",
    "    if i == 6:\n",
    "        break\n",
    "    print(i)"
   ]
  },
  {
   "cell_type": "code",
   "execution_count": null,
   "id": "0cb7859a",
   "metadata": {},
   "outputs": [],
   "source": [
    "for i in range(10):\n",
    "    if i == 6:\n",
    "        continue\n",
    "    print(i)"
   ]
  },
  {
   "cell_type": "markdown",
   "id": "3ffa718f",
   "metadata": {},
   "source": [
    "## Logic\n",
    "\n",
    "You can use logical operators like `and`, `or` and `not`:"
   ]
  },
  {
   "cell_type": "code",
   "execution_count": null,
   "id": "d559fcb5",
   "metadata": {},
   "outputs": [],
   "source": [
    "strange_election = True\n",
    "uncomfortable_choices = True\n",
    "satisfying_experience = False\n",
    "strange_election and uncomfortable_choices\n",
    "strange_election and satisfying_experience\n",
    "strange_election and not satisfying_experience"
   ]
  },
  {
   "cell_type": "markdown",
   "id": "8f46c04f",
   "metadata": {},
   "source": [
    "We often use these in `if` statements:"
   ]
  },
  {
   "cell_type": "code",
   "execution_count": null,
   "id": "4cad71de",
   "metadata": {},
   "outputs": [],
   "source": [
    "if strange_election and not satisfying_experience:\n",
    "    print('Watching a lot of news')"
   ]
  },
  {
   "cell_type": "markdown",
   "id": "ed1f30bc",
   "metadata": {},
   "source": [
    "## Files\n",
    "\n",
    "Use [pathlib](pathlib.Rmd) to write text and read text from files.\n",
    "\n",
    "Write lines to a text file:"
   ]
  },
  {
   "cell_type": "code",
   "execution_count": null,
   "id": "53586f13",
   "metadata": {},
   "outputs": [],
   "source": [
    "from pathlib import Path\n",
    "\n",
    "path = Path(\"important_notes.txt\")\n",
    "type(path)"
   ]
  },
  {
   "cell_type": "code",
   "execution_count": null,
   "id": "54576349",
   "metadata": {},
   "outputs": [],
   "source": [
    "my_text = \"\"\"captains log 672828: I had a banana for breakfast.\n",
    "captains log 672829: I should watch less TV.\n",
    "\"\"\"\n",
    "\n",
    "print(my_text)"
   ]
  },
  {
   "cell_type": "code",
   "execution_count": null,
   "id": "45cc3ae5",
   "metadata": {},
   "outputs": [],
   "source": [
    "path.write_text(my_text)"
   ]
  },
  {
   "cell_type": "markdown",
   "id": "eb348292",
   "metadata": {},
   "source": [
    "Read lines from a text file:"
   ]
  },
  {
   "cell_type": "code",
   "execution_count": null,
   "id": "77ddc51b",
   "metadata": {},
   "outputs": [],
   "source": [
    "text_again = path.read_text()\n",
    "print(text_again)"
   ]
  },
  {
   "cell_type": "markdown",
   "id": "7ef01f17",
   "metadata": {},
   "source": [
    "Split the lines from a text into a list, where there is one element per line,\n",
    "and each element is a string:"
   ]
  },
  {
   "cell_type": "code",
   "execution_count": null,
   "id": "7d086dc8",
   "metadata": {},
   "outputs": [],
   "source": [
    "# The splitlines method of a string.\n",
    "lines = text_again.splitlines()\n",
    "\n",
    "len(lines)\n",
    "print(lines[0])\n",
    "print(lines[1])"
   ]
  },
  {
   "cell_type": "markdown",
   "id": "d4909ddb",
   "metadata": {},
   "source": [
    "We may want to delete the file when we've finished with it.  Again the `Path` object does the job:"
   ]
  },
  {
   "cell_type": "code",
   "execution_count": null,
   "id": "b575ae9f",
   "metadata": {},
   "outputs": [],
   "source": [
    "# Delete the file.\n",
    "path.unlink()"
   ]
  }
 ],
 "metadata": {
  "jupytext": {
   "notebook_metadata_filter": "all,-language_info",
   "split_at_heading": true
  },
  "kernelspec": {
   "display_name": "Python (Pyodide)",
   "name": "python"
  },
  "orphan": true
 },
 "nbformat": 4,
 "nbformat_minor": 5
}
