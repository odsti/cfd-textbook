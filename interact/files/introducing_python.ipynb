{
 "cells": [
  {
   "cell_type": "markdown",
   "id": "ba80b5ac",
   "metadata": {},
   "source": [
    "# Introduction to Python"
   ]
  },
  {
   "cell_type": "markdown",
   "id": "8fe4deb7",
   "metadata": {},
   "source": [
    "## Variables\n",
    "\n",
    "Variables are named values."
   ]
  },
  {
   "cell_type": "code",
   "execution_count": null,
   "id": "29b2f318",
   "metadata": {},
   "outputs": [],
   "source": [
    "a = 4"
   ]
  },
  {
   "cell_type": "markdown",
   "id": "65b34890",
   "metadata": {},
   "source": [
    "Read this as:\n",
    "\n",
    "> \"a\" gets the value 4."
   ]
  },
  {
   "cell_type": "code",
   "execution_count": null,
   "id": "9e1eb37b",
   "metadata": {},
   "outputs": [],
   "source": [
    "b = 6"
   ]
  },
  {
   "cell_type": "markdown",
   "id": "f5298338",
   "metadata": {},
   "source": [
    "> \"b\" gets the value 6."
   ]
  },
  {
   "cell_type": "code",
   "execution_count": null,
   "id": "d847d3ee",
   "metadata": {},
   "outputs": [],
   "source": [
    "a + b"
   ]
  },
  {
   "cell_type": "markdown",
   "id": "ccfe7f81",
   "metadata": {},
   "source": [
    "You can also *update* variables, as in:"
   ]
  },
  {
   "cell_type": "code",
   "execution_count": null,
   "id": "7d907005",
   "metadata": {},
   "outputs": [],
   "source": [
    "a = a + 2\n",
    "a"
   ]
  },
  {
   "cell_type": "markdown",
   "id": "6461df24",
   "metadata": {},
   "source": [
    "So far we've seen numbers as values, but we can also have bits of text called\n",
    "*strings*.  Strings are bits of text between quotes."
   ]
  },
  {
   "cell_type": "code",
   "execution_count": null,
   "id": "567c5ce9",
   "metadata": {},
   "outputs": [],
   "source": [
    "a = \"Python\"\n",
    "c = \"MATLAB\"\n",
    "z = \" > \""
   ]
  },
  {
   "cell_type": "markdown",
   "id": "1e849627",
   "metadata": {},
   "source": [
    "You have seen adding numbers.  We can also add strings.  This as the effect of\n",
    "sticking them together — *concatenating* the strings:"
   ]
  },
  {
   "cell_type": "code",
   "execution_count": null,
   "id": "fd73aace",
   "metadata": {},
   "outputs": [],
   "source": [
    "a + z + c"
   ]
  },
  {
   "cell_type": "markdown",
   "id": "7bd4747b",
   "metadata": {},
   "source": [
    "Strings can have apostrophes (`'`) or inverted commas (`\"`) at either end,\n",
    "Python accepts either."
   ]
  },
  {
   "cell_type": "code",
   "execution_count": null,
   "id": "187eae60",
   "metadata": {},
   "outputs": [],
   "source": [
    "first = 'a string'\n",
    "second = \"b string\"\n",
    "first + second"
   ]
  },
  {
   "cell_type": "markdown",
   "id": "4f5ea7ad",
   "metadata": {},
   "source": [
    "You can even use triple apostrophes or inverted commas at either end; this is\n",
    "useful for when you want to put a new line inside your string:"
   ]
  },
  {
   "cell_type": "code",
   "execution_count": null,
   "id": "dc20c947",
   "metadata": {},
   "outputs": [],
   "source": [
    "many_line_string = \"\"\"\n",
    "This string\n",
    "has\n",
    "several\n",
    "lines\n",
    "\"\"\"\n",
    "print(many_line_string)"
   ]
  },
  {
   "cell_type": "markdown",
   "id": "62bbd7da",
   "metadata": {},
   "source": [
    "Length of a string:"
   ]
  },
  {
   "cell_type": "code",
   "execution_count": null,
   "id": "c0417db4",
   "metadata": {},
   "outputs": [],
   "source": [
    "len(first)"
   ]
  },
  {
   "cell_type": "markdown",
   "id": "4ffbd782",
   "metadata": {},
   "source": [
    "Strings and numbers are different:"
   ]
  },
  {
   "cell_type": "code",
   "execution_count": null,
   "id": "8ac302a7",
   "metadata": {
    "tags": [
     "raises-exception"
    ]
   },
   "outputs": [],
   "source": [
    "number = \"9\"\n",
    "number + 6"
   ]
  },
  {
   "cell_type": "markdown",
   "id": "f278725e",
   "metadata": {},
   "source": [
    "We can convert between numbers and strings:"
   ]
  },
  {
   "cell_type": "code",
   "execution_count": null,
   "id": "2c62e4d2",
   "metadata": {},
   "outputs": [],
   "source": [
    "int(number) + 6\n",
    "str(9)"
   ]
  },
  {
   "cell_type": "markdown",
   "id": "0e05d0d4",
   "metadata": {},
   "source": [
    "However ..."
   ]
  },
  {
   "cell_type": "code",
   "execution_count": null,
   "id": "8056ef15",
   "metadata": {
    "tags": [
     "raises-exception"
    ]
   },
   "outputs": [],
   "source": [
    "number = \"nine\"\n",
    "int(number)"
   ]
  },
  {
   "cell_type": "markdown",
   "id": "04466480",
   "metadata": {},
   "source": [
    "## Lists"
   ]
  },
  {
   "cell_type": "code",
   "execution_count": null,
   "id": "4c5cc0d9",
   "metadata": {},
   "outputs": [],
   "source": [
    "an_empty_list = []\n",
    "list_with_two_items = [1, 2]\n",
    "items_can_be_diverse = [1, \"Obama\", 4.55]"
   ]
  },
  {
   "cell_type": "code",
   "execution_count": null,
   "id": "7aaa49b9",
   "metadata": {},
   "outputs": [],
   "source": [
    "example_list = []\n",
    "example_list.append(\"experiment1\")\n",
    "example_list"
   ]
  },
  {
   "cell_type": "code",
   "execution_count": null,
   "id": "84be4bff",
   "metadata": {},
   "outputs": [],
   "source": [
    "example_list[0]"
   ]
  },
  {
   "cell_type": "markdown",
   "id": "13974dfb",
   "metadata": {},
   "source": [
    "The length of a list (or any object that can have a length):"
   ]
  },
  {
   "cell_type": "code",
   "execution_count": null,
   "id": "ff5a6196",
   "metadata": {},
   "outputs": [],
   "source": [
    "len(example_list)"
   ]
  },
  {
   "cell_type": "code",
   "execution_count": null,
   "id": "456205ed",
   "metadata": {},
   "outputs": [],
   "source": [
    "example_list.append(\"failed_experiment\")\n",
    "print(example_list)\n",
    "example_list.append(\"failed_experiment\")\n",
    "print(example_list)"
   ]
  },
  {
   "cell_type": "code",
   "execution_count": null,
   "id": "b574942f",
   "metadata": {},
   "outputs": [],
   "source": [
    "example_list.pop()"
   ]
  },
  {
   "cell_type": "code",
   "execution_count": null,
   "id": "db74ba54",
   "metadata": {},
   "outputs": [],
   "source": [
    "example_list"
   ]
  },
  {
   "cell_type": "code",
   "execution_count": null,
   "id": "41ebfe8e",
   "metadata": {},
   "outputs": [],
   "source": [
    "del example_list[0]\n",
    "example_list"
   ]
  },
  {
   "cell_type": "markdown",
   "id": "5b866010",
   "metadata": {},
   "source": [
    "`range` in returns a “range object”.  It’s like a list, but isn’t quite a\n",
    "list."
   ]
  },
  {
   "cell_type": "code",
   "execution_count": null,
   "id": "a43b2e48",
   "metadata": {},
   "outputs": [],
   "source": [
    "range(10)"
   ]
  },
  {
   "cell_type": "markdown",
   "id": "e75df958",
   "metadata": {},
   "source": [
    "You can make it into a list by using the `list` constructor.  A constructor is\n",
    "like a function, but it creates a new object, in this case a new object of type\n",
    "`list`."
   ]
  },
  {
   "cell_type": "code",
   "execution_count": null,
   "id": "4a529cbe",
   "metadata": {},
   "outputs": [],
   "source": [
    "list(range(10))"
   ]
  },
  {
   "cell_type": "markdown",
   "id": "79a485c9",
   "metadata": {},
   "source": [
    "You can also set the start element for `range`:"
   ]
  },
  {
   "cell_type": "code",
   "execution_count": null,
   "id": "d627333e",
   "metadata": {},
   "outputs": [],
   "source": [
    "list(range(2, 7))"
   ]
  },
  {
   "cell_type": "markdown",
   "id": "4a168680",
   "metadata": {},
   "source": [
    "Use `in` to ask if a element is a collection of things, such as a range, or\n",
    "a list:"
   ]
  },
  {
   "cell_type": "code",
   "execution_count": null,
   "id": "0244be23",
   "metadata": {},
   "outputs": [],
   "source": [
    "5 in range(2, 7)\n",
    "5 in [2, 5, 7]"
   ]
  },
  {
   "cell_type": "code",
   "execution_count": null,
   "id": "b7ba64ab",
   "metadata": {},
   "outputs": [],
   "source": [
    "9 in range(2, 7)"
   ]
  },
  {
   "cell_type": "markdown",
   "id": "59299762",
   "metadata": {},
   "source": [
    "## Sets\n",
    "\n",
    "Sets are unordered, and unique.\n",
    "\n",
    "“Unordered” means the order is arbitrary, and Python reserves the right to\n",
    "return the elements in any order it likes:"
   ]
  },
  {
   "cell_type": "code",
   "execution_count": null,
   "id": "fe2cc7cf",
   "metadata": {},
   "outputs": [],
   "source": [
    "our_work = set([\"metacognition\", \"mindwandering\", \"perception\"])\n",
    "print(our_work)"
   ]
  },
  {
   "cell_type": "markdown",
   "id": "e452c1d7",
   "metadata": {},
   "source": [
    "If you want to get a version of the set that is ordered, use `sorted`, which\n",
    "returns a sorted list:"
   ]
  },
  {
   "cell_type": "code",
   "execution_count": null,
   "id": "5615ab69",
   "metadata": {},
   "outputs": [],
   "source": [
    "sorted(our_work)"
   ]
  },
  {
   "cell_type": "markdown",
   "id": "821bcf50",
   "metadata": {},
   "source": [
    "You can't index a set, because the indices 0, or 1, or 2 don’t correspond to\n",
    "any particular element (because the set is unordered):"
   ]
  },
  {
   "cell_type": "code",
   "execution_count": null,
   "id": "de061ed1",
   "metadata": {
    "tags": [
     "raises-exception"
    ]
   },
   "outputs": [],
   "source": [
    "our_work[0]"
   ]
  },
  {
   "cell_type": "markdown",
   "id": "b2cb2c1c",
   "metadata": {},
   "source": [
    "Add to a set with the `add` method:"
   ]
  },
  {
   "cell_type": "code",
   "execution_count": null,
   "id": "063b02aa",
   "metadata": {},
   "outputs": [],
   "source": [
    "our_work.add(\"consciousness\")\n",
    "print(our_work)"
   ]
  },
  {
   "cell_type": "code",
   "execution_count": null,
   "id": "3ee96cee",
   "metadata": {},
   "outputs": [],
   "source": [
    "our_work.add(\"consciousness\")\n",
    "print(our_work)\n",
    "our_work.add(\"consciousness\")\n",
    "print(our_work)"
   ]
  },
  {
   "cell_type": "markdown",
   "id": "10ee6f5a",
   "metadata": {},
   "source": [
    "You can subtract sets:"
   ]
  },
  {
   "cell_type": "code",
   "execution_count": null,
   "id": "4a018158",
   "metadata": {},
   "outputs": [],
   "source": [
    "competing_labs_work = set([\"motor control\", \"decision making\", \"memory\", \"consciousness\"])\n",
    "what_we_should_focus_on = our_work - competing_labs_work\n",
    "print(what_we_should_focus_on)"
   ]
  },
  {
   "cell_type": "code",
   "execution_count": null,
   "id": "da43f3cc",
   "metadata": {},
   "outputs": [],
   "source": [
    "what_we_should_avoid = our_work.intersection(competing_labs_work)\n",
    "print(what_we_should_avoid)"
   ]
  },
  {
   "cell_type": "markdown",
   "id": "0435b54e",
   "metadata": {},
   "source": [
    "Sets have lengths as well:"
   ]
  },
  {
   "cell_type": "code",
   "execution_count": null,
   "id": "f06a8bf1",
   "metadata": {},
   "outputs": [],
   "source": [
    "len(what_we_should_focus_on)"
   ]
  },
  {
   "cell_type": "markdown",
   "id": "b74eef19",
   "metadata": {},
   "source": [
    "## Working with strings\n",
    "\n",
    "We have already seen strings. Here is another example."
   ]
  },
  {
   "cell_type": "code",
   "execution_count": null,
   "id": "d40b3bf0",
   "metadata": {},
   "outputs": [],
   "source": [
    "example = \"mary had a little lamb\"\n",
    "print(example)"
   ]
  },
  {
   "cell_type": "markdown",
   "id": "a673aeee",
   "metadata": {},
   "source": [
    "String slicing:"
   ]
  },
  {
   "cell_type": "code",
   "execution_count": null,
   "id": "601aa02d",
   "metadata": {},
   "outputs": [],
   "source": [
    "example[0]"
   ]
  },
  {
   "cell_type": "code",
   "execution_count": null,
   "id": "1f6adf9a",
   "metadata": {},
   "outputs": [],
   "source": [
    "example[0:4]"
   ]
  },
  {
   "cell_type": "markdown",
   "id": "c4e632a1",
   "metadata": {},
   "source": [
    "You can split strings with any character.  This breaks up the string,\n",
    "returning a list of strings broken at the separator character:"
   ]
  },
  {
   "cell_type": "code",
   "execution_count": null,
   "id": "fbf5df4e",
   "metadata": {},
   "outputs": [],
   "source": [
    "example.split(\" \")"
   ]
  },
  {
   "cell_type": "code",
   "execution_count": null,
   "id": "bf526f66",
   "metadata": {},
   "outputs": [],
   "source": [
    "example.split(\" \")[4]"
   ]
  },
  {
   "cell_type": "markdown",
   "id": "e0e59997",
   "metadata": {},
   "source": [
    "You can split with any character:"
   ]
  },
  {
   "cell_type": "code",
   "execution_count": null,
   "id": "52d8d0d7",
   "metadata": {},
   "outputs": [],
   "source": [
    "another_example = 'one:two:three'\n",
    "another_example.split(\":\")"
   ]
  },
  {
   "cell_type": "markdown",
   "id": "489d816d",
   "metadata": {},
   "source": [
    "You can also `strip` a string.  That returns a new string with spaces, tabs\n",
    "and end of line characters removed from the beginning and end:"
   ]
  },
  {
   "cell_type": "code",
   "execution_count": null,
   "id": "4562381c",
   "metadata": {},
   "outputs": [],
   "source": [
    "my_string = ' a string\\n'\n",
    "my_string\n",
    "my_string.strip()"
   ]
  },
  {
   "cell_type": "markdown",
   "id": "0a8dcaf4",
   "metadata": {},
   "source": [
    "Adding strings:"
   ]
  },
  {
   "cell_type": "code",
   "execution_count": null,
   "id": "3bc18fd4",
   "metadata": {},
   "outputs": [],
   "source": [
    "example + \" or two\""
   ]
  },
  {
   "cell_type": "markdown",
   "id": "3a573ebc",
   "metadata": {},
   "source": [
    "Putting strings into other strings:"
   ]
  },
  {
   "cell_type": "code",
   "execution_count": null,
   "id": "59b63c83",
   "metadata": {},
   "outputs": [],
   "source": [
    "subject_id = \"sub1\"\n",
    "print(f\"Subject {subject_id} is excellent\")"
   ]
  },
  {
   "cell_type": "code",
   "execution_count": null,
   "id": "d9d1dbcf",
   "metadata": {},
   "outputs": [],
   "source": [
    "age = 29\n",
    "print(f\"Subject {subject_id} is {age} years old\")"
   ]
  },
  {
   "cell_type": "markdown",
   "id": "92d64f5f",
   "metadata": {},
   "source": [
    "You can do more complex formatting of numbers and strings using formatting\n",
    "options after a `:` in the placeholder for the string.  See:\n",
    "[https://docs.python.org/3.5/library/string.html#format-examples](https://docs.python.org/3.5/library/string.html#format-examples)."
   ]
  },
  {
   "cell_type": "code",
   "execution_count": null,
   "id": "a3caee1e",
   "metadata": {},
   "outputs": [],
   "source": [
    "subject_no = 4\n",
    "print(f\"Subject {subject_no:02d} is here\")"
   ]
  },
  {
   "cell_type": "markdown",
   "id": "f618f2a3",
   "metadata": {},
   "source": [
    "## For loop"
   ]
  },
  {
   "cell_type": "code",
   "execution_count": null,
   "id": "fa05e078",
   "metadata": {},
   "outputs": [],
   "source": [
    "for i in range(10):\n",
    "    print(i)"
   ]
  },
  {
   "cell_type": "markdown",
   "id": "629b445f",
   "metadata": {},
   "source": [
    "Indentation is crucial!"
   ]
  },
  {
   "cell_type": "code",
   "execution_count": null,
   "id": "9776d000",
   "metadata": {
    "tags": [
     "raises-exception"
    ]
   },
   "outputs": [],
   "source": [
    "for i in range(10):\n",
    "print(i)"
   ]
  },
  {
   "cell_type": "markdown",
   "id": "b46158de",
   "metadata": {},
   "source": [
    "Watch out for mistakes:"
   ]
  },
  {
   "cell_type": "code",
   "execution_count": null,
   "id": "c69eb8f9",
   "metadata": {},
   "outputs": [],
   "source": [
    "for i in range(10):\n",
    "    j = i + 1\n",
    "print(j)"
   ]
  },
  {
   "cell_type": "markdown",
   "id": "d1992e9c",
   "metadata": {},
   "source": [
    "## Ifs and breaks"
   ]
  },
  {
   "cell_type": "code",
   "execution_count": null,
   "id": "638a694c",
   "metadata": {},
   "outputs": [],
   "source": [
    "a = 2\n",
    "b = 5\n",
    "c = a + b\n",
    "if c < 6:\n",
    "    print(\"yes\")"
   ]
  },
  {
   "cell_type": "code",
   "execution_count": null,
   "id": "86c3fa4b",
   "metadata": {},
   "outputs": [],
   "source": [
    "if c < 6:\n",
    "    print(\"yes\")\n",
    "else:\n",
    "    print(\"no\")"
   ]
  },
  {
   "cell_type": "code",
   "execution_count": null,
   "id": "9f6da2ce",
   "metadata": {},
   "outputs": [],
   "source": [
    "if c < 6:\n",
    "    print(\"yes\")\n",
    "elif c > 6:\n",
    "    print(\"no\")\n",
    "else:\n",
    "    print(\"kind of\")"
   ]
  },
  {
   "cell_type": "code",
   "execution_count": null,
   "id": "41b6f7ff",
   "metadata": {},
   "outputs": [],
   "source": [
    "if True:\n",
    "    print(\"true, true!\")"
   ]
  },
  {
   "cell_type": "code",
   "execution_count": null,
   "id": "8e34c3d4",
   "metadata": {},
   "outputs": [],
   "source": [
    "if False:\n",
    "    print(\"never!\")"
   ]
  },
  {
   "cell_type": "code",
   "execution_count": null,
   "id": "6131c2d5",
   "metadata": {},
   "outputs": [],
   "source": [
    "for i in range(10):\n",
    "    if i == 6:\n",
    "        break\n",
    "    print(i)"
   ]
  },
  {
   "cell_type": "code",
   "execution_count": null,
   "id": "2baad781",
   "metadata": {},
   "outputs": [],
   "source": [
    "for i in range(10):\n",
    "    if i == 6:\n",
    "        continue\n",
    "    print(i)"
   ]
  },
  {
   "cell_type": "markdown",
   "id": "10841b8d",
   "metadata": {},
   "source": [
    "## Logic\n",
    "\n",
    "You can use logical operators like `and`, `or` and `not`:"
   ]
  },
  {
   "cell_type": "code",
   "execution_count": null,
   "id": "06666139",
   "metadata": {},
   "outputs": [],
   "source": [
    "strange_election = True\n",
    "uncomfortable_choices = True\n",
    "satisfying_experience = False\n",
    "strange_election and uncomfortable_choices\n",
    "strange_election and satisfying_experience\n",
    "strange_election and not satisfying_experience"
   ]
  },
  {
   "cell_type": "markdown",
   "id": "52340b7f",
   "metadata": {},
   "source": [
    "We often use these in `if` statements:"
   ]
  },
  {
   "cell_type": "code",
   "execution_count": null,
   "id": "f028b6b2",
   "metadata": {},
   "outputs": [],
   "source": [
    "if strange_election and not satisfying_experience:\n",
    "    print('Watching a lot of news')"
   ]
  },
  {
   "cell_type": "markdown",
   "id": "1c9dda92",
   "metadata": {},
   "source": [
    "## Files\n",
    "\n",
    "Use [pathlib](pathlib.Rmd) to write text and read text from files.\n",
    "\n",
    "Write lines to a text file:"
   ]
  },
  {
   "cell_type": "code",
   "execution_count": null,
   "id": "1a8ea6cd",
   "metadata": {},
   "outputs": [],
   "source": [
    "from pathlib import Path\n",
    "\n",
    "path = Path(\"important_notes.txt\")\n",
    "type(path)"
   ]
  },
  {
   "cell_type": "code",
   "execution_count": null,
   "id": "4c44d0e4",
   "metadata": {},
   "outputs": [],
   "source": [
    "my_text = \"\"\"captains log 672828: I had a banana for breakfast.\n",
    "captains log 672829: I should watch less TV.\n",
    "\"\"\"\n",
    "\n",
    "print(my_text)"
   ]
  },
  {
   "cell_type": "code",
   "execution_count": null,
   "id": "09e692df",
   "metadata": {},
   "outputs": [],
   "source": [
    "path.write_text(my_text)"
   ]
  },
  {
   "cell_type": "markdown",
   "id": "7e7b3b6c",
   "metadata": {},
   "source": [
    "Read lines from a text file:"
   ]
  },
  {
   "cell_type": "code",
   "execution_count": null,
   "id": "13ab4e8a",
   "metadata": {},
   "outputs": [],
   "source": [
    "text_again = path.read_text()\n",
    "print(text_again)"
   ]
  },
  {
   "cell_type": "markdown",
   "id": "57adfd2e",
   "metadata": {},
   "source": [
    "Split the lines from a text into a list, where there is one element per line,\n",
    "and each element is a string:"
   ]
  },
  {
   "cell_type": "code",
   "execution_count": null,
   "id": "176fc6fc",
   "metadata": {},
   "outputs": [],
   "source": [
    "# The splitlines method of a string.\n",
    "lines = text_again.splitlines()\n",
    "\n",
    "len(lines)\n",
    "print(lines[0])\n",
    "print(lines[1])"
   ]
  },
  {
   "cell_type": "markdown",
   "id": "a9b01804",
   "metadata": {},
   "source": [
    "We may want to delete the file when we've finished with it.  Again the `Path` object does the job:"
   ]
  },
  {
   "cell_type": "code",
   "execution_count": null,
   "id": "d77d6dbf",
   "metadata": {},
   "outputs": [],
   "source": [
    "# Delete the file.\n",
    "path.unlink()"
   ]
  }
 ],
 "metadata": {
  "jupytext": {
   "notebook_metadata_filter": "all,-language_info",
   "split_at_heading": true
  },
  "kernelspec": {
   "display_name": "Python (Pyodide)",
   "name": "python"
  },
  "orphan": true
 },
 "nbformat": 4,
 "nbformat_minor": 5
}
