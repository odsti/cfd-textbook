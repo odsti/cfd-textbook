{
 "cells": [
  {
   "cell_type": "markdown",
   "id": "c5d83687",
   "metadata": {},
   "source": [
    "# Introduction to Python"
   ]
  },
  {
   "cell_type": "markdown",
   "id": "df2903b4",
   "metadata": {},
   "source": [
    "## Variables\n",
    "\n",
    "Variables are named values."
   ]
  },
  {
   "cell_type": "code",
   "execution_count": null,
   "id": "7b4ddc1b",
   "metadata": {},
   "outputs": [],
   "source": [
    "a = 4"
   ]
  },
  {
   "cell_type": "markdown",
   "id": "69c2edca",
   "metadata": {},
   "source": [
    "Read this as:\n",
    "\n",
    "> \"a\" gets the value 4."
   ]
  },
  {
   "cell_type": "code",
   "execution_count": null,
   "id": "ed654b96",
   "metadata": {},
   "outputs": [],
   "source": [
    "b = 6"
   ]
  },
  {
   "cell_type": "markdown",
   "id": "13fd755e",
   "metadata": {},
   "source": [
    "> \"b\" gets the value 6."
   ]
  },
  {
   "cell_type": "code",
   "execution_count": null,
   "id": "125e6575",
   "metadata": {},
   "outputs": [],
   "source": [
    "a + b"
   ]
  },
  {
   "cell_type": "markdown",
   "id": "f2e20b14",
   "metadata": {},
   "source": [
    "You can also *update* variables, as in:"
   ]
  },
  {
   "cell_type": "code",
   "execution_count": null,
   "id": "18a8e60f",
   "metadata": {},
   "outputs": [],
   "source": [
    "a = a + 2\n",
    "a"
   ]
  },
  {
   "cell_type": "markdown",
   "id": "8f234250",
   "metadata": {},
   "source": [
    "So far we've seen numbers as values, but we can also have bits of text called\n",
    "*strings*.  Strings are bits of text between quotes."
   ]
  },
  {
   "cell_type": "code",
   "execution_count": null,
   "id": "241de106",
   "metadata": {},
   "outputs": [],
   "source": [
    "a = \"Python\"\n",
    "c = \"MATLAB\"\n",
    "z = \" > \""
   ]
  },
  {
   "cell_type": "markdown",
   "id": "7944a1f1",
   "metadata": {},
   "source": [
    "You have seen adding numbers.  We can also add strings.  This as the effect of\n",
    "sticking them together — *concatenating* the strings:"
   ]
  },
  {
   "cell_type": "code",
   "execution_count": null,
   "id": "5b5af74e",
   "metadata": {},
   "outputs": [],
   "source": [
    "a + z + c"
   ]
  },
  {
   "cell_type": "markdown",
   "id": "cafd57c2",
   "metadata": {},
   "source": [
    "Strings can have apostrophes (`'`) or inverted commas (`\"`) at either end,\n",
    "Python accepts either."
   ]
  },
  {
   "cell_type": "code",
   "execution_count": null,
   "id": "9d63ae41",
   "metadata": {},
   "outputs": [],
   "source": [
    "first = 'a string'\n",
    "second = \"b string\"\n",
    "first + second"
   ]
  },
  {
   "cell_type": "markdown",
   "id": "9c8b3616",
   "metadata": {},
   "source": [
    "You can even use triple apostrophes or inverted commas at either end; this is\n",
    "useful for when you want to put a new line inside your string:"
   ]
  },
  {
   "cell_type": "code",
   "execution_count": null,
   "id": "dc7dca40",
   "metadata": {},
   "outputs": [],
   "source": [
    "many_line_string = \"\"\"\n",
    "This string\n",
    "has\n",
    "several\n",
    "lines\n",
    "\"\"\"\n",
    "print(many_line_string)"
   ]
  },
  {
   "cell_type": "markdown",
   "id": "cd431dfc",
   "metadata": {},
   "source": [
    "Length of a string:"
   ]
  },
  {
   "cell_type": "code",
   "execution_count": null,
   "id": "f04d2514",
   "metadata": {},
   "outputs": [],
   "source": [
    "len(first)"
   ]
  },
  {
   "cell_type": "markdown",
   "id": "7bc602f0",
   "metadata": {},
   "source": [
    "Strings and numbers are different:"
   ]
  },
  {
   "cell_type": "code",
   "execution_count": null,
   "id": "a02369ff",
   "metadata": {
    "tags": [
     "raises-exception"
    ]
   },
   "outputs": [],
   "source": [
    "number = \"9\"\n",
    "number + 6"
   ]
  },
  {
   "cell_type": "markdown",
   "id": "3a706925",
   "metadata": {},
   "source": [
    "We can convert between numbers and strings:"
   ]
  },
  {
   "cell_type": "code",
   "execution_count": null,
   "id": "0e29aa28",
   "metadata": {},
   "outputs": [],
   "source": [
    "int(number) + 6\n",
    "str(9)"
   ]
  },
  {
   "cell_type": "markdown",
   "id": "05a7dfbd",
   "metadata": {},
   "source": [
    "However ..."
   ]
  },
  {
   "cell_type": "code",
   "execution_count": null,
   "id": "c2cfa691",
   "metadata": {
    "tags": [
     "raises-exception"
    ]
   },
   "outputs": [],
   "source": [
    "number = \"nine\"\n",
    "int(number)"
   ]
  },
  {
   "cell_type": "markdown",
   "id": "d1f499f3",
   "metadata": {},
   "source": [
    "## Lists"
   ]
  },
  {
   "cell_type": "code",
   "execution_count": null,
   "id": "4278c86d",
   "metadata": {},
   "outputs": [],
   "source": [
    "an_empty_list = []\n",
    "list_with_two_items = [1, 2]\n",
    "items_can_be_diverse = [1, \"Obama\", 4.55]"
   ]
  },
  {
   "cell_type": "code",
   "execution_count": null,
   "id": "b8eb8290",
   "metadata": {},
   "outputs": [],
   "source": [
    "example_list = []\n",
    "example_list.append(\"experiment1\")\n",
    "example_list"
   ]
  },
  {
   "cell_type": "code",
   "execution_count": null,
   "id": "1f10f17a",
   "metadata": {},
   "outputs": [],
   "source": [
    "example_list[0]"
   ]
  },
  {
   "cell_type": "markdown",
   "id": "16298c37",
   "metadata": {},
   "source": [
    "The length of a list (or any object that can have a length):"
   ]
  },
  {
   "cell_type": "code",
   "execution_count": null,
   "id": "9d40ab3a",
   "metadata": {},
   "outputs": [],
   "source": [
    "len(example_list)"
   ]
  },
  {
   "cell_type": "code",
   "execution_count": null,
   "id": "7bd8ef5e",
   "metadata": {},
   "outputs": [],
   "source": [
    "example_list.append(\"failed_experiment\")\n",
    "print(example_list)\n",
    "example_list.append(\"failed_experiment\")\n",
    "print(example_list)"
   ]
  },
  {
   "cell_type": "code",
   "execution_count": null,
   "id": "74f44a62",
   "metadata": {},
   "outputs": [],
   "source": [
    "example_list.pop()"
   ]
  },
  {
   "cell_type": "code",
   "execution_count": null,
   "id": "cd5cc0ab",
   "metadata": {},
   "outputs": [],
   "source": [
    "example_list"
   ]
  },
  {
   "cell_type": "code",
   "execution_count": null,
   "id": "239000c8",
   "metadata": {},
   "outputs": [],
   "source": [
    "del example_list[0]\n",
    "example_list"
   ]
  },
  {
   "cell_type": "markdown",
   "id": "f705696b",
   "metadata": {},
   "source": [
    "`range` in returns a “range object”.  It’s like a list, but isn’t quite a\n",
    "list."
   ]
  },
  {
   "cell_type": "code",
   "execution_count": null,
   "id": "9a0e4710",
   "metadata": {},
   "outputs": [],
   "source": [
    "range(10)"
   ]
  },
  {
   "cell_type": "markdown",
   "id": "a2378303",
   "metadata": {},
   "source": [
    "You can make it into a list by using the `list` constructor.  A constructor is\n",
    "like a function, but it creates a new object, in this case a new object of type\n",
    "`list`."
   ]
  },
  {
   "cell_type": "code",
   "execution_count": null,
   "id": "741c2dd9",
   "metadata": {},
   "outputs": [],
   "source": [
    "list(range(10))"
   ]
  },
  {
   "cell_type": "markdown",
   "id": "7b7ce4c2",
   "metadata": {},
   "source": [
    "You can also set the start element for `range`:"
   ]
  },
  {
   "cell_type": "code",
   "execution_count": null,
   "id": "ea97f056",
   "metadata": {},
   "outputs": [],
   "source": [
    "list(range(2, 7))"
   ]
  },
  {
   "cell_type": "markdown",
   "id": "bb204698",
   "metadata": {},
   "source": [
    "Use `in` to ask if a element is a collection of things, such as a range, or\n",
    "a list:"
   ]
  },
  {
   "cell_type": "code",
   "execution_count": null,
   "id": "ad1b87fc",
   "metadata": {},
   "outputs": [],
   "source": [
    "5 in range(2, 7)\n",
    "5 in [2, 5, 7]"
   ]
  },
  {
   "cell_type": "code",
   "execution_count": null,
   "id": "08aabe06",
   "metadata": {},
   "outputs": [],
   "source": [
    "9 in range(2, 7)"
   ]
  },
  {
   "cell_type": "markdown",
   "id": "bcfaf57b",
   "metadata": {},
   "source": [
    "## Sets\n",
    "\n",
    "Sets are unordered, and unique.\n",
    "\n",
    "“Unordered” means the order is arbitrary, and Python reserves the right to\n",
    "return the elements in any order it likes:"
   ]
  },
  {
   "cell_type": "code",
   "execution_count": null,
   "id": "8f7ed0f7",
   "metadata": {},
   "outputs": [],
   "source": [
    "our_work = set([\"metacognition\", \"mindwandering\", \"perception\"])\n",
    "print(our_work)"
   ]
  },
  {
   "cell_type": "markdown",
   "id": "dcb60b10",
   "metadata": {},
   "source": [
    "If you want to get a version of the set that is ordered, use `sorted`, which\n",
    "returns a sorted list:"
   ]
  },
  {
   "cell_type": "code",
   "execution_count": null,
   "id": "12042a92",
   "metadata": {},
   "outputs": [],
   "source": [
    "sorted(our_work)"
   ]
  },
  {
   "cell_type": "markdown",
   "id": "9253060a",
   "metadata": {},
   "source": [
    "You can't index a set, because the indices 0, or 1, or 2 don’t correspond to\n",
    "any particular element (because the set is unordered):"
   ]
  },
  {
   "cell_type": "code",
   "execution_count": null,
   "id": "14d0243c",
   "metadata": {
    "tags": [
     "raises-exception"
    ]
   },
   "outputs": [],
   "source": [
    "our_work[0]"
   ]
  },
  {
   "cell_type": "markdown",
   "id": "7c828c40",
   "metadata": {},
   "source": [
    "Add to a set with the `add` method:"
   ]
  },
  {
   "cell_type": "code",
   "execution_count": null,
   "id": "50314101",
   "metadata": {},
   "outputs": [],
   "source": [
    "our_work.add(\"consciousness\")\n",
    "print(our_work)"
   ]
  },
  {
   "cell_type": "code",
   "execution_count": null,
   "id": "9d0d9db5",
   "metadata": {},
   "outputs": [],
   "source": [
    "our_work.add(\"consciousness\")\n",
    "print(our_work)\n",
    "our_work.add(\"consciousness\")\n",
    "print(our_work)"
   ]
  },
  {
   "cell_type": "markdown",
   "id": "cc0f842b",
   "metadata": {},
   "source": [
    "You can subtract sets:"
   ]
  },
  {
   "cell_type": "code",
   "execution_count": null,
   "id": "6cb8cbc3",
   "metadata": {},
   "outputs": [],
   "source": [
    "competing_labs_work = set([\"motor control\", \"decision making\", \"memory\", \"consciousness\"])\n",
    "what_we_should_focus_on = our_work - competing_labs_work\n",
    "print(what_we_should_focus_on)"
   ]
  },
  {
   "cell_type": "code",
   "execution_count": null,
   "id": "eec63eb9",
   "metadata": {},
   "outputs": [],
   "source": [
    "what_we_should_avoid = our_work.intersection(competing_labs_work)\n",
    "print(what_we_should_avoid)"
   ]
  },
  {
   "cell_type": "markdown",
   "id": "b0fd6862",
   "metadata": {},
   "source": [
    "Sets have lengths as well:"
   ]
  },
  {
   "cell_type": "code",
   "execution_count": null,
   "id": "3f2dfe9c",
   "metadata": {},
   "outputs": [],
   "source": [
    "len(what_we_should_focus_on)"
   ]
  },
  {
   "cell_type": "markdown",
   "id": "2f130fa8",
   "metadata": {},
   "source": [
    "## Working with strings\n",
    "\n",
    "We have already seen strings. Here is another example."
   ]
  },
  {
   "cell_type": "code",
   "execution_count": null,
   "id": "58d618ff",
   "metadata": {},
   "outputs": [],
   "source": [
    "example = \"mary had a little lamb\"\n",
    "print(example)"
   ]
  },
  {
   "cell_type": "markdown",
   "id": "fb3cbdbd",
   "metadata": {},
   "source": [
    "String slicing:"
   ]
  },
  {
   "cell_type": "code",
   "execution_count": null,
   "id": "e3ef0228",
   "metadata": {},
   "outputs": [],
   "source": [
    "example[0]"
   ]
  },
  {
   "cell_type": "code",
   "execution_count": null,
   "id": "05e8d735",
   "metadata": {},
   "outputs": [],
   "source": [
    "example[0:4]"
   ]
  },
  {
   "cell_type": "markdown",
   "id": "d10f114a",
   "metadata": {},
   "source": [
    "You can split strings with any character.  This breaks up the string,\n",
    "returning a list of strings broken at the separator character:"
   ]
  },
  {
   "cell_type": "code",
   "execution_count": null,
   "id": "f37051c6",
   "metadata": {},
   "outputs": [],
   "source": [
    "example.split(\" \")"
   ]
  },
  {
   "cell_type": "code",
   "execution_count": null,
   "id": "2c0c2939",
   "metadata": {},
   "outputs": [],
   "source": [
    "example.split(\" \")[4]"
   ]
  },
  {
   "cell_type": "markdown",
   "id": "88084553",
   "metadata": {},
   "source": [
    "You can split with any character:"
   ]
  },
  {
   "cell_type": "code",
   "execution_count": null,
   "id": "3516d4c6",
   "metadata": {},
   "outputs": [],
   "source": [
    "another_example = 'one:two:three'\n",
    "another_example.split(\":\")"
   ]
  },
  {
   "cell_type": "markdown",
   "id": "1d06a068",
   "metadata": {},
   "source": [
    "You can also `strip` a string.  That returns a new string with spaces, tabs\n",
    "and end of line characters removed from the beginning and end:"
   ]
  },
  {
   "cell_type": "code",
   "execution_count": null,
   "id": "84a79699",
   "metadata": {},
   "outputs": [],
   "source": [
    "my_string = ' a string\\n'\n",
    "my_string\n",
    "my_string.strip()"
   ]
  },
  {
   "cell_type": "markdown",
   "id": "d718cf49",
   "metadata": {},
   "source": [
    "Adding strings:"
   ]
  },
  {
   "cell_type": "code",
   "execution_count": null,
   "id": "95d8b546",
   "metadata": {},
   "outputs": [],
   "source": [
    "example + \" or two\""
   ]
  },
  {
   "cell_type": "markdown",
   "id": "77087ba3",
   "metadata": {},
   "source": [
    "Putting strings into other strings:"
   ]
  },
  {
   "cell_type": "code",
   "execution_count": null,
   "id": "33f34adb",
   "metadata": {},
   "outputs": [],
   "source": [
    "subject_id = \"sub1\"\n",
    "print(f\"Subject {subject_id} is excellent\")"
   ]
  },
  {
   "cell_type": "code",
   "execution_count": null,
   "id": "dec602e4",
   "metadata": {},
   "outputs": [],
   "source": [
    "age = 29\n",
    "print(f\"Subject {subject_id} is {age} years old\")"
   ]
  },
  {
   "cell_type": "markdown",
   "id": "da345775",
   "metadata": {},
   "source": [
    "You can do more complex formatting of numbers and strings using formatting\n",
    "options after a `:` in the placeholder for the string.  See:\n",
    "[https://docs.python.org/3.5/library/string.html#format-examples](https://docs.python.org/3.5/library/string.html#format-examples)."
   ]
  },
  {
   "cell_type": "code",
   "execution_count": null,
   "id": "1f081c2c",
   "metadata": {},
   "outputs": [],
   "source": [
    "subject_no = 4\n",
    "print(f\"Subject {subject_no:02d} is here\")"
   ]
  },
  {
   "cell_type": "markdown",
   "id": "fb12b025",
   "metadata": {},
   "source": [
    "## For loop"
   ]
  },
  {
   "cell_type": "code",
   "execution_count": null,
   "id": "20fa923e",
   "metadata": {},
   "outputs": [],
   "source": [
    "for i in range(10):\n",
    "    print(i)"
   ]
  },
  {
   "cell_type": "markdown",
   "id": "ceba03e9",
   "metadata": {},
   "source": [
    "Indentation is crucial!"
   ]
  },
  {
   "cell_type": "code",
   "execution_count": null,
   "id": "81bc8aa0",
   "metadata": {
    "tags": [
     "raises-exception"
    ]
   },
   "outputs": [],
   "source": [
    "for i in range(10):\n",
    "print(i)"
   ]
  },
  {
   "cell_type": "markdown",
   "id": "433ab024",
   "metadata": {},
   "source": [
    "Watch out for mistakes:"
   ]
  },
  {
   "cell_type": "code",
   "execution_count": null,
   "id": "95e12430",
   "metadata": {},
   "outputs": [],
   "source": [
    "for i in range(10):\n",
    "    j = i + 1\n",
    "print(j)"
   ]
  },
  {
   "cell_type": "markdown",
   "id": "7699c6fd",
   "metadata": {},
   "source": [
    "## Ifs and breaks"
   ]
  },
  {
   "cell_type": "code",
   "execution_count": null,
   "id": "a17fada9",
   "metadata": {},
   "outputs": [],
   "source": [
    "a = 2\n",
    "b = 5\n",
    "c = a + b\n",
    "if c < 6:\n",
    "    print(\"yes\")"
   ]
  },
  {
   "cell_type": "code",
   "execution_count": null,
   "id": "14b5c783",
   "metadata": {},
   "outputs": [],
   "source": [
    "if c < 6:\n",
    "    print(\"yes\")\n",
    "else:\n",
    "    print(\"no\")"
   ]
  },
  {
   "cell_type": "code",
   "execution_count": null,
   "id": "61e26437",
   "metadata": {},
   "outputs": [],
   "source": [
    "if c < 6:\n",
    "    print(\"yes\")\n",
    "elif c > 6:\n",
    "    print(\"no\")\n",
    "else:\n",
    "    print(\"kind of\")"
   ]
  },
  {
   "cell_type": "code",
   "execution_count": null,
   "id": "15df177c",
   "metadata": {},
   "outputs": [],
   "source": [
    "if True:\n",
    "    print(\"true, true!\")"
   ]
  },
  {
   "cell_type": "code",
   "execution_count": null,
   "id": "5a68243e",
   "metadata": {},
   "outputs": [],
   "source": [
    "if False:\n",
    "    print(\"never!\")"
   ]
  },
  {
   "cell_type": "code",
   "execution_count": null,
   "id": "ed9d8c94",
   "metadata": {},
   "outputs": [],
   "source": [
    "for i in range(10):\n",
    "    if i == 6:\n",
    "        break\n",
    "    print(i)"
   ]
  },
  {
   "cell_type": "code",
   "execution_count": null,
   "id": "4de299a9",
   "metadata": {},
   "outputs": [],
   "source": [
    "for i in range(10):\n",
    "    if i == 6:\n",
    "        continue\n",
    "    print(i)"
   ]
  },
  {
   "cell_type": "markdown",
   "id": "9fefaf04",
   "metadata": {},
   "source": [
    "## Logic\n",
    "\n",
    "You can use logical operators like `and`, `or` and `not`:"
   ]
  },
  {
   "cell_type": "code",
   "execution_count": null,
   "id": "49797f80",
   "metadata": {},
   "outputs": [],
   "source": [
    "strange_election = True\n",
    "uncomfortable_choices = True\n",
    "satisfying_experience = False\n",
    "strange_election and uncomfortable_choices\n",
    "strange_election and satisfying_experience\n",
    "strange_election and not satisfying_experience"
   ]
  },
  {
   "cell_type": "markdown",
   "id": "83dd8504",
   "metadata": {},
   "source": [
    "We often use these in `if` statements:"
   ]
  },
  {
   "cell_type": "code",
   "execution_count": null,
   "id": "adeb03c6",
   "metadata": {},
   "outputs": [],
   "source": [
    "if strange_election and not satisfying_experience:\n",
    "    print('Watching a lot of news')"
   ]
  },
  {
   "cell_type": "markdown",
   "id": "b14dac14",
   "metadata": {},
   "source": [
    "## Files\n",
    "\n",
    "Use [pathlib](pathlib.Rmd) to write text and read text from files.\n",
    "\n",
    "Write lines to a text file:"
   ]
  },
  {
   "cell_type": "code",
   "execution_count": null,
   "id": "af0ea6e4",
   "metadata": {},
   "outputs": [],
   "source": [
    "from pathlib import Path\n",
    "\n",
    "path = Path(\"important_notes.txt\")\n",
    "type(path)"
   ]
  },
  {
   "cell_type": "code",
   "execution_count": null,
   "id": "d045c508",
   "metadata": {},
   "outputs": [],
   "source": [
    "my_text = \"\"\"captains log 672828: I had a banana for breakfast.\n",
    "captains log 672829: I should watch less TV.\n",
    "\"\"\"\n",
    "\n",
    "print(my_text)"
   ]
  },
  {
   "cell_type": "code",
   "execution_count": null,
   "id": "bbcb7baf",
   "metadata": {},
   "outputs": [],
   "source": [
    "path.write_text(my_text)"
   ]
  },
  {
   "cell_type": "markdown",
   "id": "633ce544",
   "metadata": {},
   "source": [
    "Read lines from a text file:"
   ]
  },
  {
   "cell_type": "code",
   "execution_count": null,
   "id": "e76bd7bb",
   "metadata": {},
   "outputs": [],
   "source": [
    "text_again = path.read_text()\n",
    "print(text_again)"
   ]
  },
  {
   "cell_type": "markdown",
   "id": "e67a338e",
   "metadata": {},
   "source": [
    "Split the lines from a text into a list, where there is one element per line,\n",
    "and each element is a string:"
   ]
  },
  {
   "cell_type": "code",
   "execution_count": null,
   "id": "2c30a725",
   "metadata": {},
   "outputs": [],
   "source": [
    "# The splitlines method of a string.\n",
    "lines = text_again.splitlines()\n",
    "\n",
    "len(lines)\n",
    "print(lines[0])\n",
    "print(lines[1])"
   ]
  },
  {
   "cell_type": "markdown",
   "id": "c525f20b",
   "metadata": {},
   "source": [
    "We may want to delete the file when we've finished with it.  Again the `Path` object does the job:"
   ]
  },
  {
   "cell_type": "code",
   "execution_count": null,
   "id": "1872421f",
   "metadata": {},
   "outputs": [],
   "source": [
    "# Delete the file.\n",
    "path.unlink()"
   ]
  }
 ],
 "metadata": {
  "jupytext": {
   "notebook_metadata_filter": "all,-language_info",
   "split_at_heading": true
  },
  "kernelspec": {
   "display_name": "Python (Pyodide)",
   "name": "python"
  },
  "orphan": true
 },
 "nbformat": 4,
 "nbformat_minor": 5
}
