{
 "cells": [
  {
   "cell_type": "markdown",
   "id": "bc3effaa",
   "metadata": {},
   "source": [
    "# Introduction to Python"
   ]
  },
  {
   "cell_type": "markdown",
   "id": "dc700de4",
   "metadata": {},
   "source": [
    "## Variables\n",
    "\n",
    "Variables are named values."
   ]
  },
  {
   "cell_type": "code",
   "execution_count": null,
   "id": "1cfd04a8",
   "metadata": {},
   "outputs": [],
   "source": [
    "a = 4"
   ]
  },
  {
   "cell_type": "markdown",
   "id": "c9f7c0b2",
   "metadata": {},
   "source": [
    "Read this as:\n",
    "\n",
    "> \"a\" gets the value 4."
   ]
  },
  {
   "cell_type": "code",
   "execution_count": null,
   "id": "fd381a6c",
   "metadata": {},
   "outputs": [],
   "source": [
    "b = 6"
   ]
  },
  {
   "cell_type": "markdown",
   "id": "7fb7e7c9",
   "metadata": {},
   "source": [
    "> \"b\" gets the value 6."
   ]
  },
  {
   "cell_type": "code",
   "execution_count": null,
   "id": "5e2e1053",
   "metadata": {},
   "outputs": [],
   "source": [
    "a + b"
   ]
  },
  {
   "cell_type": "markdown",
   "id": "4a8ad704",
   "metadata": {},
   "source": [
    "You can also *update* variables, as in:"
   ]
  },
  {
   "cell_type": "code",
   "execution_count": null,
   "id": "e9c89a75",
   "metadata": {},
   "outputs": [],
   "source": [
    "a = a + 2\n",
    "a"
   ]
  },
  {
   "cell_type": "markdown",
   "id": "0ae8f7f7",
   "metadata": {},
   "source": [
    "So far we've seen numbers as values, but we can also have bits of text called\n",
    "*strings*.  Strings are bits of text between quotes."
   ]
  },
  {
   "cell_type": "code",
   "execution_count": null,
   "id": "c8706881",
   "metadata": {},
   "outputs": [],
   "source": [
    "a = \"Python\"\n",
    "c = \"MATLAB\"\n",
    "z = \" > \""
   ]
  },
  {
   "cell_type": "markdown",
   "id": "5ec1604e",
   "metadata": {},
   "source": [
    "You have seen adding numbers.  We can also add strings.  This as the effect of\n",
    "sticking them together — *concatenating* the strings:"
   ]
  },
  {
   "cell_type": "code",
   "execution_count": null,
   "id": "f99be275",
   "metadata": {},
   "outputs": [],
   "source": [
    "a + z + c"
   ]
  },
  {
   "cell_type": "markdown",
   "id": "7d9d0e84",
   "metadata": {},
   "source": [
    "Strings can have apostrophes (`'`) or inverted commas (`\"`) at either end,\n",
    "Python accepts either."
   ]
  },
  {
   "cell_type": "code",
   "execution_count": null,
   "id": "e5e30f42",
   "metadata": {},
   "outputs": [],
   "source": [
    "first = 'a string'\n",
    "second = \"b string\"\n",
    "first + second"
   ]
  },
  {
   "cell_type": "markdown",
   "id": "5e5eecd8",
   "metadata": {},
   "source": [
    "You can even use triple apostrophes or inverted commas at either end; this is\n",
    "useful for when you want to put a new line inside your string:"
   ]
  },
  {
   "cell_type": "code",
   "execution_count": null,
   "id": "ea2c17cb",
   "metadata": {},
   "outputs": [],
   "source": [
    "many_line_string = \"\"\"\n",
    "This string\n",
    "has\n",
    "several\n",
    "lines\n",
    "\"\"\"\n",
    "print(many_line_string)"
   ]
  },
  {
   "cell_type": "markdown",
   "id": "b9dfb5fa",
   "metadata": {},
   "source": [
    "Length of a string:"
   ]
  },
  {
   "cell_type": "code",
   "execution_count": null,
   "id": "41ffcc5f",
   "metadata": {},
   "outputs": [],
   "source": [
    "len(first)"
   ]
  },
  {
   "cell_type": "markdown",
   "id": "ca840354",
   "metadata": {},
   "source": [
    "Strings and numbers are different:"
   ]
  },
  {
   "cell_type": "code",
   "execution_count": null,
   "id": "baf8c9a1",
   "metadata": {
    "tags": [
     "raises-exception"
    ]
   },
   "outputs": [],
   "source": [
    "number = \"9\"\n",
    "number + 6"
   ]
  },
  {
   "cell_type": "markdown",
   "id": "846dfcda",
   "metadata": {},
   "source": [
    "We can convert between numbers and strings:"
   ]
  },
  {
   "cell_type": "code",
   "execution_count": null,
   "id": "99dd78fe",
   "metadata": {},
   "outputs": [],
   "source": [
    "int(number) + 6\n",
    "str(9)"
   ]
  },
  {
   "cell_type": "markdown",
   "id": "906d560c",
   "metadata": {},
   "source": [
    "However ..."
   ]
  },
  {
   "cell_type": "code",
   "execution_count": null,
   "id": "7efbc161",
   "metadata": {
    "tags": [
     "raises-exception"
    ]
   },
   "outputs": [],
   "source": [
    "number = \"nine\"\n",
    "int(number)"
   ]
  },
  {
   "cell_type": "markdown",
   "id": "56437ed4",
   "metadata": {},
   "source": [
    "## Lists"
   ]
  },
  {
   "cell_type": "code",
   "execution_count": null,
   "id": "41792df9",
   "metadata": {},
   "outputs": [],
   "source": [
    "an_empty_list = []\n",
    "list_with_two_items = [1, 2]\n",
    "items_can_be_diverse = [1, \"Obama\", 4.55]"
   ]
  },
  {
   "cell_type": "code",
   "execution_count": null,
   "id": "9fdb55dc",
   "metadata": {},
   "outputs": [],
   "source": [
    "example_list = []\n",
    "example_list.append(\"experiment1\")\n",
    "example_list"
   ]
  },
  {
   "cell_type": "code",
   "execution_count": null,
   "id": "2a844104",
   "metadata": {},
   "outputs": [],
   "source": [
    "example_list[0]"
   ]
  },
  {
   "cell_type": "markdown",
   "id": "4938a075",
   "metadata": {},
   "source": [
    "The length of a list (or any object that can have a length):"
   ]
  },
  {
   "cell_type": "code",
   "execution_count": null,
   "id": "dc285125",
   "metadata": {},
   "outputs": [],
   "source": [
    "len(example_list)"
   ]
  },
  {
   "cell_type": "code",
   "execution_count": null,
   "id": "29c0c842",
   "metadata": {},
   "outputs": [],
   "source": [
    "example_list.append(\"failed_experiment\")\n",
    "print(example_list)\n",
    "example_list.append(\"failed_experiment\")\n",
    "print(example_list)"
   ]
  },
  {
   "cell_type": "code",
   "execution_count": null,
   "id": "37d3f64c",
   "metadata": {},
   "outputs": [],
   "source": [
    "example_list.pop()"
   ]
  },
  {
   "cell_type": "code",
   "execution_count": null,
   "id": "a769db56",
   "metadata": {},
   "outputs": [],
   "source": [
    "example_list"
   ]
  },
  {
   "cell_type": "code",
   "execution_count": null,
   "id": "8ce50db8",
   "metadata": {},
   "outputs": [],
   "source": [
    "del example_list[0]\n",
    "example_list"
   ]
  },
  {
   "cell_type": "markdown",
   "id": "a3f4fc1a",
   "metadata": {},
   "source": [
    "`range` in returns a “range object”.  It’s like a list, but isn’t quite a\n",
    "list."
   ]
  },
  {
   "cell_type": "code",
   "execution_count": null,
   "id": "33bbca07",
   "metadata": {},
   "outputs": [],
   "source": [
    "range(10)"
   ]
  },
  {
   "cell_type": "markdown",
   "id": "21c32a84",
   "metadata": {},
   "source": [
    "You can make it into a list by using the `list` constructor.  A constructor is\n",
    "like a function, but it creates a new object, in this case a new object of type\n",
    "`list`."
   ]
  },
  {
   "cell_type": "code",
   "execution_count": null,
   "id": "c9d18b93",
   "metadata": {},
   "outputs": [],
   "source": [
    "list(range(10))"
   ]
  },
  {
   "cell_type": "markdown",
   "id": "e9c17255",
   "metadata": {},
   "source": [
    "You can also set the start element for `range`:"
   ]
  },
  {
   "cell_type": "code",
   "execution_count": null,
   "id": "956134dc",
   "metadata": {},
   "outputs": [],
   "source": [
    "list(range(2, 7))"
   ]
  },
  {
   "cell_type": "markdown",
   "id": "295da23c",
   "metadata": {},
   "source": [
    "Use `in` to ask if a element is a collection of things, such as a range, or\n",
    "a list:"
   ]
  },
  {
   "cell_type": "code",
   "execution_count": null,
   "id": "6961aba5",
   "metadata": {},
   "outputs": [],
   "source": [
    "5 in range(2, 7)\n",
    "5 in [2, 5, 7]"
   ]
  },
  {
   "cell_type": "code",
   "execution_count": null,
   "id": "ea9cee20",
   "metadata": {},
   "outputs": [],
   "source": [
    "9 in range(2, 7)"
   ]
  },
  {
   "cell_type": "markdown",
   "id": "1224999e",
   "metadata": {},
   "source": [
    "## Sets\n",
    "\n",
    "Sets are unordered, and unique.\n",
    "\n",
    "“Unordered” means the order is arbitrary, and Python reserves the right to\n",
    "return the elements in any order it likes:"
   ]
  },
  {
   "cell_type": "code",
   "execution_count": null,
   "id": "dad8c3f7",
   "metadata": {},
   "outputs": [],
   "source": [
    "our_work = set([\"metacognition\", \"mindwandering\", \"perception\"])\n",
    "print(our_work)"
   ]
  },
  {
   "cell_type": "markdown",
   "id": "1095e78c",
   "metadata": {},
   "source": [
    "If you want to get a version of the set that is ordered, use `sorted`, which\n",
    "returns a sorted list:"
   ]
  },
  {
   "cell_type": "code",
   "execution_count": null,
   "id": "d0332240",
   "metadata": {},
   "outputs": [],
   "source": [
    "sorted(our_work)"
   ]
  },
  {
   "cell_type": "markdown",
   "id": "2fb0a287",
   "metadata": {},
   "source": [
    "You can't index a set, because the indices 0, or 1, or 2 don’t correspond to\n",
    "any particular element (because the set is unordered):"
   ]
  },
  {
   "cell_type": "code",
   "execution_count": null,
   "id": "2d7fd05e",
   "metadata": {
    "tags": [
     "raises-exception"
    ]
   },
   "outputs": [],
   "source": [
    "our_work[0]"
   ]
  },
  {
   "cell_type": "markdown",
   "id": "f9c170ba",
   "metadata": {},
   "source": [
    "Add to a set with the `add` method:"
   ]
  },
  {
   "cell_type": "code",
   "execution_count": null,
   "id": "9874c732",
   "metadata": {},
   "outputs": [],
   "source": [
    "our_work.add(\"consciousness\")\n",
    "print(our_work)"
   ]
  },
  {
   "cell_type": "code",
   "execution_count": null,
   "id": "a8e4c2ef",
   "metadata": {},
   "outputs": [],
   "source": [
    "our_work.add(\"consciousness\")\n",
    "print(our_work)\n",
    "our_work.add(\"consciousness\")\n",
    "print(our_work)"
   ]
  },
  {
   "cell_type": "markdown",
   "id": "75f4735a",
   "metadata": {},
   "source": [
    "You can subtract sets:"
   ]
  },
  {
   "cell_type": "code",
   "execution_count": null,
   "id": "9fb8987c",
   "metadata": {},
   "outputs": [],
   "source": [
    "competing_labs_work = set([\"motor control\", \"decision making\", \"memory\", \"consciousness\"])\n",
    "what_we_should_focus_on = our_work - competing_labs_work\n",
    "print(what_we_should_focus_on)"
   ]
  },
  {
   "cell_type": "code",
   "execution_count": null,
   "id": "f9075b8e",
   "metadata": {},
   "outputs": [],
   "source": [
    "what_we_should_avoid = our_work.intersection(competing_labs_work)\n",
    "print(what_we_should_avoid)"
   ]
  },
  {
   "cell_type": "markdown",
   "id": "57ef12d9",
   "metadata": {},
   "source": [
    "Sets have lengths as well:"
   ]
  },
  {
   "cell_type": "code",
   "execution_count": null,
   "id": "3605c240",
   "metadata": {},
   "outputs": [],
   "source": [
    "len(what_we_should_focus_on)"
   ]
  },
  {
   "cell_type": "markdown",
   "id": "24c7a5bd",
   "metadata": {},
   "source": [
    "## Working with strings\n",
    "\n",
    "We have already seen strings. Here is another example."
   ]
  },
  {
   "cell_type": "code",
   "execution_count": null,
   "id": "e9789ff1",
   "metadata": {},
   "outputs": [],
   "source": [
    "example = \"mary had a little lamb\"\n",
    "print(example)"
   ]
  },
  {
   "cell_type": "markdown",
   "id": "bfc14366",
   "metadata": {},
   "source": [
    "String slicing:"
   ]
  },
  {
   "cell_type": "code",
   "execution_count": null,
   "id": "ced10c90",
   "metadata": {},
   "outputs": [],
   "source": [
    "example[0]"
   ]
  },
  {
   "cell_type": "code",
   "execution_count": null,
   "id": "080dc93f",
   "metadata": {},
   "outputs": [],
   "source": [
    "example[0:4]"
   ]
  },
  {
   "cell_type": "markdown",
   "id": "8bae2d6e",
   "metadata": {},
   "source": [
    "You can split strings with any character.  This breaks up the string,\n",
    "returning a list of strings broken at the separator character:"
   ]
  },
  {
   "cell_type": "code",
   "execution_count": null,
   "id": "5e8f90ff",
   "metadata": {},
   "outputs": [],
   "source": [
    "example.split(\" \")"
   ]
  },
  {
   "cell_type": "code",
   "execution_count": null,
   "id": "e71d2240",
   "metadata": {},
   "outputs": [],
   "source": [
    "example.split(\" \")[4]"
   ]
  },
  {
   "cell_type": "markdown",
   "id": "76dc0e2b",
   "metadata": {},
   "source": [
    "You can split with any character:"
   ]
  },
  {
   "cell_type": "code",
   "execution_count": null,
   "id": "1dea0925",
   "metadata": {},
   "outputs": [],
   "source": [
    "another_example = 'one:two:three'\n",
    "another_example.split(\":\")"
   ]
  },
  {
   "cell_type": "markdown",
   "id": "0933ed6a",
   "metadata": {},
   "source": [
    "You can also `strip` a string.  That returns a new string with spaces, tabs\n",
    "and end of line characters removed from the beginning and end:"
   ]
  },
  {
   "cell_type": "code",
   "execution_count": null,
   "id": "ef65ec7d",
   "metadata": {},
   "outputs": [],
   "source": [
    "my_string = ' a string\\n'\n",
    "my_string\n",
    "my_string.strip()"
   ]
  },
  {
   "cell_type": "markdown",
   "id": "8b2676cc",
   "metadata": {},
   "source": [
    "Adding strings:"
   ]
  },
  {
   "cell_type": "code",
   "execution_count": null,
   "id": "b7217f76",
   "metadata": {},
   "outputs": [],
   "source": [
    "example + \" or two\""
   ]
  },
  {
   "cell_type": "markdown",
   "id": "53095f99",
   "metadata": {},
   "source": [
    "Putting strings into other strings:"
   ]
  },
  {
   "cell_type": "code",
   "execution_count": null,
   "id": "60b77e9f",
   "metadata": {},
   "outputs": [],
   "source": [
    "subject_id = \"sub1\"\n",
    "print(f\"Subject {subject_id} is excellent\")"
   ]
  },
  {
   "cell_type": "code",
   "execution_count": null,
   "id": "45728a4f",
   "metadata": {},
   "outputs": [],
   "source": [
    "age = 29\n",
    "print(f\"Subject {subject_id} is {age} years old\")"
   ]
  },
  {
   "cell_type": "markdown",
   "id": "3ccb791d",
   "metadata": {},
   "source": [
    "You can do more complex formatting of numbers and strings using formatting\n",
    "options after a `:` in the placeholder for the string.  See:\n",
    "[https://docs.python.org/3.5/library/string.html#format-examples](https://docs.python.org/3.5/library/string.html#format-examples)."
   ]
  },
  {
   "cell_type": "code",
   "execution_count": null,
   "id": "1cc9d742",
   "metadata": {},
   "outputs": [],
   "source": [
    "subject_no = 4\n",
    "print(f\"Subject {subject_no:02d} is here\")"
   ]
  },
  {
   "cell_type": "markdown",
   "id": "60baaf9c",
   "metadata": {},
   "source": [
    "## For loop"
   ]
  },
  {
   "cell_type": "code",
   "execution_count": null,
   "id": "519c34dd",
   "metadata": {},
   "outputs": [],
   "source": [
    "for i in range(10):\n",
    "    print(i)"
   ]
  },
  {
   "cell_type": "markdown",
   "id": "5f604fde",
   "metadata": {},
   "source": [
    "Indentation is crucial!"
   ]
  },
  {
   "cell_type": "code",
   "execution_count": null,
   "id": "aca1211f",
   "metadata": {
    "tags": [
     "raises-exception"
    ]
   },
   "outputs": [],
   "source": [
    "for i in range(10):\n",
    "print(i)"
   ]
  },
  {
   "cell_type": "markdown",
   "id": "11b0d0c8",
   "metadata": {},
   "source": [
    "Watch out for mistakes:"
   ]
  },
  {
   "cell_type": "code",
   "execution_count": null,
   "id": "c6b04c64",
   "metadata": {},
   "outputs": [],
   "source": [
    "for i in range(10):\n",
    "    j = i + 1\n",
    "print(j)"
   ]
  },
  {
   "cell_type": "markdown",
   "id": "f6471c7e",
   "metadata": {},
   "source": [
    "## Ifs and breaks"
   ]
  },
  {
   "cell_type": "code",
   "execution_count": null,
   "id": "5fd6784e",
   "metadata": {},
   "outputs": [],
   "source": [
    "a = 2\n",
    "b = 5\n",
    "c = a + b\n",
    "if c < 6:\n",
    "    print(\"yes\")"
   ]
  },
  {
   "cell_type": "code",
   "execution_count": null,
   "id": "2be48cd5",
   "metadata": {},
   "outputs": [],
   "source": [
    "if c < 6:\n",
    "    print(\"yes\")\n",
    "else:\n",
    "    print(\"no\")"
   ]
  },
  {
   "cell_type": "code",
   "execution_count": null,
   "id": "e28d08d2",
   "metadata": {},
   "outputs": [],
   "source": [
    "if c < 6:\n",
    "    print(\"yes\")\n",
    "elif c > 6:\n",
    "    print(\"no\")\n",
    "else:\n",
    "    print(\"kind of\")"
   ]
  },
  {
   "cell_type": "code",
   "execution_count": null,
   "id": "d5634018",
   "metadata": {},
   "outputs": [],
   "source": [
    "if True:\n",
    "    print(\"true, true!\")"
   ]
  },
  {
   "cell_type": "code",
   "execution_count": null,
   "id": "d4f81233",
   "metadata": {},
   "outputs": [],
   "source": [
    "if False:\n",
    "    print(\"never!\")"
   ]
  },
  {
   "cell_type": "code",
   "execution_count": null,
   "id": "2d5a62fc",
   "metadata": {},
   "outputs": [],
   "source": [
    "for i in range(10):\n",
    "    if i == 6:\n",
    "        break\n",
    "    print(i)"
   ]
  },
  {
   "cell_type": "code",
   "execution_count": null,
   "id": "c54477d2",
   "metadata": {},
   "outputs": [],
   "source": [
    "for i in range(10):\n",
    "    if i == 6:\n",
    "        continue\n",
    "    print(i)"
   ]
  },
  {
   "cell_type": "markdown",
   "id": "ff7097f6",
   "metadata": {},
   "source": [
    "## Logic\n",
    "\n",
    "You can use logical operators like `and`, `or` and `not`:"
   ]
  },
  {
   "cell_type": "code",
   "execution_count": null,
   "id": "53a9caed",
   "metadata": {},
   "outputs": [],
   "source": [
    "strange_election = True\n",
    "uncomfortable_choices = True\n",
    "satisfying_experience = False\n",
    "strange_election and uncomfortable_choices\n",
    "strange_election and satisfying_experience\n",
    "strange_election and not satisfying_experience"
   ]
  },
  {
   "cell_type": "markdown",
   "id": "2df046a2",
   "metadata": {},
   "source": [
    "We often use these in `if` statements:"
   ]
  },
  {
   "cell_type": "code",
   "execution_count": null,
   "id": "10f764da",
   "metadata": {},
   "outputs": [],
   "source": [
    "if strange_election and not satisfying_experience:\n",
    "    print('Watching a lot of news')"
   ]
  },
  {
   "cell_type": "markdown",
   "id": "407442b6",
   "metadata": {},
   "source": [
    "## Files\n",
    "\n",
    "Use [pathlib](pathlib.Rmd) to write text and read text from files.\n",
    "\n",
    "Write lines to a text file:"
   ]
  },
  {
   "cell_type": "code",
   "execution_count": null,
   "id": "2ba17a18",
   "metadata": {},
   "outputs": [],
   "source": [
    "from pathlib import Path\n",
    "\n",
    "path = Path(\"important_notes.txt\")\n",
    "type(path)"
   ]
  },
  {
   "cell_type": "code",
   "execution_count": null,
   "id": "df22abb2",
   "metadata": {},
   "outputs": [],
   "source": [
    "my_text = \"\"\"captains log 672828: I had a banana for breakfast.\n",
    "captains log 672829: I should watch less TV.\n",
    "\"\"\"\n",
    "\n",
    "print(my_text)"
   ]
  },
  {
   "cell_type": "code",
   "execution_count": null,
   "id": "f81430bf",
   "metadata": {},
   "outputs": [],
   "source": [
    "path.write_text(my_text)"
   ]
  },
  {
   "cell_type": "markdown",
   "id": "0571a0e3",
   "metadata": {},
   "source": [
    "Read lines from a text file:"
   ]
  },
  {
   "cell_type": "code",
   "execution_count": null,
   "id": "362741dd",
   "metadata": {},
   "outputs": [],
   "source": [
    "text_again = path.read_text()\n",
    "print(text_again)"
   ]
  },
  {
   "cell_type": "markdown",
   "id": "96f2f4d7",
   "metadata": {},
   "source": [
    "Split the lines from a text into a list, where there is one element per line,\n",
    "and each element is a string:"
   ]
  },
  {
   "cell_type": "code",
   "execution_count": null,
   "id": "c11f51e1",
   "metadata": {},
   "outputs": [],
   "source": [
    "# The splitlines method of a string.\n",
    "lines = text_again.splitlines()\n",
    "\n",
    "len(lines)\n",
    "print(lines[0])\n",
    "print(lines[1])"
   ]
  },
  {
   "cell_type": "markdown",
   "id": "c172aee5",
   "metadata": {},
   "source": [
    "We may want to delete the file when we've finished with it.  Again the `Path` object does the job:"
   ]
  },
  {
   "cell_type": "code",
   "execution_count": null,
   "id": "6444ca39",
   "metadata": {},
   "outputs": [],
   "source": [
    "# Delete the file.\n",
    "path.unlink()"
   ]
  }
 ],
 "metadata": {
  "jupytext": {
   "notebook_metadata_filter": "all,-language_info",
   "split_at_heading": true
  },
  "kernelspec": {
   "display_name": "Python (Pyodide)",
   "name": "python"
  },
  "orphan": true
 },
 "nbformat": 4,
 "nbformat_minor": 5
}
