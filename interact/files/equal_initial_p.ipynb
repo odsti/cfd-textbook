{
 "cells": [
  {
   "cell_type": "markdown",
   "id": "d545d9e8",
   "metadata": {},
   "source": [
    "This page follows on from the [Bayes bars](bayes_bars) page.\n",
    "\n",
    "In the first part of that page, we found that, in general, we can get the\n",
    "reverse probabilities of the boxes (BOX4, BOX2), given we have seen a red\n",
    "ball, by following three steps:\n",
    "\n",
    "1. Get the probability of red given each box --- e.g: (0.8, 0.4);\n",
    "2. Scale these by the probability of each box --- e.g.: (0.3, 0.7);\n",
    "3. Divide the results by the sum of the results from step 2 to get the reverse\n",
    "   probabilities --- e.g. (0.462, 0.538).\n",
    "\n",
    "We found, in that page, that if the initial probabilities of the boxes were\n",
    "the same --- (0.5, 0.5), we could miss out the second step --- scaling by the\n",
    "box probabilities.\n",
    "\n",
    "Let's see why with a little algebra mixed with code."
   ]
  },
  {
   "cell_type": "code",
   "execution_count": null,
   "id": "c24e4998",
   "metadata": {},
   "outputs": [],
   "source": [
    "import numpy as np"
   ]
  },
  {
   "cell_type": "markdown",
   "id": "ebcf3e37",
   "metadata": {},
   "source": [
    "As you remember, the calculation works out like this:"
   ]
  },
  {
   "cell_type": "code",
   "execution_count": null,
   "id": "4b82f9cc",
   "metadata": {},
   "outputs": [],
   "source": [
    "# Step 1 - P of reds.\n",
    "red_ps = np.array([0.8, 0.4])\n",
    "# Step 2 - scale by P of the boxes\n",
    "box_ps = np.array([0.3, 0.7])\n",
    "box_and_red_probs = box_ps * red_ps\n",
    "# Step 3 - divide each bar by sum of bar heights.\n",
    "box_given_red_probs = box_and_red_probs / np.sum(box_and_red_probs)\n",
    "# Show result\n",
    "box_given_red_probs"
   ]
  },
  {
   "cell_type": "markdown",
   "id": "7496bfd0",
   "metadata": {},
   "source": [
    "Doing the same calculation, but removing the intermediate variables:"
   ]
  },
  {
   "cell_type": "code",
   "execution_count": null,
   "id": "d782399a",
   "metadata": {},
   "outputs": [],
   "source": [
    "# All in one go.\n",
    "box_ps * red_ps / np.sum(box_ps * red_ps)"
   ]
  },
  {
   "cell_type": "markdown",
   "id": "7e1afaff",
   "metadata": {},
   "source": [
    "We can replace those numbers (0.3, 0.7 etc) with variables, and do the\n",
    "calculation again. The variables are to keep track of the numbers in the\n",
    "discussion below."
   ]
  },
  {
   "cell_type": "code",
   "execution_count": null,
   "id": "0ecc5bb9",
   "metadata": {},
   "outputs": [],
   "source": [
    "# Putting the numbers into variables.\n",
    "b = 0.3  # Probability of BOX4\n",
    "c = 0.7  # Probability of BOX2\n",
    "r = 0.8  # Probability of red if you have BOX4\n",
    "s = 0.4  # Probability of red if you have BOX2\n",
    "box_ps = np.array([b, c])\n",
    "red_ps = np.array([r, s])"
   ]
  },
  {
   "cell_type": "markdown",
   "id": "ebec9acd",
   "metadata": {},
   "source": [
    "Of course we get the same answer, because we are doing the same calculation:"
   ]
  },
  {
   "cell_type": "code",
   "execution_count": null,
   "id": "b30a874c",
   "metadata": {},
   "outputs": [],
   "source": [
    "# All in one go.\n",
    "box_ps * red_ps / np.sum(box_ps * red_ps)"
   ]
  },
  {
   "cell_type": "markdown",
   "id": "6eefeadb",
   "metadata": {},
   "source": [
    "By working through the calculations that are happening above, we find this is\n",
    "the same as:"
   ]
  },
  {
   "cell_type": "code",
   "execution_count": null,
   "id": "4cac63f4",
   "metadata": {},
   "outputs": [],
   "source": [
    "# All in one go, using individual variables.\n",
    "np.array([b * r, c * s]) / ((b * r) + (c * s))"
   ]
  },
  {
   "cell_type": "markdown",
   "id": "8ad08938",
   "metadata": {},
   "source": [
    "Now --- what happens if the box probabilities are the same, and so `b == c`?"
   ]
  },
  {
   "cell_type": "code",
   "execution_count": null,
   "id": "73f4eb2e",
   "metadata": {},
   "outputs": [],
   "source": [
    "b = 0.5  # Probability of BOX4\n",
    "c = 0.5  # Probability of BOX2"
   ]
  },
  {
   "cell_type": "code",
   "execution_count": null,
   "id": "35fd91a6",
   "metadata": {},
   "outputs": [],
   "source": [
    "# Individual variables, equal box probabilities.\n",
    "np.array([b * r, c * s]) / ((b * r) + (c * s))"
   ]
  },
  {
   "cell_type": "markdown",
   "id": "31417a39",
   "metadata": {},
   "source": [
    "Because `b == c`, we can replace all the `c`s in the calculation above with\n",
    "`b`s, to get:"
   ]
  },
  {
   "cell_type": "code",
   "execution_count": null,
   "id": "b321e7a3",
   "metadata": {},
   "outputs": [],
   "source": [
    "np.array([r * b, s * b]) / ((r * b) + (s * b))"
   ]
  },
  {
   "cell_type": "markdown",
   "id": "617ab38f",
   "metadata": {},
   "source": [
    "Then we can take the `b` values outside the brackets to get:"
   ]
  },
  {
   "cell_type": "code",
   "execution_count": null,
   "id": "4737265e",
   "metadata": {},
   "outputs": [],
   "source": [
    "np.array([r, s]) * b / ((r + s) * b)"
   ]
  },
  {
   "cell_type": "markdown",
   "id": "0ecd1b23",
   "metadata": {},
   "source": [
    "The `b`s on top and bottom cancel, and so:"
   ]
  },
  {
   "cell_type": "code",
   "execution_count": null,
   "id": "81f24737",
   "metadata": {},
   "outputs": [],
   "source": [
    "np.array([r, s]) / (r + s)"
   ]
  },
  {
   "cell_type": "markdown",
   "id": "03d077c5",
   "metadata": {},
   "source": [
    "We have shown that we can omit the box probabilities from the calculation, when\n",
    "the box probabilities are equal.\n",
    "\n",
    "You might be able to see that that this will also apply if we have three or\n",
    "more boxes, all with equal probabilities.  That is the situation we find in the\n",
    "[confidence in bars](second_bayes) page."
   ]
  }
 ],
 "metadata": {
  "jupytext": {
   "notebook_metadata_filter": "all,-language_info",
   "split_at_heading": true
  },
  "kernelspec": {
   "display_name": "Python (Pyodide)",
   "name": "python"
  },
  "orphan": true
 },
 "nbformat": 4,
 "nbformat_minor": 5
}
