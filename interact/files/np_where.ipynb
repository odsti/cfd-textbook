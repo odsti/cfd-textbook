{
 "cells": [
  {
   "cell_type": "markdown",
   "id": "30f92704",
   "metadata": {},
   "source": [
    "# Numpy `where`\n",
    "\n",
    "We sometimes want to know *where* a value is in an array."
   ]
  },
  {
   "cell_type": "code",
   "execution_count": null,
   "id": "d7958c8f",
   "metadata": {},
   "outputs": [],
   "source": [
    "import numpy as np"
   ]
  },
  {
   "cell_type": "markdown",
   "id": "95917db8",
   "metadata": {},
   "source": [
    "By \"where\" we mean, the position of the element that contains a particular\n",
    "value.\n",
    "\n",
    "Here is an array."
   ]
  },
  {
   "cell_type": "code",
   "execution_count": null,
   "id": "cecec35f",
   "metadata": {},
   "outputs": [],
   "source": [
    "arr = np.array([2, 99, -1, 4, 99])\n",
    "arr"
   ]
  },
  {
   "cell_type": "markdown",
   "id": "9f33b41e",
   "metadata": {},
   "source": [
    "As you know, we can use *indexing* to get elements using their *index*\n",
    "(position) in the array.  In Python, array indices start at zero.\n",
    "\n",
    "Here's the value at index (position) 0:"
   ]
  },
  {
   "cell_type": "code",
   "execution_count": null,
   "id": "42f37b2c",
   "metadata": {},
   "outputs": [],
   "source": [
    "arr[0]"
   ]
  },
  {
   "cell_type": "markdown",
   "id": "c33240d5",
   "metadata": {},
   "source": [
    "We might also be interested to find which positions hold particular values.\n",
    "\n",
    "In our array above, by reading, and counting positions, we can see that the\n",
    "values of 99 are in positions 1 and 4.  We can ask for these elements by\n",
    "passing a list or an array between the square brackets, to index the array:"
   ]
  },
  {
   "cell_type": "code",
   "execution_count": null,
   "id": "e74c62b2",
   "metadata": {},
   "outputs": [],
   "source": [
    "positions_with_99 = np.array([1, 4])\n",
    "arr[positions_with_99]"
   ]
  },
  {
   "cell_type": "markdown",
   "id": "cd1e553b",
   "metadata": {},
   "source": [
    "Of course, we are already used to finding and then selecting elements according\n",
    "to various conditions, using *Boolean vectors*.\n",
    "\n",
    "Here we identify the elements that contain 99.  There is a `True` at the\n",
    "position where the array contains 99, and `False` otherwise."
   ]
  },
  {
   "cell_type": "code",
   "execution_count": null,
   "id": "406b2db9",
   "metadata": {},
   "outputs": [],
   "source": [
    "contains_99 = arr == 99\n",
    "contains_99"
   ]
  },
  {
   "cell_type": "markdown",
   "id": "55c42dd2",
   "metadata": {},
   "source": [
    "We can then get the 99 values with:"
   ]
  },
  {
   "cell_type": "code",
   "execution_count": null,
   "id": "5cc0feed",
   "metadata": {},
   "outputs": [],
   "source": [
    "arr[contains_99]"
   ]
  },
  {
   "cell_type": "markdown",
   "id": "a231e23c",
   "metadata": {},
   "source": [
    "## Enter \"where\"\n",
    "\n",
    "Sometimes we really do need to know the index of the values that meet a certain\n",
    "condition.\n",
    "\n",
    "In that case, you can use the Numpy [where\n",
    "function](https://docs.scipy.org/doc/numpy/reference/generated/numpy.where.html).\n",
    "`where` finds the index positions of the `True` values in Boolean vectors."
   ]
  },
  {
   "cell_type": "code",
   "execution_count": null,
   "id": "5c98cc34",
   "metadata": {},
   "outputs": [],
   "source": [
    "indices = np.where(arr == 99)\n",
    "indices"
   ]
  },
  {
   "cell_type": "markdown",
   "id": "63d53c8a",
   "metadata": {},
   "source": [
    "We can use the returned `indices` to index into the array, using square\n",
    "brackets."
   ]
  },
  {
   "cell_type": "code",
   "execution_count": null,
   "id": "c91e5a79",
   "metadata": {},
   "outputs": [],
   "source": [
    "arr[indices]"
   ]
  },
  {
   "cell_type": "markdown",
   "id": "711846ac",
   "metadata": {},
   "source": [
    "## Where summary\n",
    "\n",
    "Numpy `where` returns the indices of `True` values in a Boolean array.\n",
    "\n",
    "You can use these indices to index into an array, and get the matching\n",
    "elements."
   ]
  }
 ],
 "metadata": {
  "jupytext": {
   "notebook_metadata_filter": "all,-language_info"
  },
  "kernelspec": {
   "display_name": "Python (Pyodide)",
   "name": "python"
  },
  "orphan": true
 },
 "nbformat": 4,
 "nbformat_minor": 5
}
