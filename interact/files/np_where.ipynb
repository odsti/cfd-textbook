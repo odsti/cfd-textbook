{
 "cells": [
  {
   "cell_type": "markdown",
   "id": "b5287c3a",
   "metadata": {},
   "source": [
    "# Numpy `where`\n",
    "\n",
    "We sometimes want to know *where* a value is in an array."
   ]
  },
  {
   "cell_type": "code",
   "execution_count": null,
   "id": "7dc3411e",
   "metadata": {},
   "outputs": [],
   "source": [
    "import numpy as np"
   ]
  },
  {
   "cell_type": "markdown",
   "id": "f705375f",
   "metadata": {},
   "source": [
    "By \"where\" we mean, the position of the element that contains a particular\n",
    "value.\n",
    "\n",
    "Here is an array."
   ]
  },
  {
   "cell_type": "code",
   "execution_count": null,
   "id": "7b402384",
   "metadata": {},
   "outputs": [],
   "source": [
    "arr = np.array([2, 99, -1, 4, 99])\n",
    "arr"
   ]
  },
  {
   "cell_type": "markdown",
   "id": "4a2e0120",
   "metadata": {},
   "source": [
    "As you know, we can use *indexing* to get elements using their *index*\n",
    "(position) in the array.  In Python, array indices start at zero.\n",
    "\n",
    "Here's the value at index (position) 0:"
   ]
  },
  {
   "cell_type": "code",
   "execution_count": null,
   "id": "c7514f6b",
   "metadata": {},
   "outputs": [],
   "source": [
    "arr[0]"
   ]
  },
  {
   "cell_type": "markdown",
   "id": "5fbe3f91",
   "metadata": {},
   "source": [
    "We might also be interested to find which positions hold particular values.\n",
    "\n",
    "In our array above, by reading, and counting positions, we can see that the\n",
    "values of 99 are in positions 1 and 4.  We can ask for these elements by\n",
    "passing a list or an array between the square brackets, to index the array:"
   ]
  },
  {
   "cell_type": "code",
   "execution_count": null,
   "id": "4e4f760d",
   "metadata": {},
   "outputs": [],
   "source": [
    "positions_with_99 = np.array([1, 4])\n",
    "arr[positions_with_99]"
   ]
  },
  {
   "cell_type": "markdown",
   "id": "620b951a",
   "metadata": {},
   "source": [
    "Of course, we are already used to finding and then selecting elements according\n",
    "to various conditions, using *Boolean vectors*.\n",
    "\n",
    "Here we identify the elements that contain 99.  There is a `True` at the\n",
    "position where the array contains 99, and `False` otherwise."
   ]
  },
  {
   "cell_type": "code",
   "execution_count": null,
   "id": "e583b109",
   "metadata": {},
   "outputs": [],
   "source": [
    "contains_99 = arr == 99\n",
    "contains_99"
   ]
  },
  {
   "cell_type": "markdown",
   "id": "a1103288",
   "metadata": {},
   "source": [
    "We can then get the 99 values with:"
   ]
  },
  {
   "cell_type": "code",
   "execution_count": null,
   "id": "cef169a5",
   "metadata": {},
   "outputs": [],
   "source": [
    "arr[contains_99]"
   ]
  },
  {
   "cell_type": "markdown",
   "id": "edf5fe9b",
   "metadata": {},
   "source": [
    "## Enter \"where\"\n",
    "\n",
    "Sometimes we really do need to know the index of the values that meet a certain\n",
    "condition.\n",
    "\n",
    "In that case, you can use the Numpy [where\n",
    "function](https://docs.scipy.org/doc/numpy/reference/generated/numpy.where.html).\n",
    "`where` finds the index positions of the `True` values in Boolean vectors."
   ]
  },
  {
   "cell_type": "code",
   "execution_count": null,
   "id": "9fc537a3",
   "metadata": {},
   "outputs": [],
   "source": [
    "indices = np.where(arr == 99)\n",
    "indices"
   ]
  },
  {
   "cell_type": "markdown",
   "id": "1fc3e29f",
   "metadata": {},
   "source": [
    "We can use the returned `indices` to index into the array, using square\n",
    "brackets."
   ]
  },
  {
   "cell_type": "code",
   "execution_count": null,
   "id": "fb6c6796",
   "metadata": {},
   "outputs": [],
   "source": [
    "arr[indices]"
   ]
  },
  {
   "cell_type": "markdown",
   "id": "e5a7a56e",
   "metadata": {},
   "source": [
    "## Where summary\n",
    "\n",
    "Numpy `where` returns the indices of `True` values in a Boolean array.\n",
    "\n",
    "You can use these indices to index into an array, and get the matching\n",
    "elements."
   ]
  }
 ],
 "metadata": {
  "jupytext": {
   "notebook_metadata_filter": "all,-language_info"
  },
  "kernelspec": {
   "display_name": "Python (Pyodide)",
   "name": "python"
  },
  "orphan": true
 },
 "nbformat": 4,
 "nbformat_minor": 5
}
