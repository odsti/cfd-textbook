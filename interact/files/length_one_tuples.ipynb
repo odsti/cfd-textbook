{
 "cells": [
  {
   "cell_type": "markdown",
   "id": "b9ae1222",
   "metadata": {},
   "source": [
    "# Length 1 tuples\n",
    "\n",
    "Remember {ref}`tuples`.  For example, here are a couple of length two tuples:"
   ]
  },
  {
   "cell_type": "code",
   "execution_count": null,
   "id": "0172b4fa",
   "metadata": {},
   "outputs": [],
   "source": [
    "first_tuple = (1, 2)\n",
    "first_tuple"
   ]
  },
  {
   "cell_type": "code",
   "execution_count": null,
   "id": "3ac0af17",
   "metadata": {},
   "outputs": [],
   "source": [
    "second_tuple = (3, 4)"
   ]
  },
  {
   "cell_type": "markdown",
   "id": "f9b9db56",
   "metadata": {},
   "source": [
    "As for lists, you can add tuples, to concatenate the contents:"
   ]
  },
  {
   "cell_type": "code",
   "execution_count": null,
   "id": "d9547d4f",
   "metadata": {},
   "outputs": [],
   "source": [
    "tuples_together = first_tuple + second_tuple\n",
    "tuples_together"
   ]
  },
  {
   "cell_type": "markdown",
   "id": "1aef9726",
   "metadata": {},
   "source": [
    "## Length 1 tuples\n",
    "\n",
    "Let us say you want to write code for a tuple with only one element.\n",
    "\n",
    "You might think this would work:"
   ]
  },
  {
   "cell_type": "code",
   "execution_count": null,
   "id": "4a6266eb",
   "metadata": {},
   "outputs": [],
   "source": [
    "# Python interprets this parentheses in arithmetic.\n",
    "just_a_number = (1)\n",
    "just_a_number"
   ]
  },
  {
   "cell_type": "markdown",
   "id": "da2791a2",
   "metadata": {},
   "source": [
    "Just a single number or string, with parentheses around it, does not make a\n",
    "tuple, because Python interprets this as your usual brackets for arithmetic.\n",
    "That means that:"
   ]
  },
  {
   "cell_type": "code",
   "execution_count": null,
   "id": "9b12cc3d",
   "metadata": {},
   "outputs": [],
   "source": [
    "(1)"
   ]
  },
  {
   "cell_type": "markdown",
   "id": "56835b38",
   "metadata": {},
   "source": [
    "is exactly the same as:"
   ]
  },
  {
   "cell_type": "code",
   "execution_count": null,
   "id": "0080b62d",
   "metadata": {},
   "outputs": [],
   "source": [
    "1"
   ]
  },
  {
   "cell_type": "markdown",
   "id": "203de8f7",
   "metadata": {},
   "source": [
    "Why?  Because, Python has to decide what expressions like this mean:\n",
    "\n",
    "```python\n",
    "# Wait - what do the parentheses mean?\n",
    "(1 + 2) + (3 + 4)\n",
    "```\n",
    "\n",
    "Is this adding two one-element tuples, to give a two-element tuple `(3, 7)`? Or\n",
    "is it our usual mathematical expression giving 3 + 7 = 10.  The designer of the Python language decided it should be an arithmetical expression."
   ]
  },
  {
   "cell_type": "code",
   "execution_count": null,
   "id": "46515211",
   "metadata": {},
   "outputs": [],
   "source": [
    "# They mean parentheses as in arithmetic.\n",
    "(1 + 2) + (3 + 4)"
   ]
  },
  {
   "cell_type": "markdown",
   "id": "01a2d8b2",
   "metadata": {},
   "source": [
    "To form a length-1 tuple, you need to disambiguate what you mean by the parentheses, with a trailing comma:"
   ]
  },
  {
   "cell_type": "code",
   "execution_count": null,
   "id": "0c93774a",
   "metadata": {},
   "outputs": [],
   "source": [
    "short_tuple = (1,)  # Notice the trailing comma\n",
    "short_tuple"
   ]
  },
  {
   "cell_type": "markdown",
   "id": "9c5990c7",
   "metadata": {},
   "source": [
    "So, for example, to add two length one tuples together, as above:"
   ]
  },
  {
   "cell_type": "code",
   "execution_count": null,
   "id": "0c0dbc9a",
   "metadata": {},
   "outputs": [],
   "source": [
    "# Notice the extra comma to say - we mean these to be length-1 tuples.\n",
    "(1 + 2,) + (3 + 4,)"
   ]
  }
 ],
 "metadata": {
  "jupytext": {
   "notebook_metadata_filter": "all,-language_info",
   "split_at_heading": true
  },
  "kernelspec": {
   "display_name": "Python (Pyodide)",
   "name": "python"
  },
  "orphan": true
 },
 "nbformat": 4,
 "nbformat_minor": 5
}
