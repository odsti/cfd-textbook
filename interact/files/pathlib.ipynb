{
 "cells": [
  {
   "cell_type": "markdown",
   "id": "5b11febc",
   "metadata": {},
   "source": [
    "# Using the `pathlib` module\n",
    "\n",
    "The `pathlib` module is one several ways of manipulating and using file paths in\n",
    "Python — and the one we recommend to a beginner.\n",
    "\n",
    "The primary documentation for `pathlib` is\n",
    "<https://docs.python.org/3/library/pathlib.html>.\n",
    "\n",
    "The standard way to use the Pathlib module is to import the `Path` class from the module:"
   ]
  },
  {
   "cell_type": "code",
   "execution_count": null,
   "id": "8093d619",
   "metadata": {},
   "outputs": [],
   "source": [
    "from pathlib import Path"
   ]
  },
  {
   "cell_type": "markdown",
   "id": "3e7bbdd9",
   "metadata": {},
   "source": [
    "In Jupyter or IPython, you can tab complete on `Path` to list the methods\n",
    "(functions) and attributes attached to it.\n",
    "\n",
    "An object (value) of type `Path` represents a pathname.  A pathname is a string\n",
    "that identifies a particular file or directory on a computer filesystem.\n",
    "\n",
    "Let us start by making a default object from the `Path` class, like this:"
   ]
  },
  {
   "cell_type": "code",
   "execution_count": null,
   "id": "146426d8",
   "metadata": {},
   "outputs": [],
   "source": [
    "p = Path()\n",
    "p"
   ]
  },
  {
   "cell_type": "markdown",
   "id": "f0da8938",
   "metadata": {},
   "source": [
    "By default, the path object, here `p`, refers to our current working directory,\n",
    "or `.` for short.   `.` is a *relative path*, meaning that we specify where we\n",
    "are relative to our current directory.  `.` means we are exactly in our current\n",
    "directory.\n",
    "\n",
    "Because the `.` is a *relative path*, it does not tell us where we are in\n",
    "the filesystem, only where we are relative to the current directory.\n",
    "\n",
    "Path objects have an `absolute` function attached to them.  Another way of\n",
    "saying this is that Path objects have an `absolute` *method*.  Calling\n",
    "this method gives us the *absolute* location of the path, meaning, the\n",
    "filesystem position relative to the base location of the disk the file is\n",
    "on."
   ]
  },
  {
   "cell_type": "code",
   "execution_count": null,
   "id": "eb7e7420",
   "metadata": {},
   "outputs": [],
   "source": [
    "abs_p = p.absolute()\n",
    "abs_p"
   ]
  },
  {
   "cell_type": "markdown",
   "id": "5dbbd4c3",
   "metadata": {},
   "source": [
    "Notice the `/` in front of the absolute filename (on Unix), meaning the\n",
    "base location for all files.  You will see a drive location like `C:` or\n",
    "similar, at the front of the absolute path, if you are on Windows."
   ]
  },
  {
   "cell_type": "markdown",
   "id": "7844bd0a",
   "metadata": {},
   "source": [
    "We can always convert the `Path` object to a simple string, using the\n",
    "`str` function. `str()` converts anything to a string, if it can:"
   ]
  },
  {
   "cell_type": "code",
   "execution_count": null,
   "id": "0a716f65",
   "metadata": {},
   "outputs": [],
   "source": [
    "# The path, as a string\n",
    "str(abs_p)"
   ]
  },
  {
   "cell_type": "markdown",
   "id": "626bae20",
   "metadata": {},
   "source": [
    "Sometimes we want to get a path referring the directory *containing* a path.\n",
    "The Path object has a `parent` attribute attached to it (an attribute is data\n",
    "attached to an object).  The `parent` attribute is a Path object for the\n",
    "containing directory:"
   ]
  },
  {
   "cell_type": "code",
   "execution_count": null,
   "id": "70159dd0",
   "metadata": {},
   "outputs": [],
   "source": [
    "abs_p.parent"
   ]
  },
  {
   "cell_type": "markdown",
   "id": "534b1157",
   "metadata": {},
   "source": [
    "The `parent` attribute of the Path object gives the directory name from a\n",
    "full file path. It works correctly for Unix paths on Unix machines, and\n",
    "Windows paths on Windows machines."
   ]
  },
  {
   "cell_type": "code",
   "execution_count": null,
   "id": "904cedfd",
   "metadata": {},
   "outputs": [],
   "source": [
    "# On Unix\n",
    "a_path = Path('/a/full/path/then_filename.txt')\n",
    "# Show the directory containing the file.\n",
    "a_path.parent"
   ]
  },
  {
   "cell_type": "markdown",
   "id": "fc48f229",
   "metadata": {},
   "source": [
    "`parent` also works for relative paths."
   ]
  },
  {
   "cell_type": "code",
   "execution_count": null,
   "id": "b7ed3b9a",
   "metadata": {},
   "outputs": [],
   "source": [
    "# On Unix\n",
    "rel_path = Path('relative/path/then_filename.txt')\n",
    "rel_path.parent"
   ]
  },
  {
   "cell_type": "markdown",
   "id": "5b315a21",
   "metadata": {},
   "source": [
    "Use the `name` attribute of the Path object to get the filename rather\n",
    "than the directory name:"
   ]
  },
  {
   "cell_type": "code",
   "execution_count": null,
   "id": "c32c0ec3",
   "metadata": {},
   "outputs": [],
   "source": [
    "# On Unix\n",
    "rel_path.name"
   ]
  },
  {
   "cell_type": "markdown",
   "id": "861a3dbc",
   "metadata": {},
   "source": [
    "Sometimes you want to join one or more directory names with a filename to get a\n",
    "path.  Path objects have a clever way of doing this, by *overriding* the `/`\n",
    "(division) operator.\n",
    "\n",
    "To remind you about operator overloading, remember that addition means\n",
    "different things for numbers and strings.  For numbers, addition means\n",
    "arithmetic addition:"
   ]
  },
  {
   "cell_type": "code",
   "execution_count": null,
   "id": "465e107a",
   "metadata": {},
   "outputs": [],
   "source": [
    "# Addition for numbers\n",
    "2 + 2"
   ]
  },
  {
   "cell_type": "markdown",
   "id": "94e36b90",
   "metadata": {},
   "source": [
    "For strings, addition means concatenation — sticking the strings together:"
   ]
  },
  {
   "cell_type": "code",
   "execution_count": null,
   "id": "7cbdac80",
   "metadata": {},
   "outputs": [],
   "source": [
    "# Addition for strings.\n",
    "\"first\" + \"second\""
   ]
  },
  {
   "cell_type": "markdown",
   "id": "80e7c146",
   "metadata": {},
   "source": [
    "Path objects use the division operator `/` to mean \"stick the path fragments\n",
    "together to make a new path, where the `/` separates directories\".\n"
   ]
  },
  {
   "cell_type": "code",
   "execution_count": null,
   "id": "83c5c83e",
   "metadata": {},
   "outputs": [],
   "source": [
    "# On Unix\n",
    "Path('relative') / 'path' / 'then_filename.txt'"
   ]
  },
  {
   "cell_type": "markdown",
   "id": "5cfc9bd5",
   "metadata": {},
   "source": [
    "This also works on Windows and Unix in the same way.\n",
    "\n",
    "Sometimes you want to get the filename extension.  Use the `suffix` attribute for this:"
   ]
  },
  {
   "cell_type": "code",
   "execution_count": null,
   "id": "b5f8349e",
   "metadata": {},
   "outputs": [],
   "source": [
    "rel_path"
   ]
  },
  {
   "cell_type": "code",
   "execution_count": null,
   "id": "b4f025e7",
   "metadata": {},
   "outputs": [],
   "source": [
    "rel_path.suffix"
   ]
  },
  {
   "cell_type": "markdown",
   "id": "6006b6ad",
   "metadata": {},
   "source": [
    "You will often find yourself wanting to replace the file extension.  You can do\n",
    "this with the `with_suffix` method:"
   ]
  },
  {
   "cell_type": "code",
   "execution_count": null,
   "id": "7bfc17aa",
   "metadata": {},
   "outputs": [],
   "source": [
    "rel_path.with_suffix('.md')"
   ]
  },
  {
   "cell_type": "markdown",
   "id": "0ea55552",
   "metadata": {},
   "source": [
    "Path objects also have methods that allow you to read and write text characters and raw bytes.\n",
    "\n",
    "Let us make a new path to point to a file we will write in the current directory."
   ]
  },
  {
   "cell_type": "code",
   "execution_count": null,
   "id": "a255dd84",
   "metadata": {},
   "outputs": [],
   "source": [
    "new_path = Path() / 'a_test_file.txt'\n",
    "new_path"
   ]
  },
  {
   "cell_type": "markdown",
   "id": "cb55e14b",
   "metadata": {},
   "source": [
    "We can write text characters (strings) to this file, with the `write_text` method:"
   ]
  },
  {
   "cell_type": "code",
   "execution_count": null,
   "id": "2a1f13c4",
   "metadata": {},
   "outputs": [],
   "source": [
    "a_multiline_string = \"\"\"Some text.\n",
    "More text.\n",
    "Last text.\"\"\"\n",
    "new_path.write_text(a_multiline_string)"
   ]
  },
  {
   "cell_type": "markdown",
   "id": "b728f65f",
   "metadata": {},
   "source": [
    "We can read the text out of a file using `read_text`:"
   ]
  },
  {
   "cell_type": "code",
   "execution_count": null,
   "id": "b85e0e85",
   "metadata": {},
   "outputs": [],
   "source": [
    "new_path.read_text()"
   ]
  },
  {
   "cell_type": "markdown",
   "id": "580b2a0e",
   "metadata": {},
   "source": [
    "Similarly, we can write and read raw byte data, using `write_bytes` and `read_bytes`.\n",
    "\n",
    "It is often useful to read in a text file, and split the result into lines.  We\n",
    "do this with `read_text`, and then we use the `splitlines` method of string\n",
    "object to split the read text into lines."
   ]
  },
  {
   "cell_type": "code",
   "execution_count": null,
   "id": "3554bdcb",
   "metadata": {},
   "outputs": [],
   "source": [
    "text = new_path.read_text()\n",
    "text.splitlines()"
   ]
  },
  {
   "cell_type": "markdown",
   "id": "ca0c8184",
   "metadata": {},
   "source": [
    "## Listing files in a directory\n",
    "\n",
    "We can use the `glob` method of the `Path` object to give a list of all, or\n",
    "some files in a directory.\n",
    "\n",
    "For example, to see all files in the current directory, we could do this:"
   ]
  },
  {
   "cell_type": "code",
   "execution_count": null,
   "id": "8216af91",
   "metadata": {},
   "outputs": [],
   "source": [
    "cwd = Path()\n",
    "list(cwd.glob('*'))"
   ]
  },
  {
   "cell_type": "markdown",
   "id": "7ca530bc",
   "metadata": {},
   "source": [
    "Notice two things here."
   ]
  },
  {
   "cell_type": "markdown",
   "id": "fb0b7e01",
   "metadata": {},
   "source": [
    "### Selecting files with `glob`\n",
    "\n",
    "The argument to the `glob` method above is `'*'`.  The `'*'` tells `glob` to\n",
    "get *all* files and directories, using what is called a [Glob\n",
    "match](https://docs.python.org/3/library/glob.html).  This is a powerful\n",
    "feature that allows you to be selective in asking for the files that `glob`\n",
    "returns.  For example, if you wanted to see only the files ending with `.txt`\n",
    "you could do:"
   ]
  },
  {
   "cell_type": "code",
   "execution_count": null,
   "id": "8c3b3033",
   "metadata": {},
   "outputs": [],
   "source": [
    "list(cwd.glob('*.txt'))"
   ]
  },
  {
   "cell_type": "markdown",
   "id": "b04175f3",
   "metadata": {},
   "source": [
    "There are more detail in the page linked above."
   ]
  },
  {
   "cell_type": "markdown",
   "id": "0bf63c8e",
   "metadata": {},
   "source": [
    "### `list` around the output of `glob`\n",
    "\n",
    "Notice that we used `list` around the output of `glob`, as in, for example:"
   ]
  },
  {
   "cell_type": "code",
   "execution_count": null,
   "id": "00f32ce3",
   "metadata": {},
   "outputs": [],
   "source": [
    "list(cwd.glob('*.txt'))"
   ]
  },
  {
   "cell_type": "markdown",
   "id": "ab6e92c9",
   "metadata": {},
   "source": [
    "This is because `glob` returns something called a *generator* which *can*\n",
    "return all the Path objects, but will not do that until we ask it to."
   ]
  },
  {
   "cell_type": "code",
   "execution_count": null,
   "id": "6c393df4",
   "metadata": {},
   "outputs": [],
   "source": [
    "cwd.glob('*.txt')"
   ]
  },
  {
   "cell_type": "markdown",
   "id": "03911914",
   "metadata": {},
   "source": [
    "The `list` call converts the result into a list, and in doing so, asks the\n",
    "generator to return all the Path objects:"
   ]
  },
  {
   "cell_type": "code",
   "execution_count": null,
   "id": "11777915",
   "metadata": {},
   "outputs": [],
   "source": [
    "list(cwd.glob('*.txt'))"
   ]
  },
  {
   "cell_type": "markdown",
   "id": "f21af038",
   "metadata": {},
   "source": [
    "## Deleting files\n",
    "\n",
    "And finally, to be tidy, we use the `unlink` method to delete the temporary\n",
    "file we were using. `unlink` is [strangely\n",
    "named](https://linux.die.net/man/2/unlink), where the name refers to the way\n",
    "the computer disk system stores files, but does always have the effect of\n",
    "deleting the file."
   ]
  },
  {
   "cell_type": "code",
   "execution_count": null,
   "id": "38e40e4f",
   "metadata": {},
   "outputs": [],
   "source": [
    "new_path.unlink()"
   ]
  }
 ],
 "metadata": {
  "jupytext": {
   "notebook_metadata_filter": "all,-language_info",
   "split_at_heading": true
  },
  "kernelspec": {
   "display_name": "Python (Pyodide)",
   "name": "python"
  },
  "orphan": true
 },
 "nbformat": 4,
 "nbformat_minor": 5
}
