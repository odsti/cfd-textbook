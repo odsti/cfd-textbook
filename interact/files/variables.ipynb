{
 "cells": [
  {
   "cell_type": "markdown",
   "id": "0c27cf0f",
   "metadata": {},
   "source": [
    "# Variables in code and mathematics\n",
    "\n",
    "Variables are - things that vary.\n",
    "\n",
    "You remember variables like $x$ and $y$ from mathematics.\n",
    "\n",
    "In mathematics, we can use names, such as $x$ and $y$, to represent any value.\n",
    "\n",
    "In the piece of mathematics below, we define $y$ given any value for $x$:\n",
    "\n",
    "$$\n",
    "y = 3x + 2\n",
    "$$\n",
    "\n",
    "When we have some value for $x$, we can get the corresponding value of $y$.\n",
    "\n",
    "We give $x$ some value:\n",
    "\n",
    "$$\n",
    "x = 4\n",
    "$$\n",
    "\n",
    "We apply the rule above to give a value to $y$:\n",
    "\n",
    "$$\n",
    "y = 3 * x + 2 \\\\\n",
    "= 3 * 4 + 2 \\\\\n",
    "= 14\n",
    "$$\n",
    "\n",
    "\"x\" is a name that refers to a value.  We use the name to *represent* the\n",
    "value.  In the expression above, $x$ represents the value 4.  Of course we\n",
    "could give $x$ any value."
   ]
  },
  {
   "cell_type": "markdown",
   "id": "6621f84f",
   "metadata": {},
   "source": [
    "Variables in Python work in the same way.\n",
    "\n",
    "Variables are *names* given to *values*.  We can use the name to refer to the\n",
    "value in calculations.\n",
    "\n",
    "For example, here I say that the *name* `x` refers to the *value* 4:"
   ]
  },
  {
   "cell_type": "code",
   "execution_count": null,
   "id": "35110271",
   "metadata": {},
   "outputs": [],
   "source": [
    "x = 4"
   ]
  },
  {
   "cell_type": "markdown",
   "id": "420caf25",
   "metadata": {},
   "source": [
    "Now I can calculate a value, using that name:"
   ]
  },
  {
   "cell_type": "code",
   "execution_count": null,
   "id": "1dda92f0",
   "metadata": {},
   "outputs": [],
   "source": [
    "3 * x + 2"
   ]
  },
  {
   "cell_type": "markdown",
   "id": "8b996008",
   "metadata": {},
   "source": [
    "## Variables in expressions\n",
    "\n",
    "This is an *expression*.  You have seen expressions with numbers, but here we\n",
    "have an expression with numbers and a variable.  When Python sees the variable\n",
    "name `x` in this expression, it *evaluates* `x`, and gets the value that it\n",
    "refers to.  After Python has evaluated `x` to get 4, it ends up with this:"
   ]
  },
  {
   "cell_type": "code",
   "execution_count": null,
   "id": "23af2f2c",
   "metadata": {},
   "outputs": [],
   "source": [
    "3 * 4 + 2"
   ]
  },
  {
   "cell_type": "markdown",
   "id": "5cb6f1db",
   "metadata": {},
   "source": [
    "I can also give a name to the *result* of this expression - such as `y`:"
   ]
  },
  {
   "cell_type": "code",
   "execution_count": null,
   "id": "fed83685",
   "metadata": {},
   "outputs": [],
   "source": [
    "y = 3 * x + 2"
   ]
  },
  {
   "cell_type": "code",
   "execution_count": null,
   "id": "b0ae39c9",
   "metadata": {},
   "outputs": [],
   "source": [
    "y"
   ]
  },
  {
   "cell_type": "markdown",
   "id": "a3593846",
   "metadata": {},
   "source": [
    "If I change `x`, I change the result:"
   ]
  },
  {
   "cell_type": "code",
   "execution_count": null,
   "id": "3f1419bb",
   "metadata": {},
   "outputs": [],
   "source": [
    "x = 5\n",
    "y = 3 * x + 2\n",
    "y"
   ]
  },
  {
   "cell_type": "markdown",
   "id": "22c7c5aa",
   "metadata": {},
   "source": [
    "Variables are essential in mathematics, to express general rules for\n",
    "calculation.  For the same reason, variables are essential in Python."
   ]
  },
  {
   "cell_type": "markdown",
   "id": "54b6ea0c",
   "metadata": {},
   "source": [
    "In mathematics, we usually prefer variables with very short names - $x$ or $y$\n",
    "or $p$.  This makes them easier to read on the page."
   ]
  },
  {
   "cell_type": "markdown",
   "id": "736bf85b",
   "metadata": {},
   "source": [
    "In Python, and other programming languages, we can use variables with longer\n",
    "names, and we usually do, because we use so many variables.  Giving them\n",
    "longer names helps us remember what the variables are for.\n",
    "\n",
    "[Next](Names) we go into more detail about names and expressions."
   ]
  }
 ],
 "metadata": {
  "jupytext": {
   "notebook_metadata_filter": "language_info"
  },
  "kernelspec": {
   "display_name": "Python (Pyodide)",
   "name": "python"
  },
  "language_info": {
   "codemirror_mode": {
    "name": "ipython",
    "version": 3
   },
   "file_extension": ".py",
   "mimetype": "text/x-python",
   "name": "python",
   "nbconvert_exporter": "python",
   "pygments_lexer": "ipython3",
   "version": "3.6.5"
  }
 },
 "nbformat": 4,
 "nbformat_minor": 5
}
