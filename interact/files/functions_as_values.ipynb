{
 "cells": [
  {
   "cell_type": "markdown",
   "id": "63a34a65",
   "metadata": {},
   "source": [
    "# Functions as values\n",
    "\n",
    "In the [introduction to functions](functions), we introduced the\n",
    "metaphor of a function being a *recipe*.  It is a procedure, that\n",
    "accepts inputs, (the ingredients of the recipe), and returns an output\n",
    "(the meal from the recipe).  A function, like a recipe, usually has\n",
    "a name."
   ]
  },
  {
   "cell_type": "code",
   "execution_count": null,
   "id": "0371e83b",
   "metadata": {},
   "outputs": [],
   "source": [
    "def add(a, b):\n",
    "    return a + b"
   ]
  },
  {
   "cell_type": "markdown",
   "id": "8b1dc683",
   "metadata": {},
   "source": [
    "As we saw before, this function gets its *name* from the first line.\n",
    "The name is `add`.  The name `add` refers to the internal\n",
    "representation (IR) of the procedure of adding two numbers. In the\n",
    "same way \"Double egg cheese omelette recipe\" refers to the procedure\n",
    "of making a double egg cheese omelette.  The recipe is a procedure\n",
    "that can be applied to two eggs and some cheese, as `add` is\n",
    "a procedure that can be applied to two numbers.\n",
    "\n",
    "You have already seen Python giving names to things.  Here is an\n",
    "assignment statement:"
   ]
  },
  {
   "cell_type": "code",
   "execution_count": null,
   "id": "eacdc0b1",
   "metadata": {},
   "outputs": [],
   "source": [
    "x = 1"
   ]
  },
  {
   "cell_type": "markdown",
   "id": "111cbd7e",
   "metadata": {},
   "source": [
    "The statement gives the name `x` to the value 1.\n",
    "\n",
    "In fact, the function definition above is doing something similar.  It gives the name `add` to the procedure `a + b`.\n",
    "\n",
    "`x` is a variable name, and so is `add`.  Function names are\n",
    "just variables.  As `x` refers to the number 1, `add` refers to the\n",
    "procedure defined in the function body.\n",
    "\n",
    "With the variable `x`, I can display its value in the notebook like\n",
    "this:"
   ]
  },
  {
   "cell_type": "code",
   "execution_count": null,
   "id": "9d8e2ac6",
   "metadata": {},
   "outputs": [],
   "source": [
    "x"
   ]
  },
  {
   "cell_type": "markdown",
   "id": "94f25ed9",
   "metadata": {},
   "source": [
    "In the same way, I can display the value of the variable `add`"
   ]
  },
  {
   "cell_type": "code",
   "execution_count": null,
   "id": "5e768065",
   "metadata": {},
   "outputs": [],
   "source": [
    "add"
   ]
  },
  {
   "cell_type": "markdown",
   "id": "8b2887f3",
   "metadata": {},
   "source": [
    "`add` refers to the internal representation (IR) of the procedure.  In\n",
    "order to *apply* the procedure to particular arguments, I have to\n",
    "*call* it.  I do this by adding parentheses, with arguments inside:"
   ]
  },
  {
   "cell_type": "code",
   "execution_count": null,
   "id": "3ea47afe",
   "metadata": {},
   "outputs": [],
   "source": [
    "add(2, 3)"
   ]
  },
  {
   "cell_type": "markdown",
   "id": "70b84d87",
   "metadata": {},
   "source": [
    "Now you know that `add` is a variable referring to a procedure, what\n",
    "do you think you would get from the following?"
   ]
  },
  {
   "cell_type": "code",
   "execution_count": null,
   "id": "2752c9fc",
   "metadata": {
    "tags": [
     "raises-exception"
    ]
   },
   "outputs": [],
   "source": [
    "add * 2"
   ]
  },
  {
   "cell_type": "markdown",
   "id": "c8f4684f",
   "metadata": {},
   "source": [
    "Why is this?  Python evaluates the first expression `add`; it is\n",
    "a variable pointing to a internal representation of a function, so the\n",
    "first value is a function.  The second value is IR of int 2.  It tries\n",
    "to multiply the IR of a function by the IR of an int, and fails.\n",
    "\n",
    "We can't multiply `add` by a number, but we can multiply the result of\n",
    "*calling* `add`, because this evaluates to a number:"
   ]
  },
  {
   "cell_type": "code",
   "execution_count": null,
   "id": "27c9128a",
   "metadata": {},
   "outputs": [],
   "source": [
    "add(2, 3) * 2"
   ]
  },
  {
   "cell_type": "markdown",
   "id": "69e67b5f",
   "metadata": {},
   "source": [
    "## A variable can point to a function\n",
    "\n",
    "This will take a little getting used to.\n",
    "\n",
    "Remember, an *assignment statement* gives a *value* (from the right-hand side) to the *variable* on the left-hand side."
   ]
  },
  {
   "cell_type": "code",
   "execution_count": null,
   "id": "63d6e3a3",
   "metadata": {},
   "outputs": [],
   "source": [
    "x = 1"
   ]
  },
  {
   "cell_type": "markdown",
   "id": "8819ac97",
   "metadata": {},
   "source": [
    "As we know, we can read this as \"The variable 'x' gets the value IR of\n",
    "1\".\n",
    "\n",
    "We also know from the section above, that the function is a value.\n",
    "\n",
    "Can we set a variable to get a function as a value?  Yes. Look at this:"
   ]
  },
  {
   "cell_type": "code",
   "execution_count": null,
   "id": "74852213",
   "metadata": {},
   "outputs": [],
   "source": [
    "my_function = add"
   ]
  },
  {
   "cell_type": "markdown",
   "id": "5c72ddcf",
   "metadata": {},
   "source": [
    "Read this in the normal way: \"The variable 'my_function' gets the\n",
    "value ...\".  What is the value?  The value is the result of evaluating\n",
    "`add`, and you now know that this is the internal representation (IR) of the function.\n",
    "\n",
    "So we read the statement as \"The variable 'my_function' gets the value IR of the function originally called 'add'\".\n",
    "\n",
    "What do you think we would see if we evaluate this expression:\n",
    "`my_function(2, 3)`?\n",
    "\n",
    "What will Python do?  It first evaluates `my_function`, and gets the\n",
    "value, which is the IR of the function.  Then it sees the parentheses\n",
    "following, so it evaluates the arguments inside the brackets, and\n",
    "*calls* the function.  What function?  The function originally called\n",
    "\"add\"."
   ]
  },
  {
   "cell_type": "code",
   "execution_count": null,
   "id": "1ef6dbd3",
   "metadata": {},
   "outputs": [],
   "source": [
    "my_function(2, 3)"
   ]
  },
  {
   "cell_type": "markdown",
   "id": "c1b1a22e",
   "metadata": {},
   "source": [
    "Remember that the expression `my_function` is not the same as the\n",
    "expression `my_function(2, 3)`.  `my_function` evaluates to the IR of\n",
    "the function.  `my_function(2, 3)` evaluates to result of *calling*\n",
    "the IR of the function, with the arguments 2 and 3."
   ]
  }
 ],
 "metadata": {
  "kernelspec": {
   "display_name": "Python (Pyodide)",
   "name": "python"
  }
 },
 "nbformat": 4,
 "nbformat_minor": 5
}
