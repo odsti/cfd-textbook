{
 "cells": [
  {
   "cell_type": "markdown",
   "id": "e83427f4",
   "metadata": {},
   "source": [
    "# More on lists\n",
    "\n",
    "This section covers some more operations on lists.   See\n",
    "[lists](lists) for an introduction to lists."
   ]
  },
  {
   "cell_type": "markdown",
   "id": "b56c3250",
   "metadata": {},
   "source": [
    "## Removing values from a list\n",
    "\n",
    "Another common operation on lists, is finding and removing values."
   ]
  },
  {
   "cell_type": "markdown",
   "id": "a138b0c6",
   "metadata": {},
   "source": [
    "### Removing values by index\n",
    "\n",
    "The `pop` method of a list, removes a value at a given position in the list, and returns that value."
   ]
  },
  {
   "cell_type": "code",
   "execution_count": null,
   "id": "933d5d5e",
   "metadata": {},
   "outputs": [],
   "source": [
    "my_list = [9, 10, 3, 0]\n",
    "my_list"
   ]
  },
  {
   "cell_type": "markdown",
   "id": "7cfaa12a",
   "metadata": {},
   "source": [
    "By default, with no arguments, it removes and returns the last value in the\n",
    "list:"
   ]
  },
  {
   "cell_type": "code",
   "execution_count": null,
   "id": "60714eee",
   "metadata": {},
   "outputs": [],
   "source": [
    "last_value = my_list.pop()\n",
    "last_value"
   ]
  },
  {
   "cell_type": "markdown",
   "id": "1c0ae4c9",
   "metadata": {},
   "source": [
    "The list has lost the last value."
   ]
  },
  {
   "cell_type": "code",
   "execution_count": null,
   "id": "c6f0a416",
   "metadata": {},
   "outputs": [],
   "source": [
    "my_list"
   ]
  },
  {
   "cell_type": "markdown",
   "id": "da036a3c",
   "metadata": {},
   "source": [
    "You can give `pop` an argument, which is the position from which you want to\n",
    "get the value.   `pop` removes the element at that position, shortening the\n",
    "list by one element."
   ]
  },
  {
   "cell_type": "code",
   "execution_count": null,
   "id": "8e9de0af",
   "metadata": {},
   "outputs": [],
   "source": [
    "mid_value = my_list.pop(1)\n",
    "mid_value"
   ]
  },
  {
   "cell_type": "code",
   "execution_count": null,
   "id": "f69e4c5c",
   "metadata": {},
   "outputs": [],
   "source": [
    "my_list"
   ]
  },
  {
   "cell_type": "markdown",
   "id": "aa519f37",
   "metadata": {},
   "source": [
    "### Removing values by finding\n",
    "\n",
    "Sometimes we want to remove a certain specific value from the list.\n",
    "\n",
    "For example, let's say I have this list:"
   ]
  },
  {
   "cell_type": "code",
   "execution_count": null,
   "id": "1ce98b72",
   "metadata": {},
   "outputs": [],
   "source": [
    "my_list = [9, 10, 999, 0]"
   ]
  },
  {
   "cell_type": "markdown",
   "id": "d3ac114b",
   "metadata": {},
   "source": [
    "I realize that I don't want the 999 value.  I can `remove` it, using the `remove` method of the list:"
   ]
  },
  {
   "cell_type": "code",
   "execution_count": null,
   "id": "7d0c2b68",
   "metadata": {},
   "outputs": [],
   "source": [
    "my_list.remove(999)"
   ]
  },
  {
   "cell_type": "markdown",
   "id": "74258f21",
   "metadata": {},
   "source": [
    "This modifies my list:"
   ]
  },
  {
   "cell_type": "code",
   "execution_count": null,
   "id": "77d92728",
   "metadata": {},
   "outputs": [],
   "source": [
    "my_list"
   ]
  },
  {
   "cell_type": "markdown",
   "id": "256b23be",
   "metadata": {},
   "source": [
    "What happens if I have more than one value that matches my argument to `remove`?"
   ]
  },
  {
   "cell_type": "code",
   "execution_count": null,
   "id": "f7c8f098",
   "metadata": {},
   "outputs": [],
   "source": [
    "my_list = [9, 10, 999, 0, 999]\n",
    "my_list.remove(999)"
   ]
  },
  {
   "cell_type": "markdown",
   "id": "63a8ceae",
   "metadata": {},
   "source": [
    "We lost the *first* value that matches:"
   ]
  },
  {
   "cell_type": "code",
   "execution_count": null,
   "id": "31c9fff2",
   "metadata": {},
   "outputs": [],
   "source": [
    "my_list"
   ]
  },
  {
   "cell_type": "markdown",
   "id": "7f463430",
   "metadata": {},
   "source": [
    "## Counting number of occurrences in a list\n",
    "\n",
    "The `count` method of the list *counts* the number of occurrences of\n",
    "a particular value.  The argument to the `count` method is the value you want\n",
    "to check for."
   ]
  },
  {
   "cell_type": "code",
   "execution_count": null,
   "id": "01b19260",
   "metadata": {},
   "outputs": [],
   "source": [
    "my_list = [9, 10, 999, 0, 999]\n",
    "my_list.count(999)"
   ]
  },
  {
   "cell_type": "markdown",
   "id": "5fdf91f6",
   "metadata": {},
   "source": [
    "Now we remove one of the 999 values, and count again:"
   ]
  },
  {
   "cell_type": "code",
   "execution_count": null,
   "id": "e8d3323e",
   "metadata": {},
   "outputs": [],
   "source": [
    "my_list.remove(999)\n",
    "my_list"
   ]
  },
  {
   "cell_type": "code",
   "execution_count": null,
   "id": "01809439",
   "metadata": {},
   "outputs": [],
   "source": [
    "my_list.count(999)"
   ]
  }
 ],
 "metadata": {
  "jupytext": {
   "split_at_heading": true
  },
  "kernelspec": {
   "display_name": "Python (Pyodide)",
   "name": "python"
  }
 },
 "nbformat": 4,
 "nbformat_minor": 5
}
