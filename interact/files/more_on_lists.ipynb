{
 "cells": [
  {
   "cell_type": "markdown",
   "id": "489adc0c",
   "metadata": {},
   "source": [
    "# More on lists\n",
    "\n",
    "This section covers some more operations on lists.   See\n",
    "[lists](lists) for an introduction to lists."
   ]
  },
  {
   "cell_type": "markdown",
   "id": "55356e3b",
   "metadata": {},
   "source": [
    "## Removing values from a list\n",
    "\n",
    "Another common operation on lists, is finding and removing values."
   ]
  },
  {
   "cell_type": "markdown",
   "id": "1d2b78ef",
   "metadata": {},
   "source": [
    "### Removing values by index\n",
    "\n",
    "The `pop` method of a list, removes a value at a given position in the list, and returns that value."
   ]
  },
  {
   "cell_type": "code",
   "execution_count": null,
   "id": "a39ccbca",
   "metadata": {},
   "outputs": [],
   "source": [
    "my_list = [9, 10, 3, 0]\n",
    "my_list"
   ]
  },
  {
   "cell_type": "markdown",
   "id": "118991ba",
   "metadata": {},
   "source": [
    "By default, with no arguments, it removes and returns the last value in the\n",
    "list:"
   ]
  },
  {
   "cell_type": "code",
   "execution_count": null,
   "id": "08ad44f7",
   "metadata": {},
   "outputs": [],
   "source": [
    "last_value = my_list.pop()\n",
    "last_value"
   ]
  },
  {
   "cell_type": "markdown",
   "id": "a37d2cd9",
   "metadata": {},
   "source": [
    "The list has lost the last value."
   ]
  },
  {
   "cell_type": "code",
   "execution_count": null,
   "id": "b4e6e76a",
   "metadata": {},
   "outputs": [],
   "source": [
    "my_list"
   ]
  },
  {
   "cell_type": "markdown",
   "id": "e301df16",
   "metadata": {},
   "source": [
    "You can give `pop` an argument, which is the position from which you want to\n",
    "get the value.   `pop` removes the element at that position, shortening the\n",
    "list by one element."
   ]
  },
  {
   "cell_type": "code",
   "execution_count": null,
   "id": "f90db7e0",
   "metadata": {},
   "outputs": [],
   "source": [
    "mid_value = my_list.pop(1)\n",
    "mid_value"
   ]
  },
  {
   "cell_type": "code",
   "execution_count": null,
   "id": "c94c2850",
   "metadata": {},
   "outputs": [],
   "source": [
    "my_list"
   ]
  },
  {
   "cell_type": "markdown",
   "id": "9f9abeb0",
   "metadata": {},
   "source": [
    "### Removing values by finding\n",
    "\n",
    "Sometimes we want to remove a certain specific value from the list.\n",
    "\n",
    "For example, let's say I have this list:"
   ]
  },
  {
   "cell_type": "code",
   "execution_count": null,
   "id": "f7ddde85",
   "metadata": {},
   "outputs": [],
   "source": [
    "my_list = [9, 10, 999, 0]"
   ]
  },
  {
   "cell_type": "markdown",
   "id": "529d7b51",
   "metadata": {},
   "source": [
    "I realize that I don't want the 999 value.  I can `remove` it, using the `remove` method of the list:"
   ]
  },
  {
   "cell_type": "code",
   "execution_count": null,
   "id": "8ec8ff43",
   "metadata": {},
   "outputs": [],
   "source": [
    "my_list.remove(999)"
   ]
  },
  {
   "cell_type": "markdown",
   "id": "159fe82c",
   "metadata": {},
   "source": [
    "This modifies my list:"
   ]
  },
  {
   "cell_type": "code",
   "execution_count": null,
   "id": "e0d64807",
   "metadata": {},
   "outputs": [],
   "source": [
    "my_list"
   ]
  },
  {
   "cell_type": "markdown",
   "id": "d45723cf",
   "metadata": {},
   "source": [
    "What happens if I have more than one value that matches my argument to `remove`?"
   ]
  },
  {
   "cell_type": "code",
   "execution_count": null,
   "id": "94ab46fb",
   "metadata": {},
   "outputs": [],
   "source": [
    "my_list = [9, 10, 999, 0, 999]\n",
    "my_list.remove(999)"
   ]
  },
  {
   "cell_type": "markdown",
   "id": "c826f66d",
   "metadata": {},
   "source": [
    "We lost the *first* value that matches:"
   ]
  },
  {
   "cell_type": "code",
   "execution_count": null,
   "id": "6977953a",
   "metadata": {},
   "outputs": [],
   "source": [
    "my_list"
   ]
  },
  {
   "cell_type": "markdown",
   "id": "b3f75dc8",
   "metadata": {},
   "source": [
    "## Counting number of occurrences in a list\n",
    "\n",
    "The `count` method of the list *counts* the number of occurrences of\n",
    "a particular value.  The argument to the `count` method is the value you want\n",
    "to check for."
   ]
  },
  {
   "cell_type": "code",
   "execution_count": null,
   "id": "f5b09dab",
   "metadata": {},
   "outputs": [],
   "source": [
    "my_list = [9, 10, 999, 0, 999]\n",
    "my_list.count(999)"
   ]
  },
  {
   "cell_type": "markdown",
   "id": "6716e153",
   "metadata": {},
   "source": [
    "Now we remove one of the 999 values, and count again:"
   ]
  },
  {
   "cell_type": "code",
   "execution_count": null,
   "id": "07855502",
   "metadata": {},
   "outputs": [],
   "source": [
    "my_list.remove(999)\n",
    "my_list"
   ]
  },
  {
   "cell_type": "code",
   "execution_count": null,
   "id": "f0a6c274",
   "metadata": {},
   "outputs": [],
   "source": [
    "my_list.count(999)"
   ]
  }
 ],
 "metadata": {
  "jupytext": {
   "split_at_heading": true
  },
  "kernelspec": {
   "display_name": "Python (Pyodide)",
   "name": "python"
  }
 },
 "nbformat": 4,
 "nbformat_minor": 5
}
