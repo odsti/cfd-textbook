{
 "cells": [
  {
   "cell_type": "markdown",
   "id": "0fad352d",
   "metadata": {},
   "source": [
    "# More on lists\n",
    "\n",
    "This section covers some more operations on lists.   See\n",
    "[lists](lists) for an introduction to lists."
   ]
  },
  {
   "cell_type": "markdown",
   "id": "d651c923",
   "metadata": {},
   "source": [
    "## Removing values from a list\n",
    "\n",
    "Another common operation on lists, is finding and removing values."
   ]
  },
  {
   "cell_type": "markdown",
   "id": "f5da972d",
   "metadata": {},
   "source": [
    "### Removing values by index\n",
    "\n",
    "The `pop` method of a list, removes a value at a given position in the list, and returns that value."
   ]
  },
  {
   "cell_type": "code",
   "execution_count": null,
   "id": "af780131",
   "metadata": {},
   "outputs": [],
   "source": [
    "my_list = [9, 10, 3, 0]\n",
    "my_list"
   ]
  },
  {
   "cell_type": "markdown",
   "id": "49465b54",
   "metadata": {},
   "source": [
    "By default, with no arguments, it removes and returns the last value in the\n",
    "list:"
   ]
  },
  {
   "cell_type": "code",
   "execution_count": null,
   "id": "68e0f329",
   "metadata": {},
   "outputs": [],
   "source": [
    "last_value = my_list.pop()\n",
    "last_value"
   ]
  },
  {
   "cell_type": "markdown",
   "id": "7304aca1",
   "metadata": {},
   "source": [
    "The list has lost the last value."
   ]
  },
  {
   "cell_type": "code",
   "execution_count": null,
   "id": "926fee25",
   "metadata": {},
   "outputs": [],
   "source": [
    "my_list"
   ]
  },
  {
   "cell_type": "markdown",
   "id": "4e7722e3",
   "metadata": {},
   "source": [
    "You can give `pop` an argument, which is the position from which you want to\n",
    "get the value.   `pop` removes the element at that position, shortening the\n",
    "list by one element."
   ]
  },
  {
   "cell_type": "code",
   "execution_count": null,
   "id": "fa82071f",
   "metadata": {},
   "outputs": [],
   "source": [
    "mid_value = my_list.pop(1)\n",
    "mid_value"
   ]
  },
  {
   "cell_type": "code",
   "execution_count": null,
   "id": "6584ac98",
   "metadata": {},
   "outputs": [],
   "source": [
    "my_list"
   ]
  },
  {
   "cell_type": "markdown",
   "id": "681e9369",
   "metadata": {},
   "source": [
    "### Removing values by finding\n",
    "\n",
    "Sometimes we want to remove a certain specific value from the list.\n",
    "\n",
    "For example, let's say I have this list:"
   ]
  },
  {
   "cell_type": "code",
   "execution_count": null,
   "id": "f921bf13",
   "metadata": {},
   "outputs": [],
   "source": [
    "my_list = [9, 10, 999, 0]"
   ]
  },
  {
   "cell_type": "markdown",
   "id": "11c93b18",
   "metadata": {},
   "source": [
    "I realize that I don't want the 999 value.  I can `remove` it, using the `remove` method of the list:"
   ]
  },
  {
   "cell_type": "code",
   "execution_count": null,
   "id": "2efd9c0a",
   "metadata": {},
   "outputs": [],
   "source": [
    "my_list.remove(999)"
   ]
  },
  {
   "cell_type": "markdown",
   "id": "b2c826eb",
   "metadata": {},
   "source": [
    "This modifies my list:"
   ]
  },
  {
   "cell_type": "code",
   "execution_count": null,
   "id": "854d5e2b",
   "metadata": {},
   "outputs": [],
   "source": [
    "my_list"
   ]
  },
  {
   "cell_type": "markdown",
   "id": "ef9f169b",
   "metadata": {},
   "source": [
    "What happens if I have more than one value that matches my argument to `remove`?"
   ]
  },
  {
   "cell_type": "code",
   "execution_count": null,
   "id": "85eb3de9",
   "metadata": {},
   "outputs": [],
   "source": [
    "my_list = [9, 10, 999, 0, 999]\n",
    "my_list.remove(999)"
   ]
  },
  {
   "cell_type": "markdown",
   "id": "810279b6",
   "metadata": {},
   "source": [
    "We lost the *first* value that matches:"
   ]
  },
  {
   "cell_type": "code",
   "execution_count": null,
   "id": "9206c5da",
   "metadata": {},
   "outputs": [],
   "source": [
    "my_list"
   ]
  },
  {
   "cell_type": "markdown",
   "id": "ab3c562c",
   "metadata": {},
   "source": [
    "## Counting number of occurrences in a list\n",
    "\n",
    "The `count` method of the list *counts* the number of occurrences of\n",
    "a particular value.  The argument to the `count` method is the value you want\n",
    "to check for."
   ]
  },
  {
   "cell_type": "code",
   "execution_count": null,
   "id": "f9474d92",
   "metadata": {},
   "outputs": [],
   "source": [
    "my_list = [9, 10, 999, 0, 999]\n",
    "my_list.count(999)"
   ]
  },
  {
   "cell_type": "markdown",
   "id": "8b56a09d",
   "metadata": {},
   "source": [
    "Now we remove one of the 999 values, and count again:"
   ]
  },
  {
   "cell_type": "code",
   "execution_count": null,
   "id": "232a7a04",
   "metadata": {},
   "outputs": [],
   "source": [
    "my_list.remove(999)\n",
    "my_list"
   ]
  },
  {
   "cell_type": "code",
   "execution_count": null,
   "id": "51e77cf3",
   "metadata": {},
   "outputs": [],
   "source": [
    "my_list.count(999)"
   ]
  }
 ],
 "metadata": {
  "jupytext": {
   "split_at_heading": true
  },
  "kernelspec": {
   "display_name": "Python (Pyodide)",
   "name": "python"
  }
 },
 "nbformat": 4,
 "nbformat_minor": 5
}
