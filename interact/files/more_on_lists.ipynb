{
 "cells": [
  {
   "cell_type": "markdown",
   "id": "82255ccb",
   "metadata": {},
   "source": [
    "# More on lists\n",
    "\n",
    "This section covers some more operations on lists.   See\n",
    "[lists](lists) for an introduction to lists."
   ]
  },
  {
   "cell_type": "markdown",
   "id": "c7a94941",
   "metadata": {},
   "source": [
    "## Removing values from a list\n",
    "\n",
    "Another common operation on lists, is finding and removing values."
   ]
  },
  {
   "cell_type": "markdown",
   "id": "1be7d5ab",
   "metadata": {},
   "source": [
    "### Removing values by index\n",
    "\n",
    "The `pop` method of a list, removes a value at a given position in the list, and returns that value."
   ]
  },
  {
   "cell_type": "code",
   "execution_count": null,
   "id": "cf15c979",
   "metadata": {},
   "outputs": [],
   "source": [
    "my_list = [9, 10, 3, 0]\n",
    "my_list"
   ]
  },
  {
   "cell_type": "markdown",
   "id": "c2168653",
   "metadata": {},
   "source": [
    "By default, with no arguments, it removes and returns the last value in the\n",
    "list:"
   ]
  },
  {
   "cell_type": "code",
   "execution_count": null,
   "id": "2d46cc7d",
   "metadata": {},
   "outputs": [],
   "source": [
    "last_value = my_list.pop()\n",
    "last_value"
   ]
  },
  {
   "cell_type": "markdown",
   "id": "5dbbc426",
   "metadata": {},
   "source": [
    "The list has lost the last value."
   ]
  },
  {
   "cell_type": "code",
   "execution_count": null,
   "id": "1f049eb5",
   "metadata": {},
   "outputs": [],
   "source": [
    "my_list"
   ]
  },
  {
   "cell_type": "markdown",
   "id": "c6d5cf4c",
   "metadata": {},
   "source": [
    "You can give `pop` an argument, which is the position from which you want to\n",
    "get the value.   `pop` removes the element at that position, shortening the\n",
    "list by one element."
   ]
  },
  {
   "cell_type": "code",
   "execution_count": null,
   "id": "4cfe9b55",
   "metadata": {},
   "outputs": [],
   "source": [
    "mid_value = my_list.pop(1)\n",
    "mid_value"
   ]
  },
  {
   "cell_type": "code",
   "execution_count": null,
   "id": "d79c4e8b",
   "metadata": {},
   "outputs": [],
   "source": [
    "my_list"
   ]
  },
  {
   "cell_type": "markdown",
   "id": "bbf541de",
   "metadata": {},
   "source": [
    "### Removing values by finding\n",
    "\n",
    "Sometimes we want to remove a certain specific value from the list.\n",
    "\n",
    "For example, let's say I have this list:"
   ]
  },
  {
   "cell_type": "code",
   "execution_count": null,
   "id": "d5a895e5",
   "metadata": {},
   "outputs": [],
   "source": [
    "my_list = [9, 10, 999, 0]"
   ]
  },
  {
   "cell_type": "markdown",
   "id": "6da4f25f",
   "metadata": {},
   "source": [
    "I realize that I don't want the 999 value.  I can `remove` it, using the `remove` method of the list:"
   ]
  },
  {
   "cell_type": "code",
   "execution_count": null,
   "id": "dd99062c",
   "metadata": {},
   "outputs": [],
   "source": [
    "my_list.remove(999)"
   ]
  },
  {
   "cell_type": "markdown",
   "id": "ce6b9354",
   "metadata": {},
   "source": [
    "This modifies my list:"
   ]
  },
  {
   "cell_type": "code",
   "execution_count": null,
   "id": "c8722b01",
   "metadata": {},
   "outputs": [],
   "source": [
    "my_list"
   ]
  },
  {
   "cell_type": "markdown",
   "id": "931d9b1d",
   "metadata": {},
   "source": [
    "What happens if I have more than one value that matches my argument to `remove`?"
   ]
  },
  {
   "cell_type": "code",
   "execution_count": null,
   "id": "62159044",
   "metadata": {},
   "outputs": [],
   "source": [
    "my_list = [9, 10, 999, 0, 999]\n",
    "my_list.remove(999)"
   ]
  },
  {
   "cell_type": "markdown",
   "id": "8d17d2de",
   "metadata": {},
   "source": [
    "We lost the *first* value that matches:"
   ]
  },
  {
   "cell_type": "code",
   "execution_count": null,
   "id": "68b0a3fe",
   "metadata": {},
   "outputs": [],
   "source": [
    "my_list"
   ]
  },
  {
   "cell_type": "markdown",
   "id": "1d80dd5e",
   "metadata": {},
   "source": [
    "## Counting number of occurrences in a list\n",
    "\n",
    "The `count` method of the list *counts* the number of occurrences of\n",
    "a particular value.  The argument to the `count` method is the value you want\n",
    "to check for."
   ]
  },
  {
   "cell_type": "code",
   "execution_count": null,
   "id": "339287a7",
   "metadata": {},
   "outputs": [],
   "source": [
    "my_list = [9, 10, 999, 0, 999]\n",
    "my_list.count(999)"
   ]
  },
  {
   "cell_type": "markdown",
   "id": "0e1ace01",
   "metadata": {},
   "source": [
    "Now we remove one of the 999 values, and count again:"
   ]
  },
  {
   "cell_type": "code",
   "execution_count": null,
   "id": "e87032f5",
   "metadata": {},
   "outputs": [],
   "source": [
    "my_list.remove(999)\n",
    "my_list"
   ]
  },
  {
   "cell_type": "code",
   "execution_count": null,
   "id": "4eb38e38",
   "metadata": {},
   "outputs": [],
   "source": [
    "my_list.count(999)"
   ]
  }
 ],
 "metadata": {
  "jupytext": {
   "split_at_heading": true
  },
  "kernelspec": {
   "display_name": "Python (Pyodide)",
   "name": "python"
  }
 },
 "nbformat": 4,
 "nbformat_minor": 5
}
