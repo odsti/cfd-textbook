{
 "cells": [
  {
   "cell_type": "markdown",
   "id": "331ab519",
   "metadata": {},
   "source": [
    "# Logistic regression can fail with root mean squares"
   ]
  },
  {
   "cell_type": "code",
   "execution_count": null,
   "id": "8b6d8ecd",
   "metadata": {
    "tags": [
     "hide-cell"
    ]
   },
   "outputs": [],
   "source": [
    "import numpy as np\n",
    "import pandas as pd\n",
    "pd.set_option('mode.copy_on_write', True)\n",
    "import matplotlib.pyplot as plt\n",
    "from scipy.optimize import minimize"
   ]
  },
  {
   "cell_type": "markdown",
   "id": "12635a93",
   "metadata": {},
   "source": [
    "We read in the [mtcars\n",
    "dataset](https://www.rdocumentation.org/packages/datasets/versions/3.6.2/topics/mtcars)\n",
    "that will be very familiar to users of R:"
   ]
  },
  {
   "cell_type": "code",
   "execution_count": null,
   "id": "e6d144b9",
   "metadata": {},
   "outputs": [],
   "source": [
    "mtcars = pd.read_csv('data/mtcars.csv')\n",
    "mtcars.head()"
   ]
  },
  {
   "cell_type": "markdown",
   "id": "772358e9",
   "metadata": {},
   "source": [
    "This dataset has one row per make and model of car.  The columns have various\n",
    "measures and other information about each make and model.\n",
    "\n",
    "The columns we are interested in here are:\n",
    "\n",
    "* `mpg`: Miles/(US) gallon\n",
    "* `am`: Transmission (0 = automatic, 1 = manual)\n",
    "\n",
    "Notice that `am` is already numeric, and so is already a dummy variable."
   ]
  },
  {
   "cell_type": "code",
   "execution_count": null,
   "id": "aa82f0b7",
   "metadata": {},
   "outputs": [],
   "source": [
    "mpg = mtcars['mpg']\n",
    "am_dummy = mtcars['am']"
   ]
  },
  {
   "cell_type": "markdown",
   "id": "35f9603e",
   "metadata": {},
   "source": [
    "We will try to predict whether the car has an automatic transmission (column\n",
    "`am`) using the miles per gallon measure (column `mpg`).\n",
    "\n",
    "Here is a plot of the `am` values against the `mpg` values:"
   ]
  },
  {
   "cell_type": "code",
   "execution_count": null,
   "id": "9391cfc1",
   "metadata": {
    "tags": [
     "hide-cell"
    ]
   },
   "outputs": [],
   "source": [
    "# Code to make nice plots for binary columns.  Please ignore.\n",
    "def plot_binary(df, x_name, bin_name, bin_labels=(0, 1),\n",
    "                color_names=('red', 'blue')):\n",
    "    x_vals = df[x_name]\n",
    "    bin_vals = df[bin_name]\n",
    "    # Build plot, add custom label.\n",
    "    dummy = bin_vals.replace(bin_labels, (0, 1))\n",
    "    colors = bin_vals.replace(bin_labels, color_names)\n",
    "    plt.scatter(x_vals, dummy, c=colors)\n",
    "    plt.xlabel(x_name)\n",
    "    plt.ylabel('%s\\n0 = %s, 1 = %s' % (x_name, bin_labels[0], bin_labels[1]))\n",
    "    plt.yticks([0, 1]);  # Just label 0 and 1 on the y axis.\n",
    "    # Put a custom legend on the plot.  This code is a little obscure.\n",
    "    plt.scatter([], [], c=color_names[0], label=bin_labels[0])\n",
    "    plt.scatter([], [], c=color_names[1], label=bin_labels[1])"
   ]
  },
  {
   "cell_type": "code",
   "execution_count": null,
   "id": "1868da04",
   "metadata": {
    "tags": [
     "hide-cell"
    ]
   },
   "outputs": [],
   "source": [
    "plot_binary(mtcars, 'mpg', 'am')\n",
    "plt.legend();"
   ]
  },
  {
   "cell_type": "markdown",
   "id": "73c81f43",
   "metadata": {},
   "source": [
    "We need our machinery for calculating the inverse logit transformation,\n",
    "converting from the log-odds-ratio straight line prediction to the sigmoid\n",
    "prediction."
   ]
  },
  {
   "cell_type": "code",
   "execution_count": null,
   "id": "6333d15e",
   "metadata": {},
   "outputs": [],
   "source": [
    "def inv_logit(y):\n",
    "    \"\"\" Reverse logit transformation\n",
    "    \"\"\"\n",
    "    odds_ratios = np.exp(y)  # Reverse the log operation.\n",
    "    return odds_ratios / (odds_ratios + 1)  # Reverse odds ratios operation.\n",
    "\n",
    "\n",
    "def params2pps(intercept, slope, x):\n",
    "    \"\"\" Calculate predicted probabilities of 1 for each observation.\n",
    "    \"\"\"\n",
    "    # Predicted log odds of being in class 1.\n",
    "    predicted_log_odds = intercept + slope * x\n",
    "    return inv_logit(predicted_log_odds)"
   ]
  },
  {
   "cell_type": "markdown",
   "id": "78ccbe9e",
   "metadata": {},
   "source": [
    "This is our simple sum of square cost function comparing the sigmoid p\n",
    "predictions to the 0 / 1 labels"
   ]
  },
  {
   "cell_type": "code",
   "execution_count": null,
   "id": "15fb42d0",
   "metadata": {},
   "outputs": [],
   "source": [
    "def rmse_logit(c_s, x_values, y_values):\n",
    "    # Unpack intercept and slope into values.\n",
    "    intercept, slope = c_s\n",
    "    # Predicted p values on sigmoid\n",
    "    pps = params2pps(intercept, slope, x_values)\n",
    "    # Prediction errors.\n",
    "    sigmoid_error = y_values - pps\n",
    "    # Root mean squared error\n",
    "    return np.sqrt(np.mean(sigmoid_error ** 2))"
   ]
  },
  {
   "cell_type": "markdown",
   "id": "17a4faf2",
   "metadata": {},
   "source": [
    "We run minimize using some (it turns out) close-enough initial values for the\n",
    "log-odds intercept and slope:"
   ]
  },
  {
   "cell_type": "code",
   "execution_count": null,
   "id": "24457ac5",
   "metadata": {},
   "outputs": [],
   "source": [
    "# Guessed log-odds intercept slope of -5, 0.5\n",
    "mr_rmse_ok = minimize(rmse_logit, [-5, 0.5], args=(mpg, am_dummy))\n",
    "mr_rmse_ok"
   ]
  },
  {
   "cell_type": "markdown",
   "id": "81567ca9",
   "metadata": {},
   "source": [
    "The prediction sigmoid looks reasonable:"
   ]
  },
  {
   "cell_type": "code",
   "execution_count": null,
   "id": "73da79f8",
   "metadata": {},
   "outputs": [],
   "source": [
    "inter_ok, slope_ok = mr_rmse_ok.x\n",
    "predicted_ok = inv_logit(inter_ok + slope_ok * mpg)"
   ]
  },
  {
   "cell_type": "code",
   "execution_count": null,
   "id": "3475f773",
   "metadata": {
    "tags": [
     "hide-cell"
    ]
   },
   "outputs": [],
   "source": [
    "plot_binary(mtcars, 'mpg', 'am')\n",
    "plt.scatter(mpg, predicted_ok, c='gold', label='SS fit, OK start')\n",
    "plt.legend();"
   ]
  },
  {
   "cell_type": "markdown",
   "id": "b3bca9d3",
   "metadata": {},
   "source": [
    "But - if we start with a not-so-close initial guess for the intercept and\n",
    "slope, `minimize` gets terribly lost:"
   ]
  },
  {
   "cell_type": "code",
   "execution_count": null,
   "id": "32a2f7bf",
   "metadata": {},
   "outputs": [],
   "source": [
    "# Guessed log-odds intercept slope of 1, 1\n",
    "mr_rmse_not_ok = minimize(rmse_logit, [1, 1], args=(mpg, am_dummy))\n",
    "mr_rmse_not_ok"
   ]
  },
  {
   "cell_type": "markdown",
   "id": "1db79a1b",
   "metadata": {},
   "source": [
    "The prediction sigmoid fails completely:"
   ]
  },
  {
   "cell_type": "code",
   "execution_count": null,
   "id": "67d708e0",
   "metadata": {},
   "outputs": [],
   "source": [
    "inter_not_ok, slope_not_ok = mr_rmse_not_ok.x\n",
    "predicted_not_ok = inv_logit(inter_not_ok + slope_not_ok * mpg)"
   ]
  },
  {
   "cell_type": "code",
   "execution_count": null,
   "id": "444b33f3",
   "metadata": {
    "tags": [
     "hide-cell"
    ]
   },
   "outputs": [],
   "source": [
    "plot_binary(mtcars, 'mpg', 'am')\n",
    "plt.scatter(mpg, predicted_not_ok, c='gold', label='RMSE fit, bad start')\n",
    "plt.legend();"
   ]
  },
  {
   "cell_type": "markdown",
   "id": "e618af30",
   "metadata": {},
   "source": [
    "Can we do better with the maximum likelihood estimate (MLE) cost function?"
   ]
  },
  {
   "cell_type": "code",
   "execution_count": null,
   "id": "94e9094f",
   "metadata": {},
   "outputs": [],
   "source": [
    "def logit_reg_cost(intercept_and_slope, x, y):\n",
    "    \"\"\" Cost function for maximum likelihood\n",
    "    \"\"\"\n",
    "    intercept, slope = intercept_and_slope\n",
    "    pp1 = params2pps(intercept, slope, x)\n",
    "    p_of_y = y * pp1 + (1 - y) * (1 - pp1)\n",
    "    log_likelihood = np.sum(np.log(p_of_y))\n",
    "    return -log_likelihood"
   ]
  },
  {
   "cell_type": "markdown",
   "id": "aa56c2b9",
   "metadata": {},
   "source": [
    "Here we pass some absolutely terrible initial guesses for the intercept and slope:"
   ]
  },
  {
   "cell_type": "code",
   "execution_count": null,
   "id": "61ea2d66",
   "metadata": {},
   "outputs": [],
   "source": [
    "mr_LL = minimize(logit_reg_cost, [10, -5], args=(mpg, am_dummy))\n",
    "mr_LL"
   ]
  },
  {
   "cell_type": "markdown",
   "id": "15047c17",
   "metadata": {},
   "source": [
    "The fit is still reasonable:"
   ]
  },
  {
   "cell_type": "code",
   "execution_count": null,
   "id": "b0bb192a",
   "metadata": {},
   "outputs": [],
   "source": [
    "inter_LL, slope_LL = mr_LL.x\n",
    "predicted_LL = inv_logit(inter_LL + slope_LL * mpg)"
   ]
  },
  {
   "cell_type": "code",
   "execution_count": null,
   "id": "e602c343",
   "metadata": {},
   "outputs": [],
   "source": [
    "plot_binary(mtcars, 'mpg', 'am')\n",
    "plt.scatter(mpg, predicted_LL, c='gold', label='LL prediction')\n",
    "plt.legend();"
   ]
  },
  {
   "cell_type": "markdown",
   "id": "fe8c16a3",
   "metadata": {},
   "source": [
    "As we have seen before, the MLE fit above is the same algorithm that\n",
    "Statmodels and other packages use."
   ]
  },
  {
   "cell_type": "code",
   "execution_count": null,
   "id": "da72f37b",
   "metadata": {},
   "outputs": [],
   "source": [
    "import statsmodels.formula.api as smf"
   ]
  },
  {
   "cell_type": "code",
   "execution_count": null,
   "id": "f5b8b8b1",
   "metadata": {},
   "outputs": [],
   "source": [
    "model = smf.logit('am ~ mpg', data=mtcars)\n",
    "fit = model.fit()\n",
    "fit.summary()"
   ]
  },
  {
   "cell_type": "markdown",
   "id": "0674931b",
   "metadata": {},
   "source": [
    "Notice that the intercept and slope coefficients are the same as the ones we\n",
    "found with the MLE cost function and minimize."
   ]
  }
 ],
 "metadata": {
  "jupytext": {
   "notebook_metadata_filter": "all,-language_info",
   "split_at_heading": true
  },
  "kernelspec": {
   "display_name": "Python (Pyodide)",
   "name": "python"
  },
  "orphan": true
 },
 "nbformat": 4,
 "nbformat_minor": 5
}
