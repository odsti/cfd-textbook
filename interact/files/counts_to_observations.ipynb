{
 "cells": [
  {
   "cell_type": "markdown",
   "id": "77acc382",
   "metadata": {},
   "source": [
    "# Counts to observations"
   ]
  },
  {
   "cell_type": "code",
   "execution_count": null,
   "id": "3ae4647d",
   "metadata": {},
   "outputs": [],
   "source": [
    "import numpy as np\n",
    "import pandas as pd\n",
    "pd.set_option('mode.copy_on_write', True)"
   ]
  },
  {
   "cell_type": "markdown",
   "id": "caee397f",
   "metadata": {},
   "source": [
    "We often find ourselves with a counts table like this:"
   ]
  },
  {
   "cell_type": "code",
   "execution_count": null,
   "id": "27126596",
   "metadata": {},
   "outputs": [],
   "source": [
    "# The counts table from the Fisher's Tea page.\n",
    "fishers_counts = pd.DataFrame(\n",
    "    data=[[4, 0], [0, 4]],\n",
    "    columns=pd.Index(['no', 'yes'], name='says milk first'),\n",
    "    index=pd.Index(['no', 'yes'], name='milk_first'))\n",
    "fishers_counts"
   ]
  },
  {
   "cell_type": "markdown",
   "id": "3029eb22",
   "metadata": {},
   "source": [
    "Call this a *counts table*.\n",
    "\n",
    "If we want to make inferences from this table, we may well want to reconstruct the observation to which this corresponds.\n",
    "\n",
    "Think of the counts table as the result of doing a crosstabulation on the observations table.  We have the counts table - can we reconstruct the observations table."
   ]
  },
  {
   "cell_type": "markdown",
   "id": "81d3eda2",
   "metadata": {},
   "source": [
    "The counts table says that:\n",
    "\n",
    "* There were 4 'no', 'no' observations;\n",
    "* There were 0 'no', 'yes' observations;\n",
    "* There were 0 'yes', 'no' observations;\n",
    "* There were 4 'yes', 'yes' observations;"
   ]
  },
  {
   "cell_type": "markdown",
   "id": "f1a55331",
   "metadata": {},
   "source": [
    "We can rebuild this by hand using `np.repeat`.  Let's make an observations data frame that corresponds just to the observations making up the top left count ('no', 'no')"
   ]
  },
  {
   "cell_type": "code",
   "execution_count": null,
   "id": "d2c913fe",
   "metadata": {},
   "outputs": [],
   "source": [
    "n = fishers_counts.loc['no', 'no']\n",
    "no_no_obs = pd.DataFrame()  # An empty data frame\n",
    "no_no_obs['milk_first'] = np.repeat(['no'], n)\n",
    "no_no_obs['says_milk_first'] = np.repeat(['no'], n)\n",
    "no_no_obs"
   ]
  },
  {
   "cell_type": "markdown",
   "id": "1dc02286",
   "metadata": {},
   "source": [
    "Then we can do the same for the top right count:"
   ]
  },
  {
   "cell_type": "code",
   "execution_count": null,
   "id": "b3c9df62",
   "metadata": {},
   "outputs": [],
   "source": [
    "n = fishers_counts.loc['no', 'yes']\n",
    "no_yes_obs = pd.DataFrame()  # An empty data frame\n",
    "no_yes_obs['milk_first'] = np.repeat(['no'], n)\n",
    "no_yes_obs['says_milk_first'] = np.repeat(['yes'], n)\n",
    "no_yes_obs"
   ]
  },
  {
   "cell_type": "markdown",
   "id": "fabf4fd6",
   "metadata": {},
   "source": [
    "Aha - in our case, there were no observations corresponding to `no`, `yes`"
   ]
  },
  {
   "cell_type": "code",
   "execution_count": null,
   "id": "aa6f5395",
   "metadata": {},
   "outputs": [],
   "source": [
    "n"
   ]
  },
  {
   "cell_type": "markdown",
   "id": "7ecc6d15",
   "metadata": {},
   "source": [
    "Let's generalize this process by going through all the column labels and all the row labels."
   ]
  },
  {
   "cell_type": "code",
   "execution_count": null,
   "id": "e5954918",
   "metadata": {},
   "outputs": [],
   "source": [
    "row_labels = list(fishers_counts.index)\n",
    "row_labels"
   ]
  },
  {
   "cell_type": "code",
   "execution_count": null,
   "id": "b7885bb8",
   "metadata": {},
   "outputs": [],
   "source": [
    "col_labels = list(fishers_counts.columns)\n",
    "col_labels\n",
    "# We would get the same result from just list(fishers_counts)"
   ]
  },
  {
   "cell_type": "markdown",
   "id": "c828f88a",
   "metadata": {},
   "source": [
    "We need labels for our observation columns.\n",
    "\n",
    "In our case, with our nicely labeled count table, we could get these from the index and column object names, like this:"
   ]
  },
  {
   "cell_type": "code",
   "execution_count": null,
   "id": "ad2718d1",
   "metadata": {},
   "outputs": [],
   "source": [
    "actual_obs_col_names = [\n",
    "    fishers_counts.index.name,\n",
    "    fishers_counts.columns.name\n",
    "]\n",
    "actual_obs_col_names"
   ]
  },
  {
   "cell_type": "markdown",
   "id": "04376574",
   "metadata": {},
   "source": [
    "However, soon, we will be working with counts tables that aren't so comprehensively named, and may well lack names for the row label index, and for the column label index.   Instead, let's use some default labels to indicate that the values in the first column of the observation table come from the row labels of the counts table, and the values in the second column come from the column labels:"
   ]
  },
  {
   "cell_type": "code",
   "execution_count": null,
   "id": "9fbbfa4d",
   "metadata": {},
   "outputs": [],
   "source": [
    "obs_col_names = ['label_from_row', 'label_from_col']\n",
    "r_col, c_col = obs_col_names"
   ]
  },
  {
   "cell_type": "markdown",
   "id": "52d18eb7",
   "metadata": {},
   "source": [
    "We can rewrite compiling our first set of observations like this:"
   ]
  },
  {
   "cell_type": "code",
   "execution_count": null,
   "id": "3f794ca8",
   "metadata": {},
   "outputs": [],
   "source": [
    "# The first set of observations (top-left):\n",
    "row_label = row_labels[0]  # Get first row label.\n",
    "col_label = col_labels[0]  # Get first column label.\n",
    "n = fishers_counts.loc[row_label, col_label]\n",
    "these_obs = pd.DataFrame()  # An empty data frame\n",
    "these_obs[r_col] = np.repeat([row_label], n)\n",
    "these_obs[c_col] = np.repeat([col_label], n)\n",
    "these_obs"
   ]
  },
  {
   "cell_type": "code",
   "execution_count": null,
   "id": "1c4541bf",
   "metadata": {},
   "outputs": [],
   "source": [
    "# The second set of observations (top-right):\n",
    "row_label = row_labels[0]  # Get first row label.\n",
    "col_label = col_labels[1]  # Get second column label.\n",
    "n = fishers_counts.loc[row_label, col_label]\n",
    "these_obs = pd.DataFrame()  # An empty data frame\n",
    "these_obs[r_col] = np.repeat([row_label], n)\n",
    "these_obs[c_col] = np.repeat([col_label], n)\n",
    "these_obs"
   ]
  },
  {
   "cell_type": "markdown",
   "id": "ccf9eb28",
   "metadata": {},
   "source": [
    "And we can generalize further to make all the corresponding observation rows, using `for` loops:"
   ]
  },
  {
   "cell_type": "code",
   "execution_count": null,
   "id": "68e9f750",
   "metadata": {},
   "outputs": [],
   "source": [
    "obs_rows = []  # List to collect observation rows.\n",
    "for row_label in row_labels:\n",
    "    for col_label in col_labels:\n",
    "        n = fishers_counts.loc[row_label, col_label]\n",
    "        these_obs = pd.DataFrame()  # An empty data frame\n",
    "        these_obs[r_col] = np.repeat([row_label], n)\n",
    "        these_obs[c_col] = np.repeat([col_label], n)\n",
    "        obs_rows.append(these_obs)\n",
    "len(obs_rows)"
   ]
  },
  {
   "cell_type": "markdown",
   "id": "75ad8d65",
   "metadata": {},
   "source": [
    "We can use `pd.concat` to stack these rows together, compiling the observations table:"
   ]
  },
  {
   "cell_type": "code",
   "execution_count": null,
   "id": "64aea301",
   "metadata": {},
   "outputs": [],
   "source": [
    "obs_table = pd.concat(obs_rows, axis=0)\n",
    "obs_table"
   ]
  },
  {
   "cell_type": "markdown",
   "id": "f921cb43",
   "metadata": {},
   "source": [
    "Notice the observation table still has the original row labels from the constituent list of observation rows - and these are rather confusing.  We reset with `reset_index`:"
   ]
  },
  {
   "cell_type": "code",
   "execution_count": null,
   "id": "cd1bbbd2",
   "metadata": {},
   "outputs": [],
   "source": [
    "obs_table = obs_table.reset_index(drop=True)\n",
    "obs_table"
   ]
  },
  {
   "cell_type": "markdown",
   "id": "5c6a7dce",
   "metadata": {},
   "source": [
    "We can generalize this even further, by putting all this into a function:"
   ]
  },
  {
   "cell_type": "code",
   "execution_count": null,
   "id": "e79f4408",
   "metadata": {},
   "outputs": [],
   "source": [
    "def counts2obs(counts_tab,\n",
    "               obs_cols=None):\n",
    "    if obs_cols is None:\n",
    "        obs_cols = ['label_from_row', 'label_from_col']\n",
    "    r_col, c_col = obs_cols\n",
    "    obs_rows = []  # List to collect observation rows.\n",
    "    for row_label in row_labels:\n",
    "        for col_label in col_labels:\n",
    "            n = counts_tab.loc[row_label, col_label]\n",
    "            these_obs = pd.DataFrame()  # An empty data frame\n",
    "            these_obs[r_col] = np.repeat([row_label], n)\n",
    "            these_obs[c_col] = np.repeat([col_label], n)\n",
    "            obs_rows.append(these_obs)\n",
    "    return pd.concat(obs_rows, axis=0).reset_index(drop=True)"
   ]
  },
  {
   "cell_type": "code",
   "execution_count": null,
   "id": "de4f99a0",
   "metadata": {},
   "outputs": [],
   "source": [
    "counts2obs(fishers_counts)"
   ]
  },
  {
   "cell_type": "code",
   "execution_count": null,
   "id": "4bfef67b",
   "metadata": {},
   "outputs": [],
   "source": [
    "obs = counts2obs(fishers_counts, ['milk_first', 'says_milk_first'])\n",
    "obs"
   ]
  },
  {
   "cell_type": "markdown",
   "id": "a7e7152b",
   "metadata": {},
   "source": [
    "We check we get the original table back from `pd.crosstab`:"
   ]
  },
  {
   "cell_type": "code",
   "execution_count": null,
   "id": "8ef76a26",
   "metadata": {},
   "outputs": [],
   "source": [
    "pd.crosstab(obs['milk_first'], obs['says_milk_first'])"
   ]
  }
 ],
 "metadata": {
  "jupytext": {
   "notebook_metadata_filter": "all,-language_info",
   "split_at_heading": true
  },
  "kernelspec": {
   "display_name": "Python (Pyodide)",
   "name": "python"
  }
 },
 "nbformat": 4,
 "nbformat_minor": 5
}
