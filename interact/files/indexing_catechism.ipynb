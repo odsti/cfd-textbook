{
 "cells": [
  {
   "cell_type": "markdown",
   "id": "aa5ebb64",
   "metadata": {},
   "source": [
    "# The doctrine of Pandas indexing"
   ]
  },
  {
   "cell_type": "code",
   "execution_count": null,
   "id": "d16f40a5",
   "metadata": {},
   "outputs": [],
   "source": [
    "# Load the Numpy library, rename to \"np\"\n",
    "import numpy as np\n",
    "\n",
    "# Load the Pandas data science library, rename to \"pd\"\n",
    "import pandas as pd\n",
    "\n",
    "# Safe setting for Pandas.  Needs Pandas version >= 1.5.\n",
    "pd.set_option('mode.copy_on_write', True)"
   ]
  },
  {
   "cell_type": "code",
   "execution_count": null,
   "id": "83ca0bec",
   "metadata": {},
   "outputs": [],
   "source": [
    "# Read the CSV to a DataFrame.\n",
    "ratings = pd.read_csv('data/rate_my_course.csv')\n",
    "# Change the default numerical row labels to be the discipline name.\n",
    "named_ratings = ratings.set_index('Discipline')\n",
    "named_ratings.head()"
   ]
  },
  {
   "cell_type": "markdown",
   "id": "2ef564e7",
   "metadata": {},
   "source": [
    "## The catechism"
   ]
  },
  {
   "cell_type": "markdown",
   "id": "8624d2a5",
   "metadata": {},
   "source": [
    "A [catechism](https://en.wikipedia.org/wiki/Catechism) is an exposition of\n",
    "doctrine.  Here we exposit the doctrine of Pandas indexing.  Pronounce\n",
    "catechism as kata-kism.\n",
    "\n",
    "There are two *routes* to Pandas indexing:\n",
    "\n",
    "* Direct indexing (square brackets follow the value).\n",
    "* Indirect indexing (square brackets follow `.loc` or `.iloc`."
   ]
  },
  {
   "cell_type": "markdown",
   "id": "deed8dc1",
   "metadata": {},
   "source": [
    "### Direct indexing - keep it Simple"
   ]
  },
  {
   "cell_type": "markdown",
   "id": "35b15af4",
   "metadata": {},
   "source": [
    "When using *direct indexing* you should restrict yourself to *simple indexing*.  Simple indexing is the name we use when you use only one of two types of things within the square brackets:\n",
    "\n",
    "* Column labels (direct indexing with column labels - DICL).\n",
    "* A Boolean Series (direct indexing with Boolean Series - DIBS)."
   ]
  },
  {
   "cell_type": "markdown",
   "id": "5797ae5a",
   "metadata": {},
   "source": [
    "### Direct indexing with Column Labels"
   ]
  },
  {
   "cell_type": "code",
   "execution_count": null,
   "id": "63ccacc8",
   "metadata": {},
   "outputs": [],
   "source": [
    "# DICL - one column label between square brackets gives a Series.\n",
    "easiness = named_ratings['Easiness']\n",
    "easiness"
   ]
  },
  {
   "cell_type": "code",
   "execution_count": null,
   "id": "01052a5c",
   "metadata": {},
   "outputs": [],
   "source": [
    "# DICL again - more than one column label gives a DataFrame\n",
    "column_labels = ['Clarity', 'Easiness']\n",
    "thinner_ratings = named_ratings[column_labels]\n",
    "thinner_ratings"
   ]
  },
  {
   "cell_type": "markdown",
   "id": "82a3888e",
   "metadata": {},
   "source": [
    "### Direct indexing with Boolean Series"
   ]
  },
  {
   "cell_type": "code",
   "execution_count": null,
   "id": "992d7577",
   "metadata": {},
   "outputs": [],
   "source": [
    "# Create a Boolean Series by doing a comparison on a Series\n",
    "is_easy = easiness > 3.5\n",
    "is_easy"
   ]
  },
  {
   "cell_type": "code",
   "execution_count": null,
   "id": "4c7c5d69",
   "metadata": {},
   "outputs": [],
   "source": [
    "# DIBS selects *rows*, giving a DataFrame with one row per True\n",
    "# element in the Boolean Series\n",
    "easy_ratings = named_ratings[is_easy]\n",
    "easy_ratings"
   ]
  },
  {
   "cell_type": "markdown",
   "id": "4a9ae5c7",
   "metadata": {},
   "source": [
    "### Indirect indexing - two indexing targets"
   ]
  },
  {
   "cell_type": "markdown",
   "id": "57af878a",
   "metadata": {},
   "source": [
    "You can *target* (look at) the row and column *labels* using `.loc` (think L for Label indexing).\n",
    "\n",
    "You can *target* (look at) the row and column *positions* using `.iloc` (think I for Integer indexing)."
   ]
  },
  {
   "cell_type": "markdown",
   "id": "84177fbe",
   "metadata": {},
   "source": [
    "### `.loc` gives indirect indexing targeting labels"
   ]
  },
  {
   "cell_type": "code",
   "execution_count": null,
   "id": "dd2fcd14",
   "metadata": {},
   "outputs": [],
   "source": [
    "# Select a single row by label, to get a Series.\n",
    "named_ratings.loc['English']"
   ]
  },
  {
   "cell_type": "code",
   "execution_count": null,
   "id": "40598ec4",
   "metadata": {},
   "outputs": [],
   "source": [
    "# Select a single value by specifying the row and column label.\n",
    "named_ratings.loc['English', 'Easiness']"
   ]
  },
  {
   "cell_type": "code",
   "execution_count": null,
   "id": "c09e716c",
   "metadata": {},
   "outputs": [],
   "source": [
    "# Select a column by label, asking for all rows (the ':').\n",
    "named_ratings.loc[:, 'Easiness']"
   ]
  },
  {
   "cell_type": "markdown",
   "id": "fc6fd6e1",
   "metadata": {},
   "source": [
    "You can select values with Boolean Series using indirect indexing:"
   ]
  },
  {
   "cell_type": "code",
   "execution_count": null,
   "id": "1b2e4548",
   "metadata": {},
   "outputs": [],
   "source": [
    "# Select rows where Easiness > 3.5 using .loc with Boolean Series.\n",
    "named_ratings.loc[is_easy]"
   ]
  },
  {
   "cell_type": "code",
   "execution_count": null,
   "id": "16a84d6d",
   "metadata": {},
   "outputs": [],
   "source": [
    "# Select Clarity column from rows where Easiness > 3.5\n",
    "named_ratings.loc[is_easy, 'Clarity']"
   ]
  },
  {
   "cell_type": "markdown",
   "id": "677e4155",
   "metadata": {},
   "source": [
    "### `.iloc` gives indirect indexing targeting positions"
   ]
  },
  {
   "cell_type": "code",
   "execution_count": null,
   "id": "ff03be4b",
   "metadata": {},
   "outputs": [],
   "source": [
    "# Select a single row by position, to get a Series.\n",
    "# The first row (by position) is English.\n",
    "named_ratings.iloc[0]"
   ]
  },
  {
   "cell_type": "code",
   "execution_count": null,
   "id": "e8cf2ccb",
   "metadata": {},
   "outputs": [],
   "source": [
    "# Select a single value by specifying the row and column positions.\n",
    "# Easiness is the last column (position -1).\n",
    "named_ratings.iloc[0, -1]"
   ]
  },
  {
   "cell_type": "code",
   "execution_count": null,
   "id": "ba30ed76",
   "metadata": {},
   "outputs": [],
   "source": [
    "# Select a column by position, asking for all rows (the ':').\n",
    "named_ratings.iloc[:, -1]"
   ]
  },
  {
   "cell_type": "markdown",
   "id": "fc9a5eda",
   "metadata": {},
   "source": [
    "In fact, you can't use Boolean Series for indexing with `.iloc`, because Pandas\n",
    "won't let you use a thing with labels for `iloc` indexing."
   ]
  },
  {
   "cell_type": "code",
   "execution_count": null,
   "id": "0852c1b0",
   "metadata": {
    "tags": [
     "raises-exception"
    ]
   },
   "outputs": [],
   "source": [
    "# You can't use Boolean Series for iloc indexing.\n",
    "named_ratings.iloc[is_easy]"
   ]
  },
  {
   "cell_type": "markdown",
   "id": "f546e222",
   "metadata": {},
   "source": [
    "If you really want to do Boolean indexing with `.iloc`, strip the labels (the\n",
    "`index`) off the thing you are using for indexing:"
   ]
  },
  {
   "cell_type": "code",
   "execution_count": null,
   "id": "e605f0e6",
   "metadata": {},
   "outputs": [],
   "source": [
    "is_easy_arr = np.array(is_easy)   # Strip off the labels.\n",
    "named_ratings.iloc[is_easy_arr]"
   ]
  },
  {
   "cell_type": "markdown",
   "id": "4bbdfd52",
   "metadata": {},
   "source": [
    "## Trap! Alarm!  The row labels can be integers"
   ]
  },
  {
   "cell_type": "markdown",
   "id": "c7681aa5",
   "metadata": {},
   "source": [
    "Unless you tell it otherwise, Pandas will default to giving rows labels that\n",
    "are *integers*, rather than names.  Therefore your *row labels will often be\n",
    "integers*. That can be confusing, because the *labels* can look like\n",
    "*positions*, when they are not."
   ]
  },
  {
   "cell_type": "code",
   "execution_count": null,
   "id": "a54cc82e",
   "metadata": {},
   "outputs": [],
   "source": [
    "# The default row labels are sequential integers.\n",
    "ratings = pd.read_csv('data/rate_my_course.csv')\n",
    "ratings"
   ]
  },
  {
   "cell_type": "markdown",
   "id": "8a7bc504",
   "metadata": {},
   "source": [
    "The numbers are *labels* and not positions, but we can't see that here, because\n",
    "the labels and the positions are the same.  You can show the numbers are labels\n",
    "by selecting rows, or sorting the DataFrame.   Let's sort the DataFrame by\n",
    "'Easiness' to demonstrate."
   ]
  },
  {
   "cell_type": "code",
   "execution_count": null,
   "id": "c91586b9",
   "metadata": {},
   "outputs": [],
   "source": [
    "# Notice that row labels are not sequential any more.\n",
    "# The labels stick to the row they started with.\n",
    "ratings_by_easy = ratings.sort_values('Easiness')\n",
    "ratings_by_easy"
   ]
  },
  {
   "cell_type": "markdown",
   "id": "105b6399",
   "metadata": {},
   "source": [
    "Distinguish between *label* and *position* using `.loc` and `.iloc`:"
   ]
  },
  {
   "cell_type": "code",
   "execution_count": null,
   "id": "6c497a8c",
   "metadata": {},
   "outputs": [],
   "source": [
    "# The row *labeled* with the number 2.\n",
    "ratings_by_easy.loc[2]"
   ]
  },
  {
   "cell_type": "code",
   "execution_count": null,
   "id": "fd5d25b9",
   "metadata": {},
   "outputs": [],
   "source": [
    "# The row at *position* 2 (the third row).\n",
    "ratings_by_easy.iloc[2]"
   ]
  },
  {
   "cell_type": "markdown",
   "id": "12501c5f",
   "metadata": {},
   "source": [
    "## Use indirect indexing to select values from Series\n",
    "\n",
    "You can also index into Series values.  Use indirect indexing to do this."
   ]
  },
  {
   "cell_type": "code",
   "execution_count": null,
   "id": "91235ea5",
   "metadata": {},
   "outputs": [],
   "source": [
    "# Select by label.\n",
    "easiness.loc['English']"
   ]
  },
  {
   "cell_type": "code",
   "execution_count": null,
   "id": "458954dd",
   "metadata": {},
   "outputs": [],
   "source": [
    "# Select using Boolean Series.\n",
    "easiness.loc[is_easy]"
   ]
  },
  {
   "cell_type": "code",
   "execution_count": null,
   "id": "08eb3dea",
   "metadata": {},
   "outputs": [],
   "source": [
    "# Select by position.\n",
    "# English is the first value (at position 0).\n",
    "easiness.iloc[0]"
   ]
  }
 ],
 "metadata": {
  "jupytext": {
   "notebook_metadata_filter": "all,-language_info",
   "split_at_heading": true
  },
  "kernelspec": {
   "display_name": "Python (Pyodide)",
   "name": "python"
  }
 },
 "nbformat": 4,
 "nbformat_minor": 5
}
