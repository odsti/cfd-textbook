{
 "cells": [
  {
   "cell_type": "markdown",
   "id": "763c646c",
   "metadata": {},
   "source": [
    "# Standard scores"
   ]
  },
  {
   "cell_type": "code",
   "execution_count": null,
   "id": "fd602685",
   "metadata": {},
   "outputs": [],
   "source": [
    "import numpy as np\n",
    "import matplotlib.pyplot as plt\n",
    "plt.style.use('fivethirtyeight')\n",
    "import pandas as pd\n",
    "pd.set_option('mode.copy_on_write', True)"
   ]
  },
  {
   "cell_type": "markdown",
   "id": "a0e58ad7",
   "metadata": {},
   "source": [
    "## Describing distributions\n",
    "\n",
    "We have seen several examples of *distributions*.\n",
    "\n",
    "We can describe distributions as having a *center*, and a *spread*.\n",
    "\n",
    "In [the mean as predictor](mean_meaning), we saw that the mean is\n",
    "a useful measure of the center of a distribution.\n",
    "\n",
    "What measure should we use for the spread?"
   ]
  },
  {
   "cell_type": "markdown",
   "id": "ba15bdd4",
   "metadata": {},
   "source": [
    "## Back to chronic kidney disease\n",
    "\n",
    "We return to the [data on chronic kidney disease](data/chronic_kidney_disease).\n",
    "\n",
    "Download the data to your computer via this link: {download}`ckd_clean.csv\n",
    "<data/ckd_clean.csv>`."
   ]
  },
  {
   "cell_type": "code",
   "execution_count": null,
   "id": "b67a6ffc",
   "metadata": {},
   "outputs": [],
   "source": [
    "ckd_full = pd.read_csv('data/ckd_clean.csv')\n",
    "ckd_full.head()"
   ]
  },
  {
   "cell_type": "markdown",
   "id": "ab555028",
   "metadata": {},
   "source": [
    "We will use this dataset to get a couple of variables (columns) and\n",
    "therefore a couple of distributions.\n",
    "\n",
    "Let's start with the White Blood Cell Count, usually abbreviated as WBC."
   ]
  },
  {
   "cell_type": "code",
   "execution_count": null,
   "id": "88716b8f",
   "metadata": {},
   "outputs": [],
   "source": [
    "wbc = ckd_full['White Blood Cell Count']\n",
    "wbc.hist()\n",
    "plt.title('White Blood Cell Count');"
   ]
  },
  {
   "cell_type": "code",
   "execution_count": null,
   "id": "2466c379",
   "metadata": {},
   "outputs": [],
   "source": [
    "wbc.describe()"
   ]
  },
  {
   "cell_type": "markdown",
   "id": "65e2b571",
   "metadata": {},
   "source": [
    "Compare this to Hemoglobin concentrations:"
   ]
  },
  {
   "cell_type": "code",
   "execution_count": null,
   "id": "aed8a134",
   "metadata": {},
   "outputs": [],
   "source": [
    "hgb = ckd_full['Hemoglobin']\n",
    "hgb.hist()\n",
    "plt.title('Hemoglobin');"
   ]
  },
  {
   "cell_type": "code",
   "execution_count": null,
   "id": "3043548e",
   "metadata": {},
   "outputs": [],
   "source": [
    "hgb.describe()"
   ]
  },
  {
   "cell_type": "markdown",
   "id": "b36d286a",
   "metadata": {},
   "source": [
    "Notice that we can't easily plot these two on the same axes, because\n",
    "their units are so different."
   ]
  },
  {
   "cell_type": "markdown",
   "id": "b71cd66f",
   "metadata": {},
   "source": [
    "Here's what that looks like.  Notice that the hemoglobin values disappear in a tiny spike to the left."
   ]
  },
  {
   "cell_type": "code",
   "execution_count": null,
   "id": "33a1011a",
   "metadata": {},
   "outputs": [],
   "source": [
    "# Use alpha to make the histograms a little transparent.\n",
    "# Label them for a legend.\n",
    "hgb.hist(alpha=0.7, label='HGB')\n",
    "wbc.hist(alpha=0.7, label='WBC')\n",
    "plt.title(\"HGB and WBC together - HGB tiny spike at left\")\n",
    "plt.legend();"
   ]
  },
  {
   "cell_type": "markdown",
   "id": "c240da00",
   "metadata": {},
   "source": [
    "We could try and fix this by subtracting the mean, as a center value, so\n",
    "the values are now *deviations* from the mean."
   ]
  },
  {
   "cell_type": "code",
   "execution_count": null,
   "id": "06aaa4de",
   "metadata": {},
   "outputs": [],
   "source": [
    "wbc_deviations = wbc - np.mean(wbc)\n",
    "wbc_deviations.hist()\n",
    "plt.title('White Blood Cell Count deviations');"
   ]
  },
  {
   "cell_type": "code",
   "execution_count": null,
   "id": "bbe99a7c",
   "metadata": {},
   "outputs": [],
   "source": [
    "hgb_deviations = hgb - np.mean(hgb)\n",
    "hgb_deviations.hist()\n",
    "plt.title('Hemoglobin deviations');"
   ]
  },
  {
   "cell_type": "markdown",
   "id": "0db4dd5f",
   "metadata": {},
   "source": [
    "The deviations each have a mean very very close to zero, and therefore,\n",
    "they have the same center:"
   ]
  },
  {
   "cell_type": "code",
   "execution_count": null,
   "id": "38c6922b",
   "metadata": {},
   "outputs": [],
   "source": [
    "np.mean(wbc_deviations), np.mean(hgb_deviations)"
   ]
  },
  {
   "cell_type": "markdown",
   "id": "8503aeee",
   "metadata": {},
   "source": [
    "We still cannot sensibly plot them on the same axes, because the WBC values have\n",
    "a very different *spread*.  The WBC values completely dominate the x axis of\n",
    "the graph.  We can't reasonably compare the WBC deviations to the\n",
    "Hemoglobin deviations, because they have such different *units*."
   ]
  },
  {
   "cell_type": "code",
   "execution_count": null,
   "id": "162df208",
   "metadata": {},
   "outputs": [],
   "source": [
    "hgb_deviations.hist(alpha=0.7, label='HGB')\n",
    "wbc_deviations.hist(alpha=0.7, label='WBC')\n",
    "plt.title(\"HGB and WBC deviations - you can't see HGB\")\n",
    "plt.legend();"
   ]
  },
  {
   "cell_type": "markdown",
   "id": "6dd77078",
   "metadata": {},
   "source": [
    "We would like a measure of the spread of the distribution, so we can set\n",
    "the two distributions to have the same spread.\n"
   ]
  },
  {
   "cell_type": "markdown",
   "id": "dacade1f",
   "metadata": {},
   "source": [
    "## The standard deviation"
   ]
  },
  {
   "cell_type": "markdown",
   "id": "ba665610",
   "metadata": {},
   "source": [
    "In the [mean as predictor](mean_meaning) section, we found that mean was\n",
    "the best value to use as a predictor, to minimize the sum of *squared*\n",
    "deviations.\n",
    "\n",
    "Maybe we could get an idea of the typical *squared* deviation, as\n",
    "a measure of spread?"
   ]
  },
  {
   "cell_type": "code",
   "execution_count": null,
   "id": "3603ae17",
   "metadata": {},
   "outputs": [],
   "source": [
    "hgb_deviations[:10]"
   ]
  },
  {
   "cell_type": "code",
   "execution_count": null,
   "id": "1a5f72a4",
   "metadata": {},
   "outputs": [],
   "source": [
    "hgb_dev_sq = hgb_deviations ** 2\n",
    "hgb_dev_sq[:10]"
   ]
  },
  {
   "cell_type": "code",
   "execution_count": null,
   "id": "99f0c1d2",
   "metadata": {},
   "outputs": [],
   "source": [
    "hgb_dev_sq.hist()\n",
    "plt.title('HGB squared deviations')"
   ]
  },
  {
   "cell_type": "markdown",
   "id": "d5afbf9d",
   "metadata": {},
   "source": [
    "The center, or typical value, of this distribution, could be the *mean*."
   ]
  },
  {
   "cell_type": "code",
   "execution_count": null,
   "id": "20d4b2db",
   "metadata": {},
   "outputs": [],
   "source": [
    "hgb_dev_sq_mean = np.mean(hgb_dev_sq)\n",
    "hgb_dev_sq_mean"
   ]
  },
  {
   "cell_type": "markdown",
   "id": "cd37c58e",
   "metadata": {},
   "source": [
    "This is the *mean squared deviation*.  This is also called the\n",
    "*variance*.  Numpy has a function to calculate that in one shot:"
   ]
  },
  {
   "cell_type": "code",
   "execution_count": null,
   "id": "5d9d55ac",
   "metadata": {},
   "outputs": [],
   "source": [
    "# The mean squared deviation is the variance\n",
    "np.var(hgb)"
   ]
  },
  {
   "cell_type": "markdown",
   "id": "7ff73f39",
   "metadata": {},
   "source": [
    "The mean squared deviation is a good indicator of the typical squared\n",
    "deviation.  What should we use for some measure of the typical\n",
    "deviation?\n",
    "\n",
    "We could take the square root of the mean squared deviation, like this:"
   ]
  },
  {
   "cell_type": "code",
   "execution_count": null,
   "id": "36b724d2",
   "metadata": {},
   "outputs": [],
   "source": [
    "np.sqrt(hgb_dev_sq_mean)"
   ]
  },
  {
   "cell_type": "markdown",
   "id": "a41162c2",
   "metadata": {},
   "source": [
    "This is a measure of the spread of the distribution.  It is a measure of\n",
    "the typical or average deviation.\n",
    "\n",
    "It is also called the *standard deviation*."
   ]
  },
  {
   "cell_type": "code",
   "execution_count": null,
   "id": "29bd6e9c",
   "metadata": {},
   "outputs": [],
   "source": [
    "np.std(hgb)"
   ]
  },
  {
   "cell_type": "markdown",
   "id": "d297c976",
   "metadata": {},
   "source": [
    "We can make our distribution have a standard center *and* a standard\n",
    "spread by dividing our mean-centered distribution, by the standard\n",
    "deviation.  Then the distribution will have a standard deviation very\n",
    "close to 1.\n",
    "\n",
    "This version of the distribution, with mean 0 and standard deviation of\n",
    "1, is called the *standardized* distribution."
   ]
  },
  {
   "cell_type": "code",
   "execution_count": null,
   "id": "225d8c55",
   "metadata": {},
   "outputs": [],
   "source": [
    "standardized_hgb = hgb_deviations / np.std(hgb)\n",
    "standardized_hgb.hist()\n",
    "plt.title('Standardized Hemoglobin')"
   ]
  },
  {
   "cell_type": "markdown",
   "id": "ba0ee4a7",
   "metadata": {},
   "source": [
    "We can make a function to do this:"
   ]
  },
  {
   "cell_type": "code",
   "execution_count": null,
   "id": "9107bbf7",
   "metadata": {},
   "outputs": [],
   "source": [
    "def standard_units(x):\n",
    "    return (x - np.mean(x))/np.std(x)"
   ]
  },
  {
   "cell_type": "code",
   "execution_count": null,
   "id": "42ec5b71",
   "metadata": {},
   "outputs": [],
   "source": [
    "std_hgb_again = standard_units(hgb)\n",
    "std_hgb_again.hist()\n",
    "plt.title('Standardized Hemoglobin, again')"
   ]
  },
  {
   "cell_type": "markdown",
   "id": "236073f8",
   "metadata": {},
   "source": [
    "If we do the same to the WBC, we can compare values of the\n",
    "distributions:"
   ]
  },
  {
   "cell_type": "code",
   "execution_count": null,
   "id": "658f14b3",
   "metadata": {},
   "outputs": [],
   "source": [
    "std_wbc = standard_units(wbc)\n",
    "std_wbc.hist()\n",
    "plt.title('Standardized White Blood Cell Count')"
   ]
  },
  {
   "cell_type": "markdown",
   "id": "f0aa1c62",
   "metadata": {},
   "source": [
    "Now we can put both these distributions on the same graph, to compare them directly."
   ]
  },
  {
   "cell_type": "code",
   "execution_count": null,
   "id": "43035be3",
   "metadata": {},
   "outputs": [],
   "source": [
    "std_hgb_again.hist(alpha=0.7, label='HGB')\n",
    "std_wbc.hist(alpha=0.7, label='WBC')\n",
    "plt.title('Standardized HGB and WBC')\n",
    "plt.legend()"
   ]
  },
  {
   "cell_type": "markdown",
   "id": "8631c8c3",
   "metadata": {},
   "source": [
    "Every value in standardized units gives the deviation of the original\n",
    "value from its mean, in terms of the number of standard deviations."
   ]
  }
 ],
 "metadata": {
  "jupytext": {
   "notebook_metadata_filter": "all,-language_info",
   "split_at_heading": true
  },
  "kernelspec": {
   "display_name": "Python (Pyodide)",
   "name": "python"
  }
 },
 "nbformat": 4,
 "nbformat_minor": 5
}
