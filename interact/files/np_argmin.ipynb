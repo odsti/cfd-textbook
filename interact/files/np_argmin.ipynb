{
 "cells": [
  {
   "cell_type": "markdown",
   "id": "eaad0853",
   "metadata": {},
   "source": [
    "# Argmin (and argmax)\n",
    "\n",
    "We sometimes want to know where a value is in an array."
   ]
  },
  {
   "cell_type": "code",
   "execution_count": null,
   "id": "416a6a1a",
   "metadata": {},
   "outputs": [],
   "source": [
    "import numpy as np"
   ]
  },
  {
   "cell_type": "markdown",
   "id": "9c48a2c7",
   "metadata": {},
   "source": [
    "By \"where\" we mean, the position (*index*) of an element that contains a\n",
    "particular value.\n",
    "\n",
    "In particular, we often find we want to know the position (index) of the\n",
    "minimum or maximum values in an array.  Enter ... `argmin` and `argmax`.\n",
    "\n",
    "## Argmin, argmax\n",
    "\n",
    "Here is an array:"
   ]
  },
  {
   "cell_type": "code",
   "execution_count": null,
   "id": "eb067d3a",
   "metadata": {},
   "outputs": [],
   "source": [
    "arr = np.array([2, 99, -1, 4, 99])\n",
    "arr"
   ]
  },
  {
   "cell_type": "markdown",
   "id": "54519371",
   "metadata": {},
   "source": [
    "We can get the minimum value with Numpy `min`:"
   ]
  },
  {
   "cell_type": "code",
   "execution_count": null,
   "id": "02ef326d",
   "metadata": {},
   "outputs": [],
   "source": [
    "np.min(arr)"
   ]
  },
  {
   "cell_type": "markdown",
   "id": "71cf84e8",
   "metadata": {},
   "source": [
    "Sometimes we want to know the *position* (*index*) of the minimum value.  Numpy\n",
    "`argmin` returns the position of the minimum value:"
   ]
  },
  {
   "cell_type": "code",
   "execution_count": null,
   "id": "1e1fa939",
   "metadata": {},
   "outputs": [],
   "source": [
    "min_pos = np.argmin(arr)\n",
    "min_pos"
   ]
  },
  {
   "cell_type": "markdown",
   "id": "f55ad93b",
   "metadata": {},
   "source": [
    "Therefore, we can get the minimum value again with:"
   ]
  },
  {
   "cell_type": "code",
   "execution_count": null,
   "id": "6f2baa84",
   "metadata": {},
   "outputs": [],
   "source": [
    "arr[min_pos]"
   ]
  },
  {
   "cell_type": "markdown",
   "id": "835e066f",
   "metadata": {},
   "source": [
    "There is a matching `argmax` function that returns the position of the maximum\n",
    "value:"
   ]
  },
  {
   "cell_type": "code",
   "execution_count": null,
   "id": "325ea4d6",
   "metadata": {},
   "outputs": [],
   "source": [
    "np.max(arr)"
   ]
  },
  {
   "cell_type": "code",
   "execution_count": null,
   "id": "636d5601",
   "metadata": {},
   "outputs": [],
   "source": [
    "max_pos = np.argmax(arr)\n",
    "max_pos"
   ]
  },
  {
   "cell_type": "code",
   "execution_count": null,
   "id": "65d2de1c",
   "metadata": {},
   "outputs": [],
   "source": [
    "arr[max_pos]"
   ]
  },
  {
   "cell_type": "markdown",
   "id": "7393405d",
   "metadata": {},
   "source": [
    "Notice that there are *two* values of 99 in this array, and therefore, two\n",
    "maximum values.  `np.argmax` returns the index of the *first* maximum values.\n",
    "`np.argmin` does the same, if there is more than one minimum value."
   ]
  }
 ],
 "metadata": {
  "jupytext": {
   "notebook_metadata_filter": "all,-language_info"
  },
  "kernelspec": {
   "display_name": "Python (Pyodide)",
   "name": "python"
  }
 },
 "nbformat": 4,
 "nbformat_minor": 5
}
