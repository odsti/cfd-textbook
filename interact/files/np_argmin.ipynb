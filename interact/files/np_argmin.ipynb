{
 "cells": [
  {
   "cell_type": "markdown",
   "id": "4d974d8b",
   "metadata": {},
   "source": [
    "# Argmin (and argmax)\n",
    "\n",
    "We sometimes want to know where a value is in an array."
   ]
  },
  {
   "cell_type": "code",
   "execution_count": null,
   "id": "2dd0e034",
   "metadata": {},
   "outputs": [],
   "source": [
    "import numpy as np"
   ]
  },
  {
   "cell_type": "markdown",
   "id": "3ca5f298",
   "metadata": {},
   "source": [
    "By \"where\" we mean, the position (*index*) of an element that contains a\n",
    "particular value.\n",
    "\n",
    "In particular, we often find we want to know the position (index) of the\n",
    "minimum or maximum values in an array.  Enter ... `argmin` and `argmax`.\n",
    "\n",
    "## Argmin, argmax\n",
    "\n",
    "Here is an array:"
   ]
  },
  {
   "cell_type": "code",
   "execution_count": null,
   "id": "a460456a",
   "metadata": {},
   "outputs": [],
   "source": [
    "arr = np.array([2, 99, -1, 4, 99])\n",
    "arr"
   ]
  },
  {
   "cell_type": "markdown",
   "id": "7ad151bd",
   "metadata": {},
   "source": [
    "We can get the minimum value with Numpy `min`:"
   ]
  },
  {
   "cell_type": "code",
   "execution_count": null,
   "id": "4b209934",
   "metadata": {},
   "outputs": [],
   "source": [
    "np.min(arr)"
   ]
  },
  {
   "cell_type": "markdown",
   "id": "2279c483",
   "metadata": {},
   "source": [
    "Sometimes we want to know the *position* (*index*) of the minimum value.  Numpy\n",
    "`argmin` returns the position of the minimum value:"
   ]
  },
  {
   "cell_type": "code",
   "execution_count": null,
   "id": "e3a1ab1d",
   "metadata": {},
   "outputs": [],
   "source": [
    "min_pos = np.argmin(arr)\n",
    "min_pos"
   ]
  },
  {
   "cell_type": "markdown",
   "id": "38e23955",
   "metadata": {},
   "source": [
    "Therefore, we can get the minimum value again with:"
   ]
  },
  {
   "cell_type": "code",
   "execution_count": null,
   "id": "d8d88306",
   "metadata": {},
   "outputs": [],
   "source": [
    "arr[min_pos]"
   ]
  },
  {
   "cell_type": "markdown",
   "id": "38cbe05d",
   "metadata": {},
   "source": [
    "There is a matching `argmax` function that returns the position of the maximum\n",
    "value:"
   ]
  },
  {
   "cell_type": "code",
   "execution_count": null,
   "id": "362bfd2c",
   "metadata": {},
   "outputs": [],
   "source": [
    "np.max(arr)"
   ]
  },
  {
   "cell_type": "code",
   "execution_count": null,
   "id": "3b4a8c05",
   "metadata": {},
   "outputs": [],
   "source": [
    "max_pos = np.argmax(arr)\n",
    "max_pos"
   ]
  },
  {
   "cell_type": "code",
   "execution_count": null,
   "id": "13acf038",
   "metadata": {},
   "outputs": [],
   "source": [
    "arr[max_pos]"
   ]
  },
  {
   "cell_type": "markdown",
   "id": "3def9e12",
   "metadata": {},
   "source": [
    "Notice that there are *two* values of 99 in this array, and therefore, two\n",
    "maximum values.  `np.argmax` returns the index of the *first* maximum values.\n",
    "`np.argmin` does the same, if there is more than one minimum value."
   ]
  }
 ],
 "metadata": {
  "jupytext": {
   "notebook_metadata_filter": "all,-language_info"
  },
  "kernelspec": {
   "display_name": "Python (Pyodide)",
   "name": "python"
  }
 },
 "nbformat": 4,
 "nbformat_minor": 5
}
