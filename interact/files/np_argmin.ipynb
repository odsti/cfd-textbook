{
 "cells": [
  {
   "cell_type": "markdown",
   "id": "a9da280d",
   "metadata": {},
   "source": [
    "# Argmin (and argmax)\n",
    "\n",
    "We sometimes want to know where a value is in an array."
   ]
  },
  {
   "cell_type": "code",
   "execution_count": null,
   "id": "46b4ffe3",
   "metadata": {},
   "outputs": [],
   "source": [
    "import numpy as np"
   ]
  },
  {
   "cell_type": "markdown",
   "id": "5de039d8",
   "metadata": {},
   "source": [
    "By \"where\" we mean, the position (*index*) of an element that contains a\n",
    "particular value.\n",
    "\n",
    "In particular, we often find we want to know the position (index) of the\n",
    "minimum or maximum values in an array.  Enter ... `argmin` and `argmax`.\n",
    "\n",
    "## Argmin, argmax\n",
    "\n",
    "Here is an array:"
   ]
  },
  {
   "cell_type": "code",
   "execution_count": null,
   "id": "3e7dd473",
   "metadata": {},
   "outputs": [],
   "source": [
    "arr = np.array([2, 99, -1, 4, 99])\n",
    "arr"
   ]
  },
  {
   "cell_type": "markdown",
   "id": "9e735d37",
   "metadata": {},
   "source": [
    "We can get the minimum value with Numpy `min`:"
   ]
  },
  {
   "cell_type": "code",
   "execution_count": null,
   "id": "bc921ab1",
   "metadata": {},
   "outputs": [],
   "source": [
    "np.min(arr)"
   ]
  },
  {
   "cell_type": "markdown",
   "id": "a467a40a",
   "metadata": {},
   "source": [
    "Sometimes we want to know the *position* (*index*) of the minimum value.  Numpy\n",
    "`argmin` returns the position of the minimum value:"
   ]
  },
  {
   "cell_type": "code",
   "execution_count": null,
   "id": "bc318ef1",
   "metadata": {},
   "outputs": [],
   "source": [
    "min_pos = np.argmin(arr)\n",
    "min_pos"
   ]
  },
  {
   "cell_type": "markdown",
   "id": "12234e0a",
   "metadata": {},
   "source": [
    "Therefore, we can get the minimum value again with:"
   ]
  },
  {
   "cell_type": "code",
   "execution_count": null,
   "id": "736bd791",
   "metadata": {},
   "outputs": [],
   "source": [
    "arr[min_pos]"
   ]
  },
  {
   "cell_type": "markdown",
   "id": "2b75c11a",
   "metadata": {},
   "source": [
    "There is a matching `argmax` function that returns the position of the maximum\n",
    "value:"
   ]
  },
  {
   "cell_type": "code",
   "execution_count": null,
   "id": "6d777c7c",
   "metadata": {},
   "outputs": [],
   "source": [
    "np.max(arr)"
   ]
  },
  {
   "cell_type": "code",
   "execution_count": null,
   "id": "d827b351",
   "metadata": {},
   "outputs": [],
   "source": [
    "max_pos = np.argmax(arr)\n",
    "max_pos"
   ]
  },
  {
   "cell_type": "code",
   "execution_count": null,
   "id": "73e1b1f1",
   "metadata": {},
   "outputs": [],
   "source": [
    "arr[max_pos]"
   ]
  },
  {
   "cell_type": "markdown",
   "id": "5c19f5db",
   "metadata": {},
   "source": [
    "Notice that there are *two* values of 99 in this array, and therefore, two\n",
    "maximum values.  `np.argmax` returns the index of the *first* maximum values.\n",
    "`np.argmin` does the same, if there is more than one minimum value."
   ]
  }
 ],
 "metadata": {
  "jupytext": {
   "notebook_metadata_filter": "all,-language_info"
  },
  "kernelspec": {
   "display_name": "Python (Pyodide)",
   "name": "python"
  }
 },
 "nbformat": 4,
 "nbformat_minor": 5
}
