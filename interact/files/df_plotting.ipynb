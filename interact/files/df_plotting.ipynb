{
 "cells": [
  {
   "cell_type": "markdown",
   "id": "f67d4939",
   "metadata": {},
   "source": [
    "# Pandas plotting methods\n",
    "\n",
    "We start by loading our [familiar gender_data dataset](data/gender_stats)."
   ]
  },
  {
   "cell_type": "code",
   "execution_count": null,
   "id": "0898cb06",
   "metadata": {},
   "outputs": [],
   "source": [
    "# Load the Numpy array library, call it 'np'\n",
    "import numpy as np\n",
    "# Load the Pandas data science library, call it 'pd'\n",
    "import pandas as pd\n",
    "# Turn on a setting to use Pandas more safely.\n",
    "pd.set_option('mode.copy_on_write', True)"
   ]
  },
  {
   "cell_type": "markdown",
   "id": "f7c1d277",
   "metadata": {},
   "source": [
    "If you are running on your laptop, you should download the\n",
    "{download}`gender_stats_min.csv <data/gender_stats_min.csv>` file to the same\n",
    "directory as this notebook."
   ]
  },
  {
   "cell_type": "code",
   "execution_count": null,
   "id": "f9a2cc2c",
   "metadata": {},
   "outputs": [],
   "source": [
    "# Load the data file\n",
    "gender_data = pd.read_csv('data/gender_stats_min.csv')\n",
    "gender_data.head()"
   ]
  },
  {
   "cell_type": "code",
   "execution_count": null,
   "id": "32906d86",
   "metadata": {},
   "outputs": [],
   "source": [
    "# Get the GDP values as a Pandas Series\n",
    "gdp = gender_data['gdp_us_billion']\n",
    "gdp.head()"
   ]
  },
  {
   "cell_type": "markdown",
   "id": "72fe984a",
   "metadata": {},
   "source": [
    "## Plotting with methods\n",
    "\n",
    "You have [already seen](data_frame_intro) basic plotting with the Matplotlib\n",
    "library.\n",
    "\n",
    "Here is the magic incantation to load the Matplotlib plotting library."
   ]
  },
  {
   "cell_type": "code",
   "execution_count": null,
   "id": "17239922",
   "metadata": {},
   "outputs": [],
   "source": [
    "# Load the library for plotting, name it 'plt'\n",
    "import matplotlib.pyplot as plt\n",
    "# Make plots look a little more fancy\n",
    "plt.style.use('fivethirtyeight')"
   ]
  },
  {
   "cell_type": "markdown",
   "id": "85c995a6",
   "metadata": {},
   "source": [
    "Here is basic plotting of a Pandas series, using Matplotlib.  This is what you have already seen."
   ]
  },
  {
   "cell_type": "code",
   "execution_count": null,
   "id": "4a1ffbe7",
   "metadata": {},
   "outputs": [],
   "source": [
    "plt.hist(gdp);"
   ]
  },
  {
   "cell_type": "markdown",
   "id": "f43ee673",
   "metadata": {},
   "source": [
    "It is possible you will see warnings as Matplotlib tried to calculate the bin\n",
    "widths for the histogram.  If you do see them, these warnings result from\n",
    "Matplotlib struggling with `NaN` ([missing](missing_values) values."
   ]
  },
  {
   "cell_type": "markdown",
   "id": "6d5287fc",
   "metadata": {},
   "source": [
    "Another way to do the histogram, is to use the `hist` *method* of the series.\n",
    "\n",
    "A method is a function attached to a value.  In this case `hist` is a function attached to a value of type `Series`.\n",
    "\n",
    "Using the `hist` method instead of the `plt.hist` function can make the code a bit easier to read.  The method also has the advantage that it discards the `NaN` values, by default, so it does not generate the same warnings."
   ]
  },
  {
   "cell_type": "code",
   "execution_count": null,
   "id": "07d83e6e",
   "metadata": {},
   "outputs": [],
   "source": [
    "gdp.hist();"
   ]
  },
  {
   "cell_type": "markdown",
   "id": "d81f6cca",
   "metadata": {},
   "source": [
    "Now we have had a look at the GDP values, we will look at the\n",
    "values for the `mat_mort_ratio` column.  These are the numbers\n",
    "of women who die in childbirth for every 100,000 births."
   ]
  },
  {
   "cell_type": "code",
   "execution_count": null,
   "id": "e13395b9",
   "metadata": {},
   "outputs": [],
   "source": [
    "mmr = gender_data['mat_mort_ratio']\n",
    "mmr"
   ]
  },
  {
   "cell_type": "code",
   "execution_count": null,
   "id": "a4a030ab",
   "metadata": {},
   "outputs": [],
   "source": [
    "mmr.hist();"
   ]
  },
  {
   "cell_type": "markdown",
   "id": "2d7c0f0d",
   "metadata": {},
   "source": [
    "We are interested in the relationship of `gpp` and `mmr`.  Maybe richer countries have better health care, and fewer maternal deaths.\n",
    "\n",
    "Here is a plot, using the standard Matplotlib `scatter`\n",
    "function."
   ]
  },
  {
   "cell_type": "code",
   "execution_count": null,
   "id": "4acb7586",
   "metadata": {},
   "outputs": [],
   "source": [
    "plt.scatter(gdp, mmr);"
   ]
  },
  {
   "cell_type": "markdown",
   "id": "f856a7d8",
   "metadata": {},
   "source": [
    "We can do the same plot using the `plot.scatter` method on the data frame.  In that case, we specify the column names that should go on the x and the y axes."
   ]
  },
  {
   "cell_type": "code",
   "execution_count": null,
   "id": "bf09e288",
   "metadata": {},
   "outputs": [],
   "source": [
    "gender_data.plot.scatter('gdp_us_billion', 'mat_mort_ratio');"
   ]
  },
  {
   "cell_type": "markdown",
   "id": "f20c3bad",
   "metadata": {},
   "source": [
    "An advantage of doing it this way is that we get the column names on the x and y axes by default."
   ]
  }
 ],
 "metadata": {
  "jupyterbook": {
   "show_stderr": true
  },
  "jupytext": {
   "formats": "",
   "notebook_metadata_filter": "jupyterbook",
   "split_at_heading": true
  },
  "kernelspec": {
   "display_name": "Python (Pyodide)",
   "name": "python"
  }
 },
 "nbformat": 4,
 "nbformat_minor": 5
}
