{
 "cells": [
  {
   "cell_type": "markdown",
   "id": "75517a9d",
   "metadata": {},
   "source": [
    "# Value counts\n",
    "\n",
    "Pandas [Series](series_like_arrays) have a useful method to count the number of each unique value in that Series."
   ]
  },
  {
   "cell_type": "code",
   "execution_count": null,
   "id": "c0671861",
   "metadata": {},
   "outputs": [],
   "source": [
    "# Load the Numpy array library, call it 'np'\n",
    "import numpy as np\n",
    "# Load the Pandas data science library, call it 'pd'\n",
    "import pandas as pd\n",
    "# Turn on a setting to use Pandas more safely.\n",
    "# We will discuss this setting later.\n",
    "pd.set_option('mode.copy_on_write', True)"
   ]
  },
  {
   "cell_type": "markdown",
   "id": "edc13aa0",
   "metadata": {},
   "source": [
    "Here we load a dataset with information on the passengers and crew on the [RMS\n",
    "Titanic](https://en.wikipedia.org/wiki/Titanic)."
   ]
  },
  {
   "cell_type": "code",
   "execution_count": null,
   "id": "0871b587",
   "metadata": {},
   "outputs": [],
   "source": [
    "titanic = pd.read_csv('data/titanic_stlearn.csv')\n",
    "titanic.head()"
   ]
  },
  {
   "cell_type": "markdown",
   "id": "03836bb1",
   "metadata": {},
   "source": [
    "Each row represents one person who was on the Titanic when she sank on 15th\n",
    "April 1912.  Each column has a particular piece of data for those people.  For\n",
    "example, the `embarked` column has the port at which each passenger or crew\n",
    "member joined the ship.   The Titanic was built and launched in Belfast.  She\n",
    "sailed from [Belfast to\n",
    "Southampton](https://www.encyclopedia-titanica.org/titanic-voyage-belfast-southampton-april-2nd.html)\n",
    "on the 2nd April, where she picked up many passengers, and the rest of her\n",
    "crew.  On 10th April, she started her maiden and only voyage, from Southampton\n",
    "to Cherbourg, and then Queenstown, in the south of Ireland, to pick up more\n",
    "passengers.  She set off from Queenstown for New York on the 11th April.\n",
    "\n",
    "Here is the Series representing the `embarked` column of the DataFrame:"
   ]
  },
  {
   "cell_type": "code",
   "execution_count": null,
   "id": "61baac93",
   "metadata": {},
   "outputs": [],
   "source": [
    "embarked = titanic['embarked']\n",
    "embarked"
   ]
  },
  {
   "cell_type": "markdown",
   "id": "8028916d",
   "metadata": {},
   "source": [
    "## Indexing Series with Boolean Series\n",
    "\n",
    "We might want to know how many people boarded at each of these ports.  For\n",
    "example, we might want to know how many people joined the Titanic at Belfast.\n",
    "We could do this with a Boolean Series, like this:\n",
    "\n",
    "* Make a Boolean Series with True where `embarked` == `'Belfast`\n",
    "* Use the `.sum` method of the Boolean Series to count how many True values\n",
    "  there were."
   ]
  },
  {
   "cell_type": "code",
   "execution_count": null,
   "id": "5da8fe01",
   "metadata": {},
   "outputs": [],
   "source": [
    "# Make a Boolean Series with True for Belfast.\n",
    "is_belfast = embarked == 'Belfast'\n",
    "is_belfast"
   ]
  },
  {
   "cell_type": "markdown",
   "id": "ec0bfb4a",
   "metadata": {},
   "source": [
    "Series have a `sum` method that sums up the values in the Series.  As you may remember from `np.sum` and arrays, True counts as 1 and False counts as 0, so the sum of the Series values is the same as the number of True values in the Series:"
   ]
  },
  {
   "cell_type": "code",
   "execution_count": null,
   "id": "471e079e",
   "metadata": {},
   "outputs": [],
   "source": [
    "# How many Belfast values are there?\n",
    "is_belfast.sum()"
   ]
  },
  {
   "cell_type": "markdown",
   "id": "0810fb38",
   "metadata": {},
   "source": [
    "## Value counts\n",
    "\n",
    "The approach above works for Belfast, and of course we could apply the same\n",
    "procedure for each port — Southampton, Cherbourg, Queenstown — but that starts to get verbose.\n",
    "\n",
    "Luckily, the `value_counts` method of a Series does this job for us.  It:\n",
    "\n",
    "* Identifies all the unique values in the Series, and then\n",
    "* Counts how many of each of these values exist in the Series."
   ]
  },
  {
   "cell_type": "code",
   "execution_count": null,
   "id": "5b20ce1e",
   "metadata": {},
   "outputs": [],
   "source": [
    "emb_counts = embarked.value_counts()\n",
    "emb_counts"
   ]
  },
  {
   "cell_type": "markdown",
   "id": "db7aff89",
   "metadata": {},
   "source": [
    "In our case, `value_counts` has:\n",
    "\n",
    "* Found all the unique ports in `embarked` and\n",
    "* Counted how many values there are for each port.\n",
    "\n",
    "Notice that it sorts the unique values by the counts, highest count first."
   ]
  },
  {
   "cell_type": "markdown",
   "id": "4afb3895",
   "metadata": {},
   "source": [
    "## The result of `value_counts` is a new Series\n",
    "\n",
    "Notice that the result that comes back from `value_counts` is itself a Series:"
   ]
  },
  {
   "cell_type": "code",
   "execution_count": null,
   "id": "382990f8",
   "metadata": {},
   "outputs": [],
   "source": [
    "type(emb_counts)"
   ]
  },
  {
   "cell_type": "markdown",
   "id": "e6490a85",
   "metadata": {},
   "source": [
    "As for any Series, it has values and labels (the \"index\"):"
   ]
  },
  {
   "cell_type": "code",
   "execution_count": null,
   "id": "85b8126d",
   "metadata": {},
   "outputs": [],
   "source": [
    "# The values\n",
    "emb_counts.values"
   ]
  },
  {
   "cell_type": "code",
   "execution_count": null,
   "id": "72a591ec",
   "metadata": {},
   "outputs": [],
   "source": [
    "# The labels\n",
    "emb_counts.index"
   ]
  },
  {
   "cell_type": "markdown",
   "id": "c6408afe",
   "metadata": {},
   "source": [
    "Like all Series, the result of `value_counts` has a `sum` method that gives the sum of the values:"
   ]
  },
  {
   "cell_type": "code",
   "execution_count": null,
   "id": "63e6b7fd",
   "metadata": {},
   "outputs": [],
   "source": [
    "emb_counts.sum()"
   ]
  },
  {
   "cell_type": "markdown",
   "id": "0f45b755",
   "metadata": {},
   "source": [
    "In our case, because each person does have a recorded (not-missing) embarkation port, the sum of the counts is same as the number of people (values) in the original `embarked` Series:"
   ]
  },
  {
   "cell_type": "code",
   "execution_count": null,
   "id": "d00aaa5f",
   "metadata": {},
   "outputs": [],
   "source": [
    "len(embarked)"
   ]
  },
  {
   "cell_type": "markdown",
   "id": "38d4e121",
   "metadata": {},
   "source": [
    "However, this is not always true — sometimes there are missing values, and in that case, the `sum` of the value counts will not add up to the number of values in the series.\n",
    "\n",
    "For example, consider the column giving the nationality of each person:"
   ]
  },
  {
   "cell_type": "code",
   "execution_count": null,
   "id": "016da919",
   "metadata": {},
   "outputs": [],
   "source": [
    "countries = titanic['country']\n",
    "countries"
   ]
  },
  {
   "cell_type": "markdown",
   "id": "df5b7563",
   "metadata": {},
   "source": [
    "Here we count how many people there were of each nationality:"
   ]
  },
  {
   "cell_type": "code",
   "execution_count": null,
   "id": "5022680a",
   "metadata": {},
   "outputs": [],
   "source": [
    "c_counts = countries.value_counts()\n",
    "c_counts"
   ]
  },
  {
   "cell_type": "markdown",
   "id": "9e488fe6",
   "metadata": {},
   "source": [
    "In this case — there were some people for whom we do not know their nationality — they have missing values for `country`.   For that reason, the `sum` of the value counts is less than the number of values."
   ]
  },
  {
   "cell_type": "code",
   "execution_count": null,
   "id": "3287b49e",
   "metadata": {},
   "outputs": [],
   "source": [
    "c_count_sum = c_counts.sum()\n",
    "c_count_sum"
   ]
  },
  {
   "cell_type": "markdown",
   "id": "816032bf",
   "metadata": {},
   "source": [
    "That means that there were a few missing values:"
   ]
  },
  {
   "cell_type": "code",
   "execution_count": null,
   "id": "9543854e",
   "metadata": {},
   "outputs": [],
   "source": [
    "n_missing = len(countries) - c_count_sum\n",
    "n_missing"
   ]
  },
  {
   "cell_type": "markdown",
   "id": "43421f0d",
   "metadata": {},
   "source": [
    "## `count` counts the number of not-missing values\n",
    "\n",
    "The `count` method of a series does this count directly.  That is, it counts the number of values that are not missing"
   ]
  },
  {
   "cell_type": "code",
   "execution_count": null,
   "id": "5ca44797",
   "metadata": {},
   "outputs": [],
   "source": [
    "countries.count()"
   ]
  },
  {
   "cell_type": "code",
   "execution_count": null,
   "id": "80ecaf44",
   "metadata": {},
   "outputs": [],
   "source": [
    "countries.count() == c_count_sum"
   ]
  }
 ],
 "metadata": {
  "jupyterbook": {
   "show_stderr": true
  },
  "jupytext": {
   "formats": "",
   "notebook_metadata_filter": "all,-language_info",
   "split_at_heading": true
  },
  "kernelspec": {
   "display_name": "Python (Pyodide)",
   "name": "python"
  }
 },
 "nbformat": 4,
 "nbformat_minor": 5
}
