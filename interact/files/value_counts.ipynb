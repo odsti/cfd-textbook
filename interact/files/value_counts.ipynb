{
 "cells": [
  {
   "cell_type": "markdown",
   "id": "6dfb2436",
   "metadata": {},
   "source": [
    "# Value counts\n",
    "\n",
    "Pandas [Series](series_like_arrays) have a useful method to count the number of each unique value in that Series."
   ]
  },
  {
   "cell_type": "code",
   "execution_count": null,
   "id": "7fb1e7fe",
   "metadata": {},
   "outputs": [],
   "source": [
    "# Load the Numpy array library, call it 'np'\n",
    "import numpy as np\n",
    "# Load the Pandas data science library, call it 'pd'\n",
    "import pandas as pd\n",
    "# Turn on a setting to use Pandas more safely.\n",
    "# We will discuss this setting later.\n",
    "pd.set_option('mode.copy_on_write', True)"
   ]
  },
  {
   "cell_type": "markdown",
   "id": "cddcc618",
   "metadata": {},
   "source": [
    "Here we load a dataset with information on the passengers and crew on the [RMS\n",
    "Titanic](https://en.wikipedia.org/wiki/Titanic)."
   ]
  },
  {
   "cell_type": "code",
   "execution_count": null,
   "id": "f08bf5e2",
   "metadata": {},
   "outputs": [],
   "source": [
    "titanic = pd.read_csv('data/titanic_stlearn.csv')\n",
    "titanic.head()"
   ]
  },
  {
   "cell_type": "markdown",
   "id": "0360c67a",
   "metadata": {},
   "source": [
    "Each row represents one person who was on the Titanic when she sank on 15th\n",
    "April 1912.  Each column has a particular piece of data for those people.  For\n",
    "example, the `embarked` column has the port at which each passenger or crew\n",
    "member joined the ship.   The Titanic was built and launched in Belfast.  She\n",
    "sailed from [Belfast to\n",
    "Southampton](https://www.encyclopedia-titanica.org/titanic-voyage-belfast-southampton-april-2nd.html)\n",
    "on the 2nd April, where she picked up many passengers, and the rest of her\n",
    "crew.  On 10th April, she started her maiden and only voyage, from Southampton\n",
    "to Cherbourg, and then Queenstown, in the south of Ireland, to pick up more\n",
    "passengers.  She set off from Queenstown for New York on the 11th April.\n",
    "\n",
    "Here is the Series representing the `embarked` column of the DataFrame:"
   ]
  },
  {
   "cell_type": "code",
   "execution_count": null,
   "id": "621069b1",
   "metadata": {},
   "outputs": [],
   "source": [
    "embarked = titanic['embarked']\n",
    "embarked"
   ]
  },
  {
   "cell_type": "markdown",
   "id": "d140fcde",
   "metadata": {},
   "source": [
    "## Indexing Series with Boolean Series\n",
    "\n",
    "We might want to know how many people boarded at each of these ports.  For\n",
    "example, we might want to know how many people joined the Titanic at Belfast.\n",
    "We could do this with a Boolean Series, like this:\n",
    "\n",
    "* Make a Boolean Series with True where `embarked` == `'Belfast`\n",
    "* Use the `.sum` method of the Boolean Series to count how many True values\n",
    "  there were."
   ]
  },
  {
   "cell_type": "code",
   "execution_count": null,
   "id": "578cef03",
   "metadata": {},
   "outputs": [],
   "source": [
    "# Make a Boolean Series with True for Belfast.\n",
    "is_belfast = embarked == 'Belfast'\n",
    "is_belfast"
   ]
  },
  {
   "cell_type": "markdown",
   "id": "00c216ee",
   "metadata": {},
   "source": [
    "Series have a `sum` method that sums up the values in the Series.  As you may remember from `np.sum` and arrays, True counts as 1 and False counts as 0, so the sum of the Series values is the same as the number of True values in the Series:"
   ]
  },
  {
   "cell_type": "code",
   "execution_count": null,
   "id": "dfd6519d",
   "metadata": {},
   "outputs": [],
   "source": [
    "# How many Belfast values are there?\n",
    "is_belfast.sum()"
   ]
  },
  {
   "cell_type": "markdown",
   "id": "25a1dc6b",
   "metadata": {},
   "source": [
    "## Value counts\n",
    "\n",
    "The approach above works for Belfast, and of course we could apply the same\n",
    "procedure for each port — Southampton, Cherbourg, Queenstown — but that starts to get verbose.\n",
    "\n",
    "Luckily, the `value_counts` method of a Series does this job for us.  It:\n",
    "\n",
    "* Identifies all the unique values in the Series, and then\n",
    "* Counts how many of each of these values exist in the Series."
   ]
  },
  {
   "cell_type": "code",
   "execution_count": null,
   "id": "4eaec824",
   "metadata": {},
   "outputs": [],
   "source": [
    "emb_counts = embarked.value_counts()\n",
    "emb_counts"
   ]
  },
  {
   "cell_type": "markdown",
   "id": "086aaf25",
   "metadata": {},
   "source": [
    "In our case, `value_counts` has:\n",
    "\n",
    "* Found all the unique ports in `embarked` and\n",
    "* Counted how many values there are for each port.\n",
    "\n",
    "Notice that it sorts the unique values by the counts, highest count first."
   ]
  },
  {
   "cell_type": "markdown",
   "id": "6a45d52b",
   "metadata": {},
   "source": [
    "## The result of `value_counts` is a new Series\n",
    "\n",
    "Notice that the result that comes back from `value_counts` is itself a Series:"
   ]
  },
  {
   "cell_type": "code",
   "execution_count": null,
   "id": "cd316993",
   "metadata": {},
   "outputs": [],
   "source": [
    "type(emb_counts)"
   ]
  },
  {
   "cell_type": "markdown",
   "id": "29a79897",
   "metadata": {},
   "source": [
    "As for any Series, it has values and labels (the \"index\"):"
   ]
  },
  {
   "cell_type": "code",
   "execution_count": null,
   "id": "e1cb2a7d",
   "metadata": {},
   "outputs": [],
   "source": [
    "# The values\n",
    "emb_counts.values"
   ]
  },
  {
   "cell_type": "code",
   "execution_count": null,
   "id": "0acc0973",
   "metadata": {},
   "outputs": [],
   "source": [
    "# The labels\n",
    "emb_counts.index"
   ]
  },
  {
   "cell_type": "markdown",
   "id": "23547272",
   "metadata": {},
   "source": [
    "Like all Series, the result of `value_counts` has a `sum` method that gives the sum of the values:"
   ]
  },
  {
   "cell_type": "code",
   "execution_count": null,
   "id": "817b425d",
   "metadata": {},
   "outputs": [],
   "source": [
    "emb_counts.sum()"
   ]
  },
  {
   "cell_type": "markdown",
   "id": "14d9732d",
   "metadata": {},
   "source": [
    "In our case, because each person does have a recorded (not-missing) embarkation port, the sum of the counts is same as the number of people (values) in the original `embarked` Series:"
   ]
  },
  {
   "cell_type": "code",
   "execution_count": null,
   "id": "2b56bfc0",
   "metadata": {},
   "outputs": [],
   "source": [
    "len(embarked)"
   ]
  },
  {
   "cell_type": "markdown",
   "id": "0a1452e6",
   "metadata": {},
   "source": [
    "However, this is not always true — sometimes there are missing values, and in that case, the `sum` of the value counts will not add up to the number of values in the series.\n",
    "\n",
    "For example, consider the column giving the nationality of each person:"
   ]
  },
  {
   "cell_type": "code",
   "execution_count": null,
   "id": "5b195ede",
   "metadata": {},
   "outputs": [],
   "source": [
    "countries = titanic['country']\n",
    "countries"
   ]
  },
  {
   "cell_type": "markdown",
   "id": "8ba0a7ea",
   "metadata": {},
   "source": [
    "Here we count how many people there were of each nationality:"
   ]
  },
  {
   "cell_type": "code",
   "execution_count": null,
   "id": "a88db8c4",
   "metadata": {},
   "outputs": [],
   "source": [
    "c_counts = countries.value_counts()\n",
    "c_counts"
   ]
  },
  {
   "cell_type": "markdown",
   "id": "153f26c2",
   "metadata": {},
   "source": [
    "In this case — there were some people for whom we do not know their nationality — they have missing values for `country`.   For that reason, the `sum` of the value counts is less than the number of values."
   ]
  },
  {
   "cell_type": "code",
   "execution_count": null,
   "id": "1124dcb1",
   "metadata": {},
   "outputs": [],
   "source": [
    "c_count_sum = c_counts.sum()\n",
    "c_count_sum"
   ]
  },
  {
   "cell_type": "markdown",
   "id": "9bf35af1",
   "metadata": {},
   "source": [
    "That means that there were a few missing values:"
   ]
  },
  {
   "cell_type": "code",
   "execution_count": null,
   "id": "9ec5b3c4",
   "metadata": {},
   "outputs": [],
   "source": [
    "n_missing = len(countries) - c_count_sum\n",
    "n_missing"
   ]
  },
  {
   "cell_type": "markdown",
   "id": "de6d5584",
   "metadata": {},
   "source": [
    "## `count` counts the number of not-missing values\n",
    "\n",
    "The `count` method of a series does this count directly.  That is, it counts the number of values that are not missing"
   ]
  },
  {
   "cell_type": "code",
   "execution_count": null,
   "id": "8d273473",
   "metadata": {},
   "outputs": [],
   "source": [
    "countries.count()"
   ]
  },
  {
   "cell_type": "code",
   "execution_count": null,
   "id": "48a657ba",
   "metadata": {},
   "outputs": [],
   "source": [
    "countries.count() == c_count_sum"
   ]
  }
 ],
 "metadata": {
  "jupyterbook": {
   "show_stderr": true
  },
  "jupytext": {
   "formats": "",
   "notebook_metadata_filter": "all,-language_info",
   "split_at_heading": true
  },
  "kernelspec": {
   "display_name": "Python (Pyodide)",
   "name": "python"
  }
 },
 "nbformat": 4,
 "nbformat_minor": 5
}
