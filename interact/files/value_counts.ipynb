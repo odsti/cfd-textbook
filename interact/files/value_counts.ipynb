{
 "cells": [
  {
   "cell_type": "markdown",
   "id": "e7b82ce9",
   "metadata": {},
   "source": [
    "# Value counts\n",
    "\n",
    "Pandas [Series](series_like_arrays) have a useful method to count the number of each unique value in that Series."
   ]
  },
  {
   "cell_type": "code",
   "execution_count": null,
   "id": "680b0991",
   "metadata": {},
   "outputs": [],
   "source": [
    "# Load the Numpy array library, call it 'np'\n",
    "import numpy as np\n",
    "# Load the Pandas data science library, call it 'pd'\n",
    "import pandas as pd\n",
    "# Turn on a setting to use Pandas more safely.\n",
    "# We will discuss this setting later.\n",
    "pd.set_option('mode.copy_on_write', True)"
   ]
  },
  {
   "cell_type": "markdown",
   "id": "3758f6d6",
   "metadata": {},
   "source": [
    "Here we load a dataset with information on the passengers and crew on the [RMS\n",
    "Titanic](https://en.wikipedia.org/wiki/Titanic)."
   ]
  },
  {
   "cell_type": "code",
   "execution_count": null,
   "id": "2ac80b29",
   "metadata": {},
   "outputs": [],
   "source": [
    "titanic = pd.read_csv('data/titanic_stlearn.csv')\n",
    "titanic.head()"
   ]
  },
  {
   "cell_type": "markdown",
   "id": "55bea9b6",
   "metadata": {},
   "source": [
    "Each row represents one person who was on the Titanic when she sank on 15th\n",
    "April 1912.  Each column has a particular piece of data for those people.  For\n",
    "example, the `embarked` column has the port at which each passenger or crew\n",
    "member joined the ship.   The Titanic was built and launched in Belfast.  She\n",
    "sailed from [Belfast to\n",
    "Southampton](https://www.encyclopedia-titanica.org/titanic-voyage-belfast-southampton-april-2nd.html)\n",
    "on the 2nd April, where she picked up many passengers, and the rest of her\n",
    "crew.  On 10th April, she started her maiden and only voyage, from Southampton\n",
    "to Cherbourg, and then Queenstown, in the south of Ireland, to pick up more\n",
    "passengers.  She set off from Queenstown for New York on the 11th April.\n",
    "\n",
    "Here is the Series representing the `embarked` column of the DataFrame:"
   ]
  },
  {
   "cell_type": "code",
   "execution_count": null,
   "id": "3bf3a99c",
   "metadata": {},
   "outputs": [],
   "source": [
    "embarked = titanic['embarked']\n",
    "embarked"
   ]
  },
  {
   "cell_type": "markdown",
   "id": "b2a55235",
   "metadata": {},
   "source": [
    "## Indexing Series with Boolean Series\n",
    "\n",
    "We might want to know how many people boarded at each of these ports.  For\n",
    "example, we might want to know how many people joined the Titanic at Belfast.\n",
    "We could do this with a Boolean Series, like this:\n",
    "\n",
    "* Make a Boolean Series with True where `embarked` == `'Belfast`\n",
    "* Use the `.sum` method of the Boolean Series to count how many True values\n",
    "  there were."
   ]
  },
  {
   "cell_type": "code",
   "execution_count": null,
   "id": "c9f3b482",
   "metadata": {},
   "outputs": [],
   "source": [
    "# Make a Boolean Series with True for Belfast.\n",
    "is_belfast = embarked == 'Belfast'\n",
    "is_belfast"
   ]
  },
  {
   "cell_type": "markdown",
   "id": "82d1fc93",
   "metadata": {},
   "source": [
    "Series have a `sum` method that sums up the values in the Series.  As you may remember from `np.sum` and arrays, True counts as 1 and False counts as 0, so the sum of the Series values is the same as the number of True values in the Series:"
   ]
  },
  {
   "cell_type": "code",
   "execution_count": null,
   "id": "8eef0424",
   "metadata": {},
   "outputs": [],
   "source": [
    "# How many Belfast values are there?\n",
    "is_belfast.sum()"
   ]
  },
  {
   "cell_type": "markdown",
   "id": "67e6d3e3",
   "metadata": {},
   "source": [
    "## Value counts\n",
    "\n",
    "The approach above works for Belfast, and of course we could apply the same\n",
    "procedure for each port — Southampton, Cherbourg, Queenstown — but that starts to get verbose.\n",
    "\n",
    "Luckily, the `value_counts` method of a Series does this job for us.  It:\n",
    "\n",
    "* Identifies all the unique values in the Series, and then\n",
    "* Counts how many of each of these values exist in the Series."
   ]
  },
  {
   "cell_type": "code",
   "execution_count": null,
   "id": "86bb0d3c",
   "metadata": {},
   "outputs": [],
   "source": [
    "emb_counts = embarked.value_counts()\n",
    "emb_counts"
   ]
  },
  {
   "cell_type": "markdown",
   "id": "19f0727a",
   "metadata": {},
   "source": [
    "In our case, `value_counts` has:\n",
    "\n",
    "* Found all the unique ports in `embarked` and\n",
    "* Counted how many values there are for each port.\n",
    "\n",
    "Notice that it sorts the unique values by the counts, highest count first."
   ]
  },
  {
   "cell_type": "markdown",
   "id": "ed70b6b5",
   "metadata": {},
   "source": [
    "## The result of `value_counts` is a new Series\n",
    "\n",
    "Notice that the result that comes back from `value_counts` is itself a Series:"
   ]
  },
  {
   "cell_type": "code",
   "execution_count": null,
   "id": "2130859c",
   "metadata": {},
   "outputs": [],
   "source": [
    "type(emb_counts)"
   ]
  },
  {
   "cell_type": "markdown",
   "id": "81f24407",
   "metadata": {},
   "source": [
    "As for any Series, it has values and labels (the \"index\"):"
   ]
  },
  {
   "cell_type": "code",
   "execution_count": null,
   "id": "d02591a9",
   "metadata": {},
   "outputs": [],
   "source": [
    "# The values\n",
    "emb_counts.values"
   ]
  },
  {
   "cell_type": "code",
   "execution_count": null,
   "id": "a3549a51",
   "metadata": {},
   "outputs": [],
   "source": [
    "# The labels\n",
    "emb_counts.index"
   ]
  },
  {
   "cell_type": "markdown",
   "id": "bf7c9475",
   "metadata": {},
   "source": [
    "Like all Series, the result of `value_counts` has a `sum` method that gives the sum of the values:"
   ]
  },
  {
   "cell_type": "code",
   "execution_count": null,
   "id": "ee6216c2",
   "metadata": {},
   "outputs": [],
   "source": [
    "emb_counts.sum()"
   ]
  },
  {
   "cell_type": "markdown",
   "id": "0b5e61f4",
   "metadata": {},
   "source": [
    "In our case, because each person does have a recorded (not-missing) embarkation port, the sum of the counts is same as the number of people (values) in the original `embarked` Series:"
   ]
  },
  {
   "cell_type": "code",
   "execution_count": null,
   "id": "6dec6265",
   "metadata": {},
   "outputs": [],
   "source": [
    "len(embarked)"
   ]
  },
  {
   "cell_type": "markdown",
   "id": "f560fbca",
   "metadata": {},
   "source": [
    "However, this is not always true — sometimes there are missing values, and in that case, the `sum` of the value counts will not add up to the number of values in the series.\n",
    "\n",
    "For example, consider the column giving the nationality of each person:"
   ]
  },
  {
   "cell_type": "code",
   "execution_count": null,
   "id": "171163e3",
   "metadata": {},
   "outputs": [],
   "source": [
    "countries = titanic['country']\n",
    "countries"
   ]
  },
  {
   "cell_type": "markdown",
   "id": "1fc534ed",
   "metadata": {},
   "source": [
    "Here we count how many people there were of each nationality:"
   ]
  },
  {
   "cell_type": "code",
   "execution_count": null,
   "id": "52e6ab76",
   "metadata": {},
   "outputs": [],
   "source": [
    "c_counts = countries.value_counts()\n",
    "c_counts"
   ]
  },
  {
   "cell_type": "markdown",
   "id": "05707678",
   "metadata": {},
   "source": [
    "In this case — there were some people for whom we do not know their nationality — they have missing values for `country`.   For that reason, the `sum` of the value counts is less than the number of values."
   ]
  },
  {
   "cell_type": "code",
   "execution_count": null,
   "id": "1c8f6839",
   "metadata": {},
   "outputs": [],
   "source": [
    "c_count_sum = c_counts.sum()\n",
    "c_count_sum"
   ]
  },
  {
   "cell_type": "markdown",
   "id": "cfe0a4d0",
   "metadata": {},
   "source": [
    "That means that there were a few missing values:"
   ]
  },
  {
   "cell_type": "code",
   "execution_count": null,
   "id": "b7677305",
   "metadata": {},
   "outputs": [],
   "source": [
    "n_missing = len(countries) - c_count_sum\n",
    "n_missing"
   ]
  },
  {
   "cell_type": "markdown",
   "id": "e69f4342",
   "metadata": {},
   "source": [
    "## `count` counts the number of not-missing values\n",
    "\n",
    "The `count` method of a series does this count directly.  That is, it counts the number of values that are not missing"
   ]
  },
  {
   "cell_type": "code",
   "execution_count": null,
   "id": "e201f4d6",
   "metadata": {},
   "outputs": [],
   "source": [
    "countries.count()"
   ]
  },
  {
   "cell_type": "code",
   "execution_count": null,
   "id": "83db62ed",
   "metadata": {},
   "outputs": [],
   "source": [
    "countries.count() == c_count_sum"
   ]
  }
 ],
 "metadata": {
  "jupyterbook": {
   "show_stderr": true
  },
  "jupytext": {
   "formats": "",
   "notebook_metadata_filter": "all,-language_info",
   "split_at_heading": true
  },
  "kernelspec": {
   "display_name": "Python (Pyodide)",
   "name": "python"
  }
 },
 "nbformat": 4,
 "nbformat_minor": 5
}
