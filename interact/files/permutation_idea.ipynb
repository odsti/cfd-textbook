{
 "cells": [
  {
   "cell_type": "markdown",
   "id": "6c1ad407",
   "metadata": {},
   "source": [
    "# The idea of permutation\n",
    "\n",
    "This page shows how permutation works by comparing to a physical\n",
    "implementation of permutation, that randomizes values by mixing balls in a\n",
    "bucket.\n"
   ]
  },
  {
   "cell_type": "markdown",
   "id": "8e4eed7c",
   "metadata": {},
   "source": [
    "## Example: do mosquitoes like beer?\n",
    "\n",
    "This page shows how permutation works by comparing to a physical implementation\n",
    "of permutation by mixing balls in a bucket."
   ]
  },
  {
   "cell_type": "markdown",
   "id": "3f2dcbc3",
   "metadata": {},
   "source": [
    "![](images/mosquito_banner.png)\n",
    "\n",
    "With thanks to John Rauser: [Statistics Without the Agonizing\n",
    "Pain](https://www.youtube.com/watch?v=5Dnw46eC-0o)\n"
   ]
  },
  {
   "cell_type": "markdown",
   "id": "1230ac95",
   "metadata": {},
   "source": [
    "## The data\n",
    "\n",
    "If you want to run this notebook on your own computer, Download the data from\n",
    "{download}`mosquito_beer.csv <data/mosquito_beer.csv>`."
   ]
  },
  {
   "cell_type": "markdown",
   "id": "ca3c4f77",
   "metadata": {},
   "source": [
    "See [this\n",
    "page](https://github.com/matthew-brett/datasets/tree/master/mosquito_beer) for\n",
    "more details on the dataset, and [the data license page](data/LICENSE).\n"
   ]
  },
  {
   "cell_type": "code",
   "execution_count": null,
   "id": "e8d41069",
   "metadata": {},
   "outputs": [],
   "source": [
    "# Import Numpy library, rename as \"np\"\n",
    "import numpy as np\n",
    "# Make random number generator.\n",
    "rng = np.random.default_rng()\n",
    "# Import Pandas library, rename as \"pd\"\n",
    "import pandas as pd\n",
    "# Safe setting for Pandas.\n",
    "pd.set_option('mode.copy_on_write', True)\n",
    "\n",
    "# Set up plotting\n",
    "import matplotlib.pyplot as plt\n",
    "plt.style.use('fivethirtyeight')"
   ]
  },
  {
   "cell_type": "code",
   "execution_count": null,
   "id": "984c737f",
   "metadata": {
    "tags": [
     "hide-cell"
    ]
   },
   "outputs": [],
   "source": [
    "# HIDDEN\n",
    "# An extra tweak to make sure we always get the same random numbers.\n",
    "# We need the same set of random numbers to match the illustrations below.\n",
    "# Do not use this in your own code; you nearly always want an unpredictable\n",
    "# stream of random numbers.  Making them predictable in this way only makes\n",
    "# sense for a very limited range of things, like tutorials and tests.\n",
    "# As you can see, we replace the usual random number generator we\n",
    "# made above, with another one with predictable random numbers.\n",
    "rng = np.random.default_rng(seed=42)"
   ]
  },
  {
   "cell_type": "markdown",
   "id": "ffe38d57",
   "metadata": {},
   "source": [
    "Read in the data:"
   ]
  },
  {
   "cell_type": "code",
   "execution_count": null,
   "id": "706b1de8",
   "metadata": {},
   "outputs": [],
   "source": [
    "mosquitoes = pd.read_csv('data/mosquito_beer.csv')\n",
    "mosquitoes.head()"
   ]
  },
  {
   "cell_type": "markdown",
   "id": "94fb20ea",
   "metadata": {},
   "source": [
    "Filter the data frame to contain only the \"after\" treatment rows:"
   ]
  },
  {
   "cell_type": "code",
   "execution_count": null,
   "id": "16b7a41a",
   "metadata": {},
   "outputs": [],
   "source": [
    "# After treatment rows.\n",
    "afters = mosquitoes[mosquitoes['test'] == 'after']"
   ]
  },
  {
   "cell_type": "markdown",
   "id": "0a262311",
   "metadata": {},
   "source": [
    "Filter the \"after\" rows to contain only the \"beer\" group, and get the number of activated mosquitoes for these 25 subjects:"
   ]
  },
  {
   "cell_type": "code",
   "execution_count": null,
   "id": "7af69968",
   "metadata": {},
   "outputs": [],
   "source": [
    "# After beer treatment rows.\n",
    "beers = afters[afters['group'] == 'beer']\n",
    "# The 'activated' numbers for the after beer rows.\n",
    "beer_activated = np.array(beers['activated'])\n",
    "beer_activated"
   ]
  },
  {
   "cell_type": "markdown",
   "id": "bd5fa527",
   "metadata": {},
   "source": [
    "The number of subjects in the \"beer\" condition:"
   ]
  },
  {
   "cell_type": "code",
   "execution_count": null,
   "id": "8f3a3ee2",
   "metadata": {},
   "outputs": [],
   "source": [
    "n_beer = len(beer_activated)\n",
    "n_beer"
   ]
  },
  {
   "cell_type": "markdown",
   "id": "9ae566fc",
   "metadata": {},
   "source": [
    "Get the \"activated\" number for the 18 subjects in the \"water\" group:"
   ]
  },
  {
   "cell_type": "code",
   "execution_count": null,
   "id": "5385efd5",
   "metadata": {},
   "outputs": [],
   "source": [
    "# Same for the water group.\n",
    "waters = afters[afters['group'] == 'water']\n",
    "water_activated = np.array(waters['activated'])\n",
    "water_activated"
   ]
  },
  {
   "cell_type": "markdown",
   "id": "d589e887",
   "metadata": {},
   "source": [
    "Number of subjects in the \"water\" condition:"
   ]
  },
  {
   "cell_type": "code",
   "execution_count": null,
   "id": "eae5b816",
   "metadata": {},
   "outputs": [],
   "source": [
    "n_water = len(water_activated)\n",
    "n_water"
   ]
  },
  {
   "cell_type": "markdown",
   "id": "ed2f792f",
   "metadata": {},
   "source": [
    "## The permutation way"
   ]
  },
  {
   "cell_type": "markdown",
   "id": "526b3d7b",
   "metadata": {},
   "source": [
    "* Calculate difference in means\n",
    "* Pool\n",
    "* Repeat many times:\n",
    "    * Shuffle (permute)\n",
    "    * Split\n",
    "    * Recalculate difference in means\n",
    "    * Store"
   ]
  },
  {
   "cell_type": "markdown",
   "id": "0d191ec1",
   "metadata": {},
   "source": [
    "The next graphic shows the activated values as a series of gold and blue\n",
    "balls.  The activated numbers for the \"beer\" group are gold), and the activated\n",
    "numbers for the \"water\" group, in blue:\n",
    "\n",
    "![](images/just_balls.png)"
   ]
  },
  {
   "cell_type": "markdown",
   "id": "8bf5ae0e",
   "metadata": {},
   "source": [
    "## Calculate difference in means\n",
    "\n",
    "Here we take the mean of \"beer\" activated numbers (the numbers in gold):\n",
    "\n",
    "![](images/beer_mean.png)"
   ]
  },
  {
   "cell_type": "code",
   "execution_count": null,
   "id": "7524fc20",
   "metadata": {},
   "outputs": [],
   "source": [
    "beer_mean = np.mean(beer_activated)\n",
    "beer_mean"
   ]
  },
  {
   "cell_type": "markdown",
   "id": "c9cd4b4c",
   "metadata": {},
   "source": [
    "Next we take the mean of activation values for the \"water\" subjects (value in\n",
    "blue):\n",
    "\n",
    "![](images/water_mean.png)"
   ]
  },
  {
   "cell_type": "code",
   "execution_count": null,
   "id": "cc790344",
   "metadata": {},
   "outputs": [],
   "source": [
    "water_mean = np.mean(water_activated)\n",
    "water_mean"
   ]
  },
  {
   "cell_type": "markdown",
   "id": "8b8d7742",
   "metadata": {},
   "source": [
    "The difference between the means in our data:"
   ]
  },
  {
   "cell_type": "code",
   "execution_count": null,
   "id": "2a7b6506",
   "metadata": {},
   "outputs": [],
   "source": [
    "observed_difference = beer_mean - water_mean\n",
    "observed_difference"
   ]
  },
  {
   "cell_type": "markdown",
   "id": "92c2cef0",
   "metadata": {},
   "source": [
    "## Pool\n",
    "\n",
    "We can put the values values for the beer and water conditions into one long\n",
    "array, 25 + 18 values long.\n",
    "\n",
    "In order to do this, we use the `np.concatenate` function.  It does what we\n",
    "want; it takes two arrays and splices them together into one long array.  This\n",
    "operation is called *concatenation*.\n",
    "\n",
    "Here is `np.concatenate` in action:"
   ]
  },
  {
   "cell_type": "code",
   "execution_count": null,
   "id": "bebcb7a4",
   "metadata": {},
   "outputs": [],
   "source": [
    "first_array = np.array([10, 20, 30])\n",
    "second_array = np.array([99, 199, 299])\n",
    "# The two arrays concatenated.\n",
    "both_together = np.concatenate([first_array, second_array])\n",
    "both_together"
   ]
  },
  {
   "cell_type": "markdown",
   "id": "a2b290d6",
   "metadata": {},
   "source": [
    "We apply `np.concatenate` to *pool* our two groups of numbers into one array."
   ]
  },
  {
   "cell_type": "code",
   "execution_count": null,
   "id": "bbb3deba",
   "metadata": {},
   "outputs": [],
   "source": [
    "pooled = np.concatenate([beer_activated, water_activated])\n",
    "pooled"
   ]
  },
  {
   "cell_type": "markdown",
   "id": "6e403c33",
   "metadata": {},
   "source": [
    "## Shuffle\n",
    "\n",
    "Then we shuffle the pooled values so the beer and water values are completely\n",
    "mixed."
   ]
  },
  {
   "cell_type": "code",
   "execution_count": null,
   "id": "e5d36cba",
   "metadata": {},
   "outputs": [],
   "source": [
    "shuffled = rng.permutation(pooled)\n",
    "shuffled"
   ]
  },
  {
   "cell_type": "markdown",
   "id": "a6ecfd6c",
   "metadata": {},
   "source": [
    "This is the same idea as putting the gold and blue balls into a bucket and shaking them up into a random arrangement.\n",
    "\n",
    "![](images/fake_balls0.png)"
   ]
  },
  {
   "cell_type": "markdown",
   "id": "acf94d1b",
   "metadata": {},
   "source": [
    "## Split\n",
    "\n",
    "We take the first 25 values as our fake beer group.  In fact these 25 values\n",
    "are a random mixture of the beer and the water values.  This is the same idea as taking 25 balls at random from the jumbled mix of gold and blue balls."
   ]
  },
  {
   "cell_type": "code",
   "execution_count": null,
   "id": "9ac7ea63",
   "metadata": {},
   "outputs": [],
   "source": [
    "# Take the first 25 values\n",
    "fake_beer = shuffled[:n_beer]"
   ]
  },
  {
   "cell_type": "markdown",
   "id": "ed8146fd",
   "metadata": {},
   "source": [
    "![](images/fake_beer_mean0.png)\n",
    "\n",
    "We calculate the mean:"
   ]
  },
  {
   "cell_type": "code",
   "execution_count": null,
   "id": "47ca4554",
   "metadata": {},
   "outputs": [],
   "source": [
    "fake_beer_mean = np.mean(fake_beer)\n",
    "fake_beer_mean"
   ]
  },
  {
   "cell_type": "markdown",
   "id": "2a9367ce",
   "metadata": {},
   "source": [
    "Then we take the remaining 18 values as our fake water group:"
   ]
  },
  {
   "cell_type": "code",
   "execution_count": null,
   "id": "e5cba9af",
   "metadata": {},
   "outputs": [],
   "source": [
    "fake_water = shuffled[n_beer:]"
   ]
  },
  {
   "cell_type": "markdown",
   "id": "1027e0dc",
   "metadata": {},
   "source": [
    "![](images/fake_water_mean0.png)\n",
    "\n",
    "We take the mean of these too:"
   ]
  },
  {
   "cell_type": "code",
   "execution_count": null,
   "id": "0246bbf7",
   "metadata": {},
   "outputs": [],
   "source": [
    "fake_water_mean = np.mean(fake_water)\n",
    "fake_water_mean"
   ]
  },
  {
   "cell_type": "markdown",
   "id": "222026d0",
   "metadata": {},
   "source": [
    "The difference between these means is our first estimate of how much the mean difference will vary when we take random samples from this pooled population:"
   ]
  },
  {
   "cell_type": "code",
   "execution_count": null,
   "id": "458ab473",
   "metadata": {},
   "outputs": [],
   "source": [
    "fake_diff = fake_beer_mean - fake_water_mean\n",
    "fake_diff"
   ]
  },
  {
   "cell_type": "markdown",
   "id": "4f65de8d",
   "metadata": {},
   "source": [
    "## Repeat\n",
    "\n",
    "We do another shuffle:"
   ]
  },
  {
   "cell_type": "code",
   "execution_count": null,
   "id": "7390ff6a",
   "metadata": {},
   "outputs": [],
   "source": [
    "shuffled = rng.permutation(pooled)"
   ]
  },
  {
   "cell_type": "markdown",
   "id": "9dad02a8",
   "metadata": {},
   "source": [
    "![](images/fake_beer_mean1.png)\n",
    "\n",
    "We take another fake beer group, and calculate another fake beer mean:"
   ]
  },
  {
   "cell_type": "code",
   "execution_count": null,
   "id": "24c112be",
   "metadata": {},
   "outputs": [],
   "source": [
    "fake_beer = shuffled[:n_beer]\n",
    "np.mean(fake_beer)"
   ]
  },
  {
   "cell_type": "markdown",
   "id": "01b8b8d7",
   "metadata": {},
   "source": [
    "We take another fake water group, find the mean:\n",
    "\n",
    "![](images/fake_water_mean1.png)"
   ]
  },
  {
   "cell_type": "code",
   "execution_count": null,
   "id": "5ad1d728",
   "metadata": {},
   "outputs": [],
   "source": [
    "fake_water = shuffled[n_beer:]\n",
    "np.mean(fake_water)"
   ]
  },
  {
   "cell_type": "markdown",
   "id": "6ab66533",
   "metadata": {},
   "source": [
    "Now we have another example difference between these means:"
   ]
  },
  {
   "cell_type": "code",
   "execution_count": null,
   "id": "dfcb32c2",
   "metadata": {},
   "outputs": [],
   "source": [
    "np.mean(fake_beer) - np.mean(fake_water)"
   ]
  },
  {
   "cell_type": "markdown",
   "id": "4b4a6f71",
   "metadata": {},
   "source": [
    "We can keep on repeating this process to get more and more examples of mean\n",
    "differences:"
   ]
  },
  {
   "cell_type": "code",
   "execution_count": null,
   "id": "a350e10f",
   "metadata": {},
   "outputs": [],
   "source": [
    "# Shuffle\n",
    "shuffled = rng.permutation(pooled)\n",
    "# Split\n",
    "fake_beer = shuffled[:n_beer]\n",
    "fake_water = shuffled[n_beer:]\n",
    "# Recalculate mean difference\n",
    "fake_diff = np.mean(fake_beer) - np.mean(fake_water)\n",
    "fake_diff"
   ]
  },
  {
   "cell_type": "markdown",
   "id": "12a5b17a",
   "metadata": {},
   "source": [
    "It is not hard to do this as many times as we want, using a `for` loop:"
   ]
  },
  {
   "cell_type": "code",
   "execution_count": null,
   "id": "ef9d5aa4",
   "metadata": {},
   "outputs": [],
   "source": [
    "fake_differences = np.zeros(10000)\n",
    "for i in np.arange(10000):\n",
    "    # Shuffle\n",
    "    shuffled = rng.permutation(pooled)\n",
    "    # Split\n",
    "    fake_beer = shuffled[:n_beer]\n",
    "    fake_water = shuffled[n_beer:]\n",
    "    # Recalculate mean difference\n",
    "    fake_diff = np.mean(fake_beer) - np.mean(fake_water)\n",
    "    # Store mean difference\n",
    "    fake_differences[i] = fake_diff\n",
    "plt.hist(fake_differences);"
   ]
  },
  {
   "cell_type": "markdown",
   "id": "9c77c596",
   "metadata": {},
   "source": [
    "We are interested to know just how unusual it is to get a difference as big as we actually see, in these many samples of differences we expect by chance, from random sampling.\n",
    "\n",
    "To do this we calculate how many of the fake differences we generated are equal to or greater than the difference we observe:"
   ]
  },
  {
   "cell_type": "code",
   "execution_count": null,
   "id": "9049f703",
   "metadata": {},
   "outputs": [],
   "source": [
    "n_ge_actual = np.count_nonzero(fake_differences >= observed_difference)\n",
    "n_ge_actual"
   ]
  },
  {
   "cell_type": "markdown",
   "id": "fc9953a4",
   "metadata": {},
   "source": [
    "That means that the chance of any one difference being greater than the one we observe is:"
   ]
  },
  {
   "cell_type": "code",
   "execution_count": null,
   "id": "2f71d3ed",
   "metadata": {},
   "outputs": [],
   "source": [
    "p_ge_actual = n_ge_actual / 10000\n",
    "p_ge_actual"
   ]
  },
  {
   "cell_type": "markdown",
   "id": "81be1ba8",
   "metadata": {},
   "source": [
    "This is also an estimate of the probability we would see a difference as large as the one we observe, if we were taking random samples from a matching population."
   ]
  }
 ],
 "metadata": {
  "jupytext": {
   "notebook_metadata_filter": "all,-language_info",
   "split_at_heading": true
  },
  "kernelspec": {
   "display_name": "Python (Pyodide)",
   "name": "python"
  }
 },
 "nbformat": 4,
 "nbformat_minor": 5
}
