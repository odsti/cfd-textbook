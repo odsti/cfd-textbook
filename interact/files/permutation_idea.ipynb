{
 "cells": [
  {
   "cell_type": "markdown",
   "id": "5c7c4ec4",
   "metadata": {},
   "source": [
    "# The idea of permutation\n",
    "\n",
    "This page shows how permutation works by comparing to a physical\n",
    "implementation of permutation, that randomizes values by mixing balls in a\n",
    "bucket.\n"
   ]
  },
  {
   "cell_type": "markdown",
   "id": "5d0555af",
   "metadata": {},
   "source": [
    "## Example: do mosquitoes like beer?\n",
    "\n",
    "This page shows how permutation works by comparing to a physical implementation\n",
    "of permutation by mixing balls in a bucket."
   ]
  },
  {
   "cell_type": "markdown",
   "id": "a4f546ce",
   "metadata": {},
   "source": [
    "![](images/mosquito_banner.png)\n",
    "\n",
    "With thanks to John Rauser: [Statistics Without the Agonizing\n",
    "Pain](https://www.youtube.com/watch?v=5Dnw46eC-0o)\n"
   ]
  },
  {
   "cell_type": "markdown",
   "id": "fc39ea66",
   "metadata": {},
   "source": [
    "## The data\n",
    "\n",
    "If you want to run this notebook on your own computer, Download the data from\n",
    "{download}`mosquito_beer.csv <data/mosquito_beer.csv>`."
   ]
  },
  {
   "cell_type": "markdown",
   "id": "47187715",
   "metadata": {},
   "source": [
    "See [this\n",
    "page](https://github.com/matthew-brett/datasets/tree/master/mosquito_beer) for\n",
    "more details on the dataset, and [the data license page](data/LICENSE).\n"
   ]
  },
  {
   "cell_type": "code",
   "execution_count": null,
   "id": "24ad9f95",
   "metadata": {},
   "outputs": [],
   "source": [
    "# Import Numpy library, rename as \"np\"\n",
    "import numpy as np\n",
    "# Make random number generator.\n",
    "rng = np.random.default_rng()\n",
    "# Import Pandas library, rename as \"pd\"\n",
    "import pandas as pd\n",
    "# Safe setting for Pandas.\n",
    "pd.set_option('mode.copy_on_write', True)\n",
    "\n",
    "# Set up plotting\n",
    "import matplotlib.pyplot as plt\n",
    "plt.style.use('fivethirtyeight')"
   ]
  },
  {
   "cell_type": "code",
   "execution_count": null,
   "id": "6b715afa",
   "metadata": {
    "tags": [
     "hide-cell"
    ]
   },
   "outputs": [],
   "source": [
    "# HIDDEN\n",
    "# An extra tweak to make sure we always get the same random numbers.\n",
    "# We need the same set of random numbers to match the illustrations below.\n",
    "# Do not use this in your own code; you nearly always want an unpredictable\n",
    "# stream of random numbers.  Making them predictable in this way only makes\n",
    "# sense for a very limited range of things, like tutorials and tests.\n",
    "# As you can see, we replace the usual random number generator we\n",
    "# made above, with another one with predictable random numbers.\n",
    "rng = np.random.default_rng(seed=42)"
   ]
  },
  {
   "cell_type": "markdown",
   "id": "55b59179",
   "metadata": {},
   "source": [
    "Read in the data:"
   ]
  },
  {
   "cell_type": "code",
   "execution_count": null,
   "id": "3fc05fcf",
   "metadata": {},
   "outputs": [],
   "source": [
    "mosquitoes = pd.read_csv('data/mosquito_beer.csv')\n",
    "mosquitoes.head()"
   ]
  },
  {
   "cell_type": "markdown",
   "id": "0424989f",
   "metadata": {},
   "source": [
    "Filter the data frame to contain only the \"after\" treatment rows:"
   ]
  },
  {
   "cell_type": "code",
   "execution_count": null,
   "id": "493799aa",
   "metadata": {},
   "outputs": [],
   "source": [
    "# After treatment rows.\n",
    "afters = mosquitoes[mosquitoes['test'] == 'after']"
   ]
  },
  {
   "cell_type": "markdown",
   "id": "0583a5a3",
   "metadata": {},
   "source": [
    "Filter the \"after\" rows to contain only the \"beer\" group, and get the number of activated mosquitoes for these 25 subjects:"
   ]
  },
  {
   "cell_type": "code",
   "execution_count": null,
   "id": "ded527cd",
   "metadata": {},
   "outputs": [],
   "source": [
    "# After beer treatment rows.\n",
    "beers = afters[afters['group'] == 'beer']\n",
    "# The 'activated' numbers for the after beer rows.\n",
    "beer_activated = np.array(beers['activated'])\n",
    "beer_activated"
   ]
  },
  {
   "cell_type": "markdown",
   "id": "dbd30b9c",
   "metadata": {},
   "source": [
    "The number of subjects in the \"beer\" condition:"
   ]
  },
  {
   "cell_type": "code",
   "execution_count": null,
   "id": "df8c20d3",
   "metadata": {},
   "outputs": [],
   "source": [
    "n_beer = len(beer_activated)\n",
    "n_beer"
   ]
  },
  {
   "cell_type": "markdown",
   "id": "85c80aab",
   "metadata": {},
   "source": [
    "Get the \"activated\" number for the 18 subjects in the \"water\" group:"
   ]
  },
  {
   "cell_type": "code",
   "execution_count": null,
   "id": "6cd6533d",
   "metadata": {},
   "outputs": [],
   "source": [
    "# Same for the water group.\n",
    "waters = afters[afters['group'] == 'water']\n",
    "water_activated = np.array(waters['activated'])\n",
    "water_activated"
   ]
  },
  {
   "cell_type": "markdown",
   "id": "fac4abe5",
   "metadata": {},
   "source": [
    "Number of subjects in the \"water\" condition:"
   ]
  },
  {
   "cell_type": "code",
   "execution_count": null,
   "id": "fbd64e33",
   "metadata": {},
   "outputs": [],
   "source": [
    "n_water = len(water_activated)\n",
    "n_water"
   ]
  },
  {
   "cell_type": "markdown",
   "id": "0359dcdf",
   "metadata": {},
   "source": [
    "## The permutation way"
   ]
  },
  {
   "cell_type": "markdown",
   "id": "cc52c33c",
   "metadata": {},
   "source": [
    "* Calculate difference in means\n",
    "* Pool\n",
    "* Repeat many times:\n",
    "    * Shuffle (permute)\n",
    "    * Split\n",
    "    * Recalculate difference in means\n",
    "    * Store"
   ]
  },
  {
   "cell_type": "markdown",
   "id": "10f83fb6",
   "metadata": {},
   "source": [
    "The next graphic shows the activated values as a series of gold and blue\n",
    "balls.  The activated numbers for the \"beer\" group are gold), and the activated\n",
    "numbers for the \"water\" group, in blue:\n",
    "\n",
    "![](images/just_balls.png)"
   ]
  },
  {
   "cell_type": "markdown",
   "id": "da5aaa3e",
   "metadata": {},
   "source": [
    "## Calculate difference in means\n",
    "\n",
    "Here we take the mean of \"beer\" activated numbers (the numbers in gold):\n",
    "\n",
    "![](images/beer_mean.png)"
   ]
  },
  {
   "cell_type": "code",
   "execution_count": null,
   "id": "66240d4f",
   "metadata": {},
   "outputs": [],
   "source": [
    "beer_mean = np.mean(beer_activated)\n",
    "beer_mean"
   ]
  },
  {
   "cell_type": "markdown",
   "id": "78aa139b",
   "metadata": {},
   "source": [
    "Next we take the mean of activation values for the \"water\" subjects (value in\n",
    "blue):\n",
    "\n",
    "![](images/water_mean.png)"
   ]
  },
  {
   "cell_type": "code",
   "execution_count": null,
   "id": "8e570bc8",
   "metadata": {},
   "outputs": [],
   "source": [
    "water_mean = np.mean(water_activated)\n",
    "water_mean"
   ]
  },
  {
   "cell_type": "markdown",
   "id": "0d002858",
   "metadata": {},
   "source": [
    "The difference between the means in our data:"
   ]
  },
  {
   "cell_type": "code",
   "execution_count": null,
   "id": "b438da60",
   "metadata": {},
   "outputs": [],
   "source": [
    "observed_difference = beer_mean - water_mean\n",
    "observed_difference"
   ]
  },
  {
   "cell_type": "markdown",
   "id": "43d668bb",
   "metadata": {},
   "source": [
    "## Pool\n",
    "\n",
    "We can put the values values for the beer and water conditions into one long\n",
    "array, 25 + 18 values long.\n",
    "\n",
    "In order to do this, we use the `np.concatenate` function.  It does what we\n",
    "want; it takes two arrays and splices them together into one long array.  This\n",
    "operation is called *concatenation*.\n",
    "\n",
    "Here is `np.concatenate` in action:"
   ]
  },
  {
   "cell_type": "code",
   "execution_count": null,
   "id": "fac3b52a",
   "metadata": {},
   "outputs": [],
   "source": [
    "first_array = np.array([10, 20, 30])\n",
    "second_array = np.array([99, 199, 299])\n",
    "# The two arrays concatenated.\n",
    "both_together = np.concatenate([first_array, second_array])\n",
    "both_together"
   ]
  },
  {
   "cell_type": "markdown",
   "id": "6df12144",
   "metadata": {},
   "source": [
    "We apply `np.concatenate` to *pool* our two groups of numbers into one array."
   ]
  },
  {
   "cell_type": "code",
   "execution_count": null,
   "id": "b1455850",
   "metadata": {},
   "outputs": [],
   "source": [
    "pooled = np.concatenate([beer_activated, water_activated])\n",
    "pooled"
   ]
  },
  {
   "cell_type": "markdown",
   "id": "20352de8",
   "metadata": {},
   "source": [
    "## Shuffle\n",
    "\n",
    "Then we shuffle the pooled values so the beer and water values are completely\n",
    "mixed."
   ]
  },
  {
   "cell_type": "code",
   "execution_count": null,
   "id": "9564385e",
   "metadata": {},
   "outputs": [],
   "source": [
    "shuffled = rng.permutation(pooled)\n",
    "shuffled"
   ]
  },
  {
   "cell_type": "markdown",
   "id": "e189658c",
   "metadata": {},
   "source": [
    "This is the same idea as putting the gold and blue balls into a bucket and shaking them up into a random arrangement.\n",
    "\n",
    "![](images/fake_balls0.png)"
   ]
  },
  {
   "cell_type": "markdown",
   "id": "03b790a1",
   "metadata": {},
   "source": [
    "## Split\n",
    "\n",
    "We take the first 25 values as our fake beer group.  In fact these 25 values\n",
    "are a random mixture of the beer and the water values.  This is the same idea as taking 25 balls at random from the jumbled mix of gold and blue balls."
   ]
  },
  {
   "cell_type": "code",
   "execution_count": null,
   "id": "ef6105f3",
   "metadata": {},
   "outputs": [],
   "source": [
    "# Take the first 25 values\n",
    "fake_beer = shuffled[:n_beer]"
   ]
  },
  {
   "cell_type": "markdown",
   "id": "8eddd566",
   "metadata": {},
   "source": [
    "![](images/fake_beer_mean0.png)\n",
    "\n",
    "We calculate the mean:"
   ]
  },
  {
   "cell_type": "code",
   "execution_count": null,
   "id": "9225c765",
   "metadata": {},
   "outputs": [],
   "source": [
    "fake_beer_mean = np.mean(fake_beer)\n",
    "fake_beer_mean"
   ]
  },
  {
   "cell_type": "markdown",
   "id": "0f10f2fc",
   "metadata": {},
   "source": [
    "Then we take the remaining 18 values as our fake water group:"
   ]
  },
  {
   "cell_type": "code",
   "execution_count": null,
   "id": "726648ae",
   "metadata": {},
   "outputs": [],
   "source": [
    "fake_water = shuffled[n_beer:]"
   ]
  },
  {
   "cell_type": "markdown",
   "id": "a51f45de",
   "metadata": {},
   "source": [
    "![](images/fake_water_mean0.png)\n",
    "\n",
    "We take the mean of these too:"
   ]
  },
  {
   "cell_type": "code",
   "execution_count": null,
   "id": "b18e4920",
   "metadata": {},
   "outputs": [],
   "source": [
    "fake_water_mean = np.mean(fake_water)\n",
    "fake_water_mean"
   ]
  },
  {
   "cell_type": "markdown",
   "id": "09093154",
   "metadata": {},
   "source": [
    "The difference between these means is our first estimate of how much the mean difference will vary when we take random samples from this pooled population:"
   ]
  },
  {
   "cell_type": "code",
   "execution_count": null,
   "id": "c03423ff",
   "metadata": {},
   "outputs": [],
   "source": [
    "fake_diff = fake_beer_mean - fake_water_mean\n",
    "fake_diff"
   ]
  },
  {
   "cell_type": "markdown",
   "id": "d809ef91",
   "metadata": {},
   "source": [
    "## Repeat\n",
    "\n",
    "We do another shuffle:"
   ]
  },
  {
   "cell_type": "code",
   "execution_count": null,
   "id": "43d91580",
   "metadata": {},
   "outputs": [],
   "source": [
    "shuffled = rng.permutation(pooled)"
   ]
  },
  {
   "cell_type": "markdown",
   "id": "9a85e3e4",
   "metadata": {},
   "source": [
    "![](images/fake_beer_mean1.png)\n",
    "\n",
    "We take another fake beer group, and calculate another fake beer mean:"
   ]
  },
  {
   "cell_type": "code",
   "execution_count": null,
   "id": "4fd8a0be",
   "metadata": {},
   "outputs": [],
   "source": [
    "fake_beer = shuffled[:n_beer]\n",
    "np.mean(fake_beer)"
   ]
  },
  {
   "cell_type": "markdown",
   "id": "af0a9b7b",
   "metadata": {},
   "source": [
    "We take another fake water group, find the mean:\n",
    "\n",
    "![](images/fake_water_mean1.png)"
   ]
  },
  {
   "cell_type": "code",
   "execution_count": null,
   "id": "e868c98f",
   "metadata": {},
   "outputs": [],
   "source": [
    "fake_water = shuffled[n_beer:]\n",
    "np.mean(fake_water)"
   ]
  },
  {
   "cell_type": "markdown",
   "id": "2faa9e35",
   "metadata": {},
   "source": [
    "Now we have another example difference between these means:"
   ]
  },
  {
   "cell_type": "code",
   "execution_count": null,
   "id": "c4e9eb56",
   "metadata": {},
   "outputs": [],
   "source": [
    "np.mean(fake_beer) - np.mean(fake_water)"
   ]
  },
  {
   "cell_type": "markdown",
   "id": "732533e5",
   "metadata": {},
   "source": [
    "We can keep on repeating this process to get more and more examples of mean\n",
    "differences:"
   ]
  },
  {
   "cell_type": "code",
   "execution_count": null,
   "id": "855711d2",
   "metadata": {},
   "outputs": [],
   "source": [
    "# Shuffle\n",
    "shuffled = rng.permutation(pooled)\n",
    "# Split\n",
    "fake_beer = shuffled[:n_beer]\n",
    "fake_water = shuffled[n_beer:]\n",
    "# Recalculate mean difference\n",
    "fake_diff = np.mean(fake_beer) - np.mean(fake_water)\n",
    "fake_diff"
   ]
  },
  {
   "cell_type": "markdown",
   "id": "2757b10f",
   "metadata": {},
   "source": [
    "It is not hard to do this as many times as we want, using a `for` loop:"
   ]
  },
  {
   "cell_type": "code",
   "execution_count": null,
   "id": "ef520159",
   "metadata": {},
   "outputs": [],
   "source": [
    "fake_differences = np.zeros(10000)\n",
    "for i in np.arange(10000):\n",
    "    # Shuffle\n",
    "    shuffled = rng.permutation(pooled)\n",
    "    # Split\n",
    "    fake_beer = shuffled[:n_beer]\n",
    "    fake_water = shuffled[n_beer:]\n",
    "    # Recalculate mean difference\n",
    "    fake_diff = np.mean(fake_beer) - np.mean(fake_water)\n",
    "    # Store mean difference\n",
    "    fake_differences[i] = fake_diff\n",
    "plt.hist(fake_differences);"
   ]
  },
  {
   "cell_type": "markdown",
   "id": "161a76aa",
   "metadata": {},
   "source": [
    "We are interested to know just how unusual it is to get a difference as big as we actually see, in these many samples of differences we expect by chance, from random sampling.\n",
    "\n",
    "To do this we calculate how many of the fake differences we generated are equal to or greater than the difference we observe:"
   ]
  },
  {
   "cell_type": "code",
   "execution_count": null,
   "id": "f8ce089c",
   "metadata": {},
   "outputs": [],
   "source": [
    "n_ge_actual = np.count_nonzero(fake_differences >= observed_difference)\n",
    "n_ge_actual"
   ]
  },
  {
   "cell_type": "markdown",
   "id": "07f583a0",
   "metadata": {},
   "source": [
    "That means that the chance of any one difference being greater than the one we observe is:"
   ]
  },
  {
   "cell_type": "code",
   "execution_count": null,
   "id": "2867d3f1",
   "metadata": {},
   "outputs": [],
   "source": [
    "p_ge_actual = n_ge_actual / 10000\n",
    "p_ge_actual"
   ]
  },
  {
   "cell_type": "markdown",
   "id": "b00bfc50",
   "metadata": {},
   "source": [
    "This is also an estimate of the probability we would see a difference as large as the one we observe, if we were taking random samples from a matching population."
   ]
  }
 ],
 "metadata": {
  "jupytext": {
   "notebook_metadata_filter": "all,-language_info",
   "split_at_heading": true
  },
  "kernelspec": {
   "display_name": "Python (Pyodide)",
   "name": "python"
  }
 },
 "nbformat": 4,
 "nbformat_minor": 5
}
