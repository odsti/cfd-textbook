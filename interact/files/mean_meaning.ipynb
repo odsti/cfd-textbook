{
 "cells": [
  {
   "cell_type": "markdown",
   "id": "ab55287f",
   "metadata": {},
   "source": [
    "# The meaning of the mean\n",
    "\n",
    "The mean is an interesting value.\n",
    "\n",
    "In this notebook, we fetch an example sequence of numbers, with a distribution\n",
    "that is far from the standard bell-curve distribution.  We look at the\n",
    "properties of the mean as a predictor of the whole distribution.\n",
    "\n",
    "First we load our usual libraries."
   ]
  },
  {
   "cell_type": "code",
   "execution_count": null,
   "id": "5b58044b",
   "metadata": {},
   "outputs": [],
   "source": [
    "import numpy as np\n",
    "# Make random number generator.\n",
    "rng = np.random.default_rng()\n",
    "import matplotlib.pyplot as plt\n",
    "# Make plots look a little bit more fancy\n",
    "plt.style.use('fivethirtyeight')\n",
    "# Print to 2 decimal places, show tiny values as 0\n",
    "np.set_printoptions(precision=2, suppress=True)"
   ]
  },
  {
   "cell_type": "markdown",
   "id": "8083bee7",
   "metadata": {},
   "source": [
    "We need Pandas to load the gender data that we first saw in the [data frame\n",
    "introduction](data_frame_intro)."
   ]
  },
  {
   "cell_type": "code",
   "execution_count": null,
   "id": "20a8b6b6",
   "metadata": {},
   "outputs": [],
   "source": [
    "import pandas as pd\n",
    "pd.set_option('mode.copy_on_write', True)"
   ]
  },
  {
   "cell_type": "markdown",
   "id": "96c05be2",
   "metadata": {},
   "source": [
    "The dataset is {download}`gender_stats.csv <data/gender_stats.csv>`. This\n",
    "contains some World Bank statistics for each country on health and economic\n",
    "factors related to gender equality. See [the data file\n",
    "page](data/gender_stats) for more detail."
   ]
  },
  {
   "cell_type": "code",
   "execution_count": null,
   "id": "7e88bb44",
   "metadata": {},
   "outputs": [],
   "source": [
    "# Load the data file\n",
    "gender_data = pd.read_csv('data/gender_stats.csv')"
   ]
  },
  {
   "cell_type": "markdown",
   "id": "dceb147a",
   "metadata": {},
   "source": [
    "In this case, we are only interested in the data for the Maternal Mortality\n",
    "Ratio `mat_mort_ratio`."
   ]
  },
  {
   "cell_type": "code",
   "execution_count": null,
   "id": "877b6a44",
   "metadata": {},
   "outputs": [],
   "source": [
    "mat_mort_ratio = gender_data['mat_mort_ratio']"
   ]
  },
  {
   "cell_type": "markdown",
   "id": "85351f54",
   "metadata": {},
   "source": [
    "There are many `NaN` values in `mat_mort_ratio`.  For simplicity, we drop\n",
    "these."
   ]
  },
  {
   "cell_type": "code",
   "execution_count": null,
   "id": "a4db90ec",
   "metadata": {},
   "outputs": [],
   "source": [
    "mat_mort_valid = mat_mort_ratio.dropna()"
   ]
  },
  {
   "cell_type": "markdown",
   "id": "4f1ac103",
   "metadata": {},
   "source": [
    "`mat_mort_valid` is a still a Pandas Series:"
   ]
  },
  {
   "cell_type": "code",
   "execution_count": null,
   "id": "a08a63b9",
   "metadata": {},
   "outputs": [],
   "source": [
    "type(mat_mort_valid)"
   ]
  },
  {
   "cell_type": "markdown",
   "id": "404512db",
   "metadata": {},
   "source": [
    "Again, to make things a bit simpler, we convert this Series to an ordinary\n",
    "Numpy array:"
   ]
  },
  {
   "cell_type": "code",
   "execution_count": null,
   "id": "f645e20e",
   "metadata": {},
   "outputs": [],
   "source": [
    "mm_arr = np.array(mat_mort_valid)"
   ]
  },
  {
   "cell_type": "markdown",
   "id": "403fced1",
   "metadata": {},
   "source": [
    "The values for `mm_arr` are very far from a standard bell-curve or [normal\n",
    "distribution](https://en.wikipedia.org/wiki/Normal_distribution)."
   ]
  },
  {
   "cell_type": "code",
   "execution_count": null,
   "id": "99aa863b",
   "metadata": {},
   "outputs": [],
   "source": [
    "plt.hist(mm_arr);"
   ]
  },
  {
   "cell_type": "markdown",
   "id": "81101722",
   "metadata": {},
   "source": [
    "We are interested in the *mean*."
   ]
  },
  {
   "cell_type": "code",
   "execution_count": null,
   "id": "50993448",
   "metadata": {},
   "outputs": [],
   "source": [
    "mm_mean = np.mean(mm_arr)\n",
    "mm_mean"
   ]
  },
  {
   "cell_type": "markdown",
   "id": "832a3a5d",
   "metadata": {},
   "source": [
    "Plot the mean position on the histogram:\n"
   ]
  },
  {
   "cell_type": "code",
   "execution_count": null,
   "id": "8f9b090e",
   "metadata": {},
   "outputs": [],
   "source": [
    "plt.hist(mm_arr);\n",
    "plt.axhline(mm_mean, color='red')"
   ]
  },
  {
   "cell_type": "markdown",
   "id": "5abcb3cf",
   "metadata": {},
   "source": [
    "As you remember, we get the mean by adding up all the values, and then dividing\n",
    "by the number of values, often written as $n$."
   ]
  },
  {
   "cell_type": "code",
   "execution_count": null,
   "id": "40ff9b7f",
   "metadata": {},
   "outputs": [],
   "source": [
    "np.sum(mm_arr) / len(mm_arr)"
   ]
  },
  {
   "cell_type": "markdown",
   "id": "d5c64f54",
   "metadata": {},
   "source": [
    "## Guess the center game\n",
    "\n",
    "Now let's consider the following game.\n",
    "\n",
    "Your job is to guess the *center value* of an array of values.  Here we've been\n",
    "working on `mm_arr`, but it could be any array.\n",
    "\n",
    "You don't know anything at all about these values, but I have all the values in front of me.\n",
    "\n",
    "For example, let's say the values are:"
   ]
  },
  {
   "cell_type": "code",
   "execution_count": null,
   "id": "3e680dc9",
   "metadata": {},
   "outputs": [],
   "source": [
    "secret_values = np.array([10, 3, -7, -12, 99, 23])"
   ]
  },
  {
   "cell_type": "markdown",
   "id": "3fbd41c7",
   "metadata": {},
   "source": [
    "I will give you £10, then ask you to make your guess.\n",
    "\n",
    "I will take away some money if your guess for the *center value* is not good.\n",
    "\n",
    "What is a good *center value*?  We will define a good center value as being a\n",
    "value where I get a small *sum of deviations*.\n",
    "\n",
    "The deviations are the values I get when I subtract your guess from the array\n",
    "of values.\n",
    "\n",
    "Let's say your guess was 10:"
   ]
  },
  {
   "cell_type": "code",
   "execution_count": null,
   "id": "040539fa",
   "metadata": {},
   "outputs": [],
   "source": [
    "your_guess = 10"
   ]
  },
  {
   "cell_type": "markdown",
   "id": "71f7b497",
   "metadata": {},
   "source": [
    "The deviations are:"
   ]
  },
  {
   "cell_type": "code",
   "execution_count": null,
   "id": "49140b20",
   "metadata": {},
   "outputs": [],
   "source": [
    "# Subtract your guess from all the values in secret_values\n",
    "secret_deviations = secret_values - your_guess\n",
    "secret_deviations"
   ]
  },
  {
   "cell_type": "markdown",
   "id": "e645bf86",
   "metadata": {},
   "source": [
    "The sum of the deviations is the result of adding up all the deviations."
   ]
  },
  {
   "cell_type": "code",
   "execution_count": null,
   "id": "8e1a1785",
   "metadata": {},
   "outputs": [],
   "source": [
    "sum_deviations = np.sum(secret_deviations)"
   ]
  },
  {
   "cell_type": "markdown",
   "id": "eb3857dc",
   "metadata": {},
   "source": [
    "The sum of deviations is *small* when the absolute value of sum of of\n",
    "deviations is close to 0."
   ]
  },
  {
   "cell_type": "code",
   "execution_count": null,
   "id": "4762bd32",
   "metadata": {},
   "outputs": [],
   "source": [
    "abs_sum_dev = np.abs(sum_deviations)\n",
    "abs_sum_dev"
   ]
  },
  {
   "cell_type": "markdown",
   "id": "30c29f7e",
   "metadata": {},
   "source": [
    "When you give my your guess `your_guess`, I will calculate `abs_sum_dev`, and\n",
    "ask you for that much money back.\n",
    "\n",
    "Let's put the calculation together into a function I will run, to tell you the\n",
    "money you need to pay:"
   ]
  },
  {
   "cell_type": "code",
   "execution_count": null,
   "id": "e9ab976e",
   "metadata": {},
   "outputs": [],
   "source": [
    "def money_you_pay(values_array, guess):\n",
    "    \"\"\" Give the absolute of the sum of devations\n",
    "\n",
    "    Parameters\n",
    "    ----------\n",
    "    values_array : array\n",
    "        An array of values that I know and you do not.\n",
    "    guess : float\n",
    "        A single number that is your guess for the center\n",
    "        of the spread of `values_array`\n",
    "\n",
    "    Returns\n",
    "    -------\n",
    "    you_pay : float\n",
    "        The absolute value of the sum of deviations.\n",
    "    \"\"\"\n",
    "    deviations = values_array - guess\n",
    "    return np.abs(np.sum(deviations))"
   ]
  },
  {
   "cell_type": "markdown",
   "id": "8889c425",
   "metadata": {},
   "source": [
    "The function just repeats the calculation we did above:"
   ]
  },
  {
   "cell_type": "code",
   "execution_count": null,
   "id": "38625e5e",
   "metadata": {},
   "outputs": [],
   "source": [
    "money_you_pay(secret_values, your_guess)"
   ]
  },
  {
   "cell_type": "markdown",
   "id": "74633d1f",
   "metadata": {},
   "source": [
    "So far you are at a disadvantage, because you don't know anything about the\n",
    "numbers in `secret_array`.  They could all be more than a million, so if\n",
    "`your_guess` is 10, you will lose a lot of money.\n",
    "\n",
    "To make it fair, I will allow you to ask me for the result of one calculation\n",
    "on `secret_numbers`.  It can be anything — you could ask for the median, the\n",
    "mode, the mean, a random element from the array, or anything else.\n",
    "\n",
    "What number would you ask for, to help you give a good guess?\n"
   ]
  },
  {
   "cell_type": "markdown",
   "id": "cb22df90",
   "metadata": {},
   "source": [
    "## The mean as a predictor\n",
    "\n",
    "Now let's say that you asked me to calculate the mean, and you used that as\n",
    "your guess.\n",
    "\n",
    "Let's try that on `secret_values`:"
   ]
  },
  {
   "cell_type": "code",
   "execution_count": null,
   "id": "255bd3db",
   "metadata": {},
   "outputs": [],
   "source": [
    "money_you_pay(secret_values, np.mean(secret_values))"
   ]
  },
  {
   "cell_type": "markdown",
   "id": "cdf150ce",
   "metadata": {},
   "source": [
    "Nice!  The money you pay is very close to 0 - and you win (near as dammit) £10!\n",
    "\n",
    "Now let's imagine the secret values are in fact the MMR values — `mm_arr`."
   ]
  },
  {
   "cell_type": "code",
   "execution_count": null,
   "id": "0fccc859",
   "metadata": {},
   "outputs": [],
   "source": [
    "money_you_pay(mm_arr, np.mean(mm_arr))"
   ]
  },
  {
   "cell_type": "markdown",
   "id": "5b00445a",
   "metadata": {},
   "source": [
    "Nice again!\n",
    "\n",
    "You win, because the sum of deviations adds up to (very_nearly) 0."
   ]
  },
  {
   "cell_type": "code",
   "execution_count": null,
   "id": "a26bf72d",
   "metadata": {},
   "outputs": [],
   "source": [
    "mm_mean = np.mean(mm_arr)\n",
    "# Sum of deviations from the mean.\n",
    "np.sum(mm_arr - mm_mean)"
   ]
  },
  {
   "cell_type": "markdown",
   "id": "2e7a761b",
   "metadata": {},
   "source": [
    "In fact, this is a property of the mean.  The deviations from the mean sum to\n",
    "zero.\n",
    "\n",
    "In fact, it is not very hard to show that the deviations [must sum to\n",
    "zero](mean_deviations).\n"
   ]
  },
  {
   "cell_type": "markdown",
   "id": "1ac5c3ca",
   "metadata": {},
   "source": [
    "## Sum of squared deviations\n",
    "\n",
    "Another prediction we might be interested in, is one that gives us the smallest\n",
    "squared difference from the actual values.\n",
    "\n",
    "Here are the squared differences from the mean."
   ]
  },
  {
   "cell_type": "code",
   "execution_count": null,
   "id": "6d8679cf",
   "metadata": {},
   "outputs": [],
   "source": [
    "# Squared prediction errors, for the mean\n",
    "deviations = mm_arr - mm_mean\n",
    "sq_deviations = deviations ** 2\n",
    "# Show the first ten\n",
    "sq_deviations[:10]"
   ]
  },
  {
   "cell_type": "markdown",
   "id": "810dd822",
   "metadata": {},
   "source": [
    "Call the deviations — the *prediction errors*.  They are errors because the\n",
    "deviation is the distance of the prediction (here, `mm_mean`) from the actual\n",
    "value.\n",
    "\n",
    "With a good prediction (guess), we might want these squared prediction errors\n",
    "(squared deviations) to be small.  We can see how small these are by adding\n",
    "them all up.  This gives us the *sum of squares* or *sum of squared error*."
   ]
  },
  {
   "cell_type": "code",
   "execution_count": null,
   "id": "a4b2af06",
   "metadata": {},
   "outputs": [],
   "source": [
    "sos = np.sum(sq_deviations)\n",
    "sos"
   ]
  },
  {
   "cell_type": "markdown",
   "id": "1066453a",
   "metadata": {},
   "source": [
    "The value above is the sum of squared prediction errors when we use the mean as\n",
    "the predictor.  Could some other value give us a better (lower) sum of squared\n",
    "prediction error?\n",
    "\n",
    "Let's try lots of predictors, to see which gives us the smallest squared\n",
    "prediction error."
   ]
  },
  {
   "cell_type": "code",
   "execution_count": null,
   "id": "a55eb7d5",
   "metadata": {},
   "outputs": [],
   "source": [
    "# Try lots of values between 150 and 210\n",
    "predictors = np.arange(150, 210, 0.1)\n",
    "# First 10\n",
    "predictors[:10]"
   ]
  },
  {
   "cell_type": "markdown",
   "id": "2ff0a7aa",
   "metadata": {},
   "source": [
    "We make a function that accepts the values, and the predictor as arguments, and\n",
    "returns the sum of squares of the prediction errors:"
   ]
  },
  {
   "cell_type": "code",
   "execution_count": null,
   "id": "735e1c67",
   "metadata": {},
   "outputs": [],
   "source": [
    "def sum_of_squares(vals, predictor):\n",
    "    deviations = vals - predictor\n",
    "    sq_deviations = deviations ** 2\n",
    "    return np.sum(sq_deviations)"
   ]
  },
  {
   "cell_type": "markdown",
   "id": "664a30b0",
   "metadata": {},
   "source": [
    "We confirm that this gives us the value we saw before, when we use the mean as\n",
    "a predictor:"
   ]
  },
  {
   "cell_type": "code",
   "execution_count": null,
   "id": "e3b7fde7",
   "metadata": {},
   "outputs": [],
   "source": [
    "sum_of_squares(mm_arr, mm_mean)"
   ]
  },
  {
   "cell_type": "markdown",
   "id": "0ebcf470",
   "metadata": {},
   "source": [
    "Here's what we get if we use the first predictor value:"
   ]
  },
  {
   "cell_type": "code",
   "execution_count": null,
   "id": "ec0c7970",
   "metadata": {},
   "outputs": [],
   "source": [
    "sum_of_squares(mm_arr, predictors[0])"
   ]
  },
  {
   "cell_type": "markdown",
   "id": "5deb81be",
   "metadata": {},
   "source": [
    "Now we try all the predictor values, to see which value gives us the lowest sum\n",
    "of squared errors."
   ]
  },
  {
   "cell_type": "code",
   "execution_count": null,
   "id": "e237aa35",
   "metadata": {},
   "outputs": [],
   "source": [
    "# How many predictors do we have to try?\n",
    "n_predictors = len(predictors)\n",
    "n_predictors"
   ]
  },
  {
   "cell_type": "code",
   "execution_count": null,
   "id": "9c4306b0",
   "metadata": {},
   "outputs": [],
   "source": [
    "# An array to store the sum of squares values for each predictor\n",
    "sos_for_predictors = np.zeros(n_predictors)"
   ]
  },
  {
   "cell_type": "markdown",
   "id": "4a4df0c6",
   "metadata": {},
   "source": [
    "We calculate all the sums of squares:"
   ]
  },
  {
   "cell_type": "code",
   "execution_count": null,
   "id": "d4ef0045",
   "metadata": {},
   "outputs": [],
   "source": [
    "for i in np.arange(n_predictors):\n",
    "    predictor = predictors[i]\n",
    "    sos = sum_of_squares(mm_arr, predictor)\n",
    "    sos_for_predictors[i] = sos"
   ]
  },
  {
   "cell_type": "markdown",
   "id": "8a989062",
   "metadata": {},
   "source": [
    "Which predictor is giving us the lowest value for the sum of squares?"
   ]
  },
  {
   "cell_type": "code",
   "execution_count": null,
   "id": "dfa9a014",
   "metadata": {},
   "outputs": [],
   "source": [
    "plt.plot(predictors, sos_for_predictors)\n",
    "plt.xlabel('Predictor')\n",
    "plt.ylabel('Sum of squares');"
   ]
  },
  {
   "cell_type": "markdown",
   "id": "7aa10746",
   "metadata": {},
   "source": [
    "The smallest value we found for the sum of squares was:"
   ]
  },
  {
   "cell_type": "code",
   "execution_count": null,
   "id": "4e0f44a0",
   "metadata": {},
   "outputs": [],
   "source": [
    "np.min(sos_for_predictors)"
   ]
  },
  {
   "cell_type": "markdown",
   "id": "53cc1ca8",
   "metadata": {},
   "source": [
    "In fact, the value for the mean is even lower:"
   ]
  },
  {
   "cell_type": "code",
   "execution_count": null,
   "id": "99cc2788",
   "metadata": {},
   "outputs": [],
   "source": [
    "sum_of_squares(mm_arr, mm_mean)"
   ]
  },
  {
   "cell_type": "markdown",
   "id": "93953994",
   "metadata": {},
   "source": [
    "Plot the position of the mean on the plot of sum of squares:"
   ]
  },
  {
   "cell_type": "code",
   "execution_count": null,
   "id": "8bf4e123",
   "metadata": {},
   "outputs": [],
   "source": [
    "plt.plot(predictors, sos_for_predictors)\n",
    "plt.axhline(mm_mean, color='red')\n",
    "plt.xlabel('Predictor')\n",
    "plt.ylabel('Sum of squares');"
   ]
  },
  {
   "cell_type": "markdown",
   "id": "155312e1",
   "metadata": {},
   "source": [
    "We would have to use some [fairly simple calculus and\n",
    "algebra](mean_sq_deviations) to show this, but the *mean* has to give\n",
    "the lowest sum of squares error.\n",
    "\n",
    "Put another way, the mean minimizes:\n",
    "\n",
    "* the sum of the deviations (errors);\n",
    "* the sum of squared deviations (errors)."
   ]
  }
 ],
 "metadata": {
  "jupytext": {
   "notebook_metadata_filter": "all,-language_info",
   "split_at_heading": true
  },
  "kernelspec": {
   "display_name": "Python (Pyodide)",
   "name": "python"
  }
 },
 "nbformat": 4,
 "nbformat_minor": 5
}
