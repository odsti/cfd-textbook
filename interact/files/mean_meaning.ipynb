{
 "cells": [
  {
   "cell_type": "markdown",
   "id": "c1d1d4c3",
   "metadata": {},
   "source": [
    "# The meaning of the mean\n",
    "\n",
    "The mean is an interesting value.\n",
    "\n",
    "In this notebook, we fetch an example sequence of numbers, with a distribution\n",
    "that is far from the standard bell-curve distribution.  We look at the\n",
    "properties of the mean as a predictor of the whole distribution.\n",
    "\n",
    "First we load our usual libraries."
   ]
  },
  {
   "cell_type": "code",
   "execution_count": null,
   "id": "75a85964",
   "metadata": {},
   "outputs": [],
   "source": [
    "import numpy as np\n",
    "# Make random number generator.\n",
    "rng = np.random.default_rng()\n",
    "import matplotlib.pyplot as plt\n",
    "# Make plots look a little bit more fancy\n",
    "plt.style.use('fivethirtyeight')\n",
    "# Print to 2 decimal places, show tiny values as 0\n",
    "np.set_printoptions(precision=2, suppress=True)"
   ]
  },
  {
   "cell_type": "markdown",
   "id": "a24898ef",
   "metadata": {},
   "source": [
    "We need Pandas to load the gender data that we first saw in the [data frame\n",
    "introduction](data_frame_intro)."
   ]
  },
  {
   "cell_type": "code",
   "execution_count": null,
   "id": "fd465e33",
   "metadata": {},
   "outputs": [],
   "source": [
    "import pandas as pd\n",
    "pd.set_option('mode.copy_on_write', True)"
   ]
  },
  {
   "cell_type": "markdown",
   "id": "0f181a77",
   "metadata": {},
   "source": [
    "The dataset is {download}`gender_stats.csv <data/gender_stats.csv>`. This\n",
    "contains some World Bank statistics for each country on health and economic\n",
    "factors related to gender equality. See [the data file\n",
    "page](data/gender_stats) for more detail."
   ]
  },
  {
   "cell_type": "code",
   "execution_count": null,
   "id": "cb132fae",
   "metadata": {},
   "outputs": [],
   "source": [
    "# Load the data file\n",
    "gender_data = pd.read_csv('data/gender_stats.csv')"
   ]
  },
  {
   "cell_type": "markdown",
   "id": "d7963dca",
   "metadata": {},
   "source": [
    "In this case, we are only interested in the data for the Maternal Mortality\n",
    "Ratio `mat_mort_ratio`."
   ]
  },
  {
   "cell_type": "code",
   "execution_count": null,
   "id": "5b517f2e",
   "metadata": {},
   "outputs": [],
   "source": [
    "mat_mort_ratio = gender_data['mat_mort_ratio']"
   ]
  },
  {
   "cell_type": "markdown",
   "id": "dbfd870c",
   "metadata": {},
   "source": [
    "There are many `NaN` values in `mat_mort_ratio`.  For simplicity, we drop\n",
    "these."
   ]
  },
  {
   "cell_type": "code",
   "execution_count": null,
   "id": "45611217",
   "metadata": {},
   "outputs": [],
   "source": [
    "mat_mort_valid = mat_mort_ratio.dropna()"
   ]
  },
  {
   "cell_type": "markdown",
   "id": "86f4256d",
   "metadata": {},
   "source": [
    "`mat_mort_valid` is a still a Pandas Series:"
   ]
  },
  {
   "cell_type": "code",
   "execution_count": null,
   "id": "1e9311c9",
   "metadata": {},
   "outputs": [],
   "source": [
    "type(mat_mort_valid)"
   ]
  },
  {
   "cell_type": "markdown",
   "id": "edb890bc",
   "metadata": {},
   "source": [
    "Again, to make things a bit simpler, we convert this Series to an ordinary\n",
    "Numpy array:"
   ]
  },
  {
   "cell_type": "code",
   "execution_count": null,
   "id": "8576b454",
   "metadata": {},
   "outputs": [],
   "source": [
    "mm_arr = np.array(mat_mort_valid)"
   ]
  },
  {
   "cell_type": "markdown",
   "id": "a4f2ee38",
   "metadata": {},
   "source": [
    "The values for `mm_arr` are very far from a standard bell-curve or [normal\n",
    "distribution](https://en.wikipedia.org/wiki/Normal_distribution)."
   ]
  },
  {
   "cell_type": "code",
   "execution_count": null,
   "id": "4f9091a5",
   "metadata": {},
   "outputs": [],
   "source": [
    "plt.hist(mm_arr);"
   ]
  },
  {
   "cell_type": "markdown",
   "id": "5f3ee2a7",
   "metadata": {},
   "source": [
    "We are interested in the *mean*."
   ]
  },
  {
   "cell_type": "code",
   "execution_count": null,
   "id": "b28f74c7",
   "metadata": {},
   "outputs": [],
   "source": [
    "mm_mean = np.mean(mm_arr)\n",
    "mm_mean"
   ]
  },
  {
   "cell_type": "markdown",
   "id": "8184e086",
   "metadata": {},
   "source": [
    "Plot the mean position on the histogram:\n"
   ]
  },
  {
   "cell_type": "code",
   "execution_count": null,
   "id": "6c3ad049",
   "metadata": {},
   "outputs": [],
   "source": [
    "plt.hist(mm_arr);\n",
    "plt.axhline(mm_mean, color='red')"
   ]
  },
  {
   "cell_type": "markdown",
   "id": "4e5eb705",
   "metadata": {},
   "source": [
    "As you remember, we get the mean by adding up all the values, and then dividing\n",
    "by the number of values, often written as $n$."
   ]
  },
  {
   "cell_type": "code",
   "execution_count": null,
   "id": "043aea57",
   "metadata": {},
   "outputs": [],
   "source": [
    "np.sum(mm_arr) / len(mm_arr)"
   ]
  },
  {
   "cell_type": "markdown",
   "id": "836f204e",
   "metadata": {},
   "source": [
    "## Guess the center game\n",
    "\n",
    "Now let's consider the following game.\n",
    "\n",
    "Your job is to guess the *center value* of an array of values.  Here we've been\n",
    "working on `mm_arr`, but it could be any array.\n",
    "\n",
    "You don't know anything at all about these values, but I have all the values in front of me.\n",
    "\n",
    "For example, let's say the values are:"
   ]
  },
  {
   "cell_type": "code",
   "execution_count": null,
   "id": "f0d70059",
   "metadata": {},
   "outputs": [],
   "source": [
    "secret_values = np.array([10, 3, -7, -12, 99, 23])"
   ]
  },
  {
   "cell_type": "markdown",
   "id": "746cb0ce",
   "metadata": {},
   "source": [
    "I will give you £10, then ask you to make your guess.\n",
    "\n",
    "I will take away some money if your guess for the *center value* is not good.\n",
    "\n",
    "What is a good *center value*?  We will define a good center value as being a\n",
    "value where I get a small *sum of deviations*.\n",
    "\n",
    "The deviations are the values I get when I subtract your guess from the array\n",
    "of values.\n",
    "\n",
    "Let's say your guess was 10:"
   ]
  },
  {
   "cell_type": "code",
   "execution_count": null,
   "id": "a42686d6",
   "metadata": {},
   "outputs": [],
   "source": [
    "your_guess = 10"
   ]
  },
  {
   "cell_type": "markdown",
   "id": "e9a4533f",
   "metadata": {},
   "source": [
    "The deviations are:"
   ]
  },
  {
   "cell_type": "code",
   "execution_count": null,
   "id": "31a5c2ca",
   "metadata": {},
   "outputs": [],
   "source": [
    "# Subtract your guess from all the values in secret_values\n",
    "secret_deviations = secret_values - your_guess\n",
    "secret_deviations"
   ]
  },
  {
   "cell_type": "markdown",
   "id": "29e58c6b",
   "metadata": {},
   "source": [
    "The sum of the deviations is the result of adding up all the deviations."
   ]
  },
  {
   "cell_type": "code",
   "execution_count": null,
   "id": "73db90de",
   "metadata": {},
   "outputs": [],
   "source": [
    "sum_deviations = np.sum(secret_deviations)"
   ]
  },
  {
   "cell_type": "markdown",
   "id": "eca54e06",
   "metadata": {},
   "source": [
    "The sum of deviations is *small* when the absolute value of sum of of\n",
    "deviations is close to 0."
   ]
  },
  {
   "cell_type": "code",
   "execution_count": null,
   "id": "35ce6c51",
   "metadata": {},
   "outputs": [],
   "source": [
    "abs_sum_dev = np.abs(sum_deviations)\n",
    "abs_sum_dev"
   ]
  },
  {
   "cell_type": "markdown",
   "id": "7a404db5",
   "metadata": {},
   "source": [
    "When you give my your guess `your_guess`, I will calculate `abs_sum_dev`, and\n",
    "ask you for that much money back.\n",
    "\n",
    "Let's put the calculation together into a function I will run, to tell you the\n",
    "money you need to pay:"
   ]
  },
  {
   "cell_type": "code",
   "execution_count": null,
   "id": "cd0208a1",
   "metadata": {},
   "outputs": [],
   "source": [
    "def money_you_pay(values_array, guess):\n",
    "    \"\"\" Give the absolute of the sum of devations\n",
    "\n",
    "    Parameters\n",
    "    ----------\n",
    "    values_array : array\n",
    "        An array of values that I know and you do not.\n",
    "    guess : float\n",
    "        A single number that is your guess for the center\n",
    "        of the spread of `values_array`\n",
    "\n",
    "    Returns\n",
    "    -------\n",
    "    you_pay : float\n",
    "        The absolute value of the sum of deviations.\n",
    "    \"\"\"\n",
    "    deviations = values_array - guess\n",
    "    return np.abs(np.sum(deviations))"
   ]
  },
  {
   "cell_type": "markdown",
   "id": "4fc512b5",
   "metadata": {},
   "source": [
    "The function just repeats the calculation we did above:"
   ]
  },
  {
   "cell_type": "code",
   "execution_count": null,
   "id": "30d6da5a",
   "metadata": {},
   "outputs": [],
   "source": [
    "money_you_pay(secret_values, your_guess)"
   ]
  },
  {
   "cell_type": "markdown",
   "id": "bb603e2a",
   "metadata": {},
   "source": [
    "So far you are at a disadvantage, because you don't know anything about the\n",
    "numbers in `secret_array`.  They could all be more than a million, so if\n",
    "`your_guess` is 10, you will lose a lot of money.\n",
    "\n",
    "To make it fair, I will allow you to ask me for the result of one calculation\n",
    "on `secret_numbers`.  It can be anything — you could ask for the median, the\n",
    "mode, the mean, a random element from the array, or anything else.\n",
    "\n",
    "What number would you ask for, to help you give a good guess?\n"
   ]
  },
  {
   "cell_type": "markdown",
   "id": "7372acbc",
   "metadata": {},
   "source": [
    "## The mean as a predictor\n",
    "\n",
    "Now let's say that you asked me to calculate the mean, and you used that as\n",
    "your guess.\n",
    "\n",
    "Let's try that on `secret_values`:"
   ]
  },
  {
   "cell_type": "code",
   "execution_count": null,
   "id": "b7cd6212",
   "metadata": {},
   "outputs": [],
   "source": [
    "money_you_pay(secret_values, np.mean(secret_values))"
   ]
  },
  {
   "cell_type": "markdown",
   "id": "78d60366",
   "metadata": {},
   "source": [
    "Nice!  The money you pay is very close to 0 - and you win (near as dammit) £10!\n",
    "\n",
    "Now let's imagine the secret values are in fact the MMR values — `mm_arr`."
   ]
  },
  {
   "cell_type": "code",
   "execution_count": null,
   "id": "800ef10c",
   "metadata": {},
   "outputs": [],
   "source": [
    "money_you_pay(mm_arr, np.mean(mm_arr))"
   ]
  },
  {
   "cell_type": "markdown",
   "id": "e29eaa97",
   "metadata": {},
   "source": [
    "Nice again!\n",
    "\n",
    "You win, because the sum of deviations adds up to (very_nearly) 0."
   ]
  },
  {
   "cell_type": "code",
   "execution_count": null,
   "id": "d03cc388",
   "metadata": {},
   "outputs": [],
   "source": [
    "mm_mean = np.mean(mm_arr)\n",
    "# Sum of deviations from the mean.\n",
    "np.sum(mm_arr - mm_mean)"
   ]
  },
  {
   "cell_type": "markdown",
   "id": "04459c29",
   "metadata": {},
   "source": [
    "In fact, this is a property of the mean.  The deviations from the mean sum to\n",
    "zero.\n",
    "\n",
    "In fact, it is not very hard to show that the deviations [must sum to\n",
    "zero](mean_deviations).\n"
   ]
  },
  {
   "cell_type": "markdown",
   "id": "9a1f54fc",
   "metadata": {},
   "source": [
    "## Sum of squared deviations\n",
    "\n",
    "Another prediction we might be interested in, is one that gives us the smallest\n",
    "squared difference from the actual values.\n",
    "\n",
    "Here are the squared differences from the mean."
   ]
  },
  {
   "cell_type": "code",
   "execution_count": null,
   "id": "70e43ad4",
   "metadata": {},
   "outputs": [],
   "source": [
    "# Squared prediction errors, for the mean\n",
    "deviations = mm_arr - mm_mean\n",
    "sq_deviations = deviations ** 2\n",
    "# Show the first ten\n",
    "sq_deviations[:10]"
   ]
  },
  {
   "cell_type": "markdown",
   "id": "a8f905b2",
   "metadata": {},
   "source": [
    "Call the deviations — the *prediction errors*.  They are errors because the\n",
    "deviation is the distance of the prediction (here, `mm_mean`) from the actual\n",
    "value.\n",
    "\n",
    "With a good prediction (guess), we might want these squared prediction errors\n",
    "(squared deviations) to be small.  We can see how small these are by adding\n",
    "them all up.  This gives us the *sum of squares* or *sum of squared error*."
   ]
  },
  {
   "cell_type": "code",
   "execution_count": null,
   "id": "83732298",
   "metadata": {},
   "outputs": [],
   "source": [
    "sos = np.sum(sq_deviations)\n",
    "sos"
   ]
  },
  {
   "cell_type": "markdown",
   "id": "00bc2ffd",
   "metadata": {},
   "source": [
    "The value above is the sum of squared prediction errors when we use the mean as\n",
    "the predictor.  Could some other value give us a better (lower) sum of squared\n",
    "prediction error?\n",
    "\n",
    "Let's try lots of predictors, to see which gives us the smallest squared\n",
    "prediction error."
   ]
  },
  {
   "cell_type": "code",
   "execution_count": null,
   "id": "ed8c67af",
   "metadata": {},
   "outputs": [],
   "source": [
    "# Try lots of values between 150 and 210\n",
    "predictors = np.arange(150, 210, 0.1)\n",
    "# First 10\n",
    "predictors[:10]"
   ]
  },
  {
   "cell_type": "markdown",
   "id": "c5a8d423",
   "metadata": {},
   "source": [
    "We make a function that accepts the values, and the predictor as arguments, and\n",
    "returns the sum of squares of the prediction errors:"
   ]
  },
  {
   "cell_type": "code",
   "execution_count": null,
   "id": "cb70884b",
   "metadata": {},
   "outputs": [],
   "source": [
    "def sum_of_squares(vals, predictor):\n",
    "    deviations = vals - predictor\n",
    "    sq_deviations = deviations ** 2\n",
    "    return np.sum(sq_deviations)"
   ]
  },
  {
   "cell_type": "markdown",
   "id": "ad69a659",
   "metadata": {},
   "source": [
    "We confirm that this gives us the value we saw before, when we use the mean as\n",
    "a predictor:"
   ]
  },
  {
   "cell_type": "code",
   "execution_count": null,
   "id": "21047429",
   "metadata": {},
   "outputs": [],
   "source": [
    "sum_of_squares(mm_arr, mm_mean)"
   ]
  },
  {
   "cell_type": "markdown",
   "id": "fc696053",
   "metadata": {},
   "source": [
    "Here's what we get if we use the first predictor value:"
   ]
  },
  {
   "cell_type": "code",
   "execution_count": null,
   "id": "20e4dbf5",
   "metadata": {},
   "outputs": [],
   "source": [
    "sum_of_squares(mm_arr, predictors[0])"
   ]
  },
  {
   "cell_type": "markdown",
   "id": "0879e2ab",
   "metadata": {},
   "source": [
    "Now we try all the predictor values, to see which value gives us the lowest sum\n",
    "of squared errors."
   ]
  },
  {
   "cell_type": "code",
   "execution_count": null,
   "id": "7bd58dde",
   "metadata": {},
   "outputs": [],
   "source": [
    "# How many predictors do we have to try?\n",
    "n_predictors = len(predictors)\n",
    "n_predictors"
   ]
  },
  {
   "cell_type": "code",
   "execution_count": null,
   "id": "df80ec3c",
   "metadata": {},
   "outputs": [],
   "source": [
    "# An array to store the sum of squares values for each predictor\n",
    "sos_for_predictors = np.zeros(n_predictors)"
   ]
  },
  {
   "cell_type": "markdown",
   "id": "7ee0efb9",
   "metadata": {},
   "source": [
    "We calculate all the sums of squares:"
   ]
  },
  {
   "cell_type": "code",
   "execution_count": null,
   "id": "875d1fe8",
   "metadata": {},
   "outputs": [],
   "source": [
    "for i in np.arange(n_predictors):\n",
    "    predictor = predictors[i]\n",
    "    sos = sum_of_squares(mm_arr, predictor)\n",
    "    sos_for_predictors[i] = sos"
   ]
  },
  {
   "cell_type": "markdown",
   "id": "5d77fbc8",
   "metadata": {},
   "source": [
    "Which predictor is giving us the lowest value for the sum of squares?"
   ]
  },
  {
   "cell_type": "code",
   "execution_count": null,
   "id": "071d6029",
   "metadata": {},
   "outputs": [],
   "source": [
    "plt.plot(predictors, sos_for_predictors)\n",
    "plt.xlabel('Predictor')\n",
    "plt.ylabel('Sum of squares');"
   ]
  },
  {
   "cell_type": "markdown",
   "id": "55255a52",
   "metadata": {},
   "source": [
    "The smallest value we found for the sum of squares was:"
   ]
  },
  {
   "cell_type": "code",
   "execution_count": null,
   "id": "e464b865",
   "metadata": {},
   "outputs": [],
   "source": [
    "np.min(sos_for_predictors)"
   ]
  },
  {
   "cell_type": "markdown",
   "id": "c623f1f8",
   "metadata": {},
   "source": [
    "In fact, the value for the mean is even lower:"
   ]
  },
  {
   "cell_type": "code",
   "execution_count": null,
   "id": "82e8324f",
   "metadata": {},
   "outputs": [],
   "source": [
    "sum_of_squares(mm_arr, mm_mean)"
   ]
  },
  {
   "cell_type": "markdown",
   "id": "e27df7e1",
   "metadata": {},
   "source": [
    "Plot the position of the mean on the plot of sum of squares:"
   ]
  },
  {
   "cell_type": "code",
   "execution_count": null,
   "id": "f08f0485",
   "metadata": {},
   "outputs": [],
   "source": [
    "plt.plot(predictors, sos_for_predictors)\n",
    "plt.axhline(mm_mean, color='red')\n",
    "plt.xlabel('Predictor')\n",
    "plt.ylabel('Sum of squares');"
   ]
  },
  {
   "cell_type": "markdown",
   "id": "aeab6ab5",
   "metadata": {},
   "source": [
    "We would have to use some [fairly simple calculus and\n",
    "algebra](mean_sq_deviations) to show this, but the *mean* has to give\n",
    "the lowest sum of squares error.\n",
    "\n",
    "Put another way, the mean minimizes:\n",
    "\n",
    "* the sum of the deviations (errors);\n",
    "* the sum of squared deviations (errors)."
   ]
  }
 ],
 "metadata": {
  "jupytext": {
   "notebook_metadata_filter": "all,-language_info",
   "split_at_heading": true
  },
  "kernelspec": {
   "display_name": "Python (Pyodide)",
   "name": "python"
  }
 },
 "nbformat": 4,
 "nbformat_minor": 5
}
