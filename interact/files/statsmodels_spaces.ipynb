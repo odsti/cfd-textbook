{
 "cells": [
  {
   "cell_type": "markdown",
   "id": "c2078f89",
   "metadata": {},
   "source": [
    "# Statsmodels where columns have spaces"
   ]
  },
  {
   "cell_type": "code",
   "execution_count": null,
   "id": "28eeb04b",
   "metadata": {
    "tags": [
     "hide-cell"
    ]
   },
   "outputs": [],
   "source": [
    "import numpy as np\n",
    "import pandas as pd\n",
    "# Safe setting for Pandas.  Needs Pandas version >= 1.5.\n",
    "pd.set_option('mode.copy_on_write', True)\n",
    "\n",
    "import matplotlib.pyplot as plt\n",
    "plt.style.use('fivethirtyeight')\n",
    "\n",
    "np.set_printoptions(suppress=True)\n",
    "\n",
    "import statsmodels.formula.api as smf"
   ]
  },
  {
   "cell_type": "markdown",
   "id": "1b461c49",
   "metadata": {},
   "source": [
    "Back at the [simple and multiple regression page](single_multiple), we introduced the [StatsModels](https://www.statsmodels.org) library.\n",
    "\n",
    "As you may remember from that page, we were looking for the best\n",
    "least-squares straight-line fit between two columns of values in\n",
    "patients with chronic kidney disease:"
   ]
  },
  {
   "cell_type": "code",
   "execution_count": null,
   "id": "b084efc9",
   "metadata": {},
   "outputs": [],
   "source": [
    "ckd = pd.read_csv('data/ckd.csv')\n",
    "ckd.head()"
   ]
  },
  {
   "cell_type": "markdown",
   "id": "f533c566",
   "metadata": {},
   "source": [
    "In particular we were interested to predict the blood concentration of creatinine (a marker of kidney failure) from the blood concentration of urea (another marker of kidney failure), in patients with chronic kidney disease.\n",
    "\n",
    "Notice that creatinine and urea columns are `\"Serum Creatinine\"`\n",
    "and `\"Blood Urea\"` respectively.  Both columns have spaces in their names.\n",
    "\n",
    "We first select our columns of interest, and restrict ourselves to rows for patients with chronic kidney disease (CKD):"
   ]
  },
  {
   "cell_type": "code",
   "execution_count": null,
   "id": "9bcf1f43",
   "metadata": {},
   "outputs": [],
   "source": [
    "# Data frame restricted to kidney patients and columns of interest.\n",
    "ckdp = ckd.loc[\n",
    "    ckd['Class'] == 1,   # rows for CKD\n",
    "    ['Serum Creatinine', 'Blood Urea']]  # columns of interest\n",
    "ckdp.head()"
   ]
  },
  {
   "cell_type": "code",
   "execution_count": null,
   "id": "bcb99ee4",
   "metadata": {},
   "outputs": [],
   "source": [
    "ckdp.plot.scatter('Blood Urea', 'Serum Creatinine')"
   ]
  },
  {
   "cell_type": "markdown",
   "id": "92a0fc8a",
   "metadata": {},
   "source": [
    "In the single and multiple regression page, we started by renaming\n",
    "the columns, where the new names did not have spaces."
   ]
  },
  {
   "cell_type": "code",
   "execution_count": null,
   "id": "8be533d5",
   "metadata": {},
   "outputs": [],
   "source": [
    "ckdp_renamed = ckdp.copy()\n",
    "# Rename the columns to names without spaces.\n",
    "ckdp_renamed.columns = ['Creatinine', 'Urea']\n",
    "ckdp_renamed.head()"
   ]
  },
  {
   "cell_type": "markdown",
   "id": "2fdb0215",
   "metadata": {},
   "source": [
    "We then ran a simple regression model in Statsmodels, to find the least-squares straight line."
   ]
  },
  {
   "cell_type": "code",
   "execution_count": null,
   "id": "82451532",
   "metadata": {},
   "outputs": [],
   "source": [
    "simple_model = smf.ols(formula=\"Creatinine ~ Urea\", data=ckdp_renamed)\n",
    "simple_fit = simple_model.fit()\n",
    "simple_fit.summary()"
   ]
  },
  {
   "cell_type": "markdown",
   "id": "000aa243",
   "metadata": {},
   "source": [
    "But, if we wanted to use the original column names, we would have to do some\n",
    "extra work to make Statsmodels accept column names with spaces.  And in fact we\n",
    "have to do the same thing if there are special characters, which, like the\n",
    "spaces would make the column names invalid as [variable\n",
    "names](Names.Rmd).\n",
    "\n",
    "For example, let's say we were using the DataFrame `ckdp` with the original\n",
    "column names.  We could try this:"
   ]
  },
  {
   "cell_type": "code",
   "execution_count": null,
   "id": "07f1af64",
   "metadata": {
    "tags": [
     "raises-exception"
    ]
   },
   "outputs": [],
   "source": [
    "# This generates an error, because the Statsmodels formula interface\n",
    "# needs column names that work as variable names.\n",
    "another_model = smf.ols(formula=\"Serum Creatinine ~ Blood Urea\",\n",
    "                        data=ckdp)"
   ]
  },
  {
   "cell_type": "markdown",
   "id": "a6e935c7",
   "metadata": {},
   "source": [
    "The solution is to use the `Q()`\n",
    "([Quote](https://patsy.readthedocs.io/en/latest/builtins-reference.html#patsy.builtins.Q))\n",
    "function in your formula.  It tells Statsmodels that you mean the words 'Serum'\n",
    "and 'Creatinine' to be one thing: 'Serum Creatinine' - the name of the column."
   ]
  },
  {
   "cell_type": "code",
   "execution_count": null,
   "id": "6d76748d",
   "metadata": {},
   "outputs": [],
   "source": [
    "another_model = smf.ols(formula=\"Q('Serum Creatinine') ~ Q('Blood Urea')\",\n",
    "                        data=ckdp)\n",
    "another_fit = another_model.fit()\n",
    "another_fit.summary()"
   ]
  }
 ],
 "metadata": {
  "jupytext": {
   "notebook_metadata_filter": "all,-language_info",
   "split_at_heading": true
  },
  "kernelspec": {
   "display_name": "Python (Pyodide)",
   "name": "python"
  },
  "orphan": true
 },
 "nbformat": 4,
 "nbformat_minor": 5
}
