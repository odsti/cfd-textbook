{
 "cells": [
  {
   "cell_type": "markdown",
   "id": "20d08c69",
   "metadata": {},
   "source": [
    "# Finding lines\n",
    "\n",
    "In [The Mean and Slopes](mean_and_slopes), we were looking for the best slope\n",
    "to predict one vector of values from another vector of values.\n",
    "\n",
    "Specifically, we wanted our slope to predict the Packed Cell Volume (PCV)\n",
    "values from the Hemoglobin (HGB) values.\n",
    "\n",
    "By analogy with [The Mean as Predictor](mean_meaning), we decided to choose our\n",
    "line to minimize the average prediction errors, and the sum of squared\n",
    "prediction errors.\n",
    "\n",
    "We found a solution, by trying many slopes, and choosing the slope giving use\n",
    "the smallest error.\n",
    "\n",
    "For our question, we were happy to assume that the line passed through 0,\n",
    "0 — meaning, that when the Hemoglobin is 0, the Packed Cell Volume value is 0.\n",
    "Put another way, we assumed that our line had an *intercept* value of 0.  The\n",
    "intercept is the y value at which the line crosses the y axis, or, put another\n",
    "way, the y value when the x value is 0.\n",
    "\n",
    "What if we are in a situation where we want to find a line that had a (not\n",
    "zero) intercept, as well as a slope?"
   ]
  },
  {
   "cell_type": "code",
   "execution_count": null,
   "id": "581534ed",
   "metadata": {},
   "outputs": [],
   "source": [
    "import numpy as np\n",
    "import pandas as pd\n",
    "pd.set_option('mode.copy_on_write', True)\n",
    "import matplotlib.pyplot as plt\n",
    "# Make plots look a little bit more fancy\n",
    "plt.style.use('fivethirtyeight')\n",
    "# Print to 4 decimal places, show tiny values as 0\n",
    "np.set_printoptions(precision=4, suppress=True)"
   ]
  },
  {
   "cell_type": "markdown",
   "id": "d5520679",
   "metadata": {},
   "source": [
    "We return to the [students ratings dataset](data/rate_my_professors) dataset.\n",
    "\n",
    "This is a dataset, in Excel form, where each row is the average of students'\n",
    "ratings from <RateMyProfessors.com> across a single subject.  Thus, the first\n",
    "row refers to the average of all professors teaching English, the second row\n",
    "refers to all professors teaching Mathematics, and so on.\n",
    "\n",
    "Download the data file via this link {download}`rate_my_course.csv <data/rate_my_course.csv>`.\n",
    "\n",
    "Next we load the data."
   ]
  },
  {
   "cell_type": "code",
   "execution_count": null,
   "id": "6bebe800",
   "metadata": {},
   "outputs": [],
   "source": [
    "# Read the data file\n",
    "ratings = pd.read_csv('data/rate_my_course.csv')\n",
    "ratings.head()"
   ]
  },
  {
   "cell_type": "markdown",
   "id": "8131650e",
   "metadata": {},
   "source": [
    "We are interested in the relationship of the \"Overall Quality\" measure to the\n",
    "\"Easiness\" measure."
   ]
  },
  {
   "cell_type": "code",
   "execution_count": null,
   "id": "f015ddc3",
   "metadata": {},
   "outputs": [],
   "source": [
    "# Get the columns as arrays for simplicity and speed.\n",
    "easiness = np.array(ratings['Easiness'])\n",
    "quality = np.array(ratings['Overall Quality'])"
   ]
  },
  {
   "cell_type": "markdown",
   "id": "8da333e5",
   "metadata": {},
   "source": [
    "Do students rate easier courses as being of better quality?"
   ]
  },
  {
   "cell_type": "code",
   "execution_count": null,
   "id": "410b75a9",
   "metadata": {},
   "outputs": [],
   "source": [
    "plt.plot(easiness, quality, 'o')\n",
    "plt.xlabel('Easiness')\n",
    "plt.ylabel('Overall Quality')"
   ]
  },
  {
   "cell_type": "markdown",
   "id": "c99a1392",
   "metadata": {},
   "source": [
    "There might be a straight-line relationship here, but it doesn't look as if it\n",
    "would go through 0, 0:"
   ]
  },
  {
   "cell_type": "code",
   "execution_count": null,
   "id": "ae96348d",
   "metadata": {},
   "outputs": [],
   "source": [
    "# The same plot as above, but showing the x, y origin at 0, 0\n",
    "plt.plot(easiness, quality, 'o')\n",
    "plt.xlabel('Easiness')\n",
    "plt.ylabel('Overall Quality')\n",
    "# Make sure 0, 0 is on the plot.\n",
    "plt.axis([0, 3.9, 0, 4.2])"
   ]
  },
  {
   "cell_type": "markdown",
   "id": "21f33974",
   "metadata": {},
   "source": [
    "In [The Mean and Slopes](mean_and_slopes), we assumed that the intercept was zero, so we only had to try different slopes to get our best line."
   ]
  },
  {
   "cell_type": "markdown",
   "id": "556b99ab",
   "metadata": {},
   "source": [
    "Here we have a different problem, because we want to find a line that has an\n",
    "intercept that is not zero, so we need to find the *best slope* and the *best\n",
    "intercept* at the same time.  How do we search for a slope as well as an\n",
    "intercept?"
   ]
  },
  {
   "cell_type": "markdown",
   "id": "43a73703",
   "metadata": {},
   "source": [
    "But wait - why do we have to search for the slope and the intercept *at the same time*?  Can't we just find the best slope, and then the best intercept?\n",
    "\n",
    "In fact we can't do that, because the best slope will change for every intercept.\n",
    "\n",
    "To see why that is, we need to try a few different lines.   To do that, we need to remind ourselves about defining lines, and then testing them."
   ]
  },
  {
   "cell_type": "markdown",
   "id": "033df00e",
   "metadata": {},
   "source": [
    "Remember, we can describe a line with an *intercept* and a *slope*.  Call the\n",
    "*intercept* $c$ and a *slope* $s$.  A line predicts the $y$ values from the\n",
    "$x$ values, using the slope $s$ and the intercept $c$:\n",
    "\n",
    "$$\n",
    "y = c + x * s\n",
    "$$"
   ]
  },
  {
   "cell_type": "markdown",
   "id": "6ca69522",
   "metadata": {},
   "source": [
    "Let's start with a guess for the line, just from eyeballing the plot. We guess\n",
    "that:\n",
    "\n",
    "* The intercept is around 2.25\n",
    "* The slope is around 0.47\n",
    "\n",
    "The *predicted* $y$ values from this line are (from the formula above):"
   ]
  },
  {
   "cell_type": "code",
   "execution_count": null,
   "id": "5faccaad",
   "metadata": {},
   "outputs": [],
   "source": [
    "predicted = 2.25 + easiness * 0.47"
   ]
  },
  {
   "cell_type": "markdown",
   "id": "e237f742",
   "metadata": {},
   "source": [
    "where `easiness` contains our actual $x$ values.\n",
    "\n",
    "The prediction error at each point come from the actual $y$ values minus the\n",
    "predicted $y$ values."
   ]
  },
  {
   "cell_type": "code",
   "execution_count": null,
   "id": "47527614",
   "metadata": {},
   "outputs": [],
   "source": [
    "errors = quality - predicted"
   ]
  },
  {
   "cell_type": "markdown",
   "id": "1a7d7af8",
   "metadata": {},
   "source": [
    "where `quality` contains our actual $y$ values.\n",
    "\n",
    "We can look at the *predictions* for this line (in red), and the actual values (in blue) and then the errors (the lengths of the dotted lines joining the red predictions and the corresponding blue actual values)."
   ]
  },
  {
   "cell_type": "code",
   "execution_count": null,
   "id": "90daf94a",
   "metadata": {},
   "outputs": [],
   "source": [
    "# Don't worry about this code.\n",
    "# It plots the line, and the errors.\n",
    "x_values = easiness  # The thing we're predicting from, on the x axis\n",
    "y_values = quality  # The thing we're predicting, on the y axis.\n",
    "plt.plot(x_values, y_values, 'o')\n",
    "plt.plot(x_values, predicted, 'o', color='red')\n",
    "# Draw a line between predicted and actual\n",
    "for i in np.arange(len(x_values)):\n",
    "    x = x_values[i]\n",
    "    y_0 = predicted[i]\n",
    "    y_1 = y_values[i]\n",
    "    plt.plot([x, x], [y_0, y_1], ':', color='black', linewidth=1)"
   ]
  },
  {
   "cell_type": "markdown",
   "id": "b4e7b482",
   "metadata": {},
   "source": [
    "The Root Mean Squared Error (RMSE) is:"
   ]
  },
  {
   "cell_type": "code",
   "execution_count": null,
   "id": "ebfa54e4",
   "metadata": {
    "lines_to_next_cell": 0
   },
   "outputs": [],
   "source": [
    "# Root mean squared error given c and s\n",
    "rmse_c_s = np.sqrt(np.mean(errors ** 2))\n",
    "rmse_c_s"
   ]
  },
  {
   "cell_type": "markdown",
   "id": "2e8f9e6c",
   "metadata": {},
   "source": [
    "Actually, those bits of code are so useful, let's make them into a function:"
   ]
  },
  {
   "cell_type": "code",
   "execution_count": null,
   "id": "f8bebf99",
   "metadata": {},
   "outputs": [],
   "source": [
    "def plot_with_errors(x_values, y_values, c, s):\n",
    "    \"\"\" Plot a line through data with errors\n",
    "\n",
    "    Parameters\n",
    "    ----------\n",
    "    x_values : array\n",
    "        Values we are predicting from, for the x-axis of the plot.\n",
    "    y_values : array\n",
    "        Values we are predicting, for the y-axis of the plot.\n",
    "    c : number\n",
    "        Intercept for predicting line.\n",
    "    s : number\n",
    "        Slope for predicting line.\n",
    "\n",
    "    Returns\n",
    "    -------\n",
    "    rmse : number\n",
    "        The square root of the mean squared error, for the given `x_values`,\n",
    "        `y_values` and line.\n",
    "    \"\"\"\n",
    "    # Predict the y values from the line.\n",
    "    predicted = c + s * x_values\n",
    "    # Errors are the real values minus the predicted values.\n",
    "    errors = y_values - predicted\n",
    "    # Plot real values in blue, predicted values in red.\n",
    "    plt.plot(x_values, y_values, 'o', color='blue')\n",
    "    plt.plot(x_values, predicted, 'o', color='red')\n",
    "    # Draw a line between predicted and actual\n",
    "    for i in np.arange(len(x_values)):\n",
    "        x = x_values[i]\n",
    "        y_0 = predicted[i]\n",
    "        y_1 = y_values[i]\n",
    "        plt.plot([x, x], [y_0, y_1], ':', color='black', linewidth=1)\n",
    "    return np.sqrt(np.mean(errors ** 2))"
   ]
  },
  {
   "cell_type": "markdown",
   "id": "5cfe5e0a",
   "metadata": {},
   "source": [
    "Notice the string at the top of the function, giving details about what the function does, its arguments, and the values it returns.  This is called the *docstring*.  It can remind you and other people what the function does, and how to use it.  Try making a new cell and type `plot_with_errors?`.  You'll see this string is the help that Python will fetch for this function.\n",
    "\n",
    "Now the same thing with the function:"
   ]
  },
  {
   "cell_type": "code",
   "execution_count": null,
   "id": "231c7cad",
   "metadata": {},
   "outputs": [],
   "source": [
    "plot_with_errors(easiness, quality, 2.25, 0.47)"
   ]
  },
  {
   "cell_type": "markdown",
   "id": "3db7b210",
   "metadata": {},
   "source": [
    "If we try a different intercept, we'll get a different line, and a different\n",
    "error.  Let's try an intercept of 2.1:"
   ]
  },
  {
   "cell_type": "code",
   "execution_count": null,
   "id": "ed9d29f6",
   "metadata": {},
   "outputs": [],
   "source": [
    "plot_with_errors(easiness, quality, 2.1, 0.47)"
   ]
  },
  {
   "cell_type": "markdown",
   "id": "b476c602",
   "metadata": {},
   "source": [
    "Or, we could go back to the same intercept, but try a different slope, and we'd get a different error.  Let's try a slope of 0.5:"
   ]
  },
  {
   "cell_type": "code",
   "execution_count": null,
   "id": "532887ab",
   "metadata": {},
   "outputs": [],
   "source": [
    "plot_with_errors(easiness, quality, 2.25, 0.5)"
   ]
  },
  {
   "cell_type": "markdown",
   "id": "cbbe8d1d",
   "metadata": {},
   "source": [
    "Now we use the long slow method to find the best slope for our initial\n",
    "intercept of 2.25.  You may recognize the following from the [mean and\n",
    "slopes](mean_and_slopes) notebook.\n",
    "\n",
    "First we make a function, a bit like the function above, that gives us the\n",
    "error for any given intercept (`c`) and slope (`s`) like this:"
   ]
  },
  {
   "cell_type": "code",
   "execution_count": null,
   "id": "b9f7375f",
   "metadata": {},
   "outputs": [],
   "source": [
    "def calc_rmse_for_c_s(c, s):\n",
    "    predicted_quality = c + easiness * s\n",
    "    errors = quality - predicted_quality\n",
    "    return np.sqrt(np.mean(errors ** 2))"
   ]
  },
  {
   "cell_type": "markdown",
   "id": "5f9fea47",
   "metadata": {},
   "source": [
    "We have already calculated the error for the original guess at slope and\n",
    "intercept, but let's do it again for practice:"
   ]
  },
  {
   "cell_type": "code",
   "execution_count": null,
   "id": "2c4a0e33",
   "metadata": {},
   "outputs": [],
   "source": [
    "# RMSE for our initial guessed line.\n",
    "predicted = 2.25 + easiness * 0.47\n",
    "error = quality - predicted\n",
    "np.sqrt(np.mean(error ** 2))"
   ]
  },
  {
   "cell_type": "markdown",
   "id": "1bcf928f",
   "metadata": {},
   "source": [
    "Check that our function gives the same value for the same intercept and slope:"
   ]
  },
  {
   "cell_type": "code",
   "execution_count": null,
   "id": "a69d2333",
   "metadata": {},
   "outputs": [],
   "source": [
    "calc_rmse_for_c_s(2.25, 0.47)"
   ]
  },
  {
   "cell_type": "markdown",
   "id": "ea14ee94",
   "metadata": {},
   "source": [
    "OK, now we use this function to try lots of different slopes, for this\n",
    "intercept, and see which slope gives us the lowest error.  See the means,\n",
    "slopes notebook for the first time we did this."
   ]
  },
  {
   "cell_type": "code",
   "execution_count": null,
   "id": "f472a028",
   "metadata": {},
   "outputs": [],
   "source": [
    "some_slopes = np.arange(-2, 2, 0.001)\n",
    "slope_df = pd.DataFrame()\n",
    "slope_df['slope_to_try'] = some_slopes\n",
    "slope_df"
   ]
  },
  {
   "cell_type": "markdown",
   "id": "a001d1f6",
   "metadata": {},
   "source": [
    "As for the [mean and slopes](mean_and_slopes) notebook, we make an array to\n",
    "hold the RMSE results for each slope."
   ]
  },
  {
   "cell_type": "code",
   "execution_count": null,
   "id": "480e0d57",
   "metadata": {},
   "outputs": [],
   "source": [
    "# Number of slopes.\n",
    "n_slopes = len(some_slopes)\n",
    "# Array to store the RMSE for each slope.\n",
    "rmses = np.zeros(n_slopes)"
   ]
  },
  {
   "cell_type": "markdown",
   "id": "95f74db1",
   "metadata": {},
   "source": [
    "Then (as before) we calculate and store the RMSE value for each slope, with this given intercept."
   ]
  },
  {
   "cell_type": "code",
   "execution_count": null,
   "id": "48a08336",
   "metadata": {},
   "outputs": [],
   "source": [
    "# Try all these slopes for an intercept of 2.25\n",
    "for i in np.arange(n_slopes):  # For each candidate slope.\n",
    "    # Get the corresponding slope.\n",
    "    this_slope = some_slopes[i]\n",
    "    # Calculate the error measure for this slope and intercept 2.25.\n",
    "    this_error = calc_rmse_for_c_s(2.25, this_slope)\n",
    "    # Put the error into the results array at the corresponding position.\n",
    "    rmses[i] = this_error\n",
    "\n",
    "# Put all the RMSE scores into the DataFrame as a column for display.\n",
    "slope_df['RMSE'] = rmses\n",
    "slope_df"
   ]
  },
  {
   "cell_type": "markdown",
   "id": "5ce3fe36",
   "metadata": {},
   "source": [
    "We plot the errors we got for each slope, and find the slope giving the\n",
    "smallest error:"
   ]
  },
  {
   "cell_type": "code",
   "execution_count": null,
   "id": "984a3931",
   "metadata": {},
   "outputs": [],
   "source": [
    "plt.plot(slope_df['slope_to_try'], slope_df['RMSE'])\n",
    "plt.xlabel('Candidate slopes')\n",
    "plt.ylabel('Root mean squared error')"
   ]
  },
  {
   "cell_type": "markdown",
   "id": "3c353e14",
   "metadata": {},
   "source": [
    "Find the row corresponding to the smallest RMSE:"
   ]
  },
  {
   "cell_type": "code",
   "execution_count": null,
   "id": "6b0edf10",
   "metadata": {},
   "outputs": [],
   "source": [
    "# Row label corresponding to minimum value.\n",
    "row_with_min = slope_df['RMSE'].idxmin()\n",
    "slope_df.loc[row_with_min]"
   ]
  },
  {
   "cell_type": "code",
   "execution_count": null,
   "id": "96ec9b4f",
   "metadata": {},
   "outputs": [],
   "source": [
    "# Slope giving smallest RMSE for intercept 2.25\n",
    "slope_df.loc[row_with_min, 'RMSE']"
   ]
  },
  {
   "cell_type": "markdown",
   "id": "61da8932",
   "metadata": {},
   "source": [
    "OK — that's the best slope for an intercept of 2.25.  How about our other\n",
    "suggestion, of an intercept of 2.1?  Let's try that:"
   ]
  },
  {
   "cell_type": "code",
   "execution_count": null,
   "id": "f2a17bad",
   "metadata": {},
   "outputs": [],
   "source": [
    "# Try all candidate slopes for an intercept of 2.1.\n",
    "# We will reuse \"rmses\" and \"slope_df\" for simplicity.\n",
    "for i in np.arange(n_slopes):  # For each candidate slope.\n",
    "    # Get the corresponding slope.\n",
    "    this_slope = some_slopes[i]\n",
    "    # Calculate the error measure for this slope and intercept 2.21.\n",
    "    this_error = calc_rmse_for_c_s(2.1, this_slope)\n",
    "    # Put the error into the results array at the corresponding position.\n",
    "    rmses[i] = this_error\n",
    "\n",
    "# Put all the RMSE scores into the DataFrame as a column for display.\n",
    "slope_df['RMSE'] = rmses\n",
    "slope_df"
   ]
  },
  {
   "cell_type": "code",
   "execution_count": null,
   "id": "214be80f",
   "metadata": {},
   "outputs": [],
   "source": [
    "# Recalculate row holding minimum RMSE\n",
    "row_with_min_for_2p1 = slope_df['RMSE'].idxmin()\n",
    "slope_df.loc[row_with_min_for_2p1]"
   ]
  },
  {
   "cell_type": "markdown",
   "id": "af2d48cf",
   "metadata": {},
   "source": [
    "Oh dear - the best slope has changed.  And, in general, for any intercept, you\n",
    "may able to see that the best slope will be different, as the slope tries to\n",
    "adjust for the stuff that the intercept does not explain.\n",
    "\n",
    "This means we can't just find the intercept, and find the best slope for that\n",
    "intercept, at least not in our case - we have to find the best *pair* of\n",
    "intercept and slope.  This is the pair, of all possible pairs, that gives the\n",
    "lowest error."
   ]
  },
  {
   "cell_type": "markdown",
   "id": "88ead5cb",
   "metadata": {},
   "source": [
    "Our task then, is to find the *pair of values* — `c` and `s` — such that we get\n",
    "the smallest possible value for the root mean squared errors above."
   ]
  },
  {
   "cell_type": "markdown",
   "id": "e62c9520",
   "metadata": {},
   "source": [
    "One way of doing this, is to try *every possible* plausible pair of intercept\n",
    "and slope, calculate the error for this pair, and then find the *pair* that\n",
    "gave the lowest error.\n",
    "\n",
    "We are now searching over many *pairs* of slopes and intercepts."
   ]
  },
  {
   "cell_type": "markdown",
   "id": "effbf50f",
   "metadata": {},
   "source": [
    "Here are some candidate intercepts to try:"
   ]
  },
  {
   "cell_type": "code",
   "execution_count": null,
   "id": "9eb0e648",
   "metadata": {},
   "outputs": [],
   "source": [
    "# Some intercepts to try\n",
    "some_inters = np.arange(1, 3.2, 0.01)\n",
    "inter_df = pd.DataFrame()\n",
    "inter_df['intercept_to_try'] = some_inters\n",
    "inter_df"
   ]
  },
  {
   "cell_type": "markdown",
   "id": "41678363",
   "metadata": {},
   "source": [
    "We would like to calculate RMSE values for all *combinations* of slopes and intercepts.   That is, we want to get RMSE values for all slopes, for the first intercept value (1), *and* RMSE values for all slopes, and the second intercept value (1.01), and so on.\n",
    "\n",
    "We have:"
   ]
  },
  {
   "cell_type": "code",
   "execution_count": null,
   "id": "0c1605ba",
   "metadata": {},
   "outputs": [],
   "source": [
    "print('Number of slopes to try:', n_slopes)\n",
    "n_inters = len(some_inters)\n",
    "print('Number of intercepts to try:', n_inters)\n",
    "n_pairs = n_slopes * n_inters\n",
    "print('Number of pairs to try:', n_pairs)"
   ]
  },
  {
   "cell_type": "markdown",
   "id": "03cf93f3",
   "metadata": {},
   "source": [
    "To do this, we could make a new DataFrame with one row per intercept, slope pair.  The intercept column `inter_to_try` will have the intercept values, and the second `slope_to_try` will have the slope values.\n",
    "\n",
    "Let's repeat each intercept value `n_slopes` times, using [np.repeat](np_repeat).   As you remember, `np.repeat` repeats each element in the array by a given number of times:"
   ]
  },
  {
   "cell_type": "code",
   "execution_count": null,
   "id": "63537ddc",
   "metadata": {},
   "outputs": [],
   "source": [
    "# Repeat each element in the array 3 times.\n",
    "np.repeat([1, 2, 3], 3)"
   ]
  },
  {
   "cell_type": "markdown",
   "id": "153d69c7",
   "metadata": {},
   "source": [
    "To make the column of intercepts we repeat each element of the intercepts array `n_slopes` times:"
   ]
  },
  {
   "cell_type": "code",
   "execution_count": null,
   "id": "55987108",
   "metadata": {},
   "outputs": [],
   "source": [
    "pair_df = pd.DataFrame()\n",
    "repeated_inters = np.repeat(some_inters, n_slopes)\n",
    "# Show in DataFrame\n",
    "pair_df['inter_to_try'] = repeated_inters\n",
    "pair_df"
   ]
  },
  {
   "cell_type": "markdown",
   "id": "b3a4744e",
   "metadata": {},
   "source": [
    "To make the `slope_to_try` column, we need to repeat *the whole `some_slopes` array* `n_inters` times.   Notice that `np.repeat` repeats each *element* a given number of times.  To repeat the whole array, we can use `np.tile`, like this:"
   ]
  },
  {
   "cell_type": "code",
   "execution_count": null,
   "id": "ebfba688",
   "metadata": {},
   "outputs": [],
   "source": [
    "# Repeat the whole array 3 times.\n",
    "np.tile([1, 2, 3], 3)"
   ]
  },
  {
   "cell_type": "markdown",
   "id": "e4747ffb",
   "metadata": {},
   "source": [
    "To repeat the whole `some_slopes` array `n_inters` times:"
   ]
  },
  {
   "cell_type": "code",
   "execution_count": null,
   "id": "6ed97857",
   "metadata": {},
   "outputs": [],
   "source": [
    "tiled_slopes = np.tile(some_slopes, n_inters)\n",
    "# Show in DataFrame\n",
    "pair_df['slope_to_try'] = tiled_slopes\n",
    "pair_df"
   ]
  },
  {
   "cell_type": "markdown",
   "id": "c2e0894e",
   "metadata": {},
   "source": [
    "The rows of this DataFrame (and the arrays that went into them) define all the\n",
    "possible intercept, slope pairs.\n",
    "\n",
    "We next make another array to contains the RMSE values for each pair."
   ]
  },
  {
   "cell_type": "code",
   "execution_count": null,
   "id": "ed94750a",
   "metadata": {},
   "outputs": [],
   "source": [
    "# An array to store the RMSE values for each intercept, slope pair.\n",
    "pair_rmses = np.zeros(n_pairs)"
   ]
  },
  {
   "cell_type": "markdown",
   "id": "3da004e4",
   "metadata": {},
   "source": [
    "We can use these arrays to go through each slope, intercept pair in turn,\n",
    "calculate the RMSE, and store it for later use."
   ]
  },
  {
   "cell_type": "code",
   "execution_count": null,
   "id": "09650c38",
   "metadata": {},
   "outputs": [],
   "source": [
    "# Go through each pair to calculate the corresponding RMSE.\n",
    "# (Or, equivalently, go through the values for each row in the `pair_df`\n",
    "# DataFrame).\n",
    "for i in np.arange(n_pairs):\n",
    "    # Get the intercept for this pair (intercept at this position).\n",
    "    this_intercept = repeated_inters[i]\n",
    "    # Get the slope for this pair (slope at this position).\n",
    "    this_slope = tiled_slopes[i]\n",
    "    # Calculate the error measure.\n",
    "    this_error = calc_rmse_for_c_s(this_intercept, this_slope)\n",
    "    # Put the error into the RMSE results array at this position.\n",
    "    pair_rmses[i] = this_error\n",
    "\n",
    "# Add the RMSE column to the original DataFrame for display.\n",
    "pair_df['RMSE'] = pair_rmses\n",
    "pair_df"
   ]
  },
  {
   "cell_type": "markdown",
   "id": "8a5386f2",
   "metadata": {},
   "source": [
    "For each of the `n_inters` possible intercepts, we have tried all `n_slopes`\n",
    "possible slopes, and we have found the RMSE for each intercept, slope pair.  We can now find the *pair* that gives the lowest RMSE."
   ]
  },
  {
   "cell_type": "code",
   "execution_count": null,
   "id": "fdd47da1",
   "metadata": {},
   "outputs": [],
   "source": [
    "# The lowest error that we found for any slope, intercept pair\n",
    "min_row_label = pair_df['RMSE'].idxmin()\n",
    "best_row = pair_df.loc[min_row_label]\n",
    "best_row"
   ]
  },
  {
   "cell_type": "markdown",
   "id": "d2ed723c",
   "metadata": {},
   "source": [
    "Notice that the error (RMSE) for this pair is lower than the error we found for\n",
    "our guessed `c` and `s`:"
   ]
  },
  {
   "cell_type": "code",
   "execution_count": null,
   "id": "265b2a34",
   "metadata": {},
   "outputs": [],
   "source": [
    "calc_rmse_for_c_s(2.25, 0.47)"
   ]
  },
  {
   "cell_type": "code",
   "execution_count": null,
   "id": "9b1a875b",
   "metadata": {},
   "outputs": [],
   "source": [
    "# The intercept corresponding to the lowest error\n",
    "best_intercept = best_row['inter_to_try']\n",
    "best_slope = best_row['slope_to_try']\n",
    "print('Best intercept, slope pair:', best_intercept, best_slope)"
   ]
  },
  {
   "cell_type": "markdown",
   "id": "7454498a",
   "metadata": {},
   "source": [
    "Plot the data, predictions and errors for the line that minimizes the sum of\n",
    "squared error:"
   ]
  },
  {
   "cell_type": "code",
   "execution_count": null,
   "id": "bf4eb3ae",
   "metadata": {},
   "outputs": [],
   "source": [
    "plot_with_errors(easiness, quality, best_intercept, best_slope)"
   ]
  },
  {
   "cell_type": "markdown",
   "id": "abf1dc78",
   "metadata": {},
   "source": [
    "Now you know about [optimization](optimization), you will not be surprised to\n",
    "discover that Scipy `minimize` can also do the search for the intercept and\n",
    "slope pair for us.  We send `minimize` the function we are trying to minimize,\n",
    "and a starting guess for the intercept and slope."
   ]
  },
  {
   "cell_type": "markdown",
   "id": "e81820e4",
   "metadata": {},
   "source": [
    "`minimize` is a little fussy about the functions it will use.  It insists that all the parameters need to be passed in as a single argument.   In our case, we need to pass both parameters (the intercept and slope) as one value, containing two elements, like this:"
   ]
  },
  {
   "cell_type": "code",
   "execution_count": null,
   "id": "1141cce5",
   "metadata": {},
   "outputs": [],
   "source": [
    "def calc_rmse_for_minimize(c_s):\n",
    "    # c_s has two elements, the intercept c and the slope s.\n",
    "    c = c_s[0]\n",
    "    s = c_s[1]\n",
    "    predicted_quality = c + easiness * s\n",
    "    errors = quality - predicted_quality\n",
    "    return np.sqrt(np.mean(errors ** 2))"
   ]
  },
  {
   "cell_type": "markdown",
   "id": "fe5e334e",
   "metadata": {},
   "source": [
    "This is the form of the function that minimize can use.  See [using\n",
    "minimize](using_minimize) for more detail.\n",
    "\n",
    "We first confirm this gives us the same answer we got before from our function with two arguments:"
   ]
  },
  {
   "cell_type": "code",
   "execution_count": null,
   "id": "bff7e532",
   "metadata": {},
   "outputs": [],
   "source": [
    "# The original function\n",
    "calc_rmse_for_c_s(2.25, 0.47)"
   ]
  },
  {
   "cell_type": "code",
   "execution_count": null,
   "id": "aa456f0e",
   "metadata": {},
   "outputs": [],
   "source": [
    "# The function in the form that minimize wants\n",
    "# The two parameters go into a list, that we can pass as a single argument.\n",
    "calc_rmse_for_minimize([2.25, 0.47])"
   ]
  },
  {
   "cell_type": "markdown",
   "id": "e44d0863",
   "metadata": {},
   "source": [
    "As usual with `minimize` we need to give a starting guess for the intercept and\n",
    "slope.  We will start with our initial guess of `[2.25, 0.47]`, but any\n",
    "reasonable guess will do."
   ]
  },
  {
   "cell_type": "code",
   "execution_count": null,
   "id": "a0628e35",
   "metadata": {},
   "outputs": [],
   "source": [
    "from scipy.optimize import minimize\n",
    "minimize(calc_rmse_for_minimize, [2.25, 0.47])"
   ]
  },
  {
   "cell_type": "markdown",
   "id": "7a548bf3",
   "metadata": {},
   "source": [
    "Notice that `minimize` doesn't get exactly the same result as we found with the\n",
    "long slow way above.  This is because the long slow way only tested intercepts\n",
    "that were step-sizes of 0.01 apart (and slopes that were 0.001 apart).\n",
    "`minimize` can use much smaller step-sizes, and so finds a more accurate\n",
    "answer.\n",
    "\n",
    "We won't spend any time justifying this, but this is also the answer we get\n",
    "from traditional fitting of the least-squares line, as implemented, for\n",
    "example, in the Scipy `linregress` function:"
   ]
  },
  {
   "cell_type": "code",
   "execution_count": null,
   "id": "41c452a5",
   "metadata": {},
   "outputs": [],
   "source": [
    "from scipy.stats import linregress\n",
    "linregress(easiness, quality)"
   ]
  },
  {
   "cell_type": "markdown",
   "id": "601113df",
   "metadata": {},
   "source": [
    "Notice the values for `slope` and `intercept` in the output above."
   ]
  }
 ],
 "metadata": {
  "jupytext": {
   "notebook_metadata_filter": "all,-language_info",
   "split_at_heading": true
  },
  "kernelspec": {
   "display_name": "Python (Pyodide)",
   "name": "python"
  }
 },
 "nbformat": 4,
 "nbformat_minor": 5
}
