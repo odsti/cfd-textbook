{
 "cells": [
  {
   "cell_type": "markdown",
   "id": "66f91ce6",
   "metadata": {},
   "source": [
    "# Making and filling arrays."
   ]
  },
  {
   "cell_type": "code",
   "execution_count": null,
   "id": "398e2624",
   "metadata": {},
   "outputs": [],
   "source": [
    "import numpy as np"
   ]
  },
  {
   "cell_type": "markdown",
   "id": "3430e45d",
   "metadata": {},
   "source": [
    "## Making arrays\n",
    "\n",
    "You have seen how to create arrays from a sequence of values:"
   ]
  },
  {
   "cell_type": "code",
   "execution_count": null,
   "id": "874fd3f4",
   "metadata": {},
   "outputs": [],
   "source": [
    "np.array([1, 2, 3])"
   ]
  },
  {
   "cell_type": "markdown",
   "id": "35efe413",
   "metadata": {},
   "source": [
    "You have also seen how to create arrays that are sequential integers, using `np.arange`:"
   ]
  },
  {
   "cell_type": "code",
   "execution_count": null,
   "id": "7f59943c",
   "metadata": {},
   "outputs": [],
   "source": [
    "np.arange(5)"
   ]
  },
  {
   "cell_type": "markdown",
   "id": "96c2042b",
   "metadata": {},
   "source": [
    "We often find that we want to create an empty or default array, that we will fill later.\n",
    "\n",
    "Numpy has routines for that.  The main ones we will use are `np.zeros` and `np.ones`.\n",
    "\n",
    "You can guess what they do:"
   ]
  },
  {
   "cell_type": "code",
   "execution_count": null,
   "id": "1760adce",
   "metadata": {},
   "outputs": [],
   "source": [
    "np.zeros(5)"
   ]
  },
  {
   "cell_type": "code",
   "execution_count": null,
   "id": "6b77c858",
   "metadata": {},
   "outputs": [],
   "source": [
    "np.ones(5)"
   ]
  },
  {
   "cell_type": "markdown",
   "id": "82ea5bdd",
   "metadata": {},
   "source": [
    "These arrays aren't very useful at the moment; usually, we will want to fill in the elements of these arrays with other values."
   ]
  },
  {
   "cell_type": "markdown",
   "id": "ff4b2ad3",
   "metadata": {},
   "source": [
    "## Filling arrays\n",
    "\n",
    "We put values into arrays using *assignment*."
   ]
  },
  {
   "cell_type": "markdown",
   "id": "e512257a",
   "metadata": {},
   "source": [
    "### A refresher on assignment\n",
    "\n",
    "Remember the basic assignment statement.  We have so far learned that the assignment statement is a *name* followed by `=` followed by an expression (a recipe that returns a value)."
   ]
  },
  {
   "cell_type": "code",
   "execution_count": null,
   "id": "28325b45",
   "metadata": {},
   "outputs": [],
   "source": [
    "# An assignment statement\n",
    "a = 1\n",
    "a"
   ]
  },
  {
   "cell_type": "markdown",
   "id": "38beb0c4",
   "metadata": {},
   "source": [
    "Here the left hand side (LHS) is `a`.\n",
    "\n",
    "The right hand side (RHS) is an expression: `1`.\n",
    "\n",
    "We can read `a = 1` as \"a gets the value 1.\"  We can also read it as: \"Make the location called 'a' point to the value 1.\""
   ]
  },
  {
   "cell_type": "markdown",
   "id": "aa6b4dfe",
   "metadata": {},
   "source": [
    "So far, the left hand side (LHS) has always been a *name*.\n",
    "\n",
    "In fact, the LHS can be anything we can *assign* to."
   ]
  },
  {
   "cell_type": "markdown",
   "id": "e90b9a47",
   "metadata": {},
   "source": [
    "### A refresher on indexing\n",
    "\n",
    "Remember too that we can retrieve values from an array by *indexing*.\n",
    "\n",
    "Here is an example array:"
   ]
  },
  {
   "cell_type": "code",
   "execution_count": null,
   "id": "f02bc8d0",
   "metadata": {},
   "outputs": [],
   "source": [
    "my_array = np.arange(1, 11)\n",
    "my_array"
   ]
  },
  {
   "cell_type": "markdown",
   "id": "446a4823",
   "metadata": {},
   "source": [
    "We can retrieve one or more values by indexing:"
   ]
  },
  {
   "cell_type": "code",
   "execution_count": null,
   "id": "7d9dda0d",
   "metadata": {},
   "outputs": [],
   "source": [
    "my_array[1]"
   ]
  },
  {
   "cell_type": "code",
   "execution_count": null,
   "id": "8a3963f8",
   "metadata": {},
   "outputs": [],
   "source": [
    "my_array[5:]"
   ]
  },
  {
   "cell_type": "markdown",
   "id": "f56808e9",
   "metadata": {},
   "source": [
    "## Assignment with indexing\n",
    "\n",
    "In fact we can use these exact same specifications on the LHS of an assignment statement:"
   ]
  },
  {
   "cell_type": "code",
   "execution_count": null,
   "id": "7d1776ca",
   "metadata": {},
   "outputs": [],
   "source": [
    "my_array[1] = 99\n",
    "my_array"
   ]
  },
  {
   "cell_type": "code",
   "execution_count": null,
   "id": "f5afab43",
   "metadata": {},
   "outputs": [],
   "source": [
    "my_array[5:] = 100\n",
    "my_array"
   ]
  },
  {
   "cell_type": "markdown",
   "id": "be685ecd",
   "metadata": {},
   "source": [
    "When you use array indexing on the LHS, it means *specify the elements to assign*.  So:\n",
    "\n",
    "* `my_array[5]` on the RHS means - get the value at offset 5 in `my_array`\n",
    "* `my_array[5]` on the LHS means - use this location to store the data returned from the RHS.\n",
    "\n",
    "So we can read `my_array[1] = 99` as \"Make the location 'my_array[5]' point to\n",
    "the value 99.\".\n",
    "\n",
    "We will use this kind of assignment to get a little closer to a good solution to the three girl problem, in [leaping ahead](leaping_ahead)."
   ]
  }
 ],
 "metadata": {
  "jupytext": {
   "split_at_heading": true
  },
  "kernelspec": {
   "display_name": "Python (Pyodide)",
   "name": "python"
  }
 },
 "nbformat": 4,
 "nbformat_minor": 5
}
