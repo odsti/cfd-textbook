{
 "cells": [
  {
   "cell_type": "markdown",
   "id": "eefadc3e",
   "metadata": {},
   "source": [
    "# Numbers\n",
    "\n",
    "Computers are designed to perform numerical calculations, but there are some\n",
    "important details about working with numbers that every programmer working\n",
    "with quantitative data should know. Python (and most other programming\n",
    "languages) distinguishes between two different types of numbers:\n",
    "\n",
    "* Integers are called `int` values in the Python language. They can only\n",
    "  represent whole numbers (negative, zero, or positive) that don't have a\n",
    "  fractional component\n",
    "* Real numbers are called `float` values (or *floating point values*) in the\n",
    "  Python language. They can represent whole or fractional numbers but have\n",
    "  some limitations.\n",
    "\n",
    "The type of a number is evident from the way it is displayed: `int` values\n",
    "have no decimal point and `float` values always have a decimal point.\n",
    "\n",
    "Here are some `int` values:"
   ]
  },
  {
   "cell_type": "code",
   "execution_count": null,
   "id": "f59543b8",
   "metadata": {},
   "outputs": [],
   "source": [
    "2"
   ]
  },
  {
   "cell_type": "code",
   "execution_count": null,
   "id": "58bb43a5",
   "metadata": {},
   "outputs": [],
   "source": [
    "1 + 3"
   ]
  },
  {
   "cell_type": "code",
   "execution_count": null,
   "id": "cfe6b9ec",
   "metadata": {},
   "outputs": [],
   "source": [
    "-1234567890000000000"
   ]
  },
  {
   "cell_type": "markdown",
   "id": "223834bf",
   "metadata": {},
   "source": [
    "Here are some float values:"
   ]
  },
  {
   "cell_type": "code",
   "execution_count": null,
   "id": "1ebb419a",
   "metadata": {},
   "outputs": [],
   "source": [
    "1.2"
   ]
  },
  {
   "cell_type": "code",
   "execution_count": null,
   "id": "7b1f4f17",
   "metadata": {},
   "outputs": [],
   "source": [
    "1.5 + 2"
   ]
  },
  {
   "cell_type": "code",
   "execution_count": null,
   "id": "1d6e20ea",
   "metadata": {},
   "outputs": [],
   "source": [
    "3 / 1"
   ]
  },
  {
   "cell_type": "code",
   "execution_count": null,
   "id": "33e056b9",
   "metadata": {},
   "outputs": [],
   "source": [
    "-12345678900000000000.0"
   ]
  },
  {
   "cell_type": "markdown",
   "id": "96ca1d99",
   "metadata": {},
   "source": [
    "When a `float` value is combined with an `int` value using some arithmetic\n",
    "operator, then the result is always a `float` value. In most cases, two\n",
    "integers combine to form another integer, but any number (`int` or `float`)\n",
    "divided by another will be a `float` value. Very large or very small `float`\n",
    "values are displayed using scientific notation.\n",
    "\n",
    "## Another way of writing float values\n",
    "\n",
    "You can also write float values in *exponential* format, like this:"
   ]
  },
  {
   "cell_type": "code",
   "execution_count": null,
   "id": "40a3c8dd",
   "metadata": {},
   "outputs": [],
   "source": [
    "# Two thousand one hundred.\n",
    "2.1e3"
   ]
  },
  {
   "cell_type": "markdown",
   "id": "791c1815",
   "metadata": {},
   "source": [
    "Read this as $2.1 x 10^3$.  The `e3` means \"times 10 to the power of 3\".\n",
    "\n",
    "Or we can use negative powers to represent small numbers:"
   ]
  },
  {
   "cell_type": "code",
   "execution_count": null,
   "id": "a4037ae6",
   "metadata": {},
   "outputs": [],
   "source": [
    "1e-3"
   ]
  },
  {
   "cell_type": "markdown",
   "id": "6b9169d7",
   "metadata": {},
   "source": [
    "Read this as $1 x 10^-3$, or \"1 then moving the decimal point 3 spaces to the\n",
    "left\", or:"
   ]
  },
  {
   "cell_type": "code",
   "execution_count": null,
   "id": "59ea93c2",
   "metadata": {},
   "outputs": [],
   "source": [
    "1 * 10 ** -3"
   ]
  },
  {
   "cell_type": "markdown",
   "id": "26af9ad1",
   "metadata": {},
   "source": [
    "This notation makes it easier write and display very large and very small\n",
    "numbers. For example, we can write 10 million million as:"
   ]
  },
  {
   "cell_type": "code",
   "execution_count": null,
   "id": "1b846346",
   "metadata": {},
   "outputs": [],
   "source": [
    "# 10 million million\n",
    "1e7"
   ]
  },
  {
   "cell_type": "markdown",
   "id": "7625b15e",
   "metadata": {},
   "source": [
    "Or 0.0000001 as:"
   ]
  },
  {
   "cell_type": "code",
   "execution_count": null,
   "id": "61abc251",
   "metadata": {},
   "outputs": [],
   "source": [
    "1e-7"
   ]
  },
  {
   "cell_type": "markdown",
   "id": "26b06026",
   "metadata": {},
   "source": [
    "This is exactly the same value as:"
   ]
  },
  {
   "cell_type": "code",
   "execution_count": null,
   "id": "ce560b21",
   "metadata": {},
   "outputs": [],
   "source": [
    "0.0000001"
   ]
  },
  {
   "cell_type": "markdown",
   "id": "48eb2563",
   "metadata": {},
   "source": [
    "## The limits of float Values\n",
    "\n",
    "Float values are very flexible, but they do have limits.\n",
    "\n",
    "1. A `float` can represent extremely large and extremely small numbers. There\n",
    "   are limits, but you will rarely encounter them.\n",
    "2. A `float` only represents 15 or 16 significant digits for any number; the\n",
    "   remaining precision is lost. This limited precision is enough for the vast\n",
    "   majority of applications.\n",
    "3. After combining `float` values with arithmetic, the last few digits may be\n",
    "   incorrect. Small rounding errors are often confusing when first\n",
    "   encountered.\n",
    "\n",
    "The first limit can be observed in two ways. If the result of a computation is\n",
    "a very large number, then it is represented as infinite. If the result is a\n",
    "very small number, then it is represented as zero."
   ]
  },
  {
   "cell_type": "code",
   "execution_count": null,
   "id": "eb4749d4",
   "metadata": {},
   "outputs": [],
   "source": [
    "2e306 * 10"
   ]
  },
  {
   "cell_type": "code",
   "execution_count": null,
   "id": "a98d8fdf",
   "metadata": {},
   "outputs": [],
   "source": [
    "2e306 * 100"
   ]
  },
  {
   "cell_type": "code",
   "execution_count": null,
   "id": "e22e3c6b",
   "metadata": {},
   "outputs": [],
   "source": [
    "2e-322 / 10"
   ]
  },
  {
   "cell_type": "code",
   "execution_count": null,
   "id": "a8e77d07",
   "metadata": {},
   "outputs": [],
   "source": [
    "2e-322 / 100"
   ]
  },
  {
   "cell_type": "markdown",
   "id": "8a72dd7a",
   "metadata": {},
   "source": [
    "The second limit can be observed by an expression that involves numbers with\n",
    "more than 15 significant digits. These extra digits are discarded before any\n",
    "arithmetic is carried out."
   ]
  },
  {
   "cell_type": "code",
   "execution_count": null,
   "id": "fc2d1598",
   "metadata": {},
   "outputs": [],
   "source": [
    "0.6666666666666666 - 0.6666666666666666123456789"
   ]
  },
  {
   "cell_type": "markdown",
   "id": "b9cfbe6b",
   "metadata": {},
   "source": [
    "The third limit can be observed when taking the difference between two\n",
    "expressions that should be equivalent. For example, the expression `2 ** 0.5`\n",
    "computes the square root of 2, but squaring this value does not exactly\n",
    "recover 2."
   ]
  },
  {
   "cell_type": "code",
   "execution_count": null,
   "id": "4ec25976",
   "metadata": {},
   "outputs": [],
   "source": [
    "import math\n",
    "math.sqrt(2)"
   ]
  },
  {
   "cell_type": "code",
   "execution_count": null,
   "id": "6b46dda9",
   "metadata": {},
   "outputs": [],
   "source": [
    "math.sqrt(2) * math.sqrt(2)"
   ]
  },
  {
   "cell_type": "code",
   "execution_count": null,
   "id": "e957910f",
   "metadata": {},
   "outputs": [],
   "source": [
    "math.sqrt(2) * math.sqrt(2) - 2"
   ]
  },
  {
   "cell_type": "markdown",
   "id": "8d376ab0",
   "metadata": {},
   "source": [
    "The final result above is `0.0000000000000004440892098500626`, a number that\n",
    "is very close to zero. The correct answer to this arithmetic expression is 0,\n",
    "but a small error in the final significant digit appears very different in\n",
    "scientific notation. This behavior appears in almost all programming languages\n",
    "because it is the result of the standard way that arithmetic is carried out on\n",
    "computers.\n",
    "\n",
    "Although `float` values are not always exact, they are predictable and work\n",
    "in the same way across all different kinds of computers and programming\n",
    "languages.\n",
    "\n",
    "{ucb-page}`Numbers`"
   ]
  }
 ],
 "metadata": {
  "jupytext": {
   "notebook_metadata_filter": "language_info"
  },
  "kernelspec": {
   "display_name": "Python (Pyodide)",
   "name": "python"
  },
  "language_info": {
   "codemirror_mode": {
    "name": "ipython",
    "version": 3
   },
   "file_extension": ".py",
   "mimetype": "text/x-python",
   "name": "python",
   "nbconvert_exporter": "python",
   "pygments_lexer": "ipython3",
   "version": "3.5.2"
  }
 },
 "nbformat": 4,
 "nbformat_minor": 5
}
