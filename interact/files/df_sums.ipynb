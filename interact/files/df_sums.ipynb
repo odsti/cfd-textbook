{
 "cells": [
  {
   "cell_type": "markdown",
   "id": "039b1e33",
   "metadata": {},
   "source": [
    "# Data frame, sums\n",
    "\n",
    "This page is a short explanation of how to use sums across columns and rows in data frames.\n",
    "\n",
    "It follows on from the [noble politics](noble_politics) page.\n"
   ]
  },
  {
   "cell_type": "code",
   "execution_count": null,
   "id": "c7c4750a",
   "metadata": {},
   "outputs": [],
   "source": [
    "# Our usual imports\n",
    "import numpy as np\n",
    "import pandas as pd\n",
    "# Safe setting for Pandas.  Needs Pandas version >= 1.5.\n",
    "pd.set_option('mode.copy_on_write', True)\n",
    "\n",
    "import matplotlib.pyplot as plt\n",
    "plt.style.use('fivethirtyeight')"
   ]
  },
  {
   "cell_type": "markdown",
   "id": "343a1dcd",
   "metadata": {},
   "source": [
    "As in the *noble politics* page, we load the table of counts from table 6.8 of:\n",
    "\n",
    "> Samuel P. Oliner and Pearl M. Oliner (1992) \"The Altruistic Personality:\n",
    "> Rescuers of Jews in Nazi Europe\". Free Press, New York. ISBN 0-02923829-3.\n",
    "\n",
    "As usual, if you are running on your own computers, download the file\n",
    "{download}`oliner_tab6_8a_1.csv <data/oliner_tab6_8a_1.csv>` to the same directory as this notebook."
   ]
  },
  {
   "cell_type": "code",
   "execution_count": null,
   "id": "1c9f2bd0",
   "metadata": {},
   "outputs": [],
   "source": [
    "# Load the table\n",
    "party_tab = pd.read_csv('data/oliner_tab6_8a_1.csv')\n",
    "party_tab"
   ]
  },
  {
   "cell_type": "markdown",
   "id": "91b273e8",
   "metadata": {},
   "source": [
    "Next we follow the procedure in the noble politics page set the index and drop\n",
    "the last (redundant) row, and a column we are not interested in."
   ]
  },
  {
   "cell_type": "code",
   "execution_count": null,
   "id": "a0ae5a56",
   "metadata": {},
   "outputs": [],
   "source": [
    "# Replace the numerical index with the party_yn labels.\n",
    "party_tab = party_tab.set_index('party_yn')\n",
    "# Select rows and columns of interest.\n",
    "bystander_tab = party_tab.loc[['Yes', 'No'], ['rescuer', 'bystander']]\n",
    "bystander_tab"
   ]
  },
  {
   "cell_type": "markdown",
   "id": "de577e45",
   "metadata": {},
   "source": [
    "Adding up the entries in the columns of the data frame, we see that there were\n",
    "209 *rescuers* and 71 *bystanders*.\n",
    "\n",
    "We can calculate these numbers by using the `.sum` method to get sum of the\n",
    "values along the columns, and therefore, across rows."
   ]
  },
  {
   "cell_type": "code",
   "execution_count": null,
   "id": "b7fc631f",
   "metadata": {},
   "outputs": [],
   "source": [
    "bystander_tab.sum()"
   ]
  },
  {
   "cell_type": "markdown",
   "id": "529809bc",
   "metadata": {},
   "source": [
    "We would like to get the sums along the rows. We have already seen that `sum`,\n",
    "by default, gives the sum for each column.\n",
    "\n",
    "Luckily Pandas has a method called `transpose` that flips the rows and columns of a data frame, like this:"
   ]
  },
  {
   "cell_type": "code",
   "execution_count": null,
   "id": "ec3972d8",
   "metadata": {},
   "outputs": [],
   "source": [
    "flipped_tab = bystander_tab.transpose()\n",
    "flipped_tab"
   ]
  },
  {
   "cell_type": "markdown",
   "id": "593e17fc",
   "metadata": {},
   "source": [
    "Now the rows have become columns, and we can get the sum of Yes and No with:"
   ]
  },
  {
   "cell_type": "code",
   "execution_count": null,
   "id": "85493386",
   "metadata": {},
   "outputs": [],
   "source": [
    "flipped_tab.sum()"
   ]
  },
  {
   "cell_type": "markdown",
   "id": "a5a7f79e",
   "metadata": {},
   "source": [
    "Or, all in one go:"
   ]
  },
  {
   "cell_type": "code",
   "execution_count": null,
   "id": "e94f3a0e",
   "metadata": {},
   "outputs": [],
   "source": [
    "bystander_tab.transpose().sum()"
   ]
  }
 ],
 "metadata": {
  "jupytext": {
   "split_at_heading": true
  },
  "kernelspec": {
   "display_name": "Python (Pyodide)",
   "name": "python"
  },
  "orphan": true
 },
 "nbformat": 4,
 "nbformat_minor": 5
}
