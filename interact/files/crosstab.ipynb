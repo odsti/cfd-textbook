{
 "cells": [
  {
   "cell_type": "markdown",
   "id": "22da2f8e",
   "metadata": {},
   "source": [
    "# Cross-tabulation"
   ]
  },
  {
   "cell_type": "code",
   "execution_count": null,
   "id": "5bb09226",
   "metadata": {
    "tags": [
     "hide-cell"
    ]
   },
   "outputs": [],
   "source": [
    "import numpy as np\n",
    "import pandas as pd\n",
    "# Safe setting for Pandas.  Needs Pandas version >= 1.5.\n",
    "pd.set_option('mode.copy_on_write', True)"
   ]
  },
  {
   "cell_type": "markdown",
   "id": "cd30abc5",
   "metadata": {},
   "source": [
    "It is often useful to make tables that count rows in categories defined by\n",
    "columns.\n",
    "\n",
    "Here we will use a dataset with data about passengers on the [RMS\n",
    "Titanic](https://en.wikipedia.org/wiki/Titanic).\n",
    "\n",
    "See [the Titanic dataset page](data/titanic) for some more information about\n",
    "this dataset, and a link to download the data."
   ]
  },
  {
   "cell_type": "code",
   "execution_count": null,
   "id": "d515bd56",
   "metadata": {},
   "outputs": [],
   "source": [
    "# Load the dataset\n",
    "df = pd.read_csv('data/titanic_clean.csv')\n",
    "df.head()"
   ]
  },
  {
   "cell_type": "markdown",
   "id": "e22d3da5",
   "metadata": {},
   "source": [
    "As you can see, we have various bits of information about the passengers on\n",
    "the Titanic.  Several columns give labels - categories.  For example, the\n",
    "`gender` column categorizes the passenger as `male` or `female`, and the\n",
    "`survived` column categorizes the passenger by whether they survived the\n",
    "sinking - `yes` or `no`.\n"
   ]
  },
  {
   "cell_type": "markdown",
   "id": "eeb8e769",
   "metadata": {},
   "source": [
    "## A one-way table"
   ]
  },
  {
   "cell_type": "markdown",
   "id": "4ab0cced",
   "metadata": {},
   "source": [
    "As you know, we can use the `value_counts` method of the data frame to see the\n",
    "unique values for any column, with the counts of the number of times each\n",
    "value occurs."
   ]
  },
  {
   "cell_type": "code",
   "execution_count": null,
   "id": "252bef8f",
   "metadata": {},
   "outputs": [],
   "source": [
    "# Counts of each unique value in the 'survived' column.\n",
    "df['survived'].value_counts()"
   ]
  },
  {
   "cell_type": "markdown",
   "id": "90fdf4b8",
   "metadata": {},
   "source": [
    "Often we want to see *proportions* instead of counts.   We can use the `normalize` keyword argument for this:"
   ]
  },
  {
   "cell_type": "code",
   "execution_count": null,
   "id": "2cef259a",
   "metadata": {},
   "outputs": [],
   "source": [
    "# Proportions of each unique value in the 'survived' column.\n",
    "df['survived'].value_counts(normalize=True)"
   ]
  },
  {
   "cell_type": "markdown",
   "id": "3af6590d",
   "metadata": {},
   "source": [
    "## Two-way tables"
   ]
  },
  {
   "cell_type": "markdown",
   "id": "e29cf3c4",
   "metadata": {},
   "source": [
    "We often want to break down the rows by more than one category.  Remember that\n",
    "the Titanic passengers and crew tended to give preference to women and\n",
    "children, when loading the lifeboats.  So, we may want to see the counts of\n",
    "passengers who survived, broken down by `gender`.\n",
    "\n",
    "This is the role of the Pandas `crosstab` function.   It is a Pandas function\n",
    "because it is function inside the Pandas module; we can get this function with\n",
    "`pd.crosstab` (assuming we have done the usual `import pandas as pd`).\n",
    "\n",
    "The first argument to `pd.crosstab` is the category we want to see in the rows; the second argument is the category we want to see in the columns.\n",
    "\n",
    "Here is a cross-tabulation of `gender` (in the rows) by `survived` (in the columns):"
   ]
  },
  {
   "cell_type": "code",
   "execution_count": null,
   "id": "cd96f994",
   "metadata": {},
   "outputs": [],
   "source": [
    "# Cross-tabulation of counts for 'gender' (rows) by 'survived' (columns).\n",
    "pd.crosstab(df['gender'], df['survived'])"
   ]
  },
  {
   "cell_type": "markdown",
   "id": "927dcfc7",
   "metadata": {},
   "source": [
    "We will often want to see these values as proportions rather than counts.  For\n",
    "example, we may be interested in the *proportion* of women and men that\n",
    "survived.   As for `value_counts` above, we use the `normalize` keyword to ask\n",
    "for proportions.  This time we have to specify the direction that Pandas\n",
    "should use for the proportion.  We could be interested in the proportion\n",
    "across the column (proportions of `male` and `female` passengers within the\n",
    "`yes` \"survived\" category, likewise for the `no` category).  More likely, in\n",
    "this case, we will be interested in proportions across the row (proportion who\n",
    "survived within `male` category, proportion who survived within `female`\n",
    "category).   We give Pandas this information with the value for the\n",
    "`normalize` keyword argument. Pandas uses the term `index` to refer to the\n",
    "rows.  Remember, Pandas also uses the term index for the row labels.\n"
   ]
  },
  {
   "cell_type": "code",
   "execution_count": null,
   "id": "54d3f851",
   "metadata": {},
   "outputs": [],
   "source": [
    "# Cross-tabulation of proportions for 'gender' (rows) by 'survived' (columns).\n",
    "# Proportions are over the row.\n",
    "pd.crosstab(df['gender'], df['survived'], normalize='index')"
   ]
  },
  {
   "cell_type": "markdown",
   "id": "1b7efe2c",
   "metadata": {},
   "source": [
    "We could also ask for the proportions over the columns."
   ]
  },
  {
   "cell_type": "code",
   "execution_count": null,
   "id": "b7f2c537",
   "metadata": {},
   "outputs": [],
   "source": [
    "# Cross-tabulation of proportions for 'gender' (rows) by 'survived' (columns).\n",
    "# Proportions are over the column.\n",
    "pd.crosstab(df['gender'], df['survived'], normalize='columns')"
   ]
  },
  {
   "cell_type": "markdown",
   "id": "58d93bca",
   "metadata": {},
   "source": [
    "Of course, the arguments we are passing to `pd.crosstab` are Pandas Series.  We can pass any Pandas series as our row or column specification.\n",
    "\n",
    "For example, we might want to make a new Series that categorizes passengers as\n",
    "`male`, `female` or `child`.  We can use that Series as an argument to\n",
    "`pd.crosstab`."
   ]
  },
  {
   "cell_type": "code",
   "execution_count": null,
   "id": "d82532b3",
   "metadata": {},
   "outputs": [],
   "source": [
    "mwc = df['gender']\n",
    "mwc[df['age'] <= 16] = 'child'\n",
    "pd.crosstab(mwc, df['survived'], normalize='index')"
   ]
  },
  {
   "cell_type": "markdown",
   "id": "288aa7e8",
   "metadata": {},
   "source": [
    "## Three-way tables (or four ...)"
   ]
  },
  {
   "cell_type": "markdown",
   "id": "f8b4b2a9",
   "metadata": {},
   "source": [
    "Another factor that we know was in play was passenger class.  For various\n",
    "reasons, first class passengers, in particular, got better access to the\n",
    "lifeboats than passengers in other classes.   This adds a further factor that\n",
    "might explain the numbers and proportions that survived.\n",
    "\n",
    "Now we have two factors (categories) that we think may predict survival - `class` and `gender`.\n",
    "\n",
    "`pd.crosstab` takes this in its stride.  We can just pass a list of Series as our row or column specification."
   ]
  },
  {
   "cell_type": "code",
   "execution_count": null,
   "id": "43a974af",
   "metadata": {},
   "outputs": [],
   "source": [
    "# Counts for passengers who survived, broken down by class and male, female,\n",
    "# child.\n",
    "categories = [df['class'], mwc]\n",
    "pd.crosstab(categories, df['survived'])"
   ]
  },
  {
   "cell_type": "markdown",
   "id": "75969eb5",
   "metadata": {},
   "source": [
    "`normalize` over the rows will give proportions for each sub-category:"
   ]
  },
  {
   "cell_type": "code",
   "execution_count": null,
   "id": "446531c9",
   "metadata": {},
   "outputs": [],
   "source": [
    "# Proportions surviving in sub-categories of class, male/female/child.\n",
    "pd.crosstab(categories, df['survived'], normalize='index')"
   ]
  },
  {
   "cell_type": "markdown",
   "id": "82a5a352",
   "metadata": {},
   "source": [
    "You can specify multiple Series for the columns of the table.  Here we just run the equivalent table but reversing the rows and columns:"
   ]
  },
  {
   "cell_type": "code",
   "execution_count": null,
   "id": "2a33a830",
   "metadata": {},
   "outputs": [],
   "source": [
    "# Proportions surviving in sub-categories of class, male/female/child,\n",
    "# with 'survived' in the rows, and the subcategories in the columns.\n",
    "pd.crosstab(df['survived'], categories, normalize='columns')"
   ]
  },
  {
   "cell_type": "markdown",
   "id": "0906311a",
   "metadata": {},
   "source": [
    "You can specify more than two columns in the row or column arguments, or both.\n",
    "Try experimenting with different arguments."
   ]
  }
 ],
 "metadata": {
  "jupytext": {
   "notebook_metadata_filter": "all,-language_info",
   "split_at_heading": true
  },
  "kernelspec": {
   "display_name": "Python (Pyodide)",
   "name": "python"
  }
 },
 "nbformat": 4,
 "nbformat_minor": 5
}
