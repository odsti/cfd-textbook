{
 "cells": [
  {
   "cell_type": "markdown",
   "id": "e8f78c4c",
   "metadata": {},
   "source": [
    "# Numbers and strings\n",
    "\n",
    "This page covers a common problem when loading data into Pandas --- when Pandas gets confused about whether values in a column are text or numbers."
   ]
  },
  {
   "cell_type": "markdown",
   "id": "fcbb447c",
   "metadata": {},
   "source": [
    "## An example"
   ]
  },
  {
   "cell_type": "code",
   "execution_count": null,
   "id": "1ae194e7",
   "metadata": {},
   "outputs": [],
   "source": [
    "import numpy as np\n",
    "import pandas as pd\n",
    "pd.set_option('mode.copy_on_write', True)"
   ]
  },
  {
   "cell_type": "markdown",
   "id": "b384c654",
   "metadata": {},
   "source": [
    "We return to the example data file that you may have seen in the [text encoding](text_encoding) page.\n",
    "\n",
    "You can download the data file from {download}`imdblet_latin.csv\n",
    "<data/imdblet_latin.csv>`."
   ]
  },
  {
   "cell_type": "code",
   "execution_count": null,
   "id": "4078434a",
   "metadata": {},
   "outputs": [],
   "source": [
    "films = pd.read_csv('data/imdblet_latin.csv', encoding='latin1')\n",
    "films.head()"
   ]
  },
  {
   "cell_type": "markdown",
   "id": "381c07eb",
   "metadata": {},
   "source": [
    "Now imagine we are interested in the average rating across these films:"
   ]
  },
  {
   "cell_type": "code",
   "execution_count": null,
   "id": "7aa867ea",
   "metadata": {
    "tags": [
     "raises-exception"
    ]
   },
   "outputs": [],
   "source": [
    "ratings = films['Rating']\n",
    "ratings.mean()"
   ]
  },
  {
   "cell_type": "markdown",
   "id": "853bae5e",
   "metadata": {},
   "source": [
    "## The problem\n",
    "\n",
    "The problem is that we were expecting our ratings to be numbers, but in fact, they are strings.\n",
    "\n",
    "We can see what type of thing Pandas has stored by looking at the `dtype`\n",
    "attribute of a Series, or the `dtypes` attribute of a data frame."
   ]
  },
  {
   "cell_type": "code",
   "execution_count": null,
   "id": "9679cc2e",
   "metadata": {},
   "outputs": [],
   "source": [
    "films.dtypes"
   ]
  },
  {
   "cell_type": "code",
   "execution_count": null,
   "id": "dab666cf",
   "metadata": {},
   "outputs": [],
   "source": [
    "ratings.dtype"
   ]
  },
  {
   "cell_type": "markdown",
   "id": "27ba7c3b",
   "metadata": {},
   "source": [
    "In fact both these bits of information say the same thing -- that the 'Rating'\n",
    "column stores things in the \"object\" or \"O\" type.  This is a general type that\n",
    "can store any Python value.   It is the standard type that Pandas uses when\n",
    "storing text.\n",
    "\n",
    "Why does Pandas use text for the 'Rating' column?\n",
    "\n",
    "A quick look at the first rows gives the answer:"
   ]
  },
  {
   "cell_type": "code",
   "execution_count": null,
   "id": "2f32b9e5",
   "metadata": {},
   "outputs": [],
   "source": [
    "ratings.head()"
   ]
  },
  {
   "cell_type": "markdown",
   "id": "0db6deb6",
   "metadata": {},
   "source": [
    "The film \"Paris, Texas (1984)\" has a value \"N/K\" for the rating. This can't be a number, so Pandas stored this column in a format that allows it to store \"N/K\" as text.\n",
    "\n",
    "If that wasn't obvious, another way of checking where the problem value is, to `apply` the function `float` to the column values.\n",
    "\n",
    "When we `apply` a function to a Series, it does this:\n",
    "\n",
    "* For each value in the Series it:\n",
    "  * Calls the function, with the value as the single argument.\n",
    "  * Collects the new value returned from the function, and appends it to a new\n",
    "    Series.\n",
    "* Returns the new Series.\n",
    "\n",
    "The result is a Series that is the same length as the original series, but\n",
    "where each value in the new series is the result of calling the function on the\n",
    "original value.\n",
    "\n",
    "Recall that the `float` function converts the thing you pass into a floating\n",
    "point value:"
   ]
  },
  {
   "cell_type": "code",
   "execution_count": null,
   "id": "c9e1dda6",
   "metadata": {},
   "outputs": [],
   "source": [
    "v = float('3.14')\n",
    "v"
   ]
  },
  {
   "cell_type": "code",
   "execution_count": null,
   "id": "5a197305",
   "metadata": {},
   "outputs": [],
   "source": [
    "type(v)"
   ]
  },
  {
   "cell_type": "markdown",
   "id": "cc238e2b",
   "metadata": {},
   "source": [
    "Now we try applying `float` to the problematic column:"
   ]
  },
  {
   "cell_type": "code",
   "execution_count": null,
   "id": "86d15a79",
   "metadata": {
    "tags": [
     "raises-exception"
    ]
   },
   "outputs": [],
   "source": [
    "ratings.apply(float)"
   ]
  },
  {
   "cell_type": "markdown",
   "id": "6d4c05cc",
   "metadata": {},
   "source": [
    "One way of dealing with this problem is to make a *recoding* function.\n",
    "\n",
    "A recoding function is a function that we will apply to a Series.  That means that we call the function for every value in the Series.  The function argument is the value from the series.  The function returns the new value, for a new Series."
   ]
  },
  {
   "cell_type": "code",
   "execution_count": null,
   "id": "6b6a534d",
   "metadata": {},
   "outputs": [],
   "source": [
    "def recode_ratings(v):\n",
    "    if v == 'N/K':  # Return missing value for 'N/K'\n",
    "        return np.nan\n",
    "    # Otherwise make text value into a float\n",
    "    return float(v)"
   ]
  },
  {
   "cell_type": "markdown",
   "id": "ff8702a8",
   "metadata": {},
   "source": [
    "We test our function:"
   ]
  },
  {
   "cell_type": "code",
   "execution_count": null,
   "id": "38bd5fe6",
   "metadata": {},
   "outputs": [],
   "source": [
    "recode_ratings('8.3')"
   ]
  },
  {
   "cell_type": "code",
   "execution_count": null,
   "id": "f67377e9",
   "metadata": {},
   "outputs": [],
   "source": [
    "recode_ratings('N/K')"
   ]
  },
  {
   "cell_type": "markdown",
   "id": "dae788dd",
   "metadata": {},
   "source": [
    "We make a new Series by calling the recode function:"
   ]
  },
  {
   "cell_type": "code",
   "execution_count": null,
   "id": "e0f865c2",
   "metadata": {},
   "outputs": [],
   "source": [
    "new_ratings = ratings.apply(recode_ratings)\n",
    "new_ratings.head()"
   ]
  },
  {
   "cell_type": "markdown",
   "id": "d9ea04db",
   "metadata": {},
   "source": [
    "We can insert this back into a copy of the original data frame:"
   ]
  },
  {
   "cell_type": "code",
   "execution_count": null,
   "id": "a277d0fd",
   "metadata": {},
   "outputs": [],
   "source": [
    "films_fixed = films\n",
    "films_fixed.loc[:, 'Rating'] = new_ratings\n",
    "films_fixed.head()"
   ]
  }
 ],
 "metadata": {
  "jupytext": {
   "split_at_heading": true
  },
  "kernelspec": {
   "display_name": "Python (Pyodide)",
   "name": "python"
  }
 },
 "nbformat": 4,
 "nbformat_minor": 5
}
