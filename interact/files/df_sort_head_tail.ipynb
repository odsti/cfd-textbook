{
 "cells": [
  {
   "cell_type": "markdown",
   "id": "9aef12d3",
   "metadata": {},
   "source": [
    "# Sorting, heads and tails"
   ]
  },
  {
   "cell_type": "code",
   "execution_count": null,
   "id": "be881bd5",
   "metadata": {},
   "outputs": [],
   "source": [
    "# Load the Pandas data science library, call it 'pd'\n",
    "import pandas as pd\n",
    "# Turn on a setting to use Pandas more safely.\n",
    "# We will discuss this setting later.\n",
    "pd.set_option('mode.copy_on_write', True)\n",
    "\n",
    "# Load the library for plotting, name it 'plt'\n",
    "import matplotlib.pyplot as plt\n",
    "# Make plots look a little more fancy\n",
    "plt.style.use('fivethirtyeight')"
   ]
  },
  {
   "cell_type": "markdown",
   "id": "a0f7f387",
   "metadata": {},
   "source": [
    "In [basic column indexing](df_basic_col_indexing.Rmd) we found the slightly odd\n",
    "result that, for rich countries, there is little relationship between GDP and\n",
    "maternal mortality.\n",
    "\n",
    "Here we investigate further, by looking at rich and poor countries separately.\n",
    "\n",
    "In order to do that, we are going to *sort* our DataFrame using the\n",
    "`.sort_values` method, and the select the first and last group of rows, using\n",
    "the `.head` and `.tail` methods.\n",
    "\n",
    "First let us return to the slightly processed DataFrame we were working on before:"
   ]
  },
  {
   "cell_type": "code",
   "execution_count": null,
   "id": "3e30c6a7",
   "metadata": {},
   "outputs": [],
   "source": [
    "# Original data frame before dropping missing values.\n",
    "gender_data = pd.read_csv('data/gender_stats_min.csv')\n",
    "gender_data_no_na = gender_data.dropna()\n",
    "labeled_gdata = gender_data_no_na.set_index('country_code')\n",
    "labeled_gdata"
   ]
  },
  {
   "cell_type": "markdown",
   "id": "d6f91a9e",
   "metadata": {},
   "source": [
    "Here is the plot we saw before, with the unconvincing relationship of GDP to\n",
    "Maternal Mortality Rate (MMR)."
   ]
  },
  {
   "cell_type": "code",
   "execution_count": null,
   "id": "409e767c",
   "metadata": {},
   "outputs": [],
   "source": [
    "plt.scatter(labeled_gdata['gdp_us_billion'],\n",
    "            labeled_gdata['mat_mort_ratio'])\n",
    "plt.title('MMR as a function of GDP')"
   ]
  },
  {
   "cell_type": "markdown",
   "id": "d429484c",
   "metadata": {},
   "source": [
    "We wondered whether the relationship of GDP and MMR might be different for rich and poor countries.\n",
    "\n",
    "To look at that, we can sort the DataFrame by the GDP values.\n",
    "\n",
    "In order to do that, we use the `.sort_values` method, passing the column name containing the values we want to sort by:"
   ]
  },
  {
   "cell_type": "code",
   "execution_count": null,
   "id": "1e64a3f2",
   "metadata": {},
   "outputs": [],
   "source": [
    "gdata_by_gdp = labeled_gdata.sort_values('gdp_us_billion')\n",
    "gdata_by_gdp"
   ]
  },
  {
   "cell_type": "markdown",
   "id": "299344f7",
   "metadata": {},
   "source": [
    "Notice that the `.sort_values` method returned a new data frame with the rows\n",
    "in ascending order of the values in the given column (here `gdp_us_billion`).\n",
    "We therefore have a DataFrame where the richest countries are first and the\n",
    "poorest last.\n",
    "\n",
    "Ascending order is the default sort order, but you can ask for descending order by giving the `ascending` keyword argument a value of `False`, like this:"
   ]
  },
  {
   "cell_type": "code",
   "execution_count": null,
   "id": "5d310bd5",
   "metadata": {},
   "outputs": [],
   "source": [
    "gdata_by_desc_gdp = labeled_gdata.sort_values('gdp_us_billion',\n",
    "                                               ascending=False)\n",
    "gdata_by_desc_gdp"
   ]
  },
  {
   "cell_type": "markdown",
   "id": "38d4f04d",
   "metadata": {},
   "source": [
    "Notice that now the richest countries are first and the poorest last.\n",
    "\n",
    "Let us go back to the poorest to richest sorted DataFrame, `gdata_by_gdp`.  The DataFrame has a `.head` method that, by default, will select the first 5 rows of the DataFrame:"
   ]
  },
  {
   "cell_type": "code",
   "execution_count": null,
   "id": "4b73abd1",
   "metadata": {},
   "outputs": [],
   "source": [
    "gdata_by_gdp.head()"
   ]
  },
  {
   "cell_type": "markdown",
   "id": "3100676a",
   "metadata": {},
   "source": [
    "Notice that the result is a new DataFrame that only has 5 rows.\n",
    "\n",
    "In fact we often use `.head` to show a small sample of the DataFrame, and you will see that use throughout the rest of the course.\n",
    "\n",
    "You can also give `.head` a number of rows you want.  For example to select the\n",
    "125 poorest countries (in terms of GDP), you could use:"
   ]
  },
  {
   "cell_type": "code",
   "execution_count": null,
   "id": "862c7a65",
   "metadata": {},
   "outputs": [],
   "source": [
    "poorest_125 = gdata_by_gdp.head(125)\n",
    "poorest_125"
   ]
  },
  {
   "cell_type": "markdown",
   "id": "c717c0c7",
   "metadata": {},
   "source": [
    "Now we have the rows corresponding to the 125 poorest countries, we can repeat our GDP / MMR plot, restricted to those countries:"
   ]
  },
  {
   "cell_type": "code",
   "execution_count": null,
   "id": "6a21ea30",
   "metadata": {},
   "outputs": [],
   "source": [
    "plt.scatter(poorest_125['gdp_us_billion'], poorest_125['mat_mort_ratio'])\n",
    "plt.title('MMR as a function of GDP, for 125 poorest countries')"
   ]
  },
  {
   "cell_type": "markdown",
   "id": "8f4de706",
   "metadata": {},
   "source": [
    "If we sort the new DataFrame by the MMR values, we can see which of these 125\n",
    "poorest countries are doing particularly well or badly in terms of MMR:"
   ]
  },
  {
   "cell_type": "code",
   "execution_count": null,
   "id": "fba2dff9",
   "metadata": {},
   "outputs": [],
   "source": [
    "poorest_125.sort_values('mat_mort_ratio')"
   ]
  },
  {
   "cell_type": "markdown",
   "id": "53a0304c",
   "metadata": {},
   "source": [
    "DataFrames also have `.tail` method that, by default, gives the last 5 rows of the DataFrame.  For example, these are the 5 richest countries:"
   ]
  },
  {
   "cell_type": "code",
   "execution_count": null,
   "id": "942e30de",
   "metadata": {},
   "outputs": [],
   "source": [
    "gdata_by_gdp.tail()"
   ]
  },
  {
   "cell_type": "markdown",
   "id": "1e61d9bb",
   "metadata": {},
   "source": [
    "Like `.head` we can give `.tail` a number of rows we want.  Here we are looking at the last 25 rows of the sorted DataFrame, and therefore, the 25 richest countries:"
   ]
  },
  {
   "cell_type": "code",
   "execution_count": null,
   "id": "e663b4f7",
   "metadata": {},
   "outputs": [],
   "source": [
    "richest_25 = gdata_by_gdp.tail(25)\n",
    "richest_25"
   ]
  },
  {
   "cell_type": "code",
   "execution_count": null,
   "id": "c802729c",
   "metadata": {},
   "outputs": [],
   "source": [
    "plt.scatter(richest_25['gdp_us_billion'], richest_25['mat_mort_ratio'])\n",
    "plt.title('MMR as a function of GDP, for 25 richest countries')"
   ]
  },
  {
   "cell_type": "markdown",
   "id": "0e871e9a",
   "metadata": {},
   "source": [
    "Again, we can sort by the MMR values to show the best and worst countries in terms of maternal health:"
   ]
  },
  {
   "cell_type": "code",
   "execution_count": null,
   "id": "4482b992",
   "metadata": {},
   "outputs": [],
   "source": [
    "richest_25.sort_values('mat_mort_ratio')"
   ]
  },
  {
   "cell_type": "markdown",
   "id": "5a5839f6",
   "metadata": {},
   "source": [
    "To investigate further, we need to do some calculations to adjust for the\n",
    "population."
   ]
  }
 ],
 "metadata": {
  "jupyterbook": {
   "show_stderr": true
  },
  "jupytext": {
   "formats": "",
   "notebook_metadata_filter": "all,-language_info",
   "split_at_heading": true
  },
  "kernelspec": {
   "display_name": "Python (Pyodide)",
   "name": "python"
  }
 },
 "nbformat": 4,
 "nbformat_minor": 5
}
