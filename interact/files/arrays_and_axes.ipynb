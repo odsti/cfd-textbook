{
 "cells": [
  {
   "cell_type": "markdown",
   "id": "81b28b75",
   "metadata": {},
   "source": [
    "# Arrays and axes\n",
    "\n",
    "* We return to Numpy `array`s.\n",
    "* Arrays can be two-dimensional.\n",
    "* An array with two dimensions has *rows* and *columns*.  The rows and\n",
    "  columns are the two *axes* of the array.\n",
    "* We can ask Numpy to do operations over rows or columns, using the\n",
    "  `axis` keyword argument."
   ]
  },
  {
   "cell_type": "markdown",
   "id": "1fa1b66b",
   "metadata": {},
   "source": [
    "## Starting with one dimension"
   ]
  },
  {
   "cell_type": "code",
   "execution_count": null,
   "id": "398e11a2",
   "metadata": {},
   "outputs": [],
   "source": [
    "# We need Numpy\n",
    "import numpy as np\n",
    "# Make random number generator.\n",
    "rng = np.random.default_rng()"
   ]
  },
  {
   "cell_type": "markdown",
   "id": "23a95f2e",
   "metadata": {},
   "source": [
    "Here I make an array that contains three random numbers, using the `size` keyword argument:"
   ]
  },
  {
   "cell_type": "code",
   "execution_count": null,
   "id": "08f898f0",
   "metadata": {},
   "outputs": [],
   "source": [
    "three_randoms = rng.uniform(size=3)\n",
    "three_randoms"
   ]
  },
  {
   "cell_type": "markdown",
   "id": "c07ed12b",
   "metadata": {},
   "source": [
    "Remember, this is a value of type `array`:"
   ]
  },
  {
   "cell_type": "code",
   "execution_count": null,
   "id": "7e1228a6",
   "metadata": {},
   "outputs": [],
   "source": [
    "type(three_randoms)"
   ]
  },
  {
   "cell_type": "markdown",
   "id": "6ad8f588",
   "metadata": {},
   "source": [
    "We can compare all the values in this array to a single number.   In that case, we get a new array, with a `True` value in the positions where the comparison was True, and `False` values otherwise:"
   ]
  },
  {
   "cell_type": "code",
   "execution_count": null,
   "id": "798adb92",
   "metadata": {},
   "outputs": [],
   "source": [
    "randoms_compared = three_randoms < 0.5\n",
    "randoms_compared"
   ]
  },
  {
   "cell_type": "markdown",
   "id": "4dd683a0",
   "metadata": {},
   "source": [
    "We also found that we can apply functions to these arrays.  For example, we found that `np.count_nonzero` returns the number of elements that are not 0."
   ]
  },
  {
   "cell_type": "code",
   "execution_count": null,
   "id": "2e11789c",
   "metadata": {},
   "outputs": [],
   "source": [
    "np.count_nonzero(randoms_compared)"
   ]
  },
  {
   "cell_type": "markdown",
   "id": "aaecc881",
   "metadata": {},
   "source": [
    "This works because the function considers `False` to be equal to 0 and `True` to be equal to 1:"
   ]
  },
  {
   "cell_type": "code",
   "execution_count": null,
   "id": "82ad08d1",
   "metadata": {},
   "outputs": [],
   "source": [
    "np.count_nonzero(False)"
   ]
  },
  {
   "cell_type": "code",
   "execution_count": null,
   "id": "208d0d94",
   "metadata": {},
   "outputs": [],
   "source": [
    "np.count_nonzero(True)"
   ]
  },
  {
   "cell_type": "markdown",
   "id": "d68f54fa",
   "metadata": {},
   "source": [
    "## Two-dimensions"
   ]
  },
  {
   "cell_type": "markdown",
   "id": "c71e44c5",
   "metadata": {},
   "source": [
    "The array `three_randoms` is a one dimensional array, with three elements."
   ]
  },
  {
   "cell_type": "markdown",
   "id": "3b23e60a",
   "metadata": {},
   "source": [
    "We can also create two-dimensional arrays.   Here is an array with 10 *rows* and 3 *columns*."
   ]
  },
  {
   "cell_type": "code",
   "execution_count": null,
   "id": "2c489d22",
   "metadata": {},
   "outputs": [],
   "source": [
    "bigger_array = rng.uniform(size=(10, 3))\n",
    "bigger_array"
   ]
  },
  {
   "cell_type": "markdown",
   "id": "02421ca9",
   "metadata": {},
   "source": [
    "Notice that we made the one-dimensional array with `size=3`.  We make the two-dimensional array by passing two numbers to `size`.  We pass two numbers with something like `size=(10, 3)`, as we did above.  We haven't covered this way of specifying a pair of numbers yet.  For the moment, we hope you will take our word for it."
   ]
  },
  {
   "cell_type": "markdown",
   "id": "a9886fc8",
   "metadata": {},
   "source": [
    "You can probably predict what will happen when we compare this two-dimensional array to 0.5."
   ]
  },
  {
   "cell_type": "code",
   "execution_count": null,
   "id": "46dbde4d",
   "metadata": {},
   "outputs": [],
   "source": [
    "bigger_compared = bigger_array < 0.5\n",
    "bigger_compared"
   ]
  },
  {
   "cell_type": "markdown",
   "id": "4a686b34",
   "metadata": {},
   "source": [
    "As before, there is now a True at each position where there number was less than 0.5, with False everywhere else."
   ]
  },
  {
   "cell_type": "markdown",
   "id": "45291001",
   "metadata": {},
   "source": [
    "Can you predict what will happen with `np.count_nonzero`?"
   ]
  },
  {
   "cell_type": "code",
   "execution_count": null,
   "id": "2be481dd",
   "metadata": {},
   "outputs": [],
   "source": [
    "np.count_nonzero(bigger_compared)"
   ]
  },
  {
   "cell_type": "markdown",
   "id": "96f3a457",
   "metadata": {},
   "source": [
    "You can probably see that `np.count_nonzero` is counting the number of True values in any position in the array."
   ]
  },
  {
   "cell_type": "markdown",
   "id": "cd66f40e",
   "metadata": {},
   "source": [
    "## Operations on axes"
   ]
  },
  {
   "cell_type": "markdown",
   "id": "3cdd4c8d",
   "metadata": {},
   "source": [
    "What if we want to see how many True values there are in each column?\n",
    "\n",
    "To do this, we need the `axis` keyword to `np.count_nonzero`, like this:"
   ]
  },
  {
   "cell_type": "code",
   "execution_count": null,
   "id": "b3a04e5c",
   "metadata": {},
   "outputs": [],
   "source": [
    "np.count_nonzero(bigger_compared, axis=0)"
   ]
  },
  {
   "cell_type": "markdown",
   "id": "e8013ac3",
   "metadata": {},
   "source": [
    "You will see that we have one value per column, where each value is the count of True values in that column."
   ]
  },
  {
   "cell_type": "markdown",
   "id": "548e9ede",
   "metadata": {},
   "source": [
    "Why `axis=0`?\n",
    "\n",
    "The array has two dimensions, and therefore, two *axes*.  The first axis\n",
    "is the rows, the second axis is the columns.\n",
    "\n",
    "Why `0`?  Python thinks of sequences as starting at position 0.  The\n",
    "element at position 0 is the first element in the sequence.  Thus,\n",
    "`axis=0` means the first axis.\n",
    "\n",
    "Now imagine looking down the first axis in our array.  The first axis is\n",
    "the rows, so we are looking down the rows.  First you see the first\n",
    "element in the first row, then you see the first element in the second\n",
    "row, and so on.  So, if we are doing a count of not-0 elements over the\n",
    "first axis (rows), we do this:\n",
    "\n",
    "* count the number of not-0 element going down the first element in the\n",
    "  row, then\n",
    "* count the number of not-0 element going down the second element in the\n",
    "  row, then\n",
    "* count the number of not-0 element going down the third element in the\n",
    "  row.\n",
    "\n",
    "The result is three values, one for each element in the row."
   ]
  },
  {
   "cell_type": "code",
   "execution_count": null,
   "id": "8006966a",
   "metadata": {},
   "outputs": [],
   "source": [
    "np.count_nonzero(bigger_compared, axis=0)"
   ]
  },
  {
   "cell_type": "markdown",
   "id": "59ae7e0c",
   "metadata": {},
   "source": [
    "Because of the reasoning above, these the counts for each column (there are 3 columns)."
   ]
  },
  {
   "cell_type": "markdown",
   "id": "b2eb32c1",
   "metadata": {},
   "source": [
    "What if we want the counts for each row?"
   ]
  },
  {
   "cell_type": "code",
   "execution_count": null,
   "id": "51c91bac",
   "metadata": {},
   "outputs": [],
   "source": [
    "np.count_nonzero(bigger_compared, axis=1)"
   ]
  },
  {
   "cell_type": "markdown",
   "id": "61dc36d9",
   "metadata": {},
   "source": [
    "`axis=1` asks for the count over the second axis.  If we look over the\n",
    "second axis, we look over the first element in the first row, then the\n",
    "second element in the first row, then the third element in the first\n",
    "row.  So, counting over `axis=1`, gives the counts for each row.   We\n",
    "get one count for each row, so 10 counts."
   ]
  }
 ],
 "metadata": {
  "jupytext": {
   "notebook_metadata_filter": "language_info"
  },
  "kernelspec": {
   "display_name": "Python (Pyodide)",
   "name": "python"
  },
  "language_info": {
   "codemirror_mode": {
    "name": "ipython",
    "version": 3
   },
   "file_extension": ".py",
   "mimetype": "text/x-python",
   "name": "python",
   "nbconvert_exporter": "python",
   "pygments_lexer": "ipython3",
   "version": "3.6.5"
  },
  "orphan": true
 },
 "nbformat": 4,
 "nbformat_minor": 5
}
