{
 "cells": [
  {
   "cell_type": "markdown",
   "id": "3e6197d2",
   "metadata": {},
   "source": [
    "# Comparisons\n",
    "\n",
    "A *Boolean* value is a value that can only be True or False.  It is called\n",
    "\"Boolean\" after the mathematician and logician [George\n",
    "Boole](https://en.wikipedia.org/wiki/George_Boole)\n",
    "\n",
    "Boolean values most often arise from comparison operators. Python includes a\n",
    "variety of operators that compare values. For example, `3` is larger than `1`:"
   ]
  },
  {
   "cell_type": "code",
   "execution_count": null,
   "id": "8227af59",
   "metadata": {},
   "outputs": [],
   "source": [
    "3 > 1"
   ]
  },
  {
   "cell_type": "markdown",
   "id": "c696b152",
   "metadata": {},
   "source": [
    "`>` is the *greater than* comparison operator.  It takes the value to the left and asks if it is greater than the value to right.   The answer can only be `True` or `False`.\n",
    "\n",
    "The value `True` indicates that the comparison is valid; Python has confirmed\n",
    "this simple fact about the relationship between `3` and `1`.\n",
    "\n",
    "Python uses the special `bool` type for values that can only be `True` or `False`."
   ]
  },
  {
   "cell_type": "code",
   "execution_count": null,
   "id": "3a4792c5",
   "metadata": {},
   "outputs": [],
   "source": [
    "type(3 > 1)"
   ]
  },
  {
   "cell_type": "markdown",
   "id": "a1d459c5",
   "metadata": {},
   "source": [
    "Here we confirm to ourselves that `3` is greater than the result of the expression `1 + 1`:"
   ]
  },
  {
   "cell_type": "code",
   "execution_count": null,
   "id": "8c56f497",
   "metadata": {},
   "outputs": [],
   "source": [
    "3 > 1 + 1"
   ]
  },
  {
   "cell_type": "markdown",
   "id": "0a5e4610",
   "metadata": {},
   "source": [
    "The value `True` indicates that the comparison is valid; Python has confirmed\n",
    "this simple fact about the relationship between `3` and `1+1`. The full set of\n",
    "common comparison operators are listed below.\n",
    "\n",
    "| Comparison         | Operator | True example | False Example |\n",
    "|--------------------|----------|--------------|---------------|\n",
    "| Less than          | <        | 2 < 3        | 2 < 2         |\n",
    "| Greater than       | >        | 3>2          | 3>3           |\n",
    "| Less than or equal | <=       | 2 <= 2       | 3 <= 2        |\n",
    "| Greater or equal   | >=       | 3 >= 3       | 2 >= 3        |\n",
    "| Equal              | ==       | 3 == 3       | 3 == 2        |\n",
    "| Not equal          | !=       | 3 != 2       | 2 != 2        |\n",
    "\n",
    "Here are some more examples:"
   ]
  },
  {
   "cell_type": "code",
   "execution_count": null,
   "id": "006011b1",
   "metadata": {},
   "outputs": [],
   "source": [
    "4 < 5"
   ]
  },
  {
   "cell_type": "code",
   "execution_count": null,
   "id": "3b96dbba",
   "metadata": {},
   "outputs": [],
   "source": [
    "4 < 3"
   ]
  },
  {
   "cell_type": "code",
   "execution_count": null,
   "id": "d8b80353",
   "metadata": {},
   "outputs": [],
   "source": [
    "4 <= 4"
   ]
  },
  {
   "cell_type": "markdown",
   "id": "a212069c",
   "metadata": {},
   "source": [
    "Notice the `==` in the table above.\n",
    "\n",
    "The double equals ``==`` is different from the single `=` that we saw before\n",
    "in assignment.   Here is assignment."
   ]
  },
  {
   "cell_type": "code",
   "execution_count": null,
   "id": "815f2b0f",
   "metadata": {},
   "outputs": [],
   "source": [
    "a = 4"
   ]
  },
  {
   "cell_type": "markdown",
   "id": "c1f69a6c",
   "metadata": {},
   "source": [
    "Notice it does not display a value, because it is an assignment, and not an expression.\n",
    "\n",
    "``==`` is different - it's a comparison operator like `<` or `>`.  It checks\n",
    "whether two values are equal, and returns True or False:"
   ]
  },
  {
   "cell_type": "code",
   "execution_count": null,
   "id": "677fcea8",
   "metadata": {},
   "outputs": [],
   "source": [
    "a == 4"
   ]
  },
  {
   "cell_type": "markdown",
   "id": "2f3fc425",
   "metadata": {},
   "source": [
    "This is an expression, because `==` is an operator, to say how values should\n",
    "be combined, like `+` or `*`.\n",
    "\n",
    "Strings can also be compared, and their order is alphabetical. A shorter\n",
    "string is less than a longer string that begins with the shorter string."
   ]
  },
  {
   "cell_type": "code",
   "execution_count": null,
   "id": "52e0eee8",
   "metadata": {},
   "outputs": [],
   "source": [
    "\"Dog\" > \"Catastrophe\""
   ]
  },
  {
   "cell_type": "code",
   "execution_count": null,
   "id": "0c699cc6",
   "metadata": {},
   "outputs": [],
   "source": [
    "\"Catastrophe\" > \"Cat\""
   ]
  },
  {
   "cell_type": "markdown",
   "id": "fe9a3c94",
   "metadata": {},
   "source": [
    "{ucb-page}`Comparison`"
   ]
  }
 ],
 "metadata": {
  "jupytext": {
   "notebook_metadata_filter": "language_info"
  },
  "kernelspec": {
   "display_name": "Python (Pyodide)",
   "name": "python"
  },
  "language_info": {
   "codemirror_mode": {
    "name": "ipython",
    "version": 3
   },
   "file_extension": ".py",
   "mimetype": "text/x-python",
   "name": "python",
   "nbconvert_exporter": "python",
   "pygments_lexer": "ipython3",
   "version": "3.5.2"
  }
 },
 "nbformat": 4,
 "nbformat_minor": 5
}
