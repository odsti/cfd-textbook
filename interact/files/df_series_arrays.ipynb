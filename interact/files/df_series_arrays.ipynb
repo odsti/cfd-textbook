{
 "cells": [
  {
   "cell_type": "markdown",
   "id": "4abbc6cc",
   "metadata": {},
   "source": [
    "# Data frames, Series and arrays\n",
    "\n",
    "We have now come across three important structures that Python uses to store and access data:\n",
    "\n",
    "* arrays\n",
    "* data frames\n",
    "* series\n",
    "\n",
    "Here we stop to go back over the differences between these structures, and how to convert between them."
   ]
  },
  {
   "cell_type": "markdown",
   "id": "6d11d1c1",
   "metadata": {},
   "source": [
    "## Data frames"
   ]
  },
  {
   "cell_type": "markdown",
   "id": "0e73ad06",
   "metadata": {},
   "source": [
    "We start by loading a data frame from a Comma Separated Value file (CSV\n",
    "file).\n",
    "\n",
    "The data file we will load is a table with average\n",
    "<https://ratemyprofessors.com> scores across all professors teaching\n",
    "a particular academic discipline.\n",
    "\n",
    "See the [array indexing page](array_indexing) for more\n",
    "detail.\n",
    "\n",
    "Each row in this table corresponds to one *discipline*.  Each column corresponds to a different *rating*.\n",
    "\n",
    "If you are running on your laptop, you should download\n",
    "the {download}`rate_my_course.csv <data/rate_my_course.csv>`\n",
    "file to the same directory as this notebook."
   ]
  },
  {
   "cell_type": "code",
   "execution_count": null,
   "id": "876bec8d",
   "metadata": {},
   "outputs": [],
   "source": [
    "# Load the Numpy library, rename to \"np\"\n",
    "import numpy as np\n",
    "\n",
    "# Load the Pandas data science library, rename to \"pd\"\n",
    "import pandas as pd\n",
    "# Turn on a setting to use Pandas more safely.\n",
    "# We will discuss this setting later.\n",
    "pd.set_option('mode.copy_on_write', True)"
   ]
  },
  {
   "cell_type": "code",
   "execution_count": null,
   "id": "4ca2d3a2",
   "metadata": {},
   "outputs": [],
   "source": [
    "# Read the file as a data frame.\n",
    "courses = pd.read_csv('data/rate_my_course.csv')"
   ]
  },
  {
   "cell_type": "code",
   "execution_count": null,
   "id": "ced22902",
   "metadata": {},
   "outputs": [],
   "source": [
    "# Show the first five rows.\n",
    "courses.head()"
   ]
  },
  {
   "cell_type": "markdown",
   "id": "99e54022",
   "metadata": {},
   "source": [
    "The `pd.read_csv` function returned this table in a structure called a *data frame*."
   ]
  },
  {
   "cell_type": "code",
   "execution_count": null,
   "id": "b0850435",
   "metadata": {},
   "outputs": [],
   "source": [
    "type(courses)"
   ]
  },
  {
   "cell_type": "markdown",
   "id": "c66b505c",
   "metadata": {},
   "source": [
    "The data frame is a two-dimensional structure. It has rows, and columns.   We can see the number of rows and columns with:"
   ]
  },
  {
   "cell_type": "code",
   "execution_count": null,
   "id": "c231377d",
   "metadata": {},
   "outputs": [],
   "source": [
    "courses.shape"
   ]
  },
  {
   "cell_type": "markdown",
   "id": "9871be9c",
   "metadata": {},
   "source": [
    "This means there are 75 rows.  In this case, each row corresponds to one\n",
    "discipline.\n",
    "\n",
    "There are 6 columns.  In this case, each column corresponds to a different student rating."
   ]
  },
  {
   "cell_type": "markdown",
   "id": "6a901bcc",
   "metadata": {},
   "source": [
    "Passing the data frame to the Python `len` function shows us the number of rows:"
   ]
  },
  {
   "cell_type": "code",
   "execution_count": null,
   "id": "7240f94d",
   "metadata": {},
   "outputs": [],
   "source": [
    "len(courses)"
   ]
  },
  {
   "cell_type": "markdown",
   "id": "86622c97",
   "metadata": {},
   "source": [
    "### Indexing into data frames"
   ]
  },
  {
   "cell_type": "markdown",
   "id": "f6288887",
   "metadata": {},
   "source": [
    "There are two simple ways of indexing into data frames.\n",
    "\n",
    "We index into a data frame to get a subset of of the data.\n",
    "\n",
    "To index into anything, we can give the name of thing - in this case `courses` - followed by an opening square bracket `[`, followed by something to specify which subset of the data we want, followed by a closing square bracket `]`.\n",
    "\n",
    "The two simple ways of indexing into a data frame are:\n",
    "\n",
    "* Indexing with a string to get a column.\n",
    "* Indexing with a Boolean sequence to get a subset of the rows."
   ]
  },
  {
   "cell_type": "markdown",
   "id": "7509e7cb",
   "metadata": {},
   "source": [
    "When we index with a string, the string should be a column name:"
   ]
  },
  {
   "cell_type": "code",
   "execution_count": null,
   "id": "e4e4161e",
   "metadata": {},
   "outputs": [],
   "source": [
    "easiness = courses['Easiness']"
   ]
  },
  {
   "cell_type": "markdown",
   "id": "9f637013",
   "metadata": {},
   "source": [
    "The result is a *series*:"
   ]
  },
  {
   "cell_type": "code",
   "execution_count": null,
   "id": "b59b6650",
   "metadata": {},
   "outputs": [],
   "source": [
    "type(easiness)"
   ]
  },
  {
   "cell_type": "markdown",
   "id": "3cb10c30",
   "metadata": {},
   "source": [
    "The Series is a structure that holds the data for a single column."
   ]
  },
  {
   "cell_type": "code",
   "execution_count": null,
   "id": "57ae0d91",
   "metadata": {},
   "outputs": [],
   "source": [
    "easiness"
   ]
  },
  {
   "cell_type": "markdown",
   "id": "3db2fed8",
   "metadata": {},
   "source": [
    "We will come back to the Series soon.\n",
    "\n",
    "Notice that, if your string specifying the column name does not match a column name exactly, you will get a long error.   This gives you some practice in reading long error messages - skip to the end first, you will often see the most helpful information there."
   ]
  },
  {
   "cell_type": "code",
   "execution_count": null,
   "id": "9d1cb13f",
   "metadata": {
    "tags": [
     "raises-exception"
    ]
   },
   "outputs": [],
   "source": [
    "# The exact column name starts with capital E\n",
    "courses['easiness']"
   ]
  },
  {
   "cell_type": "markdown",
   "id": "fe654d83",
   "metadata": {},
   "source": [
    "You have just seen indexing into the data frame with a string to get the data for one column.\n",
    "\n",
    "The other simple way of indexing into a data frame is with a Boolean sequence.\n",
    "\n",
    "A Boolean sequence is a sequence of values, all of which are either True or False.  Examples of sequences are series and arrays."
   ]
  },
  {
   "cell_type": "markdown",
   "id": "3728a7b6",
   "metadata": {},
   "source": [
    "For example, imagine we only wanted to look at courses with an easiness rating of greater than 3.25.\n",
    "\n",
    "We first make the Boolean sequence, by asking the question `> 3.25` of the values in the \"Easiness\" column, like this:"
   ]
  },
  {
   "cell_type": "code",
   "execution_count": null,
   "id": "1d540b7a",
   "metadata": {},
   "outputs": [],
   "source": [
    "is_easy = easiness > 3.25"
   ]
  },
  {
   "cell_type": "markdown",
   "id": "62df48a5",
   "metadata": {},
   "source": [
    "This is a series that has True and False values:"
   ]
  },
  {
   "cell_type": "code",
   "execution_count": null,
   "id": "5603de6d",
   "metadata": {},
   "outputs": [],
   "source": [
    "type(is_easy)"
   ]
  },
  {
   "cell_type": "code",
   "execution_count": null,
   "id": "2bc3cdc6",
   "metadata": {},
   "outputs": [],
   "source": [
    "is_easy"
   ]
  },
  {
   "cell_type": "markdown",
   "id": "736b7f35",
   "metadata": {},
   "source": [
    "It has True values where the corresponding row had an \"Easiness\" score greater than 3.25, and False values where the corresponding row had an \"Easiness\" score of less than or equal to 3.25."
   ]
  },
  {
   "cell_type": "markdown",
   "id": "594e8708",
   "metadata": {},
   "source": [
    "We can index into the data frame with this Boolean series.\n",
    "\n",
    "When we do this, we ask the data frame to give us a new version of itself, that only has the rows where there was a True value in the Boolean series:"
   ]
  },
  {
   "cell_type": "code",
   "execution_count": null,
   "id": "56a5a262",
   "metadata": {},
   "outputs": [],
   "source": [
    "easy_courses = courses[is_easy]"
   ]
  },
  {
   "cell_type": "markdown",
   "id": "b0420315",
   "metadata": {},
   "source": [
    "The result is a data frame:"
   ]
  },
  {
   "cell_type": "code",
   "execution_count": null,
   "id": "e4452f2b",
   "metadata": {},
   "outputs": [],
   "source": [
    "type(easy_courses)"
   ]
  },
  {
   "cell_type": "markdown",
   "id": "920615b2",
   "metadata": {},
   "source": [
    "The data frame contains only the rows where the \"Easiness\" score is greater than 3.25:"
   ]
  },
  {
   "cell_type": "code",
   "execution_count": null,
   "id": "bf420295",
   "metadata": {},
   "outputs": [],
   "source": [
    "easy_courses"
   ]
  },
  {
   "cell_type": "markdown",
   "id": "70aa4a07",
   "metadata": {},
   "source": [
    "The way this works can be easier to see when we use a smaller data frame.\n",
    "\n",
    "Here we take the first eight rows from the data frame, by using the `head` method.\n",
    "\n",
    "The `head` method can take an argument, which is the number of rows we want."
   ]
  },
  {
   "cell_type": "code",
   "execution_count": null,
   "id": "49c7edb3",
   "metadata": {},
   "outputs": [],
   "source": [
    "first_8 = courses.head(8)"
   ]
  },
  {
   "cell_type": "markdown",
   "id": "67754adb",
   "metadata": {},
   "source": [
    "The result is a new data frame:"
   ]
  },
  {
   "cell_type": "code",
   "execution_count": null,
   "id": "42dfd479",
   "metadata": {},
   "outputs": [],
   "source": [
    "type(first_8)"
   ]
  },
  {
   "cell_type": "code",
   "execution_count": null,
   "id": "0f102449",
   "metadata": {},
   "outputs": [],
   "source": [
    "first_8"
   ]
  },
  {
   "cell_type": "markdown",
   "id": "8c2924bb",
   "metadata": {},
   "source": [
    "We index into the new data frame with a string, to get the \"Easiness\" column:"
   ]
  },
  {
   "cell_type": "code",
   "execution_count": null,
   "id": "b2d25ad6",
   "metadata": {},
   "outputs": [],
   "source": [
    "easiness_first_8 = first_8[\"Easiness\"]\n",
    "easiness_first_8"
   ]
  },
  {
   "cell_type": "markdown",
   "id": "9349d34b",
   "metadata": {},
   "source": [
    "This Boolean series has True where the \"Easiness\" score is greater than 3.25, and False otherwise:"
   ]
  },
  {
   "cell_type": "code",
   "execution_count": null,
   "id": "d9dc9440",
   "metadata": {},
   "outputs": [],
   "source": [
    "is_easy_first_8 = easiness_first_8 > 3.25\n",
    "is_easy_first_8"
   ]
  },
  {
   "cell_type": "markdown",
   "id": "0769834f",
   "metadata": {},
   "source": [
    "We index into the `first_8` data frame with this Boolean series, to select the rows where `is_easy_first_8` has True, and throw away the rows where it has False."
   ]
  },
  {
   "cell_type": "code",
   "execution_count": null,
   "id": "80179768",
   "metadata": {},
   "outputs": [],
   "source": [
    "easy_first_8 = first_8[is_easy_first_8]\n",
    "easy_first_8"
   ]
  },
  {
   "cell_type": "markdown",
   "id": "3cacdc22",
   "metadata": {},
   "source": [
    "Oh dear, Psychology looks pretty easy."
   ]
  },
  {
   "cell_type": "markdown",
   "id": "bcb983f8",
   "metadata": {},
   "source": [
    "## Series and array"
   ]
  },
  {
   "cell_type": "markdown",
   "id": "6a8f817e",
   "metadata": {},
   "source": [
    "The series, as you have seen, is the structure that Pandas uses to store the data from a column:"
   ]
  },
  {
   "cell_type": "code",
   "execution_count": null,
   "id": "7735bc29",
   "metadata": {},
   "outputs": [],
   "source": [
    "first_8"
   ]
  },
  {
   "cell_type": "code",
   "execution_count": null,
   "id": "efa81cd4",
   "metadata": {},
   "outputs": [],
   "source": [
    "easiness_first_8 = first_8[\"Easiness\"]\n",
    "easiness_first_8"
   ]
  },
  {
   "cell_type": "markdown",
   "id": "00660676",
   "metadata": {},
   "source": [
    "You can index into a series, but this indexing is powerful and sophisticated, so we will not use that for now.\n",
    "\n",
    "For now, you can convert the series to an array, like this:"
   ]
  },
  {
   "cell_type": "code",
   "execution_count": null,
   "id": "d725bb7a",
   "metadata": {},
   "outputs": [],
   "source": [
    "easi_8 = np.array(easiness_first_8)\n",
    "easi_8"
   ]
  },
  {
   "cell_type": "markdown",
   "id": "76bbd4cc",
   "metadata": {},
   "source": [
    "Then you can use the usual [array indexing](array_indexing) to get\n",
    "the values you want:"
   ]
  },
  {
   "cell_type": "code",
   "execution_count": null,
   "id": "39c49443",
   "metadata": {},
   "outputs": [],
   "source": [
    "# The first value\n",
    "easi_8[0]"
   ]
  },
  {
   "cell_type": "code",
   "execution_count": null,
   "id": "0f57bc48",
   "metadata": {},
   "outputs": [],
   "source": [
    "# The first five values\n",
    "easi_8[:5]"
   ]
  },
  {
   "cell_type": "markdown",
   "id": "d5fb1b53",
   "metadata": {},
   "source": [
    "You can think of a data frame as sequence of columns, where each column is series.\n",
    "\n",
    "Here I take two columns from the data frame, as series:"
   ]
  },
  {
   "cell_type": "code",
   "execution_count": null,
   "id": "bb133bee",
   "metadata": {},
   "outputs": [],
   "source": [
    "disciplines = first_8['Discipline']\n",
    "disciplines"
   ]
  },
  {
   "cell_type": "code",
   "execution_count": null,
   "id": "04d34d0c",
   "metadata": {},
   "outputs": [],
   "source": [
    "clarity = first_8['Clarity']\n",
    "clarity"
   ]
  },
  {
   "cell_type": "markdown",
   "id": "bb61f22e",
   "metadata": {},
   "source": [
    "I can make a new data frame by inserting these two columns:"
   ]
  },
  {
   "cell_type": "code",
   "execution_count": null,
   "id": "9820b7a5",
   "metadata": {},
   "outputs": [],
   "source": [
    "# A new data frame\n",
    "thinner_courses = pd.DataFrame()\n",
    "# We will come to the need for the `copy` later.\n",
    "thinner_courses['Discipline'] = disciplines\n",
    "thinner_courses['Clarity'] = clarity\n",
    "thinner_courses"
   ]
  }
 ],
 "metadata": {
  "jupytext": {
   "split_at_heading": true
  },
  "kernelspec": {
   "display_name": "Python (Pyodide)",
   "name": "python"
  },
  "orphan": true
 },
 "nbformat": 4,
 "nbformat_minor": 5
}
