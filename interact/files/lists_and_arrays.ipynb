{
 "cells": [
  {
   "cell_type": "markdown",
   "id": "0e5e4943",
   "metadata": {},
   "source": [
    "# Lists and arrays\n",
    "\n",
    "The data structures that we use most often in data science are:\n",
    "\n",
    "* arrays, from `numpy`;\n",
    "* data frames, from `pandas`.\n",
    "\n",
    "You have already seen that Python has a basic container for a sequence of values — the [list](lists).\n",
    "\n",
    "As you have already seen, you can make a list like this:"
   ]
  },
  {
   "cell_type": "code",
   "execution_count": null,
   "id": "ec3a9e01",
   "metadata": {},
   "outputs": [],
   "source": [
    "my_list = [1, 2, 3]\n",
    "my_list"
   ]
  },
  {
   "cell_type": "markdown",
   "id": "67469a4e",
   "metadata": {},
   "source": [
    "`[1, 2, 3]` is a *list expression*, with a open square bracket\n",
    "`[`, followed by zero or more expressions defining the list\n",
    "elements, separated by commas, and ending with the close square bracket `]`.\n",
    "\n",
    "A list is of type `list`:"
   ]
  },
  {
   "cell_type": "code",
   "execution_count": null,
   "id": "342d4ab3",
   "metadata": {},
   "outputs": [],
   "source": [
    "type(my_list)"
   ]
  },
  {
   "cell_type": "markdown",
   "id": "addbee02",
   "metadata": {},
   "source": [
    "## Lists and arrays\n",
    "\n",
    "Now we need the Numpy library for the examples:"
   ]
  },
  {
   "cell_type": "code",
   "execution_count": null,
   "id": "ea4310e7",
   "metadata": {},
   "outputs": [],
   "source": [
    "import numpy as np\n",
    "# Make random number generator.\n",
    "rng = np.random.default_rng()"
   ]
  },
  {
   "cell_type": "markdown",
   "id": "0ab92018",
   "metadata": {},
   "source": [
    "A list is a container, like an array.  Like an array, it contains an\n",
    "ordered sequence of values.  Like an array, it can be empty, or it can\n",
    "contain any number of values.\n",
    "\n",
    "You can *convert a list into an array*, like this"
   ]
  },
  {
   "cell_type": "code",
   "execution_count": null,
   "id": "68591860",
   "metadata": {},
   "outputs": [],
   "source": [
    "my_list = [4, 5, 6]\n",
    "my_list"
   ]
  },
  {
   "cell_type": "code",
   "execution_count": null,
   "id": "0278268d",
   "metadata": {},
   "outputs": [],
   "source": [
    "my_array = np.array(my_list)\n",
    "my_array"
   ]
  },
  {
   "cell_type": "markdown",
   "id": "32a116e7",
   "metadata": {},
   "source": [
    "In fact, you have already seen us do this, as a convenient way to\n",
    "create a new array - for example:"
   ]
  },
  {
   "cell_type": "code",
   "execution_count": null,
   "id": "39757605",
   "metadata": {},
   "outputs": [],
   "source": [
    "# Define a list and immediately convert to an array\n",
    "another_array = np.array([10, 20, 30])\n",
    "another_array"
   ]
  },
  {
   "cell_type": "markdown",
   "id": "a207113f",
   "metadata": {},
   "source": [
    "You can also *convert an array into a list*, using the `list` function:"
   ]
  },
  {
   "cell_type": "code",
   "execution_count": null,
   "id": "7bfa6e42",
   "metadata": {},
   "outputs": [],
   "source": [
    "list(another_array)"
   ]
  },
  {
   "cell_type": "markdown",
   "id": "9c03117e",
   "metadata": {},
   "source": [
    "Like arrays, you can *index* into a list, to get the individual values.  Consider this list:"
   ]
  },
  {
   "cell_type": "code",
   "execution_count": null,
   "id": "32a40b6d",
   "metadata": {},
   "outputs": [],
   "source": [
    "my_list = [4, 5, 6]"
   ]
  },
  {
   "cell_type": "markdown",
   "id": "368b2786",
   "metadata": {},
   "source": [
    "Like arrays (and every other kind of sequence in Python), the first element is at index (offset) 0:"
   ]
  },
  {
   "cell_type": "code",
   "execution_count": null,
   "id": "ad8a2760",
   "metadata": {},
   "outputs": [],
   "source": [
    "# Get the first value\n",
    "my_list[0]"
   ]
  },
  {
   "cell_type": "markdown",
   "id": "b834b7ac",
   "metadata": {},
   "source": [
    "Accordingly, the third element is at index (offset) 2:"
   ]
  },
  {
   "cell_type": "code",
   "execution_count": null,
   "id": "63748406",
   "metadata": {},
   "outputs": [],
   "source": [
    "# Get the third value\n",
    "my_list[2]"
   ]
  },
  {
   "cell_type": "markdown",
   "id": "75ce5398",
   "metadata": {},
   "source": [
    "## Differences between lists and arrays\n",
    "\n",
    "### A list can contain a mix of types\n",
    "\n",
    "The elements in a list can be of any type, and there can be many different types in a list.  For example, here is a list that mixes integers, floating point values, and strings."
   ]
  },
  {
   "cell_type": "code",
   "execution_count": null,
   "id": "85be4936",
   "metadata": {},
   "outputs": [],
   "source": [
    "mixed_list = [1, 1.1, 'Ho ho ho']\n",
    "mixed_list"
   ]
  },
  {
   "cell_type": "markdown",
   "id": "f49c4f71",
   "metadata": {},
   "source": [
    "The elements in an array must all be of the same type \\- say \\- all\n",
    "numbers, or all strings.  If we now create an array from this list, Numpy will try and find a type that works for all the elements, and will convert the elements to that type:"
   ]
  },
  {
   "cell_type": "code",
   "execution_count": null,
   "id": "98f8c9b3",
   "metadata": {},
   "outputs": [],
   "source": [
    "unmixed_array = np.array(mixed_list)\n",
    "unmixed_array"
   ]
  },
  {
   "cell_type": "markdown",
   "id": "498a9adb",
   "metadata": {},
   "source": [
    "Notice that Numpy has converted all the elements to strings, as you can see from the quotes around the values.\n",
    "\n",
    "## A list is always one-dimensional\n",
    "\n",
    "You have already seen that an array can have two (or more) dimensions.  Here is a two-dimensional array of random numbers:"
   ]
  },
  {
   "cell_type": "code",
   "execution_count": null,
   "id": "641451d0",
   "metadata": {},
   "outputs": [],
   "source": [
    "two_d_array = rng.uniform(size=[5, 3])\n",
    "two_d_array"
   ]
  },
  {
   "cell_type": "markdown",
   "id": "35882e97",
   "metadata": {},
   "source": [
    "Lists only have one dimension.\n",
    "\n",
    "### Lists can contain lists\n",
    "\n",
    "You may be able to see a way of making a list that is rather like an\n",
    "array with two dimensions.  Remember that a list can contain elements\n",
    "of *any type*.  That means that a list can contain elements of type\n",
    "`list`. Here is a list where the first element is also a list:"
   ]
  },
  {
   "cell_type": "code",
   "execution_count": null,
   "id": "dd779e7e",
   "metadata": {},
   "outputs": [],
   "source": [
    "small_list = [21, 22, 23]\n",
    "funky_list = [small_list, 1, 1.1]\n",
    "funky_list"
   ]
  },
  {
   "cell_type": "markdown",
   "id": "1c8288de",
   "metadata": {},
   "source": [
    "As usual, I can get the first element of `funky_list` by indexing:"
   ]
  },
  {
   "cell_type": "code",
   "execution_count": null,
   "id": "695c8226",
   "metadata": {},
   "outputs": [],
   "source": [
    "element_at_0 = funky_list[0]\n",
    "element_at_0"
   ]
  },
  {
   "cell_type": "markdown",
   "id": "9754266e",
   "metadata": {},
   "source": [
    "That first element is a list.  As usual, I can index in that first element too.  Here I ask for the second element from `element_at_0`:"
   ]
  },
  {
   "cell_type": "code",
   "execution_count": null,
   "id": "a495a944",
   "metadata": {},
   "outputs": [],
   "source": [
    "element_at_0[1]"
   ]
  },
  {
   "cell_type": "markdown",
   "id": "e334202c",
   "metadata": {},
   "source": [
    "Putting that all together in one line, I can get the second element of the first element with:"
   ]
  },
  {
   "cell_type": "code",
   "execution_count": null,
   "id": "daadbd2a",
   "metadata": {},
   "outputs": [],
   "source": [
    "funky_list[0][1]"
   ]
  },
  {
   "cell_type": "markdown",
   "id": "c98d9d79",
   "metadata": {},
   "source": [
    "Read this carefully from left to right.  `funky_list` is the initial\n",
    "list.  The `[0]` after `funky_list` gives me the first element of that\n",
    "list. The `[1]` after that, gives me the second element from the result\n",
    "of the previous expressions. `funky_list[0][1]` puts several\n",
    "expressions together in sequence; this is a very common pattern that\n",
    "you will see often in Python programs. Learning to read them carefully\n",
    "is one of the skills you will pick up, as you learn Python, and data\n",
    "science.\n",
    "\n",
    "## Appending to a list\n",
    "\n",
    "You have already seen *methods*.  These are functions attached to\n",
    "values.  For example, you have seen that a data frame, has a `count`\n",
    "method, that, when called, gives the number of rows in the data frame.\n",
    "\n",
    "Lists have several very useful methods.  One of the most useful is `append`.   Use it to append values to a list."
   ]
  },
  {
   "cell_type": "code",
   "execution_count": null,
   "id": "ea1741cd",
   "metadata": {},
   "outputs": [],
   "source": [
    "# An empty list\n",
    "my_list = []\n",
    "my_list"
   ]
  },
  {
   "cell_type": "markdown",
   "id": "26c2aef4",
   "metadata": {},
   "source": [
    "Append a value to the empty list:"
   ]
  },
  {
   "cell_type": "code",
   "execution_count": null,
   "id": "6e3409f4",
   "metadata": {},
   "outputs": [],
   "source": [
    "my_list.append(1)\n",
    "my_list"
   ]
  },
  {
   "cell_type": "markdown",
   "id": "a9e299b2",
   "metadata": {},
   "source": [
    "Append another value:"
   ]
  },
  {
   "cell_type": "code",
   "execution_count": null,
   "id": "48f079b0",
   "metadata": {},
   "outputs": [],
   "source": [
    "my_list.append(1.1)\n",
    "my_list"
   ]
  },
  {
   "cell_type": "markdown",
   "id": "4307f2c7",
   "metadata": {},
   "source": [
    "And another:"
   ]
  },
  {
   "cell_type": "code",
   "execution_count": null,
   "id": "49223603",
   "metadata": {},
   "outputs": [],
   "source": [
    "my_list.append('Ho ho ho')\n",
    "my_list"
   ]
  },
  {
   "cell_type": "markdown",
   "id": "733441eb",
   "metadata": {},
   "source": [
    "For some more operations with lists, see [More on\n",
    "lists](more_on_lists).\n",
    "\n",
    "## What do these square brackets mean?\n",
    "\n",
    "You have seen two uses of square brackets on this page.\n",
    "\n",
    "The first use, is where the opening square bracket is the start of an expression for a new list, like this:"
   ]
  },
  {
   "cell_type": "code",
   "execution_count": null,
   "id": "27151a85",
   "metadata": {},
   "outputs": [],
   "source": [
    "a_new_list = [1, 2, 3]"
   ]
  },
  {
   "cell_type": "markdown",
   "id": "6c53f694",
   "metadata": {},
   "source": [
    "The `[` is the start of the expression, because the line above is an\n",
    "assignment statement, with a variable name, followed by `=` followed by an expression.  The expression is `[1, 2, 3]`, and the `[` is the first character in the expression.\n",
    "\n",
    "The second use, is to ask Python to get a value from another value.\n",
    "Technically, this use is called *indexing*. For example, we do this\n",
    "when we index into a list:"
   ]
  },
  {
   "cell_type": "code",
   "execution_count": null,
   "id": "8451ae69",
   "metadata": {},
   "outputs": [],
   "source": [
    "first_value = a_new_list[0]"
   ]
  },
  {
   "cell_type": "markdown",
   "id": "af18bd86",
   "metadata": {},
   "source": [
    "Here the `[` refers back to `a_new_list`.  It tells Python \"please get\n",
    "a value from `a_new_list`\".  Between the `[` and the `]` is the\n",
    "information that Python must use to get the value.\n",
    "\n",
    "Here is another example of square brackets in use:"
   ]
  },
  {
   "cell_type": "code",
   "execution_count": null,
   "id": "a41308c1",
   "metadata": {},
   "outputs": [],
   "source": [
    "my_array = np.array([1, 2, 3])"
   ]
  },
  {
   "cell_type": "markdown",
   "id": "60bfba68",
   "metadata": {},
   "source": [
    "Which use of square brackets is that?  List creation, or indexing?\n",
    "Why?\n",
    "\n",
    "How about:"
   ]
  },
  {
   "cell_type": "code",
   "execution_count": null,
   "id": "28afb335",
   "metadata": {},
   "outputs": [],
   "source": [
    "a_new_list[0] = 99"
   ]
  },
  {
   "cell_type": "markdown",
   "id": "de868c3e",
   "metadata": {},
   "source": [
    "? Why?  Or:"
   ]
  },
  {
   "cell_type": "code",
   "execution_count": null,
   "id": "43217a63",
   "metadata": {},
   "outputs": [],
   "source": [
    "a_new_list.append([101, 'one oh one'])"
   ]
  },
  {
   "cell_type": "markdown",
   "id": "04b9bd3a",
   "metadata": {},
   "source": [
    "?\n",
    "\n",
    "Remember the [data frame introduction](data_frame_intro)?  In\n",
    "that you saw\n",
    "\n",
    "```\n",
    "gdp = gender_data['gdp']\n",
    "```\n",
    "\n",
    "Which use of square brackets was that?\n",
    "\n",
    "Look through the [data frame introduction](data_frame_intro)\n",
    "page.  There are several other examples of the use of square brackets.  Which use are they?\n",
    "\n",
    "Now look at [More on arrays](More_on_Arrays).   Which uses do you see there?"
   ]
  }
 ],
 "metadata": {
  "jupytext": {
   "notebook_metadata_filter": "language_info"
  },
  "kernelspec": {
   "display_name": "Python (Pyodide)",
   "name": "python"
  },
  "language_info": {
   "codemirror_mode": {
    "name": "ipython",
    "version": 3
   },
   "file_extension": ".py",
   "mimetype": "text/x-python",
   "name": "python",
   "nbconvert_exporter": "python",
   "pygments_lexer": "ipython3",
   "version": "3.7.1"
  },
  "orphan": true
 },
 "nbformat": 4,
 "nbformat_minor": 5
}
