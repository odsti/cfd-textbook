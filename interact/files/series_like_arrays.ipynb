{
 "cells": [
  {
   "cell_type": "markdown",
   "id": "92d57ded",
   "metadata": {},
   "source": [
    "# Series are like arrays\n",
    "\n",
    "In this page, we look at Pandas' Series.  Series are the Pandas type that\n",
    "represents a column of data."
   ]
  },
  {
   "cell_type": "code",
   "execution_count": null,
   "id": "cd88354a",
   "metadata": {},
   "outputs": [],
   "source": [
    "# Load the Numpy array library, call it 'np'\n",
    "import numpy as np\n",
    "# Load the Pandas data science library, call it 'pd'\n",
    "import pandas as pd\n",
    "# Turn on a setting to use Pandas more safely.\n",
    "# We will discuss this setting later.\n",
    "pd.set_option('mode.copy_on_write', True)\n",
    "\n",
    "# Load the library for plotting, name it 'plt'\n",
    "import matplotlib.pyplot as plt\n",
    "# Make plots look a little more fancy\n",
    "plt.style.use('fivethirtyeight')"
   ]
  },
  {
   "cell_type": "markdown",
   "id": "e49ad8f5",
   "metadata": {},
   "source": [
    "We return to our original data frame, with the missing values dropped, and the rows labels with the country codes:"
   ]
  },
  {
   "cell_type": "code",
   "execution_count": null,
   "id": "35a62de1",
   "metadata": {},
   "outputs": [],
   "source": [
    "# Original data frame before dropping missing values.\n",
    "gender_data = pd.read_csv('data/gender_stats_min.csv')\n",
    "gender_data_no_na = gender_data.dropna()\n",
    "labeled_gdata = gender_data_no_na.set_index('country_code')\n",
    "labeled_gdata.head()"
   ]
  },
  {
   "cell_type": "markdown",
   "id": "a94a3774",
   "metadata": {},
   "source": [
    "We found that there was a rather unconvincing relationship between the GDP values, and the Maternal Mortality Rate (MMR) values.\n",
    "\n",
    "First we fetch those values from their corresponding DataFrame columns, using *direct indexing with column labels*:"
   ]
  },
  {
   "cell_type": "code",
   "execution_count": null,
   "id": "9ca7c711",
   "metadata": {},
   "outputs": [],
   "source": [
    "gdp = labeled_gdata['gdp_us_billion']\n",
    "gdp"
   ]
  },
  {
   "cell_type": "code",
   "execution_count": null,
   "id": "86b240f7",
   "metadata": {},
   "outputs": [],
   "source": [
    "mmr = labeled_gdata['mat_mort_ratio']\n",
    "mmr"
   ]
  },
  {
   "cell_type": "markdown",
   "id": "b6405f08",
   "metadata": {},
   "source": [
    "We plot the two Series against each other to remind ourselves of the relationship."
   ]
  },
  {
   "cell_type": "code",
   "execution_count": null,
   "id": "7757d4a4",
   "metadata": {},
   "outputs": [],
   "source": [
    "plt.scatter(gdp, mmr)\n",
    "plt.title('Maternal mortality ratio as a function of GDP')"
   ]
  },
  {
   "cell_type": "markdown",
   "id": "5b9851ed",
   "metadata": {},
   "source": [
    "Our question was whether the GDP might be a misleading measure, because it will\n",
    "depend, in part, on the population.  More people can earn more money.  We were interested to calculate a GDP value adjusted for the population.\n",
    "\n",
    "But first, let us investigate Series a little more.\n"
   ]
  },
  {
   "cell_type": "markdown",
   "id": "b3389166",
   "metadata": {},
   "source": [
    "## Series have some of the same methods as DataFrames\n",
    "\n",
    "`gdp` is a Series:"
   ]
  },
  {
   "cell_type": "code",
   "execution_count": null,
   "id": "f7c2a2b8",
   "metadata": {},
   "outputs": [],
   "source": [
    "type(gdp)"
   ]
  },
  {
   "cell_type": "markdown",
   "id": "09e61f83",
   "metadata": {},
   "source": [
    "As the DdataFrame has `.head` and `.tail` methods to show the first 5 and last 5 rows (by default), so the Series has `.head` and `.tail`:"
   ]
  },
  {
   "cell_type": "code",
   "execution_count": null,
   "id": "76c1cf88",
   "metadata": {},
   "outputs": [],
   "source": [
    "gdp.head()"
   ]
  },
  {
   "cell_type": "code",
   "execution_count": null,
   "id": "97cdf68f",
   "metadata": {},
   "outputs": [],
   "source": [
    "gdp.head(10)"
   ]
  },
  {
   "cell_type": "code",
   "execution_count": null,
   "id": "9d386f41",
   "metadata": {},
   "outputs": [],
   "source": [
    "gdp.tail()"
   ]
  },
  {
   "cell_type": "markdown",
   "id": "51d510cd",
   "metadata": {},
   "source": [
    "As you remember we can sort a DataFrame using the `.sort_values` method:"
   ]
  },
  {
   "cell_type": "code",
   "execution_count": null,
   "id": "019604f9",
   "metadata": {},
   "outputs": [],
   "source": [
    "labeled_gdata.sort_values('gdp_us_billion')"
   ]
  },
  {
   "cell_type": "markdown",
   "id": "af85a7bc",
   "metadata": {},
   "source": [
    "This is also true of a Series:"
   ]
  },
  {
   "cell_type": "code",
   "execution_count": null,
   "id": "ed64d8eb",
   "metadata": {},
   "outputs": [],
   "source": [
    "gdp.sort_values()"
   ]
  },
  {
   "cell_type": "markdown",
   "id": "d35ec950",
   "metadata": {},
   "source": [
    "Notice that, for the Series, we don't have to give `.sort_values` the column\n",
    "name, because the Series is already the column we want to sort.\n"
   ]
  },
  {
   "cell_type": "markdown",
   "id": "8f83b341",
   "metadata": {},
   "source": [
    "## A Series has values and labels\n",
    "\n",
    "A Series is like an array, in that it contains a sequence of values.  In fact, the Series holds that sequence of values in an array.   You can get the sequence of values from the Series with the `np.array` function:"
   ]
  },
  {
   "cell_type": "code",
   "execution_count": null,
   "id": "b538a6ae",
   "metadata": {},
   "outputs": [],
   "source": [
    "# The values from a Series as an array\n",
    "np.array(gdp)"
   ]
  },
  {
   "cell_type": "markdown",
   "id": "a3b72f2f",
   "metadata": {},
   "source": [
    "Notice that, by making the Series into an array, we have thrown away to the row\n",
    "labels.\n",
    "\n",
    "The Series also has labels.  These labels correspond to the row labels for the\n",
    "DataFrame, and, like them, you can find the Series labels in the Series\n",
    "`.index` attribute:"
   ]
  },
  {
   "cell_type": "code",
   "execution_count": null,
   "id": "76ac8dd6",
   "metadata": {},
   "outputs": [],
   "source": [
    "gdp.index"
   ]
  },
  {
   "cell_type": "markdown",
   "id": "b195616f",
   "metadata": {},
   "source": [
    "Think of the Series as the association of the values (`np.array(gdp)`) and the corresponding labels (`gdp.index`).\n"
   ]
  },
  {
   "cell_type": "markdown",
   "id": "f09ed321",
   "metadata": {},
   "source": [
    "## Calculations on Series work like calculation on arrays\n",
    "\n",
    "As you remember, calculations on arrays work *elementwise*. For example, if you\n",
    "multiply an array by a number, that has the effect of making a new array, where\n",
    "the result is each element of the original array multiplied by the number.\n",
    "\n",
    "The same is true of calculations on Series.  For example, we might want to calculate the GDP in US *million* dollars instead of its current values in US billion:"
   ]
  },
  {
   "cell_type": "code",
   "execution_count": null,
   "id": "a0101b6b",
   "metadata": {},
   "outputs": [],
   "source": [
    "# GDP in US million\n",
    "gdp * 1000"
   ]
  },
  {
   "cell_type": "markdown",
   "id": "1f8e6d6f",
   "metadata": {},
   "source": [
    "The elementwise calculations also apply to operations on two Series.  In fact, that is the key to solving our problem of getting the GDP values divided by the population.  We make the population DataFrame column into a Series."
   ]
  },
  {
   "cell_type": "code",
   "execution_count": null,
   "id": "a7a0f76d",
   "metadata": {},
   "outputs": [],
   "source": [
    "# Population is in millions.\n",
    "pop = labeled_gdata['population']\n",
    "pop"
   ]
  },
  {
   "cell_type": "markdown",
   "id": "b68720b9",
   "metadata": {},
   "source": [
    "Then we can use elementwise calculation to divide the values in the two series, elementwise, like this:"
   ]
  },
  {
   "cell_type": "code",
   "execution_count": null,
   "id": "e9f5ca35",
   "metadata": {},
   "outputs": [],
   "source": [
    "# GDP per million people.\n",
    "gdp_per_mcap = gdp / pop\n",
    "gdp_per_mcap"
   ]
  },
  {
   "cell_type": "markdown",
   "id": "0370b335",
   "metadata": {},
   "source": [
    "This is what we wanted, the GDP divided by the population.  Let's see if there\n",
    "is a more convincing relationship between the GDP per million and the MMR:"
   ]
  },
  {
   "cell_type": "code",
   "execution_count": null,
   "id": "ab703695",
   "metadata": {},
   "outputs": [],
   "source": [
    "plt.scatter(gdp_per_mcap, mmr)\n",
    "plt.title('MMR as a function of GDP per million people')"
   ]
  },
  {
   "cell_type": "markdown",
   "id": "e7c8e3e0",
   "metadata": {},
   "source": [
    "## You can insert Series as columns into DataFrames\n",
    "\n",
    "Just as you can make a Series by indexing into a DataFrame, you can insert a\n",
    "Series into a DataFrame as a column, by using indexing."
   ]
  },
  {
   "cell_type": "code",
   "execution_count": null,
   "id": "b14a0285",
   "metadata": {},
   "outputs": [],
   "source": [
    "# Insert new column into DataFrame\n",
    "labeled_gdata['gdp_per_mcap'] = gdp_per_mcap\n",
    "labeled_gdata.head()"
   ]
  },
  {
   "cell_type": "markdown",
   "id": "de6b64ce",
   "metadata": {},
   "source": [
    "Scroll across the DataFrame display to see the new column at the end.\n",
    "\n",
    "Here we inserted the Series into the `labeled_gdata` DataFrame as new column,\n",
    "by using *direct indexing with column label* on the Right Hand Side.  Read the\n",
    "assignment above as \"make a column called 'gdp_per_mcap' in `labeled_gdata` and\n",
    "fill it with the values from the `gdp_per_mcap` Series\".\n",
    "\n",
    "With the Series data in the DataFrame, we can sort the DataFrame by the new GDP per million values:"
   ]
  },
  {
   "cell_type": "code",
   "execution_count": null,
   "id": "e3e0e8cc",
   "metadata": {},
   "outputs": [],
   "source": [
    "gdata_by_gdp_mcap = labeled_gdata.sort_values('gdp_per_mcap')\n",
    "gdata_by_gdp_mcap.head()"
   ]
  },
  {
   "cell_type": "markdown",
   "id": "c12ae91c",
   "metadata": {},
   "source": [
    "Let us look to see if sorting this way gives a clearer picture of the relationship of income to MMR.  Get the richest 25 countries in terms of GDP per million:"
   ]
  },
  {
   "cell_type": "code",
   "execution_count": null,
   "id": "6ad50c74",
   "metadata": {},
   "outputs": [],
   "source": [
    "richest_per_mcap_25 = gdata_by_gdp_mcap.tail(25)\n",
    "richest_per_mcap_25"
   ]
  },
  {
   "cell_type": "markdown",
   "id": "1421d6df",
   "metadata": {},
   "source": [
    "Plot the relationship of GDP per million and MMR:"
   ]
  },
  {
   "cell_type": "code",
   "execution_count": null,
   "id": "04c0d525",
   "metadata": {},
   "outputs": [],
   "source": [
    "plt.scatter(richest_per_mcap_25['gdp_per_mcap'], richest_per_mcap_25['mat_mort_ratio'])\n",
    "plt.title('MMR as function of GDP per million, richest 25')"
   ]
  },
  {
   "cell_type": "markdown",
   "id": "d636c881",
   "metadata": {},
   "source": [
    "We might be interested in looking at the richest countries in terms of the MMR, by sorting.  The countries doing best at reducing MMR are first, those doing worst are last."
   ]
  },
  {
   "cell_type": "code",
   "execution_count": null,
   "id": "96ae23b6",
   "metadata": {},
   "outputs": [],
   "source": [
    "richest_per_mcap_25.sort_values('mat_mort_ratio')"
   ]
  },
  {
   "cell_type": "markdown",
   "id": "5f81eba9",
   "metadata": {},
   "source": [
    "Conversely, we might want to take the poorest 75 by GDP per million, and look at the best and worst by MMR:"
   ]
  },
  {
   "cell_type": "code",
   "execution_count": null,
   "id": "e39a653a",
   "metadata": {},
   "outputs": [],
   "source": [
    "poorest_by_mcap_75 = gdata_by_gdp_mcap.head(75)\n",
    "poorest_by_mcap_75.sort_values('mat_mort_ratio')"
   ]
  }
 ],
 "metadata": {
  "jupyterbook": {
   "show_stderr": true
  },
  "jupytext": {
   "formats": "",
   "notebook_metadata_filter": "all,-language_info",
   "split_at_heading": true
  },
  "kernelspec": {
   "display_name": "Python (Pyodide)",
   "name": "python"
  }
 },
 "nbformat": 4,
 "nbformat_minor": 5
}
