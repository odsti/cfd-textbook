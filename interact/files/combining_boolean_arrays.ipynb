{
 "cells": [
  {
   "cell_type": "markdown",
   "id": "04cbcb08",
   "metadata": {},
   "source": [
    "# Combining boolean arrays\n",
    "\n",
    "Sometimes we want to be able to combine several different criteria to select\n",
    "elements from arrays or tables.\n",
    "\n",
    "So far we have used *boolean* Series and arrays to select rows.  This works fine when we have some simple criterion, such as whether the value in the column or array is greater than 10.\n",
    "\n",
    "For example, consider the [students ratings\n",
    "dataset](data/rate_my_professors) dataset. Download the data file via\n",
    "{download}`rate_my_course.csv <data/rate_my_course.csv>`."
   ]
  },
  {
   "cell_type": "code",
   "execution_count": null,
   "id": "d187d431",
   "metadata": {},
   "outputs": [],
   "source": [
    "import numpy as np\n",
    "import pandas as pd\n",
    "pd.set_option('mode.copy_on_write', True)\n",
    "import matplotlib.pyplot as plt\n",
    "# Make plots look a little bit more fancy\n",
    "plt.style.use('fivethirtyeight')"
   ]
  },
  {
   "cell_type": "code",
   "execution_count": null,
   "id": "ff2d80af",
   "metadata": {},
   "outputs": [],
   "source": [
    "# Read the data file\n",
    "ratings = pd.read_csv('data/rate_my_course.csv')\n",
    "ratings.head()"
   ]
  },
  {
   "cell_type": "markdown",
   "id": "5c3ae2ff",
   "metadata": {},
   "source": [
    "We can select the rows from this table where the Easiness rating was above the median, using a *boolean series*:"
   ]
  },
  {
   "cell_type": "code",
   "execution_count": null,
   "id": "ade7aa12",
   "metadata": {},
   "outputs": [],
   "source": [
    "easiness = ratings['Easiness']\n",
    "is_gt_median = easiness > np.median(easiness)\n",
    "is_gt_median.head()"
   ]
  },
  {
   "cell_type": "code",
   "execution_count": null,
   "id": "67af4f33",
   "metadata": {},
   "outputs": [],
   "source": [
    "above_median = ratings[is_gt_median]\n",
    "above_median.head()"
   ]
  },
  {
   "cell_type": "markdown",
   "id": "f798bb94",
   "metadata": {},
   "source": [
    "What if we wanted to select the rows that were between the 25th and 75th\n",
    "percentile?  Here's how to get the percentile values."
   ]
  },
  {
   "cell_type": "code",
   "execution_count": null,
   "id": "62b3d600",
   "metadata": {},
   "outputs": [],
   "source": [
    "q25 = np.quantile(easiness, 0.25)\n",
    "q75 = np.quantile(easiness, 0.75)\n",
    "print(q25, q75)"
   ]
  },
  {
   "cell_type": "markdown",
   "id": "35632b0d",
   "metadata": {},
   "source": [
    "We can do this more neatly with {ref}`unpacking <unpacking>`:"
   ]
  },
  {
   "cell_type": "code",
   "execution_count": null,
   "id": "ae1e23a0",
   "metadata": {},
   "outputs": [],
   "source": [
    "q25, q75 = np.quantile(easiness, [0.25, 0.75])\n",
    "print(q25, q75)"
   ]
  },
  {
   "cell_type": "markdown",
   "id": "ce0537df",
   "metadata": {},
   "source": [
    "Now we want to select the rows where the Easiness score is between these\n",
    "values.   We can do this the long way round, by selecting twice:"
   ]
  },
  {
   "cell_type": "code",
   "execution_count": null,
   "id": "6a3e8e53",
   "metadata": {},
   "outputs": [],
   "source": [
    "# Select values above the 25th percentile.\n",
    "above_q25 = ratings[easiness > q25]\n",
    "# There are now fewer Easiness values, so we have to get the values remaining.\n",
    "q25_easiness = above_q25['Easiness']\n",
    "# Select values below the 75th percentile.\n",
    "between_25_75 = above_q25[q25_easiness < q75]\n",
    "between_25_75.head()"
   ]
  },
  {
   "cell_type": "markdown",
   "id": "51a2a584",
   "metadata": {},
   "source": [
    "Another, neater way of doing this is to make a single Boolean Series that has\n",
    "True only if the Easiness value is *both* above the 25th percentile *and*\n",
    "below the 75th percentile.\n",
    "\n",
    "This is called a *logical and*.\n",
    "\n",
    "To do this we can make a Boolean Series for each of these two criteria:"
   ]
  },
  {
   "cell_type": "code",
   "execution_count": null,
   "id": "647bc757",
   "metadata": {},
   "outputs": [],
   "source": [
    "# True if Easiness is above 25th percentile.\n",
    "is_gt_q25 = easiness > q25\n",
    "# Show the first 10 values\n",
    "is_gt_q25.head(10)"
   ]
  },
  {
   "cell_type": "code",
   "execution_count": null,
   "id": "179fe672",
   "metadata": {},
   "outputs": [],
   "source": [
    "# True if Easiness is below 75th percentile.\n",
    "is_lt_q75 = easiness < q75\n",
    "# Show the first 10 values\n",
    "is_lt_q75.head(10)"
   ]
  },
  {
   "cell_type": "markdown",
   "id": "6ad672b2",
   "metadata": {},
   "source": [
    "We can combine these two with Numpy functions.  The function we need in this\n",
    "case is `np.logical_and`.\n",
    "\n",
    "`np.logical_and` can work on Pandas Series, or on Numpy arrays.   We will use\n",
    "the term *sequence* for something that can be a Pandas Series or a Numpy\n",
    "array.\n",
    "\n",
    "`np.logical_and` combines the two input sequences into a new sequence that\n",
    "only has True in positions where *both* of the input sequences have a True in\n",
    "the corresponding position:"
   ]
  },
  {
   "cell_type": "code",
   "execution_count": null,
   "id": "e1d0d3a0",
   "metadata": {},
   "outputs": [],
   "source": [
    "is_between_25_75 = np.logical_and(is_gt_q25, is_lt_q75)\n",
    "is_between_25_75.head(10)"
   ]
  },
  {
   "cell_type": "markdown",
   "id": "6f628dd7",
   "metadata": {},
   "source": [
    "It might be easier to see what is going on if we make some small test arrays:"
   ]
  },
  {
   "cell_type": "code",
   "execution_count": null,
   "id": "0ac1f3f1",
   "metadata": {},
   "outputs": [],
   "source": [
    "a = np.array([True, True, False, False])\n",
    "b = np.array([True, False, True, False])"
   ]
  },
  {
   "cell_type": "markdown",
   "id": "5350ac89",
   "metadata": {},
   "source": [
    "We can show these conveniently as a DataFrame:"
   ]
  },
  {
   "cell_type": "code",
   "execution_count": null,
   "id": "e1a1c42d",
   "metadata": {},
   "outputs": [],
   "source": [
    "ab = pd.DataFrame()\n",
    "ab['first input'] = a\n",
    "ab['second input'] = b\n",
    "ab"
   ]
  },
  {
   "cell_type": "markdown",
   "id": "6c5fb7c1",
   "metadata": {},
   "source": [
    "Before you look, try to work out what you would get from `np.logical_and(a,\n",
    "b)`.\n",
    "\n",
    "Remember, the rule is, the result will have True where the corresponding\n",
    "element from *both* `a` and `b` are True, and False otherwise."
   ]
  },
  {
   "cell_type": "markdown",
   "id": "86b34333",
   "metadata": {},
   "source": [
    "The result:"
   ]
  },
  {
   "cell_type": "code",
   "execution_count": null,
   "id": "93d5db75",
   "metadata": {},
   "outputs": [],
   "source": [
    "np.logical_and(a, b)"
   ]
  },
  {
   "cell_type": "markdown",
   "id": "407c00dd",
   "metadata": {},
   "source": [
    "Here are the two input columns and the result, displayed as a data frame, to\n",
    "show them nicely:"
   ]
  },
  {
   "cell_type": "code",
   "execution_count": null,
   "id": "3c4ea732",
   "metadata": {},
   "outputs": [],
   "source": [
    "ab['and result'] = np.logical_and(a, b)\n",
    "ab"
   ]
  },
  {
   "cell_type": "markdown",
   "id": "38a8e9a5",
   "metadata": {},
   "source": [
    "Check that you agree with Python's results for combining `is_gt_q25` and\n",
    "`is_lt_q75` in the same way.  Here's a display showing `is_gt_q25`,\n",
    "`is_lt_q75` and the result of `logical_and`:"
   ]
  },
  {
   "cell_type": "code",
   "execution_count": null,
   "id": "62a9e736",
   "metadata": {},
   "outputs": [],
   "source": [
    "qbools = pd.DataFrame()\n",
    "qbools['is_gt_q25'] = is_gt_q25\n",
    "qbools['is_lt_q75'] = is_lt_q75\n",
    "qbools['and_result'] = np.logical_and(is_gt_q25, is_lt_q75)\n",
    "qbools.head(10)"
   ]
  },
  {
   "cell_type": "markdown",
   "id": "54240bd9",
   "metadata": {},
   "source": [
    "We can use the combined Boolean series from `logical_and` to select the rows\n",
    "that we want:"
   ]
  },
  {
   "cell_type": "code",
   "execution_count": null,
   "id": "71dc3026",
   "metadata": {},
   "outputs": [],
   "source": [
    "betweeners = ratings[np.logical_and(is_gt_q25, is_lt_q75)]\n",
    "betweeners.head()"
   ]
  },
  {
   "cell_type": "markdown",
   "id": "2811bf39",
   "metadata": {},
   "source": [
    "Notice that we only have rows where there is a corresponding True value in the\n",
    "result of the `logical_and`, and therefore, that we only have rows that are\n",
    "above the 25th percentile, and below the 75th percentile."
   ]
  },
  {
   "cell_type": "markdown",
   "id": "936a0182",
   "metadata": {},
   "source": [
    "You may not be surprised to know there is an equivalent function to\n",
    "`logical_and` called `logical_or`.  Like `logical_and` this returns a Boolean\n",
    "sequence of the same length as the input sequences.  There is a True in the\n",
    "output sequence where *one or both* of the input sequences have True in the\n",
    "corresponding positions."
   ]
  },
  {
   "cell_type": "code",
   "execution_count": null,
   "id": "8dd79ce3",
   "metadata": {},
   "outputs": [],
   "source": [
    "a"
   ]
  },
  {
   "cell_type": "code",
   "execution_count": null,
   "id": "c68d7150",
   "metadata": {},
   "outputs": [],
   "source": [
    "b"
   ]
  },
  {
   "cell_type": "code",
   "execution_count": null,
   "id": "1b7d4b90",
   "metadata": {},
   "outputs": [],
   "source": [
    "np.logical_or(a, b)"
   ]
  },
  {
   "cell_type": "code",
   "execution_count": null,
   "id": "d2cb3d4b",
   "metadata": {},
   "outputs": [],
   "source": [
    "ab['or result'] = np.logical_or(a, b)\n",
    "ab"
   ]
  },
  {
   "cell_type": "markdown",
   "id": "446e49b4",
   "metadata": {},
   "source": [
    "We can use this function to find all the rows that have Easiness ratings above\n",
    "the 75th percentile or below the 25th percentile:"
   ]
  },
  {
   "cell_type": "code",
   "execution_count": null,
   "id": "3a18d002",
   "metadata": {},
   "outputs": [],
   "source": [
    "easy_or_hard = ratings[np.logical_or(easiness < q25, easiness > q75)]\n",
    "easy_or_hard.head()"
   ]
  }
 ],
 "metadata": {
  "jupytext": {
   "notebook_metadata_filter": "all,-language_info",
   "split_at_heading": true
  },
  "kernelspec": {
   "display_name": "Python (Pyodide)",
   "name": "python"
  }
 },
 "nbformat": 4,
 "nbformat_minor": 5
}
