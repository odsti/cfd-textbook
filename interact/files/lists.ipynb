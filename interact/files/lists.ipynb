{
 "cells": [
  {
   "cell_type": "markdown",
   "id": "c430f1f7",
   "metadata": {},
   "source": [
    "# Lists\n",
    "\n",
    "Thus far we have seen the following data types:\n",
    "\n",
    "* integer (counting number) - `int`.\n",
    "* floating point number (number with decimal point) - `float`.\n",
    "* string (text) - `str`.\n",
    "* boolean (True or False value) - `bool`.\n",
    "\n",
    "In data analysis, we often want to collect together several numbers, or\n",
    "strings, into a *sequence*.  This allows us to collect values together into one\n",
    "place, and refer to all the values with a single name.  Now that we can refer\n",
    "to all the values with a single name, we can write code that works on the whole\n",
    "sequence at once.\n",
    "\n",
    "For example, remember our problem of the three girls in a family of four.\n",
    "\n",
    "You have seen that we can make four random values, that can be 0 or 1, like this:"
   ]
  },
  {
   "cell_type": "code",
   "execution_count": null,
   "id": "7b40b26a",
   "metadata": {},
   "outputs": [],
   "source": [
    "# Load the Numpy package, and rename to \"np\"\n",
    "import numpy as np\n",
    "# Make random number generator.\n",
    "rng = np.random.default_rng()"
   ]
  },
  {
   "cell_type": "code",
   "execution_count": null,
   "id": "ab6cf7dc",
   "metadata": {},
   "outputs": [],
   "source": [
    "# Get four random numbers between 0 and 1.\n",
    "a = rng.integers(0, 2)\n",
    "b = rng.integers(0, 2)\n",
    "c = rng.integers(0, 2)\n",
    "d = rng.integers(0, 2)"
   ]
  },
  {
   "cell_type": "markdown",
   "id": "4002be02",
   "metadata": {},
   "source": [
    "Here, each random number gets its own variable.   Then we added the numbers\n",
    "like this:"
   ]
  },
  {
   "cell_type": "code",
   "execution_count": null,
   "id": "86e58443",
   "metadata": {},
   "outputs": [],
   "source": [
    "a + b + c + d"
   ]
  },
  {
   "cell_type": "markdown",
   "id": "90908469",
   "metadata": {},
   "source": [
    "This gave us the number of girls for one simulated family.\n",
    "\n",
    "Now imagine that we were trying to simulate a family of 12 children.  We would\n",
    "have to give each child their own variable `a` through `l` (small L), and then\n",
    "have a long line like this:\n",
    "\n",
    "```\n",
    "a + b + c + d + e + f + g + h + i + j + k + l\n",
    "```\n",
    "\n",
    "That would be annoying in this case, and impractical when we have to simulate\n",
    "larger units, such as the 100 members of Robert Swain's jury panel.\n",
    "\n",
    "Sequences are part of the solution to this problem.  Sequences are values that\n",
    "contain zero or more other values.  There are various types of sequences, but\n",
    "the two we will use the most are:\n",
    "\n",
    "* Lists - `list`\n",
    "* Arrays - `np.array`\n",
    "\n",
    "We will see arrays soon.   This page is about *lists*."
   ]
  },
  {
   "cell_type": "markdown",
   "id": "6790ea7c",
   "metadata": {},
   "source": [
    "## Making a list\n",
    "\n",
    "You make a list using *square brackets* - `[` and `]`.\n",
    "\n",
    "Here we make a list that contains three integers:"
   ]
  },
  {
   "cell_type": "code",
   "execution_count": null,
   "id": "9db1f28e",
   "metadata": {},
   "outputs": [],
   "source": [
    "my_numbers = [1, 2, 3]\n",
    "my_numbers"
   ]
  },
  {
   "cell_type": "markdown",
   "id": "f1607034",
   "metadata": {},
   "source": [
    "More formally, you define a list like this:\n",
    "\n",
    "1. the open square bracket character `[`, followed by\n",
    "1. a sequence of zero of more values, separated by commas, followed by\n",
    "1. the close square bracket character `]`.\n",
    "\n",
    "`[1, 2, 3]` is a *list expression* because it is a recipe that results in\n",
    "a value that is a list).  We confirm it is an expression by showing that the notebook displays a value:"
   ]
  },
  {
   "cell_type": "code",
   "execution_count": null,
   "id": "fd584847",
   "metadata": {},
   "outputs": [],
   "source": [
    "[1, 2, 3]"
   ]
  },
  {
   "cell_type": "markdown",
   "id": "8c2bee75",
   "metadata": {},
   "source": [
    "What kind of value is it?"
   ]
  },
  {
   "cell_type": "code",
   "execution_count": null,
   "id": "d3448c44",
   "metadata": {},
   "outputs": [],
   "source": [
    "type(my_numbers)"
   ]
  },
  {
   "cell_type": "markdown",
   "id": "fea1dc65",
   "metadata": {},
   "source": [
    "Here is a list with one value:"
   ]
  },
  {
   "cell_type": "code",
   "execution_count": null,
   "id": "b804c9bc",
   "metadata": {},
   "outputs": [],
   "source": [
    "another_list = [99]\n",
    "another_list"
   ]
  },
  {
   "cell_type": "markdown",
   "id": "09cc6758",
   "metadata": {},
   "source": [
    "Lists can be empty.  To make an empty list, put nothing inside the square brackets, like this:"
   ]
  },
  {
   "cell_type": "code",
   "execution_count": null,
   "id": "2337cf2f",
   "metadata": {},
   "outputs": [],
   "source": [
    "my_empty_list = []\n",
    "my_empty_list"
   ]
  },
  {
   "cell_type": "markdown",
   "id": "40648af1",
   "metadata": {},
   "source": [
    "A list can have any kind of value as its elements.  For example, here is a list of strings:"
   ]
  },
  {
   "cell_type": "code",
   "execution_count": null,
   "id": "3be4e868",
   "metadata": {},
   "outputs": [],
   "source": [
    "some_strings = [\"Captain\", \"Agent\", \"Jessica\", \"Luke\"]\n",
    "some_strings"
   ]
  },
  {
   "cell_type": "markdown",
   "id": "13b91a8c",
   "metadata": {},
   "source": [
    "## Functions and lists\n",
    "\n",
    "Python has some built-in functions that operate on sequences, like lists.\n",
    "\n",
    "A built-in function is a function that we can use in any Python session,\n",
    "without `import`ing it from a library.\n",
    "\n",
    "One of these built-in functions is `len`.  Here is a *call expression*, using\n",
    "the function `len` on our list:"
   ]
  },
  {
   "cell_type": "code",
   "execution_count": null,
   "id": "d5f2b080",
   "metadata": {},
   "outputs": [],
   "source": [
    "len(my_numbers)"
   ]
  },
  {
   "cell_type": "markdown",
   "id": "95088904",
   "metadata": {},
   "source": [
    "As you might predict, calling `len` with the list as an argument, returns the number of elements in the list.\n",
    "\n",
    "Another function that operates on lists is `sum`.  This adds all the elements in the list together, and returns the result:"
   ]
  },
  {
   "cell_type": "code",
   "execution_count": null,
   "id": "5be5db82",
   "metadata": {},
   "outputs": [],
   "source": [
    "sum(my_numbers)"
   ]
  },
  {
   "cell_type": "markdown",
   "id": "3144a603",
   "metadata": {},
   "source": [
    "## A half-solution for three girls\n",
    "\n",
    "Now we have another way of solving the problem of making the family of four\n",
    "children above.  Use Control-Enter a few times on the cell below to convince\n",
    "yourself it returns numbers between 0 and 4 - simulated numbers of girls in\n",
    "a family of four children."
   ]
  },
  {
   "cell_type": "code",
   "execution_count": null,
   "id": "ee6031f1",
   "metadata": {},
   "outputs": [],
   "source": [
    "# Get four random numbers between 0 and 1, put them in a list.\n",
    "# The opening square brackets tell Python the statement is not finished\n",
    "# when it reaches the end of the first line.\n",
    "family = [rng.integers(0, 2),\n",
    "          rng.integers(0, 2),\n",
    "          rng.integers(0, 2),\n",
    "          rng.integers(0, 2)]\n",
    "# Add all the values in the list\n",
    "sum(family)"
   ]
  }
 ],
 "metadata": {
  "kernelspec": {
   "display_name": "Python (Pyodide)",
   "name": "python"
  }
 },
 "nbformat": 4,
 "nbformat_minor": 5
}
